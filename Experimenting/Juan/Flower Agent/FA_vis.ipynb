{
 "cells": [
  {
   "cell_type": "code",
   "execution_count": 1,
   "metadata": {},
   "outputs": [
    {
     "name": "stdout",
     "output_type": "stream",
     "text": [
      "Set parameter Username\n",
      "Academic license - for non-commercial use only - expires 2024-02-11\n"
     ]
    }
   ],
   "source": [
    "######################################     Modules     #######################################\n",
    "# MODULES\n",
    "import sys\n",
    "from time import process_time\n",
    "import pickle\n",
    "import pandas as pd\n",
    "import ipywidgets as widgets\n",
    "from ipywidgets import interact\n",
    "\n",
    "sys.path.append('../.')\n",
    "import verbose_module\n",
    "sys.path.append('../../../.')\n",
    "import pIRPgym\n",
    "\n",
    "path = '/Users/juanbeta/My Drive/Research/Supply Chain Analytics/pIRPgym/'\n",
    "experiments_path = '/Users/juanbeta/My Drive/Research/Supply Chain Analytics/Experiments/Flower Agent/'\n",
    "\n",
    "sizes = [5,10,15,20,30,None]\n",
    "num_episodes = 2000"
   ]
  },
  {
   "cell_type": "markdown",
   "metadata": {},
   "source": [
    "# Instance Visualization"
   ]
  },
  {
   "cell_type": "markdown",
   "metadata": {},
   "source": [
    "### Supplier Availability"
   ]
  },
  {
   "cell_type": "code",
   "execution_count": 2,
   "metadata": {},
   "outputs": [
    {
     "data": {
      "application/vnd.jupyter.widget-view+json": {
       "model_id": "1fdf7559e60642b8a2787bd7ce3beda2",
       "version_major": 2,
       "version_minor": 0
      },
      "text/plain": [
       "interactive(children=(Dropdown(description='Inst. size:', index=1, options=(5, 10, 15, 20, 30, None), value=10…"
      ]
     },
     "metadata": {},
     "output_type": "display_data"
    },
    {
     "data": {
      "text/plain": [
       "<function __main__.plot_distributions(size, indicator, episode)>"
      ]
     },
     "execution_count": 2,
     "metadata": {},
     "output_type": "execute_result"
    }
   ],
   "source": [
    "def plot_distributions(size,indicator,episode):\n",
    "    with open(experiments_path+f'{episode} Episodes/M{size}-{episode}.pkl', 'rb') as file:\n",
    "        data = pickle.load(file)\n",
    "    inst_gen = data[2]\n",
    "    if indicator=='Availability':\n",
    "        pIRPgym.Visualizations.RoutingV.plot_supplier_distributions(inst_gen.q_parameters)\n",
    "    else:\n",
    "        pIRPgym.Visualizations.RoutingV.plot_supplier_distributions(inst_gen.p_parameters)\n",
    "\n",
    "interact(plot_distributions,\n",
    "         size=widgets.Dropdown(options=sizes,value=10,description='Inst. size:'),\n",
    "         episode=widgets.Dropdown(options=[10,30],value=10,description='Episodes:'),\n",
    "         indicator=widgets.Dropdown(options=['Availability','Prices'],value='Availability',description='Indicator:'))"
   ]
  },
  {
   "cell_type": "markdown",
   "metadata": {},
   "source": [
    "### Supplier Locations"
   ]
  },
  {
   "cell_type": "code",
   "execution_count": 3,
   "metadata": {},
   "outputs": [
    {
     "data": {
      "application/vnd.jupyter.widget-view+json": {
       "model_id": "6d44c4201169494e9a562e369d92edf4",
       "version_major": 2,
       "version_minor": 0
      },
      "text/plain": [
       "interactive(children=(Dropdown(description='Inst. size:', index=1, options=(5, 10, 15, 20, 30, None), value=10…"
      ]
     },
     "metadata": {},
     "output_type": "display_data"
    },
    {
     "data": {
      "text/plain": [
       "<function __main__.plot_locations(size, episode)>"
      ]
     },
     "execution_count": 3,
     "metadata": {},
     "output_type": "execute_result"
    }
   ],
   "source": [
    "def plot_locations(size,episode):\n",
    "    with open(experiments_path+f'{episode} Episodes/M{size}-{episode}.pkl', 'rb') as file:\n",
    "        data = pickle.load(file)\n",
    "    inst_gen = data[2]\n",
    "    pIRPgym.Visualizations.RoutingV.render_routes(inst_gen,[])\n",
    "\n",
    "interact(plot_locations,\n",
    "         size=widgets.Dropdown(options=sizes,value=10,description='Inst. size:'),\n",
    "         episode=widgets.Dropdown(options=[10,30],value=10,description='Episodes:'))"
   ]
  },
  {
   "cell_type": "markdown",
   "metadata": {},
   "source": [
    "# Flower Agent"
   ]
  },
  {
   "cell_type": "code",
   "execution_count": 4,
   "metadata": {},
   "outputs": [
    {
     "data": {
      "application/vnd.jupyter.widget-view+json": {
       "model_id": "471d400e13e14280ac664ce01a8e63bf",
       "version_major": 2,
       "version_minor": 0
      },
      "text/plain": [
       "interactive(children=(Dropdown(description='Inst. size:', index=1, options=(5, 10, 15, 20, 30, None), value=10…"
      ]
     },
     "metadata": {},
     "output_type": "display_data"
    },
    {
     "data": {
      "text/plain": [
       "<function __main__.print_training_summary(size, episode)>"
      ]
     },
     "execution_count": 4,
     "metadata": {},
     "output_type": "execute_result"
    }
   ],
   "source": [
    "def print_training_summary(size,episode):\n",
    "    with open(experiments_path+f'{episode} Episodes/M{size}-{episode}.pkl', 'rb') as file:\n",
    "        _,_,inst_gen,FlowerAgent = pickle.load(file)\n",
    "\n",
    "    print(f'---------- Training Summary ----------\\n')\n",
    "    print(f'Training time: {None}')\n",
    "    print('\\nProportion of generated routes')\n",
    "    CG_gen,GA_gen = pIRPgym.Visualizations.RoutingV.count_generated(FlowerAgent.generator)\n",
    "    print(f'- Column Generation: {round(100*CG_gen/len(FlowerAgent.routes),2)}%')\n",
    "    print(f'- Genetic Algorithm: {round(100*GA_gen/len(FlowerAgent.routes),2)}%')\n",
    "\n",
    "\n",
    "interact(print_training_summary,size=widgets.Dropdown(options=sizes,value=10,description='Inst. size:'),\n",
    "         episode=widgets.Dropdown(options=[10,30],value=30,description='Episodes:'))"
   ]
  },
  {
   "cell_type": "markdown",
   "metadata": {},
   "source": [
    "### N Table"
   ]
  },
  {
   "cell_type": "code",
   "execution_count": 5,
   "metadata": {},
   "outputs": [
    {
     "data": {
      "application/vnd.jupyter.widget-view+json": {
       "model_id": "787eb7b6e2d64a39bf77566ee673d8d2",
       "version_major": 2,
       "version_minor": 0
      },
      "text/plain": [
       "interactive(children=(Dropdown(description='Inst. size:', index=1, options=(5, 10, 15, 20, 30, None), value=10…"
      ]
     },
     "metadata": {},
     "output_type": "display_data"
    },
    {
     "data": {
      "text/plain": [
       "<function __main__.plot_n_table(size, episode, suppliers)>"
      ]
     },
     "execution_count": 5,
     "metadata": {},
     "output_type": "execute_result"
    }
   ],
   "source": [
    "def plot_n_table(size,episode,suppliers):\n",
    "    with open(experiments_path+f'{episode} Episodes/M{size}-{episode}.pkl', 'rb') as file:\n",
    "        _,_,inst_gen,FlowerAgent = pickle.load(file)\n",
    "    pIRPgym.Visualizations.RoutingV.n_plot(FlowerAgent.n_table,FlowerAgent.bincod,suppliers)\n",
    "\n",
    "interact(plot_n_table,size=widgets.Dropdown(options=sizes,value=10,description='Inst. size:'),\n",
    "         episode=widgets.Dropdown(options=[10,30],value=30,description='Episodes:'),\n",
    "         suppliers=widgets.SelectMultiple(options=['All']+[i for i in range(1,11)],value=['All'],rows=11,description='Suppliers',disabled=False))"
   ]
  },
  {
   "cell_type": "markdown",
   "metadata": {},
   "source": [
    "### Key Performance Indicators"
   ]
  },
  {
   "cell_type": "code",
   "execution_count": 6,
   "metadata": {},
   "outputs": [
    {
     "data": {
      "application/vnd.jupyter.widget-view+json": {
       "model_id": "d109b3f74e4843dda416efebaef66c16",
       "version_major": 2,
       "version_minor": 0
      },
      "text/plain": [
       "interactive(children=(Dropdown(description='Inst. size:', index=1, options=(5, 10, 15, 20, 30, None), value=10…"
      ]
     },
     "metadata": {},
     "output_type": "display_data"
    },
    {
     "data": {
      "text/plain": [
       "<function __main__.plot_flower_indicators(size, episode, indicator1, indicator2, suppliers)>"
      ]
     },
     "execution_count": 6,
     "metadata": {},
     "output_type": "execute_result"
    }
   ],
   "source": [
    "def plot_flower_indicators(size,episode,indicator1,indicator2,suppliers):\n",
    "    with open(experiments_path+f'{episode} Episodes/M{size}-{episode}.pkl', 'rb') as file:\n",
    "        _,_,_,FlowerAgent = pickle.load(file)\n",
    "    pIRPgym.Visualizations.RoutingV.plot_indicators(FlowerAgent.metrics,FlowerAgent.bincod,indicator1,indicator2,suppliers)\n",
    "\n",
    "interact(plot_flower_indicators,\n",
    "         size=widgets.Dropdown(options=sizes,value=10,description='Inst. size:'),\n",
    "         episode=widgets.Dropdown(options=[10,30],value=30,description='Episodes:'),\n",
    "         indicator1=widgets.Dropdown(options=['Fixed Service Level','Dynamic Service Level','Cost per Supplier','Price Delta'],value='Fixed Service Level',description='x-metric:'),\n",
    "         indicator2=widgets.Dropdown(options=['Fixed Service Level','Dynamic Service Level','Cost per Supplier','Price Delta'],value='Dynamic Service Level',description='y-metric:'),\n",
    "         suppliers=widgets.SelectMultiple(options=['All']+[i for i in range(1,11)],value=['All'],rows=11,description='Suppliers',disabled=False))"
   ]
  },
  {
   "cell_type": "markdown",
   "metadata": {},
   "source": [
    "### Visualize routes"
   ]
  },
  {
   "cell_type": "code",
   "execution_count": 7,
   "metadata": {},
   "outputs": [
    {
     "data": {
      "application/vnd.jupyter.widget-view+json": {
       "model_id": "e18d2476d06a4fa4b7caebedd8016cd6",
       "version_major": 2,
       "version_minor": 0
      },
      "text/plain": [
       "interactive(children=(Dropdown(description='Inst. size:', index=1, options=(5, 10, 15, 20, 30, None), value=10…"
      ]
     },
     "metadata": {},
     "output_type": "display_data"
    },
    {
     "data": {
      "text/plain": [
       "<function __main__.render_routes(size, solution, episode)>"
      ]
     },
     "execution_count": 7,
     "metadata": {},
     "output_type": "execute_result"
    }
   ],
   "source": [
    "def render_routes(size,solution,episode):\n",
    "    with open(experiments_path+f'{episode} Episodes/M{size}-{episode}.pkl', 'rb') as file:\n",
    "        _,_,inst_gen,FlowerAgent = pickle.load(file)\n",
    "    pIRPgym.Visualizations.RoutingV.render_routes(inst_gen,FlowerAgent.routes[solution])\n",
    "\n",
    "interact(render_routes,\n",
    "         size=widgets.Dropdown(options=sizes,value=10,description='Inst. size:'),\n",
    "         episode=widgets.Dropdown(options=[10,30],value=10,description='Episodes:'),\n",
    "         solution=widgets.Dropdown(options=range(1,26),value=1,description='Routes:'))"
   ]
  },
  {
   "cell_type": "markdown",
   "metadata": {},
   "source": [
    "# Flower Analysis and Comparison"
   ]
  },
  {
   "cell_type": "markdown",
   "metadata": {},
   "source": [
    "### Key Performance Indicators"
   ]
  },
  {
   "cell_type": "code",
   "execution_count": 8,
   "metadata": {},
   "outputs": [
    {
     "data": {
      "application/vnd.jupyter.widget-view+json": {
       "model_id": "a0b204cdc14e43138188845e6eb09089",
       "version_major": 2,
       "version_minor": 0
      },
      "text/plain": [
       "interactive(children=(Dropdown(description='Inst. size:', index=1, options=(5, 10, 15, 20, 30, None), value=10…"
      ]
     },
     "metadata": {},
     "output_type": "display_data"
    },
    {
     "data": {
      "text/plain": [
       "<function __main__.plot_flowers_comparison(size, episode, indicator1, indicator2, flower1, flower2)>"
      ]
     },
     "execution_count": 8,
     "metadata": {},
     "output_type": "execute_result"
    }
   ],
   "source": [
    "def plot_flowers_comparison(size,episode,indicator1,indicator2,flower1,flower2):\n",
    "    with open(experiments_path+f'{episode} Episodes/M{size}-{episode}.pkl', 'rb') as file:\n",
    "        _,_,_,FlowerAgent = pickle.load(file)\n",
    "    pIRPgym.Visualizations.RoutingV.plot_flower_comparison(FlowerAgent.history,indicator1,indicator2,flower1,flower2)\n",
    "\n",
    "interact(plot_flowers_comparison,\n",
    "         size=widgets.Dropdown(options=sizes,value=10,description='Inst. size:'),\n",
    "         episode=widgets.Dropdown(options=[10,30],value=30,description='Episodes:'),\n",
    "         indicator1=widgets.Dropdown(options=['Fixed Service Level','Dynamic Service Level','Price Delta'],value='Fixed Service Level',description='x-metric:'),\n",
    "         indicator2=widgets.Dropdown(options=['Fixed Service Level','Dynamic Service Level','Price Delta'],value='Dynamic Service Level',description='y-metric:'),\n",
    "         flower1=widgets.Dropdown(options=[i for i in range(1,51)],value=1,description='Flower 1:'),\n",
    "         flower2=widgets.Dropdown(options=[i for i in range(1,51)],value=2,description='Flower 2:'))"
   ]
  },
  {
   "cell_type": "code",
   "execution_count": 9,
   "metadata": {},
   "outputs": [
    {
     "ename": "NameError",
     "evalue": "name 'plot_flowers_with_means' is not defined",
     "output_type": "error",
     "traceback": [
      "\u001b[0;31m---------------------------------------------------------------------------\u001b[0m",
      "\u001b[0;31mNameError\u001b[0m                                 Traceback (most recent call last)",
      "Cell \u001b[0;32mIn[9], line 11\u001b[0m\n\u001b[1;32m      8\u001b[0m flower1 \u001b[38;5;241m=\u001b[39m ([\u001b[38;5;241m7\u001b[39m, \u001b[38;5;241m2\u001b[39m, \u001b[38;5;241m3\u001b[39m], [\u001b[38;5;241m4\u001b[39m, \u001b[38;5;241m5\u001b[39m, \u001b[38;5;241m6\u001b[39m])\n\u001b[1;32m      9\u001b[0m flower2 \u001b[38;5;241m=\u001b[39m ([\u001b[38;5;241m2\u001b[39m, \u001b[38;5;241m3\u001b[39m, \u001b[38;5;241m4\u001b[39m], [\u001b[38;5;241m9\u001b[39m, \u001b[38;5;241m10\u001b[39m, \u001b[38;5;241m3\u001b[39m])\n\u001b[0;32m---> 11\u001b[0m \u001b[43mplot_flowers_with_means\u001b[49m(flower1, flower2)\n",
      "\u001b[0;31mNameError\u001b[0m: name 'plot_flowers_with_means' is not defined"
     ]
    }
   ],
   "source": [
    "import matplotlib.pyplot as plt\n",
    "import seaborn as sns\n",
    "import numpy as np\n",
    "\n",
    "\n",
    "\n",
    "# Example usage:\n",
    "flower1 = ([7, 2, 3], [4, 5, 6])\n",
    "flower2 = ([2, 3, 4], [9, 10, 3])\n",
    "\n",
    "plot_flowers_with_means(flower1, flower2)\n"
   ]
  }
 ],
 "metadata": {
  "kernelspec": {
   "display_name": "Python 3",
   "language": "python",
   "name": "python3"
  },
  "language_info": {
   "codemirror_mode": {
    "name": "ipython",
    "version": 3
   },
   "file_extension": ".py",
   "mimetype": "text/x-python",
   "name": "python",
   "nbconvert_exporter": "python",
   "pygments_lexer": "ipython3",
   "version": "3.9.16"
  }
 },
 "nbformat": 4,
 "nbformat_minor": 2
}
