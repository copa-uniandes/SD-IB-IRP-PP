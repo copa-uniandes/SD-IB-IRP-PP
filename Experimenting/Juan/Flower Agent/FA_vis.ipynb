{
 "cells": [
  {
   "cell_type": "code",
   "execution_count": 1,
   "metadata": {},
   "outputs": [
    {
     "name": "stdout",
     "output_type": "stream",
     "text": [
      "Set parameter Username\n",
      "Academic license - for non-commercial use only - expires 2024-02-11\n"
     ]
    }
   ],
   "source": [
    "######################################     Modules     #######################################\n",
    "# MODULES\n",
    "import sys\n",
    "from time import process_time\n",
    "import pickle\n",
    "import pandas as pd\n",
    "import ipywidgets as widgets\n",
    "from ipywidgets import interact\n",
    "\n",
    "sys.path.append('../.')\n",
    "import verbose_module\n",
    "sys.path.append('../../../.')\n",
    "import pIRPgym\n",
    "\n",
    "path = '/Users/juanbeta/My Drive/Research/Supply Chain Analytics/pIRPgym/'\n",
    "experiments_path = '/Users/juanbeta/My Drive/Research/Supply Chain Analytics/Experiments/Flower Agent/'\n",
    "\n",
    "sizes = [5,10,15,20,30,None]\n",
    "num_episodes = 2000"
   ]
  },
  {
   "cell_type": "markdown",
   "metadata": {},
   "source": [
    "# Instance Visualization"
   ]
  },
  {
   "cell_type": "markdown",
   "metadata": {},
   "source": [
    "### Supplier Availability"
   ]
  },
  {
   "cell_type": "code",
   "execution_count": 2,
   "metadata": {},
   "outputs": [
    {
     "data": {
      "application/vnd.jupyter.widget-view+json": {
       "model_id": "beb9cf3dc8654ba2ac526003ed7aca55",
       "version_major": 2,
       "version_minor": 0
      },
      "text/plain": [
       "interactive(children=(Dropdown(description='Inst. size:', index=1, options=(5, 10, 15, 20, 30, None), value=10…"
      ]
     },
     "metadata": {},
     "output_type": "display_data"
    },
    {
     "data": {
      "text/plain": [
       "<function __main__.plot_distributions(size, indicator, episode)>"
      ]
     },
     "execution_count": 2,
     "metadata": {},
     "output_type": "execute_result"
    }
   ],
   "source": [
    "def plot_distributions(size,indicator,episode):\n",
    "    with open(experiments_path+f'Training/M{size}-E{episode}.pkl', 'rb') as file:\n",
    "        data = pickle.load(file)\n",
    "    inst_gen = data[2]\n",
    "    if indicator=='Availability':\n",
    "        pIRPgym.Visualizations.RoutingV.plot_supplier_distributions(inst_gen.q_parameters)\n",
    "    else:\n",
    "        pIRPgym.Visualizations.RoutingV.plot_supplier_distributions(inst_gen.p_parameters)\n",
    "\n",
    "interact(plot_distributions,\n",
    "         size=widgets.Dropdown(options=sizes,value=10,description='Inst. size:'),\n",
    "         episode=widgets.Dropdown(options=[10,30],value=10,description='Episodes:'),\n",
    "         indicator=widgets.Dropdown(options=['Availability','Prices'],value='Availability',description='Indicator:'))"
   ]
  },
  {
   "cell_type": "markdown",
   "metadata": {},
   "source": [
    "### Supplier Locations"
   ]
  },
  {
   "cell_type": "code",
   "execution_count": 3,
   "metadata": {},
   "outputs": [
    {
     "data": {
      "application/vnd.jupyter.widget-view+json": {
       "model_id": "eb288e13b7ca4d9cb7fb6139e7891c67",
       "version_major": 2,
       "version_minor": 0
      },
      "text/plain": [
       "interactive(children=(Dropdown(description='Inst. size:', index=1, options=(5, 10, 15, 20, 30, None), value=10…"
      ]
     },
     "metadata": {},
     "output_type": "display_data"
    },
    {
     "data": {
      "text/plain": [
       "<function __main__.plot_locations(size, episode)>"
      ]
     },
     "execution_count": 3,
     "metadata": {},
     "output_type": "execute_result"
    }
   ],
   "source": [
    "def plot_locations(size,episode):\n",
    "    with open(experiments_path+f'Training/M{size}-E{episode}.pkl', 'rb') as file:\n",
    "        data = pickle.load(file)\n",
    "    inst_gen = data[2]\n",
    "    pIRPgym.Visualizations.RoutingV.render_routes(inst_gen,[])\n",
    "\n",
    "interact(plot_locations,\n",
    "         size=widgets.Dropdown(options=sizes,value=10,description='Inst. size:'),\n",
    "         episode=widgets.Dropdown(options=[10,30],value=10,description='Episodes:'))"
   ]
  },
  {
   "cell_type": "markdown",
   "metadata": {},
   "source": [
    "# Training"
   ]
  },
  {
   "cell_type": "code",
   "execution_count": 4,
   "metadata": {},
   "outputs": [
    {
     "data": {
      "application/vnd.jupyter.widget-view+json": {
       "model_id": "6c00fe1638a645428f2b03911e1c910b",
       "version_major": 2,
       "version_minor": 0
      },
      "text/plain": [
       "interactive(children=(Dropdown(description='Inst. size:', index=1, options=(5, 10, 15, 20, 30, None), value=10…"
      ]
     },
     "metadata": {},
     "output_type": "display_data"
    },
    {
     "data": {
      "text/plain": [
       "<function __main__.print_training_summary(size, episode)>"
      ]
     },
     "execution_count": 4,
     "metadata": {},
     "output_type": "execute_result"
    }
   ],
   "source": [
    "def print_training_summary(size,episode):\n",
    "    with open(experiments_path+f'Training/M{size}-E{episode}.pkl', 'rb') as file:\n",
    "        _,_,inst_gen,FlowerAgent = pickle.load(file)\n",
    "\n",
    "    print(f'---------- Training Summary ----------\\n')\n",
    "    print(f'Training time: {None}')\n",
    "    print('\\nProportion of generated routes')\n",
    "    CG_gen,GA_gen = pIRPgym.Visualizations.RoutingV.count_generated(FlowerAgent.generator)\n",
    "    print(f'- Column Generation: {round(100*CG_gen/len(FlowerAgent.routes),2)}%')\n",
    "    print(f'- Genetic Algorithm: {round(100*GA_gen/len(FlowerAgent.routes),2)}%')\n",
    "\n",
    "\n",
    "interact(print_training_summary,size=widgets.Dropdown(options=sizes,value=10,description='Inst. size:'),\n",
    "         episode=widgets.Dropdown(options=[10,30],value=30,description='Episodes:'))"
   ]
  },
  {
   "cell_type": "markdown",
   "metadata": {},
   "source": [
    "### N Table"
   ]
  },
  {
   "cell_type": "code",
   "execution_count": 5,
   "metadata": {},
   "outputs": [
    {
     "data": {
      "application/vnd.jupyter.widget-view+json": {
       "model_id": "2b09748871f1484598cd97681ad5aac5",
       "version_major": 2,
       "version_minor": 0
      },
      "text/plain": [
       "interactive(children=(Dropdown(description='Inst. size:', index=1, options=(5, 10, 15, 20, 30, None), value=10…"
      ]
     },
     "metadata": {},
     "output_type": "display_data"
    },
    {
     "data": {
      "text/plain": [
       "<function __main__.plot_n_table(size, episode, suppliers)>"
      ]
     },
     "execution_count": 5,
     "metadata": {},
     "output_type": "execute_result"
    }
   ],
   "source": [
    "def plot_n_table(size,episode,suppliers):\n",
    "    with open(experiments_path+f'Training/M{size}-E{episode}.pkl', 'rb') as file:\n",
    "        _,_,inst_gen,FlowerAgent = pickle.load(file)\n",
    "    pIRPgym.Visualizations.RoutingV.n_plot(FlowerAgent.n_table,FlowerAgent.bincod,suppliers)\n",
    "\n",
    "interact(plot_n_table,size=widgets.Dropdown(options=sizes,value=10,description='Inst. size:'),\n",
    "         episode=widgets.Dropdown(options=[10,30,50],value=30,description='Episodes:'),\n",
    "         suppliers=widgets.SelectMultiple(options=['All']+[i for i in range(1,11)],value=['All'],rows=11,description='Suppliers',disabled=False))"
   ]
  },
  {
   "cell_type": "markdown",
   "metadata": {},
   "source": [
    "### Key Performance Indicators"
   ]
  },
  {
   "cell_type": "code",
   "execution_count": 6,
   "metadata": {},
   "outputs": [
    {
     "data": {
      "application/vnd.jupyter.widget-view+json": {
       "model_id": "0ff0661ba07e47a8928719345686da88",
       "version_major": 2,
       "version_minor": 0
      },
      "text/plain": [
       "interactive(children=(Dropdown(description='Inst. size:', index=1, options=(5, 10, 15, 20, 30, None), value=10…"
      ]
     },
     "metadata": {},
     "output_type": "display_data"
    },
    {
     "data": {
      "text/plain": [
       "<function __main__.plot_flower_indicators(size, episode, indicator1, indicator2, suppliers)>"
      ]
     },
     "execution_count": 6,
     "metadata": {},
     "output_type": "execute_result"
    }
   ],
   "source": [
    "def plot_flower_indicators(size,episode,indicator1,indicator2,suppliers):\n",
    "    with open(experiments_path+f'Training/M{size}-E{episode}.pkl', 'rb') as file:\n",
    "        _,_,_,FlowerAgent = pickle.load(file)\n",
    "    pIRPgym.Visualizations.RoutingV.plot_indicators(FlowerAgent.metrics,FlowerAgent.bincod,indicator1,indicator2,suppliers)\n",
    "\n",
    "interact(plot_flower_indicators,\n",
    "         size=widgets.Dropdown(options=sizes,value=10,description='Inst. size:'),\n",
    "         episode=widgets.Dropdown(options=[10,30,50],value=30,description='Episodes:'),\n",
    "         indicator1=widgets.Dropdown(options=['Fixed Service Level','Dynamic Service Level','Cost per Supplier','Price Delta'],value='Fixed Service Level',description='x-metric:'),\n",
    "         indicator2=widgets.Dropdown(options=['Fixed Service Level','Dynamic Service Level','Cost per Supplier','Price Delta'],value='Dynamic Service Level',description='y-metric:'),\n",
    "         suppliers=widgets.SelectMultiple(options=['All']+[i for i in range(1,11)],value=['All'],rows=11,description='Suppliers',disabled=False))"
   ]
  },
  {
   "cell_type": "markdown",
   "metadata": {},
   "source": [
    "### Visualize routes"
   ]
  },
  {
   "cell_type": "code",
   "execution_count": 7,
   "metadata": {},
   "outputs": [
    {
     "data": {
      "application/vnd.jupyter.widget-view+json": {
       "model_id": "600fb2d9c6664e2797c12cb68f1d678a",
       "version_major": 2,
       "version_minor": 0
      },
      "text/plain": [
       "interactive(children=(Dropdown(description='Inst. size:', index=1, options=(5, 10, 15, 20, 30, None), value=10…"
      ]
     },
     "metadata": {},
     "output_type": "display_data"
    },
    {
     "data": {
      "text/plain": [
       "<function __main__.render_routes(size, solution, episode)>"
      ]
     },
     "execution_count": 7,
     "metadata": {},
     "output_type": "execute_result"
    }
   ],
   "source": [
    "def render_routes(size,solution,episode):\n",
    "    with open(experiments_path+f'Training/M{size}-E{episode}.pkl', 'rb') as file:\n",
    "        _,_,inst_gen,FlowerAgent = pickle.load(file)\n",
    "    pIRPgym.Visualizations.RoutingV.render_routes(inst_gen,FlowerAgent.routes[solution])\n",
    "\n",
    "interact(render_routes,\n",
    "         size=widgets.Dropdown(options=sizes,value=10,description='Inst. size:'),\n",
    "         episode=widgets.Dropdown(options=[10,30,50],value=10,description='Episodes:'),\n",
    "         solution=widgets.Dropdown(options=range(1,26),value=1,description='Routes:'))"
   ]
  },
  {
   "cell_type": "markdown",
   "metadata": {},
   "source": [
    "# Flower Analysis and Comparison"
   ]
  },
  {
   "cell_type": "markdown",
   "metadata": {},
   "source": [
    "### Key Performance Indicators"
   ]
  },
  {
   "cell_type": "code",
   "execution_count": 8,
   "metadata": {},
   "outputs": [
    {
     "data": {
      "application/vnd.jupyter.widget-view+json": {
       "model_id": "02bc4104101842eb98ad310cab7f9e8b",
       "version_major": 2,
       "version_minor": 0
      },
      "text/plain": [
       "interactive(children=(Dropdown(description='Inst. size:', index=1, options=(5, 10, 15, 20, 30, None), value=10…"
      ]
     },
     "metadata": {},
     "output_type": "display_data"
    },
    {
     "data": {
      "text/plain": [
       "<function __main__.plot_flowers_comparison(size, episode, indicator1, indicator2, flower1, flower2)>"
      ]
     },
     "execution_count": 8,
     "metadata": {},
     "output_type": "execute_result"
    }
   ],
   "source": [
    "def plot_flowers_comparison(size,episode,indicator1,indicator2,flower1,flower2):\n",
    "    with open(experiments_path+f'Training/M{size}-E{episode}.pkl', 'rb') as file:\n",
    "        _,_,_,FlowerAgent = pickle.load(file)\n",
    "    print('\\n')\n",
    "    pIRPgym.Visualizations.RoutingV.plot_flower_comparison(FlowerAgent.history,indicator1,indicator2,flower1,flower2)\n",
    "    print('\\n')\n",
    "\n",
    "interact(plot_flowers_comparison,\n",
    "         size=widgets.Dropdown(options=sizes,value=10,description='Inst. size:'),\n",
    "         episode=widgets.Dropdown(options=[10,30],value=30,description='Episodes:'),\n",
    "         indicator1=widgets.Dropdown(options=['Fixed Service Level','Dynamic Service Level','Price Delta'],value='Fixed Service Level',description='x-metric:'),\n",
    "         indicator2=widgets.Dropdown(options=['Fixed Service Level','Dynamic Service Level','Price Delta'],value='Dynamic Service Level',description='y-metric:'),\n",
    "         flower1=widgets.Dropdown(options=[i for i in range(1,51)],value=1,description='Flower 1:'),\n",
    "         flower2=widgets.Dropdown(options=[i for i in range(1,51)],value=2,description='Flower 2:'))"
   ]
  },
  {
   "cell_type": "markdown",
   "metadata": {},
   "source": [
    "# Testing"
   ]
  },
  {
   "cell_type": "markdown",
   "metadata": {},
   "source": [
    "### Overall performance"
   ]
  },
  {
   "cell_type": "code",
   "execution_count": 19,
   "metadata": {},
   "outputs": [],
   "source": [
    "import matplotlib.pyplot as plt\n",
    "import seaborn as sns\n",
    "import pandas as pd\n",
    "\n",
    "# def plot_performance_box(dictionary,objective):\n",
    "#     \"\"\"\n",
    "#     Plot box plots of performances for different policies.\n",
    "\n",
    "#     Parameters:\n",
    "#     - dictionary (dict): Dictionary containing policies as keys and a list of values as the corresponding values.\n",
    "\n",
    "#     Returns:\n",
    "#     None\n",
    "#     \"\"\"\n",
    "#     fig,ax = plt.subplots(figsize=(10, 6))\n",
    "\n",
    "#     # Create a DataFrame for seaborn plotting\n",
    "#     data = [(policy, value) for policy, values in dictionary.items() for value in values]\n",
    "#     df = pd.DataFrame(data, columns=['Policy', 'Performance'])\n",
    "\n",
    "#     # Define a color palette for better visibility\n",
    "#     colors = sns.color_palette('Set2', n_colors=len(dictionary))\n",
    "\n",
    "#     # Plot box plots with different colors\n",
    "#     sns.boxplot(x='Policy', y='Performance', data=df, ax=ax, palette=colors)\n",
    "\n",
    "#     # Set labels and title\n",
    "#     ax.set_xlabel('Policy')\n",
    "#     y_lab = {'Transport Cost':'Cost',\n",
    "#              'Cost per Supplier':'Cost',\n",
    "#              'Service Level':'Proportion of met demand',\n",
    "#              'Reactive Service Level':'Proportion of met demand'}\n",
    "#     ax.set_ylabel(y_lab[objective])\n",
    "#     ax.set_title(f'Performance on {objective}')\n",
    "\n",
    "#     # Remove spines\n",
    "#     ax.spines['right'].set_visible(False)\n",
    "#     ax.spines['top'].set_visible(False)\n",
    "\n",
    "#     # Add grid for better readability\n",
    "#     ax.grid(True, linestyle='--', alpha=0.7)\n",
    "\n",
    "#     plt.show()\n",
    "\n",
    "\n",
    "import matplotlib.pyplot as plt\n",
    "import seaborn as sns\n",
    "\n",
    "def plot_boxplots(performance_data,objective):\n",
    "    \"\"\"\n",
    "    Plot boxplots for different policies.\n",
    "\n",
    "    Parameters:\n",
    "    - performance_data (dict): Dictionary containing policies as keys and lists of values as values.\n",
    "    \"\"\"\n",
    "    # Set up figure and axis\n",
    "    fig, ax = plt.subplots(figsize=(10, 6))\n",
    "\n",
    "    # Define a color palette for better visibility\n",
    "    colors = ['purple', 'red', 'orange']\n",
    "\n",
    "    # Plot boxplots for each policy\n",
    "    for i, (policy, values) in enumerate(performance_data.items()):\n",
    "        sns.boxplot(x=[policy]*len(values), y=values, color=colors[i % len(colors)], ax=ax)\n",
    "\n",
    "    # Set labels and title\n",
    "    ax.set_xlabel('Policies', fontsize=12)\n",
    "    ax.set_ylabel('Performance', fontsize=12)\n",
    "    ax.set_title('Performance Comparison Across Policies', fontsize=14)\n",
    "\n",
    "    # Remove legend\n",
    "    # ax.legend().set_visible(False)\n",
    "\n",
    "    # Add grid for better readability\n",
    "    ax.grid(True, linestyle='--', alpha=0.5)\n",
    "\n",
    "    # Show the plot\n",
    "    plt.show()\n"
   ]
  },
  {
   "cell_type": "code",
   "execution_count": 22,
   "metadata": {},
   "outputs": [
    {
     "data": {
      "application/vnd.jupyter.widget-view+json": {
       "model_id": "fe7ff46b4c71405ebf8b534bbd28cf37",
       "version_major": 2,
       "version_minor": 0
      },
      "text/plain": [
       "interactive(children=(Dropdown(description='Inst. size:', index=1, options=(5, 10, 15, 20, 30, None), value=10…"
      ]
     },
     "metadata": {},
     "output_type": "display_data"
    },
    {
     "data": {
      "text/plain": [
       "<function __main__.plot_n_table(size, objective)>"
      ]
     },
     "execution_count": 22,
     "metadata": {},
     "output_type": "execute_result"
    },
    {
     "data": {
      "image/png": "[encoded data removed]",
      "text/plain": [
       "<Figure size 1000x600 with 1 Axes>"
      ]
     },
     "metadata": {},
     "output_type": "display_data"
    }
   ],
   "source": [
    "def plot_n_table(size,objective):\n",
    "    if objective == 'Transport Cost':pos2=0\n",
    "    elif objective == 'Cost per Supplier':pos2=1\n",
    "    elif objective == 'Service Level':pos2=0\n",
    "    elif objective == 'Reactive Service Level':pos2=1\n",
    "\n",
    "    with open(experiments_path+f'Testing/M{size}-E10.pkl', 'rb') as file:\n",
    "        results = pickle.load(file)\n",
    "\n",
    "    info,TP_results,SL_results,C_results,seeds = results.values()\n",
    "\n",
    "    data = {'Two Phases':list(),'Service Level':list(),'Cost':list()}\n",
    "    for episode in range(info[2]):\n",
    "        if objective in ['Transport Cost','Cost per Supplier']:\n",
    "            data['Two Phases'].append(TP_results[episode][0][2][pos2])\n",
    "            data['Service Level'].append(SL_results[episode][0][2][pos2])\n",
    "            data['Cost'].append(C_results[episode][0][2][pos2])\n",
    "        elif objective in ['Service Level','Reactive Service Level']:\n",
    "            data['Two Phases'].append(TP_results[episode][2][pos2])\n",
    "            data['Service Level'].append(SL_results[episode][2][pos2])\n",
    "            data['Cost'].append(C_results[episode][2][pos2])\n",
    "        else:\n",
    "            data['Two Phases'].append(TP_results[episode][1][1])\n",
    "            data['Service Level'].append(SL_results[episode][1][1])\n",
    "            data['Cost'].append(C_results[episode][1][1])\n",
    "\n",
    "    plot_boxplots(data,objective)\n",
    "    # pIRPgym.Visualizations.RoutingV.n_plot(FlowerAgent.n_table,FlowerAgent.bincod,objective)\n",
    "\n",
    "interact(plot_n_table,size=widgets.Dropdown(options=sizes,value=10,description='Inst. size:'),\n",
    "         #episode=widgets.Dropdown(options=[30],value=30,description='Episodes:'),\n",
    "         objective=widgets.Dropdown(options=['Transport Cost','Cost per Supplier','Service Level',\n",
    "                                             'Reactive Service Level','Purchase Cost'],\n",
    "                                    value='Transport Cost',description='Episodes:'))"
   ]
  },
  {
   "cell_type": "code",
   "execution_count": null,
   "metadata": {},
   "outputs": [],
   "source": []
  }
 ],
 "metadata": {
  "kernelspec": {
   "display_name": "Python 3",
   "language": "python",
   "name": "python3"
  },
  "language_info": {
   "codemirror_mode": {
    "name": "ipython",
    "version": 3
   },
   "file_extension": ".py",
   "mimetype": "text/x-python",
   "name": "python",
   "nbconvert_exporter": "python",
   "pygments_lexer": "ipython3",
   "version": "3.9.16"
  }
 },
 "nbformat": 4,
 "nbformat_minor": 2
}
