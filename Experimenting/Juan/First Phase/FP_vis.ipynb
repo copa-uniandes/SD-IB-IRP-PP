{
 "cells": [
  {
   "cell_type": "code",
   "execution_count": 42,
   "metadata": {},
   "outputs": [],
   "source": [
    "######################################     Modules     #######################################\n",
    "# MODULES\n",
    "import sys\n",
    "from time import process_time\n",
    "import pickle\n",
    "import pandas as pd\n",
    "import ipywidgets as widgets\n",
    "from ipywidgets import interact\n",
    "\n",
    "sys.path.append('../.')\n",
    "import verbose_module\n",
    "sys.path.append('../../../.')\n",
    "import pIRPgym\n",
    "\n",
    "path = '/Users/juanbeta/My Drive/Research/Supply Chain Analytics/pIRPgym/'\n",
    "experiments_path = '/Users/juanbeta/My Drive/Research/Supply Chain Analytics/Experiments/First Phase/'\n",
    "\n",
    "Experiments = [2]\n",
    "Replicas = [1,2]\n",
    "\n",
    "alphas = [0.1,0.2,0.4,0.6,0.8]\n",
    "time_limits = [1,30,60,300,1800,3600]\n",
    "\n",
    "init_times = {1:0.1,30:1,60:3,300:5,1800:5,3600:10}\n",
    "\n",
    "Policies = ['NN','RCL']+[f'CG_{time_limit}' for time_limit in time_limits]+\\\n",
    "           [f'CG_{time_limit}_{alpha}' for time_limit in time_limits for alpha in alphas]"
   ]
  },
  {
   "cell_type": "code",
   "execution_count": 43,
   "metadata": {},
   "outputs": [
    {
     "name": "stdout",
     "output_type": "stream",
     "text": [
      "0\n"
     ]
    },
    {
     "ename": "IndexError",
     "evalue": "list index out of range",
     "output_type": "error",
     "traceback": [
      "\u001b[0;31m---------------------------------------------------------------------------\u001b[0m",
      "\u001b[0;31mIndexError\u001b[0m                                Traceback (most recent call last)",
      "\u001b[1;32m/Users/juanbeta/My Drive/Research/Supply Chain Analytics/pIRPgym/Experimenting/Juan/First Phase/FP_vis.ipynb Cell 2\u001b[0m line \u001b[0;36m2\n\u001b[1;32m     <a href='vscode-notebook-cell:/Users/juanbeta/My%20Drive/Research/Supply%20Chain%20Analytics/pIRPgym/Experimenting/Juan/First%20Phase/FP_vis.ipynb#W1sZmlsZQ%3D%3D?line=17'>18</a>\u001b[0m \u001b[39mfor\u001b[39;00m t \u001b[39min\u001b[39;00m \u001b[39mrange\u001b[39m(inst_info[\u001b[39m'\u001b[39m\u001b[39minst_gen\u001b[39m\u001b[39m'\u001b[39m]\u001b[39m.\u001b[39mT):\n\u001b[1;32m     <a href='vscode-notebook-cell:/Users/juanbeta/My%20Drive/Research/Supply%20Chain%20Analytics/pIRPgym/Experimenting/Juan/First%20Phase/FP_vis.ipynb#W1sZmlsZQ%3D%3D?line=18'>19</a>\u001b[0m     \u001b[39mprint\u001b[39m(t)\n\u001b[1;32m     <a href='vscode-notebook-cell:/Users/juanbeta/My%20Drive/Research/Supply%20Chain%20Analytics/pIRPgym/Experimenting/Juan/First%20Phase/FP_vis.ipynb#W1sZmlsZQ%3D%3D?line=19'>20</a>\u001b[0m     best_performance \u001b[39m=\u001b[39m \u001b[39mmin\u001b[39m([results[\u001b[39m'\u001b[39m\u001b[39mNN\u001b[39m\u001b[39m'\u001b[39m][t][\u001b[39m1\u001b[39m]]\u001b[39m+\u001b[39m\\\n\u001b[0;32m---> <a href='vscode-notebook-cell:/Users/juanbeta/My%20Drive/Research/Supply%20Chain%20Analytics/pIRPgym/Experimenting/Juan/First%20Phase/FP_vis.ipynb#W1sZmlsZQ%3D%3D?line=20'>21</a>\u001b[0m                            [results[\u001b[39m'\u001b[39;49m\u001b[39mRCL\u001b[39;49m\u001b[39m'\u001b[39;49m][t][\u001b[39m0\u001b[39m]]\u001b[39m+\u001b[39m\\\n\u001b[1;32m     <a href='vscode-notebook-cell:/Users/juanbeta/My%20Drive/Research/Supply%20Chain%20Analytics/pIRPgym/Experimenting/Juan/First%20Phase/FP_vis.ipynb#W1sZmlsZQ%3D%3D?line=21'>22</a>\u001b[0m                            [results[policy][t][\u001b[39m1\u001b[39m] \n\u001b[1;32m     <a href='vscode-notebook-cell:/Users/juanbeta/My%20Drive/Research/Supply%20Chain%20Analytics/pIRPgym/Experimenting/Juan/First%20Phase/FP_vis.ipynb#W1sZmlsZQ%3D%3D?line=22'>23</a>\u001b[0m                         \u001b[39mfor\u001b[39;00m policy \u001b[39min\u001b[39;00m Policies[\u001b[39m2\u001b[39m:]])\n\u001b[1;32m     <a href='vscode-notebook-cell:/Users/juanbeta/My%20Drive/Research/Supply%20Chain%20Analytics/pIRPgym/Experimenting/Juan/First%20Phase/FP_vis.ipynb#W1sZmlsZQ%3D%3D?line=24'>25</a>\u001b[0m     \u001b[39mfor\u001b[39;00m policy \u001b[39min\u001b[39;00m Policies:\n\u001b[1;32m     <a href='vscode-notebook-cell:/Users/juanbeta/My%20Drive/Research/Supply%20Chain%20Analytics/pIRPgym/Experimenting/Juan/First%20Phase/FP_vis.ipynb#W1sZmlsZQ%3D%3D?line=25'>26</a>\u001b[0m         loc \u001b[39m=\u001b[39m \u001b[39m1\u001b[39m \u001b[39mif\u001b[39;00m policy\u001b[39m!=\u001b[39m\u001b[39m'\u001b[39m\u001b[39mRCL\u001b[39m\u001b[39m'\u001b[39m \u001b[39melse\u001b[39;00m \u001b[39m0\u001b[39m\n",
      "\u001b[0;31mIndexError\u001b[0m: list index out of range"
     ]
    }
   ],
   "source": [
    "Experiments_results = {('Instance','M/K'):list()}\n",
    "Experiments_results.update({(policy,item):[] for policy in Policies for item in ['eff','gaps']})\n",
    "\n",
    "for experiment in Experiments:\n",
    "\n",
    "    reliability = {policy:[] for policy in Policies}\n",
    "    gaps = {policy:[] for policy in Policies}\n",
    "\n",
    "    for replica in Replicas:\n",
    "        with open(experiments_path+f'Experiment {experiment}/Replica {replica}/instance_information.pkl', 'rb') as file:\n",
    "            inst_info = pickle.load(file)\n",
    "\n",
    "        results = dict()\n",
    "        for policy in Policies:\n",
    "            with open(experiments_path+f'Experiment {experiment}/Replica {replica}/{policy}.pkl','rb') as file:\n",
    "                results[policy] = pickle.load(file)\n",
    "\n",
    "        for t in range(inst_info['inst_gen'].T):\n",
    "            print(t)\n",
    "            best_performance = min([results['NN'][t][1]]+\\\n",
    "                                   [results['RCL'][t][0]]+\\\n",
    "                                   [results[policy][t][1] \n",
    "                                for policy in Policies[2:]])\n",
    "\n",
    "            for policy in Policies:\n",
    "                loc = 1 if policy!='RCL' else 0\n",
    "                \n",
    "                if results[policy][t][loc] - best_performance < 0.01:\n",
    "                    reliability[policy].append(1)\n",
    "                else:\n",
    "                    reliability[policy].append(0)\n",
    "                    gaps[policy].append((results[policy][t][loc]-best_performance)/best_performance)\n",
    "\n",
    "    # Storing the results\n",
    "    for policy in Policies:\n",
    "        Experiments_results[(policy,'eff')].append(round(sum(reliability[policy])/len(reliability[policy]),4))\n",
    "        if len(gaps[policy]) > 0:\n",
    "            Experiments_results[(policy,'gaps')].append(round(sum(gaps[policy])/len(gaps[policy]),4))\n",
    "        else:\n",
    "            Experiments_results[(policy,'gaps')].append(0)"
   ]
  },
  {
   "cell_type": "code",
   "execution_count": 45,
   "metadata": {},
   "outputs": [
    {
     "name": "stdout",
     "output_type": "stream",
     "text": [
      "[]\n"
     ]
    }
   ],
   "source": [
    "with open(experiments_path+f'Experiment 2/Replica 3/RCL.pkl','rb') as file:\n",
    "    ress = pickle.load(file)\n",
    "print(ress)\n"
   ]
  },
  {
   "cell_type": "code",
   "execution_count": null,
   "metadata": {},
   "outputs": [],
   "source": []
  }
 ],
 "metadata": {
  "kernelspec": {
   "display_name": "Python 3",
   "language": "python",
   "name": "python3"
  },
  "language_info": {
   "codemirror_mode": {
    "name": "ipython",
    "version": 3
   },
   "file_extension": ".py",
   "mimetype": "text/x-python",
   "name": "python",
   "nbconvert_exporter": "python",
   "pygments_lexer": "ipython3",
   "version": "3.9.16"
  }
 },
 "nbformat": 4,
 "nbformat_minor": 2
}
