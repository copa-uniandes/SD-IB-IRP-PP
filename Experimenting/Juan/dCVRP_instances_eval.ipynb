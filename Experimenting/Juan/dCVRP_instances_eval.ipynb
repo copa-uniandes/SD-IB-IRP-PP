{
 "cells": [
  {
   "cell_type": "code",
   "execution_count": 1,
   "metadata": {},
   "outputs": [
    {
     "name": "stdout",
     "output_type": "stream",
     "text": [
      "Set parameter Username\n",
      "Academic license - for non-commercial use only - expires 2024-02-11\n"
     ]
    }
   ],
   "source": [
    "######################################     Modules     #######################################\n",
    "import sys\n",
    "from time import process_time\n",
    "import os\n",
    "\n",
    "import verbose_module\n",
    "sys.path.append('../../.')\n",
    "import pIRPgym"
   ]
  },
  {
   "cell_type": "code",
   "execution_count": 2,
   "metadata": {},
   "outputs": [],
   "source": [
    "########################     Instance generator and Environment     #########################\n",
    "# Instance Generator\n",
    "### pIRP model's parameters\n",
    "# Stochasticity\n",
    "stochastic_params = ['d','q']\n",
    "look_ahead = ['d','q']\n",
    "\n",
    "\n",
    "# Historical data\n",
    "historical_data = ['*']\n",
    "\n",
    "\n",
    "# Other parameters\n",
    "backorders = 'backorders'\n",
    "\n",
    "env_config = {  'M':13,'K':15,'T':12,'F':13,'Q':2000,\n",
    "                'S':6,'LA_horizon':4,\n",
    "                'd_max':2000,'hist_window':60,\n",
    "                'back_o_cost':10000\n",
    "            }\n",
    "\n",
    "# Creating instance generator object\n",
    "inst_gen = pIRPgym.instance_generator(look_ahead, stochastic_params,\n",
    "                              historical_data, backorders, env_config = env_config)\n",
    "\n",
    "instances = dict()\n",
    "instances['Li'] = [i for i in os.listdir('/Users/juanbeta/My Drive/Research/Supply Chain Analytics/pIRPenv/pIRPgym/Instances/CVRP Instances/dCVRP/Li') if i[-3:]=='vrp']\n",
    "instances['Golden'] = [i for i in os.listdir('/Users/juanbeta/My Drive/Research/Supply Chain Analytics/pIRPenv/pIRPgym/Instances/CVRP Instances/dCVRP/Golden') if i[-3:]=='vrp']\n",
    "instances['Li'].sort();instances['Golden'].sort()\n",
    "\n",
    "### Environment \n",
    "# Creating environment object\n",
    "routing = True\n",
    "inventory = False    \n",
    "perishability = False\n",
    "env = pIRPgym.steroid_IRP(routing,inventory,perishability)\n",
    "env.reset(inst_gen)"
   ]
  },
  {
   "cell_type": "code",
   "execution_count": 3,
   "metadata": {},
   "outputs": [
    {
     "name": "stdout",
     "output_type": "stream",
     "text": [
      "*************************************  Routing Strategies on Classic Instances  *************************************\n",
      "--------|\tBKS \t|\t   NN \t \t|\t   RCL \t \t|\t   HGA \t \t|\t  HGS*\n",
      "Inst\t| #Veh \t Obj \t| t(s)\t #Veh \t gap \t| t(s) \t #Veh \tgap \t| t(s) \t #Veh \t gap \t| t(s) \t #Veh \t gap \t|\n",
      "----------------------------------------------------------------------------------------------------------------------\n",
      "Li 21 \t| 10 \t16213 \t| 0.05 \t  13\t 28.0 \t| 0.28 \t  13.83\t 32.6 \t|\n",
      "Li 22 \t| 15 \t14499 \t| 0.07 \t  22\t 31.72 \t| 0.29 \t  23.6\t 39.79 \t|\n",
      "Li 23 \t| 10 \t18801 \t| 0.08 \t  14\t 41.85 \t| 0.35 \t  13.1\t 32.02 \t|\n",
      "Li 24 \t| 10 \t21389 \t| 0.1 \t  13\t 30.59 \t| 0.45 \t  13.5\t 32.21 \t|\n",
      "Li 25 \t| 19 \t16666 \t| 0.11 \t  28\t 31.56 \t| 0.46 \t  30.17\t 39.76 \t|\n",
      "Li 26 \t| 10 \t23978 \t| 0.14 \t  14\t 27.61 \t| 0.55 \t  13.9\t 29.14 \t|\n",
      "Li 27 \t| 20 \t17320 \t| 0.14 \t  29\t 26.82 \t| 0.58 \t  30.93\t 35.86 \t|\n",
      "Li 28 \t| 10 \t26566 \t| 0.14 \t  14\t 29.18 \t| 0.65 \t  13.57\t 27.59 \t|\n",
      "Li 29 \t| 10 \t29154 \t| 0.17 \t  14\t 32.12 \t| 0.81 \t  13.47\t 25.17 \t|\n",
      "Li 30 \t| 10 \t31743 \t| 0.24 \t  14\t 30.07 \t| 0.98 \t  13.7\t 24.44 \t|\n",
      "Li 31 \t| 10 \t34331 \t| 0.25 \t  13\t 24.0 \t| 1.11 \t  13.77\t 26.51 \t|\n",
      "Li 32 \t| 11 \t37159 \t| 0.28 \t  12\t 9.44 \t| 1.21 \t  14.3\t 27.78 \t|\n",
      "\n",
      "\n",
      "Go 1 \t| 9 \t5623 \t| 0.01 \t  14\t 32.18 \t| 0.05 \t  13.97\t 34.29 \t|\n",
      "Go 2 \t| 10 \t8405 \t| 0.02 \t  15\t 33.93 \t| 0.08 \t  15.3\t 37.95 \t|\n",
      "Go 3 \t| 9 \t10998 \t| 0.03 \t  15\t 39.93 \t| 0.13 \t  14.2\t 35.08 \t|\n",
      "Go 4 \t| 10 \t13589 \t| 0.04 \t  13\t 31.83 \t| 0.19 \t  13.03\t 27.94 \t|\n",
      "Go 5 \t| 5 \t6461 \t| 0.01 \t  6\t 49.44 \t| 0.03 \t  5.9\t 32.72 \t|\n",
      "Go 6 \t| 7 \t8400 \t| 0.01 \t  8\t 22.97 \t| 0.07 \t  8.27\t 24.78 \t|\n",
      "Go 7 \t| 8 \t10103 \t| 0.02 \t  11\t 23.5 \t| 0.11 \t  11.83\t 29.62 \t|\n",
      "Go 8 \t| 10 \t11635 \t| 0.03 \t  15\t 34.25 \t| 0.16 \t  15.73\t 38.1 \t|\n",
      "\n",
      "\n"
     ]
    }
   ],
   "source": [
    "################################## Policy Evaluation ##################################\n",
    "''' Parameters '''\n",
    "verbose = True\n",
    "show_gap = True\n",
    "\n",
    "if verbose: verbose_module.routing_instances.print_head(show_gap)\n",
    "\n",
    "for ss,inst_list in instances.items():\n",
    "    for instance in inst_list:\n",
    "        # Upload dCVRP instance\n",
    "        purchase,benchmark = inst_gen.upload_CVRP_instance(ss, instance)\n",
    "\n",
    "        if verbose: string = verbose_module.routing_instances.print_inst(ss,instance,benchmark[0],benchmark[1])\n",
    "\n",
    "        nn_routes,nn_obj,nn_info,nn_time = pIRPgym.Routing.NearestNeighbor(purchase,inst_gen,env.t)                                         # Nearest Neighbor\n",
    "        if verbose: string = verbose_module.routing_instances.print_routing_update(string,\n",
    "                                                                    nn_obj,len(nn_routes),nn_time,show_gap,benchmark)\n",
    "            \n",
    "        RCL_obj,RCL_veh,RCL_time = pIRPgym.Routing.evaluate_stochastic_policy(pIRPgym.Routing.RCL_Heuristic,\n",
    "                                                                                           purchase,inst_gen,env,n=30,return_average=True)\n",
    "        if verbose: string = verbose_module.routing_instances.print_routing_update(string,\n",
    "                                                                    RCL_obj,RCL_veh,RCL_time,show_gap,benchmark,end=True)\n",
    "        # GA_routes,GA_obj,GA_info,GA_time,_ = pIRPgym.Routing.HybridGenticAlgorithm(purchase,inst_gen,env.t,return_top=False,rd_seed=0,time_limit=30)    # Genetic Algorithm\n",
    "        # if verbose: string = verbose_module.routing_instances.print_routing_update(string,\n",
    "        #                                                             GA_obj,len(GA_routes),GA_time,show_gap,benchmark)\n",
    "        # HyGeSe_routes, HyGeSe_distance, HyGeSe_time  = pIRPgym.Routing.HyGeSe.HyGeSe_routing(purchase,inst_gen,env.t,time_limit=30)                                  # Hybrid Genetic Search (CVRP)\n",
    "        # if verbose: string = verbose_module.routing_instances.print_routing_update(string,HyGeSe_distance,len(HyGeSe_routes),HyGeSe_time,show_gap,benchmark,True)                                    # Column Generation algorithm\n",
    "    print('\\n')"
   ]
  },
  {
   "cell_type": "code",
   "execution_count": 3,
   "metadata": {},
   "outputs": [],
   "source": [
    "########################     Instance generator and Environment     #########################\n",
    "# Creating instance generator object\n",
    "inst_gen = pIRPgym.instance_generator(look_ahead, stochastic_params,\n",
    "                              historical_data, backorders, env_config = env_config)\n",
    "\n",
    "instances = dict()\n",
    "instances = [i for i in os.listdir('/Users/juanbeta/My Drive/Research/Supply Chain Analytics/pIRPenv/pIRPgym/Instances/CVRP Instances/CVRP/Uchoa') if i[-3:]=='vrp']\n",
    "instances.sort()\n",
    "inst = instances[1:] + [instances[0]]"
   ]
  },
  {
   "cell_type": "code",
   "execution_count": 4,
   "metadata": {},
   "outputs": [
    {
     "name": "stdout",
     "output_type": "stream",
     "text": [
      "*************************************  Routing Strategies on Classic Instances  *************************************\n",
      "--------|\tBKS \t|\t   NN \t \t|\t   RCL \t \t|\t   HGA \t \t|\t  HGS*\n",
      "Inst\t| #Veh \t Obj \t| t(s)\t #Veh \t gap \t| t(s) \t #Veh \tgap \t| t(s) \t #Veh \t gap \t| t(s) \t #Veh \t gap \t|\n",
      "----------------------------------------------------------------------------------------------------------------------\n",
      "Go 3 \t| 43 \t72355 \t| 0.180000 \t  43\t 19.54 \t|\r"
     ]
    },
    {
     "ename": "AttributeError",
     "evalue": "'instance_generator' object has no attribute 'K_it'",
     "output_type": "error",
     "traceback": [
      "\u001b[0;31m---------------------------------------------------------------------------\u001b[0m",
      "\u001b[0;31mAttributeError\u001b[0m                            Traceback (most recent call last)",
      "\u001b[1;32m/Users/juanbeta/My Drive/Research/Supply Chain Analytics/pIRPenv/Experimenting/Juan/dCVRP_instances_eval.ipynb Cell 5\u001b[0m line \u001b[0;36m1\n\u001b[1;32m     <a href='vscode-notebook-cell:/Users/juanbeta/My%20Drive/Research/Supply%20Chain%20Analytics/pIRPenv/Experimenting/Juan/dCVRP_instances_eval.ipynb#W4sZmlsZQ%3D%3D?line=13'>14</a>\u001b[0m nn_routes,nn_obj,nn_info,nn_time \u001b[39m=\u001b[39m pIRPgym\u001b[39m.\u001b[39mRouting\u001b[39m.\u001b[39mNearestNeighbor(purchase,inst_gen,env\u001b[39m.\u001b[39mt)                                         \u001b[39m# Nearest Neighbor\u001b[39;00m\n\u001b[1;32m     <a href='vscode-notebook-cell:/Users/juanbeta/My%20Drive/Research/Supply%20Chain%20Analytics/pIRPenv/Experimenting/Juan/dCVRP_instances_eval.ipynb#W4sZmlsZQ%3D%3D?line=14'>15</a>\u001b[0m \u001b[39mif\u001b[39;00m verbose: string \u001b[39m=\u001b[39m verbose_module\u001b[39m.\u001b[39mrouting_instances\u001b[39m.\u001b[39mprint_routing_update(string,\n\u001b[1;32m     <a href='vscode-notebook-cell:/Users/juanbeta/My%20Drive/Research/Supply%20Chain%20Analytics/pIRPenv/Experimenting/Juan/dCVRP_instances_eval.ipynb#W4sZmlsZQ%3D%3D?line=15'>16</a>\u001b[0m                                                             nn_obj,\u001b[39mlen\u001b[39m(nn_routes),nn_time,show_gap,benchmark)\n\u001b[0;32m---> <a href='vscode-notebook-cell:/Users/juanbeta/My%20Drive/Research/Supply%20Chain%20Analytics/pIRPenv/Experimenting/Juan/dCVRP_instances_eval.ipynb#W4sZmlsZQ%3D%3D?line=17'>18</a>\u001b[0m RCL_obj,RCL_veh,RCL_time \u001b[39m=\u001b[39m pIRPgym\u001b[39m.\u001b[39;49mRouting\u001b[39m.\u001b[39;49mevaluate_stochastic_policy(pIRPgym\u001b[39m.\u001b[39;49mRouting\u001b[39m.\u001b[39;49mRCL_Heuristic,\n\u001b[1;32m     <a href='vscode-notebook-cell:/Users/juanbeta/My%20Drive/Research/Supply%20Chain%20Analytics/pIRPenv/Experimenting/Juan/dCVRP_instances_eval.ipynb#W4sZmlsZQ%3D%3D?line=18'>19</a>\u001b[0m                                                                                     purchase,inst_gen,env,n\u001b[39m=\u001b[39;49m\u001b[39m30\u001b[39;49m,return_average\u001b[39m=\u001b[39;49m\u001b[39mTrue\u001b[39;49;00m)\n\u001b[1;32m     <a href='vscode-notebook-cell:/Users/juanbeta/My%20Drive/Research/Supply%20Chain%20Analytics/pIRPenv/Experimenting/Juan/dCVRP_instances_eval.ipynb#W4sZmlsZQ%3D%3D?line=19'>20</a>\u001b[0m \u001b[39mif\u001b[39;00m verbose: string \u001b[39m=\u001b[39m verbose_module\u001b[39m.\u001b[39mrouting_instances\u001b[39m.\u001b[39mprint_routing_update(string,\n\u001b[1;32m     <a href='vscode-notebook-cell:/Users/juanbeta/My%20Drive/Research/Supply%20Chain%20Analytics/pIRPenv/Experimenting/Juan/dCVRP_instances_eval.ipynb#W4sZmlsZQ%3D%3D?line=20'>21</a>\u001b[0m                                                             RCL_obj,RCL_veh,RCL_time,show_gap,benchmark,end\u001b[39m=\u001b[39m\u001b[39mTrue\u001b[39;00m)\n\u001b[1;32m     <a href='vscode-notebook-cell:/Users/juanbeta/My%20Drive/Research/Supply%20Chain%20Analytics/pIRPenv/Experimenting/Juan/dCVRP_instances_eval.ipynb#W4sZmlsZQ%3D%3D?line=21'>22</a>\u001b[0m \u001b[39m# GA_routes,GA_obj,GA_info,GA_time,_ = pIRPgym.Routing.HybridGenticAlgorithm(purchase,inst_gen,env.t,return_top=False,rd_seed=0,time_limit=30)    # Genetic Algorithm\u001b[39;00m\n\u001b[1;32m     <a href='vscode-notebook-cell:/Users/juanbeta/My%20Drive/Research/Supply%20Chain%20Analytics/pIRPenv/Experimenting/Juan/dCVRP_instances_eval.ipynb#W4sZmlsZQ%3D%3D?line=22'>23</a>\u001b[0m \u001b[39m# if verbose: string = verbose_module.routing_instances.print_routing_update(string,\u001b[39;00m\n\u001b[1;32m     <a href='vscode-notebook-cell:/Users/juanbeta/My%20Drive/Research/Supply%20Chain%20Analytics/pIRPenv/Experimenting/Juan/dCVRP_instances_eval.ipynb#W4sZmlsZQ%3D%3D?line=23'>24</a>\u001b[0m \u001b[39m#                                                             GA_obj,len(GA_routes),GA_time,show_gap,benchmark)\u001b[39;00m\n\u001b[1;32m     <a href='vscode-notebook-cell:/Users/juanbeta/My%20Drive/Research/Supply%20Chain%20Analytics/pIRPenv/Experimenting/Juan/dCVRP_instances_eval.ipynb#W4sZmlsZQ%3D%3D?line=24'>25</a>\u001b[0m \u001b[39m# HyGeSe_routes, HyGeSe_distance, HyGeSe_time  = pIRPgym.Routing.HyGeSe.HyGeSe_routing(purchase,inst_gen,env.t,time_limit=30)                                  # Hybrid Genetic Search (CVRP)\u001b[39;00m\n\u001b[1;32m     <a href='vscode-notebook-cell:/Users/juanbeta/My%20Drive/Research/Supply%20Chain%20Analytics/pIRPenv/Experimenting/Juan/dCVRP_instances_eval.ipynb#W4sZmlsZQ%3D%3D?line=25'>26</a>\u001b[0m \u001b[39m# if verbose: string = verbose_module.routing_instances.print_routing_update(string,HyGeSe_distance,len(HyGeSe_routes),HyGeSe_time,show_gap,benchmark,True)                                    # Column Generation algorithm\u001b[39;00m\n",
      "File \u001b[0;32m~/My Drive/Research/Supply Chain Analytics/pIRPenv/Experimenting/Juan/../.././pIRPgym/Blocks/Policies/Routing.py:849\u001b[0m, in \u001b[0;36mRouting.evaluate_stochastic_policy\u001b[0;34m(router, purchase, inst_gen, env, n, averages, **kwargs)\u001b[0m\n\u001b[1;32m    846\u001b[0m vehicles\u001b[39m.\u001b[39mappend(\u001b[39mlen\u001b[39m(RCL_routes))\n\u001b[1;32m    847\u001b[0m objectives\u001b[39m.\u001b[39mappend(RCL_obj)\n\u001b[0;32m--> 849\u001b[0m extra_cost,missing \u001b[39m=\u001b[39m Routing_management\u001b[39m.\u001b[39;49mevaluate_dynamic_potential(inst_gen,env,RCL_routes,purchase,discriminate_missing\u001b[39m=\u001b[39;49m\u001b[39mFalse\u001b[39;49;00m)\n\u001b[1;32m    850\u001b[0m extra_costs\u001b[39m.\u001b[39mappend(extra_cost)\n\u001b[1;32m    851\u001b[0m missings\u001b[39m.\u001b[39mappend(missing)\n",
      "File \u001b[0;32m~/My Drive/Research/Supply Chain Analytics/pIRPenv/Experimenting/Juan/../.././pIRPgym/Blocks/BuildingBlocks.py:50\u001b[0m, in \u001b[0;36mRouting_management.evaluate_dynamic_potential\u001b[0;34m(inst_gen, env, routes, purchase, discriminate_missing)\u001b[0m\n\u001b[1;32m     48\u001b[0m missing \u001b[39m=\u001b[39m {k:\u001b[39m0\u001b[39m \u001b[39mfor\u001b[39;00m k \u001b[39min\u001b[39;00m inst_gen\u001b[39m.\u001b[39mProducts}\n\u001b[1;32m     49\u001b[0m \u001b[39mfor\u001b[39;00m sup \u001b[39min\u001b[39;00m route[\u001b[39m1\u001b[39m:\u001b[39m-\u001b[39m\u001b[39m1\u001b[39m]:\n\u001b[0;32m---> 50\u001b[0m     \u001b[39mfor\u001b[39;00m k \u001b[39min\u001b[39;00m inst_gen\u001b[39m.\u001b[39;49mK_it[sup,env\u001b[39m.\u001b[39mt]:\n\u001b[1;32m     51\u001b[0m         \u001b[39mif\u001b[39;00m (sup,k) \u001b[39min\u001b[39;00m \u001b[39mlist\u001b[39m(purchase\u001b[39m.\u001b[39mkeys()) \u001b[39mand\u001b[39;00m inst_gen\u001b[39m.\u001b[39mW_q[env\u001b[39m.\u001b[39mt][sup,k] \u001b[39m<\u001b[39m purchase[sup,k]:\n\u001b[1;32m     52\u001b[0m             not_bought \u001b[39m=\u001b[39m purchase[sup,k] \u001b[39m-\u001b[39m inst_gen\u001b[39m.\u001b[39mW_q[env\u001b[39m.\u001b[39mt][sup,k]\n",
      "\u001b[0;31mAttributeError\u001b[0m: 'instance_generator' object has no attribute 'K_it'"
     ]
    }
   ],
   "source": [
    "################################## Policy Evaluation ##################################\n",
    "''' Parameters '''\n",
    "verbose = True\n",
    "show_gap = True\n",
    "\n",
    "if verbose: verbose_module.routing_instances.print_head(show_gap)\n",
    "\n",
    "for instance in instances:\n",
    "    # Upload dCVRP instance\n",
    "    purchase,benchmark = inst_gen.upload_CVRP_instance('Uchoa',instance)\n",
    "\n",
    "    if verbose: string = verbose_module.routing_instances.print_inst('Uchoa',instance,benchmark[0],benchmark[1])\n",
    "\n",
    "    nn_routes,nn_obj,nn_info,nn_time = pIRPgym.Routing.NearestNeighbor(purchase,inst_gen,env.t)                                         # Nearest Neighbor\n",
    "    if verbose: string = verbose_module.routing_instances.print_routing_update(string,\n",
    "                                                                nn_obj,len(nn_routes),nn_time,show_gap,benchmark)\n",
    "        \n",
    "    RCL_obj,RCL_veh,RCL_time = pIRPgym.Routing.evaluate_stochastic_policy(pIRPgym.Routing.RCL_Heuristic,\n",
    "                                                                                        purchase,inst_gen,env,n=30,return_average=True)\n",
    "    if verbose: string = verbose_module.routing_instances.print_routing_update(string,\n",
    "                                                                RCL_obj,RCL_veh,RCL_time,show_gap,benchmark,end=True)\n",
    "    GA_routes,GA_obj,GA_info,GA_time,_ = pIRPgym.Routing.HybridGenticAlgorithm(purchase,inst_gen,env.t,return_top=False,rd_seed=0,time_limit=30)    # Genetic Algorithm\n",
    "    if verbose: string = verbose_module.routing_instances.print_routing_update(string,\n",
    "                                                                GA_obj,len(GA_routes),GA_time,show_gap,benchmark)\n",
    "    # HyGeSe_routes, HyGeSe_distance, HyGeSe_time  = pIRPgym.Routing.HyGeSe.HyGeSe_routing(purchase,inst_gen,env.t,time_limit=30)                                  # Hybrid Genetic Search (CVRP)\n",
    "    # if verbose: string = verbose_module.routing_instances.print_routing_update(string,HyGeSe_distance,len(HyGeSe_routes),HyGeSe_time,show_gap,benchmark,True)                                    # Column Generation algorithm\n",
    "    print('\\n')"
   ]
  },
  {
   "cell_type": "code",
   "execution_count": 5,
   "metadata": {},
   "outputs": [
    {
     "data": {
      "text/plain": [
       "False"
      ]
     },
     "execution_count": 5,
     "metadata": {},
     "output_type": "execute_result"
    }
   ],
   "source": [
    "'X-n1001-k43' in instances"
   ]
  },
  {
   "cell_type": "code",
   "execution_count": 7,
   "metadata": {},
   "outputs": [
    {
     "data": {
      "text/plain": [
       "True"
      ]
     },
     "execution_count": 7,
     "metadata": {},
     "output_type": "execute_result"
    }
   ],
   "source": [
    "'X-n1001-k43.vrp' in instances"
   ]
  },
  {
   "cell_type": "code",
   "execution_count": null,
   "metadata": {},
   "outputs": [],
   "source": []
  }
 ],
 "metadata": {
  "kernelspec": {
   "display_name": "Python 3",
   "language": "python",
   "name": "python3"
  },
  "language_info": {
   "codemirror_mode": {
    "name": "ipython",
    "version": 3
   },
   "file_extension": ".py",
   "mimetype": "text/x-python",
   "name": "python",
   "nbconvert_exporter": "python",
   "pygments_lexer": "ipython3",
   "version": "3.9.16"
  }
 },
 "nbformat": 4,
 "nbformat_minor": 2
}
