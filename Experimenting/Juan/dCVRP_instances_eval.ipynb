{
 "cells": [
  {
   "cell_type": "code",
   "execution_count": 1,
   "metadata": {},
   "outputs": [
    {
     "name": "stdout",
     "output_type": "stream",
     "text": [
      "Set parameter Username\n",
      "Academic license - for non-commercial use only - expires 2024-02-11\n"
     ]
    }
   ],
   "source": [
    "# Modules\n",
    "import sys\n",
    "from time import process_time\n",
    "import os\n",
    "\n",
    "import verbose_module\n",
    "sys.path.append('../../.')\n",
    "import pIRPgym"
   ]
  },
  {
   "cell_type": "code",
   "execution_count": 2,
   "metadata": {},
   "outputs": [],
   "source": [
    "########################################## Instance generator ###########################################\n",
    "# Instance Generator\n",
    "### pIRP model's parameters\n",
    "# Stochasticity\n",
    "stochastic_params = ['d','q']\n",
    "look_ahead = ['d','q']\n",
    "\n",
    "\n",
    "# Historical data\n",
    "historical_data = ['*']\n",
    "\n",
    "\n",
    "# Other parameters\n",
    "backorders = 'backorders'\n",
    "\n",
    "env_config = {  'M':13,'K':15,'T':12,'F':13,'Q':2000,\n",
    "                'S':6,'LA_horizon':4,\n",
    "                'd_max':2000,'hist_window':60,\n",
    "                'back_o_cost':10000\n",
    "            }\n",
    "\n",
    "# Creating instance generator object\n",
    "inst_gen = pIRPgym.instance_generator(look_ahead, stochastic_params,\n",
    "                              historical_data, backorders, env_config = env_config)\n",
    "\n",
    "\n",
    "######################################### Environment ##########################################\n",
    "# Environment\n",
    "# Creating environment object\n",
    "routing = True\n",
    "inventory = False    \n",
    "perishability = False\n",
    "env = pIRPgym.steroid_IRP(routing,inventory,perishability)\n",
    "env.reset(inst_gen)\n",
    "\n",
    "''' Parameters '''\n",
    "verbose = True\n",
    "show_gap = True\n",
    "instances = dict()\n",
    "instances['Li'] = [i for i in os.listdir('/Users/juanbeta/My Drive/Research/Supply Chain Analytics/pIRPenv/pIRPgym/Instances/CVRP Instances/dCVRP/Li') if i[-3:]=='vrp']\n",
    "instances['Golden'] = [i for i in os.listdir('/Users/juanbeta/My Drive/Research/Supply Chain Analytics/pIRPenv/pIRPgym/Instances/CVRP Instances/dCVRP/Golden') if i[-3:]=='vrp']\n",
    "instances['Li'].sort();instances['Golden'].sort()"
   ]
  },
  {
   "cell_type": "code",
   "execution_count": 3,
   "metadata": {},
   "outputs": [
    {
     "name": "stdout",
     "output_type": "stream",
     "text": [
      "*************************************  Routing Strategies on Classic Instances  *************************************\n",
      "--------|\tBKS \t|\t   NN \t \t|\t   RCL \t \t|\t   HGA \t \t|\t  HGS*\n",
      "Inst\t| #Veh \t Obj \t| t(s)\t #Veh \t gap \t| t(s) \t #Veh \tgap \t| t(s) \t #Veh \t gap \t| t(s) \t #Veh \t gap \t|\n",
      "----------------------------------------------------------------------------------------------------------------------\n",
      "Li 21 \t| 10 \t16213 \t| 0.06 \t  13\t28.0 \t| 0.28 \t  14\t33.22 \t| 28.4 \t  13\t21.1 \t| 30.1 \t  10\t0.06 \t|\n",
      "Li 22 \t| 15 \t14499 \t| 0.06 \t  22\t31.72 \t| 0.27 \t  23\t38.69 \t| 53.3 \t  22\t31.22 \t| 30.2 \t  14\t-2.61 \t|\n",
      "Li 23 \t| 10 \t18801 \t| 0.07 \t  14\t41.85 \t| 0.28 \t  13\t29.66 \t| 62.8 \t  12\t21.99 \t| 30.2 \t  10\t0.12 \t|\n",
      "Li 24 \t| 10 \t21389 \t| 0.09 \t  13\t30.59 \t| 0.39 \t  14\t34.54 \t| 70.5 \t  13\t24.51 \t| 30.4 \t  10\t0.9 \t|\n",
      "Li 25 \t| 19 \t16666 \t| 0.12 \t  28\t31.56 \t| 0.49 \t  31\t42.97 \t| 71.5 \t  28\t31.77 \t| 30.3 \t  18\t-5.37 \t|\n",
      "Li 26 \t| 10 \t23978 \t| 0.13 \t  14\t27.61 \t| 0.53 \t  14\t29.63 \t| 93.9 \t  13\t20.55 \t| 30.5 \t  10\t1.86 \t|\n",
      "Li 27 \t| 20 \t17320 \t| 0.18 \t  29\t26.82 \t| 0.77 \t  31\t37.6 \t| 92.5 \t  29\t29.96 \t| 30.4 \t  20\t-2.66 \t|\n",
      "Li 28 \t| 10 \t26566 \t| 0.35 \t  14\t29.18 \t| 1.79 \t  13\t23.45 \t| 241.7\t  13\t19.06 \t| 30.4 \t  11\t0.85 \t|\n",
      "Li 29 \t| 10 \t29154 \t| 0.19 \t  14\t32.12 \t| 0.72 \t  14\t28.08 \t| 73.9 \t  13\t17.74 \t| 30.5 \t  10\t3.43 \t|\n",
      "Li 30 \t| 10 \t31743 \t| 0.22 \t  14\t30.07 \t| 0.87 \t  14\t24.8 \t| 62.7 \t  13\t16.57 \t| 30.6 \t  11\t4.13 \t|\n",
      "Li 31 \t| 10 \t34331 \t| 0.24 \t  13\t24.0 \t| 0.98 \t  15\t34.81 \t| 103.2\t  12\t12.47 \t| 30.6 \t  11\t5.99 \t|\n",
      "Li 32 \t| 11 \t37159 \t| 0.28 \t  12\t9.44 \t| 1.16 \t  14\t26.51 \t| 233.3\t  13\t14.34 \t| 30.8 \t  11\t5.77 \t|\n",
      "\n",
      "\n",
      "Go 1 \t| 9 \t5623 \t| 0.02 \t  14\t32.18 \t| 0.05 \t  14\t36.27 \t| 9.81 \t  13\t24.41 \t| 30.0 \t  9\t-3.23 \t|\n",
      "Go 2 \t| 10 \t8405 \t| 0.02 \t  15\t33.93 \t| 0.07 \t  15\t36.01 \t| 19.3 \t  14\t29.86 \t| 30.1 \t  10\t-0.73 \t|\n",
      "Go 3 \t| 9 \t10998 \t| 0.02 \t  15\t39.93 \t| 0.12 \t  14\t28.16 \t| 29.6 \t  13\t23.85 \t| 30.1 \t  9\t-1.17 \t|\n",
      "Go 4 \t| 10 \t13589 \t| 0.04 \t  13\t31.83 \t| 0.17 \t  13\t24.53 \t| 34.6 \t  12\t19.22 \t| 30.1 \t  10\t0.3 \t|\n",
      "Go 5 \t| 5 \t6461 \t| 0.01 \t  6\t49.44 \t| 0.04 \t  6\t32.72 \t| 12.8 \t  5\t16.73 \t| 30.0 \t  5\t-0.02 \t|\n",
      "Go 6 \t| 7 \t8400 \t| 0.01 \t  8\t22.97 \t| 0.07 \t  8\t27.49 \t| 12.3 \t  8\t15.27 \t| 30.0 \t  7\t0.08 \t|\n",
      "Go 7 \t| 8 \t10103 \t| 0.02 \t  11\t23.5 \t| 0.07 \t  12\t29.18 \t| 16.7 \t  11\t20.4 \t| 30.1 \t  8\t-0.9 \t|\n",
      "Go 8 \t| 10 \t11635 \t| 0.03 \t  15\t34.25 \t| 0.13 \t  15\t36.55 \t| 10.5 \t  15\t29.73 \t| 30.1 \t  10\t0.05 \t|\n"
     ]
    }
   ],
   "source": [
    "if verbose: verbose_module.routing_instances.print_head(show_gap)\n",
    "\n",
    "for ss,inst_list in instances.items():\n",
    "    if ss == 'Golden': print('\\n')\n",
    "    for instance in inst_list:\n",
    "        # Upload dCVRP instance\n",
    "        purchase,benchmark = inst_gen.upload_CVRP_instance(ss, instance)\n",
    "\n",
    "        if verbose: string = verbose_module.routing_instances.print_inst(ss,instance,benchmark[0],benchmark[1])\n",
    "\n",
    "        nn_routes,nn_obj,nn_info,nn_time = pIRPgym.Routing.NearestNeighbor(purchase,inst_gen,env.t)                                         # Nearest Neighbor\n",
    "        if verbose: string = verbose_module.routing_instances.print_routing_update(string,\n",
    "                                                                    nn_obj,len(nn_routes),nn_time,show_gap,benchmark)\n",
    "        RCL_routes,RCL_obj,RCL_info,RCL_time  = pIRPgym.Routing.RCL_Heuristic(purchase,inst_gen,env.t,RCL_alpha=0.001)                                 # RCL based constructive\n",
    "        if verbose: string = verbose_module.routing_instances.print_routing_update(string,\n",
    "                                                                    RCL_obj,len(RCL_routes),RCL_time,show_gap,benchmark)\n",
    "        GA_routes,GA_obj,GA_info,GA_time,_ = pIRPgym.Routing.HybridGenticAlgorithm(purchase,inst_gen,env.t,return_top=False,rd_seed=0,time_limit=30)    # Genetic Algorithm\n",
    "        if verbose: string = verbose_module.routing_instances.print_routing_update(string,\n",
    "                                                                    GA_obj,len(GA_routes),GA_time,show_gap,benchmark)\n",
    "        HyGeSe_routes, HyGeSe_distance, HyGeSe_time  = pIRPgym.Routing.HyGeSe.HyGeSe_routing(purchase,inst_gen,env.t,time_limit=30)                                  # Hybrid Genetic Search (CVRP)\n",
    "        if verbose: string = verbose_module.routing_instances.print_routing_update(string,HyGeSe_distance,len(HyGeSe_routes),HyGeSe_time,show_gap,benchmark,True)\n",
    "        # CG_routes, CG_distances, CG_loads, CG_time = pIRPgym.Routing.ColumnGeneration(purchase,inst_gen,env.t,verbose=True)       # Column Generation algorithm                  \n",
    "        # if verbose: string = verbose_module.print_routing_update(string,sum(CG_distances),len(CG_routes),end=True)                                        # Column Generation algorithm"
   ]
  },
  {
   "cell_type": "code",
   "execution_count": null,
   "metadata": {},
   "outputs": [],
   "source": []
  }
 ],
 "metadata": {
  "kernelspec": {
   "display_name": "Python 3",
   "language": "python",
   "name": "python3"
  },
  "language_info": {
   "codemirror_mode": {
    "name": "ipython",
    "version": 3
   },
   "file_extension": ".py",
   "mimetype": "text/x-python",
   "name": "python",
   "nbconvert_exporter": "python",
   "pygments_lexer": "ipython3",
   "version": "3.9.16"
  }
 },
 "nbformat": 4,
 "nbformat_minor": 2
}
