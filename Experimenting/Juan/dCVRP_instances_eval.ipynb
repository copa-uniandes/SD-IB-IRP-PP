{
 "cells": [
  {
   "cell_type": "code",
   "execution_count": 1,
   "metadata": {},
   "outputs": [
    {
     "name": "stdout",
     "output_type": "stream",
     "text": [
      "Set parameter Username\n",
      "Academic license - for non-commercial use only - expires 2024-02-11\n"
     ]
    }
   ],
   "source": [
    "######################################     Modules     #######################################\n",
    "import sys\n",
    "from time import process_time\n",
    "import os\n",
    "\n",
    "import verbose_module\n",
    "sys.path.append('../../.')\n",
    "import pIRPgym\n",
    "\n",
    "########################     Instance generator and Environment     #########################\n",
    "# Instance Generator\n",
    "### pIRP model's parameters\n",
    "# Stochasticity\n",
    "stochastic_params = ['d','q']\n",
    "look_ahead = ['d','q']\n",
    "\n",
    "\n",
    "# Historical data\n",
    "historical_data = ['*']\n",
    "\n",
    "\n",
    "# Other parameters\n",
    "backorders = 'backorders'\n",
    "\n",
    "env_config = {  'M':13,'K':15,'T':12,'F':13,'Q':2000,\n",
    "                'S':6,'LA_horizon':4,\n",
    "                'd_max':2000,'hist_window':60,\n",
    "                'back_o_cost':10000\n",
    "            }"
   ]
  },
  {
   "cell_type": "markdown",
   "metadata": {},
   "source": [
    "# dCVRP Instances"
   ]
  },
  {
   "cell_type": "code",
   "execution_count": 2,
   "metadata": {},
   "outputs": [],
   "source": [
    "########################     Instance generator and Environment     #########################\n",
    "# Creating instance generator object\n",
    "inst_gen = pIRPgym.instance_generator(look_ahead, stochastic_params,\n",
    "                              historical_data, backorders, env_config = env_config)\n",
    "\n",
    "instances = dict()\n",
    "instances['Li'] = [i for i in os.listdir('/Users/juanbeta/My Drive/Research/Supply Chain Analytics/pIRPenv/pIRPgym/Instances/CVRP Instances/dCVRP/Li') if i[-3:]=='vrp']\n",
    "instances['Golden'] = [i for i in os.listdir('/Users/juanbeta/My Drive/Research/Supply Chain Analytics/pIRPenv/pIRPgym/Instances/CVRP Instances/dCVRP/Golden') if i[-3:]=='vrp']\n",
    "instances['Li'].sort();instances['Golden'].sort()\n",
    "\n",
    "### Environment \n",
    "# Creating environment object\n",
    "routing = True\n",
    "inventory = False    \n",
    "perishability = False\n",
    "env = pIRPgym.steroid_IRP(routing,inventory,perishability)\n",
    "env.reset(inst_gen)"
   ]
  },
  {
   "cell_type": "code",
   "execution_count": 3,
   "metadata": {},
   "outputs": [
    {
     "name": "stdout",
     "output_type": "stream",
     "text": [
      "*************************************  Routing Strategies on Classic Instances  *************************************\n",
      "--------|\tBKS \t|\t   NN \t \t|\t   RCL \t \t|\t   HGA \t \t|\t  HGS*\n",
      "Inst\t| #Veh \t Obj \t| t(s)\t #Veh \t gap \t| t(s) \t #Veh \tgap \t| t(s) \t #Veh \t gap \t| t(s) \t #Veh \t gap \t|\n",
      "----------------------------------------------------------------------------------------------------------------------\n"
     ]
    }
   ],
   "source": [
    "################################## Policy Evaluation ##################################\n",
    "''' Parameters '''\n",
    "verbose = True\n",
    "show_gap = True\n",
    "\n",
    "if verbose: verbose_module.routing_instances.print_head(show_gap)\n",
    "\n",
    "for ss,inst_list in instances.items():\n",
    "    for instance in inst_list:\n",
    "        # Upload dCVRP instance\n",
    "        purchase,benchmark = inst_gen.upload_CVRP_instance(ss, instance)\n",
    "\n",
    "        if verbose: string = verbose_module.routing_instances.print_inst(ss,instance,benchmark[0],benchmark[1])\n",
    "\n",
    "        nn_routes,nn_obj,nn_info,nn_time = pIRPgym.Routing.NearestNeighbor(purchase,inst_gen,env.t)                                         # Nearest Neighbor\n",
    "        if verbose: string = verbose_module.routing_instances.print_routing_update(string,\n",
    "                                                                    nn_obj,len(nn_routes),nn_time,show_gap,benchmark)\n",
    "            \n",
    "        RCL_obj,RCL_veh,RCL_time = pIRPgym.Routing.evaluate_stochastic_policy(pIRPgym.Routing.RCL_Heuristic,\n",
    "                                                                                           purchase,inst_gen,env,n=30,averages=True,dynamic_p=False)\n",
    "        if verbose: string = verbose_module.routing_instances.print_routing_update(string,\n",
    "                                                                    RCL_obj,RCL_veh,RCL_time,show_gap,benchmark,end=True)\n",
    "        # GA_routes,GA_obj,GA_info,GA_time,_ = pIRPgym.Routing.HybridGenticAlgorithm(purchase,inst_gen,env.t,return_top=False,rd_seed=0,time_limit=30)    # Genetic Algorithm\n",
    "        # if verbose: string = verbose_module.routing_instances.print_routing_update(string,\n",
    "        #                                                             GA_obj,len(GA_routes),GA_time,show_gap,benchmark)\n",
    "        # HyGeSe_routes, HyGeSe_distance, HyGeSe_time  = pIRPgym.Routing.HyGeSe.HyGeSe_routing(purchase,inst_gen,env.t,time_limit=30)                                  # Hybrid Genetic Search (CVRP)\n",
    "        # if verbose: string = verbose_module.routing_instances.print_routing_update(string,HyGeSe_distance,len(HyGeSe_routes),HyGeSe_time,show_gap,benchmark,True)                                    # Column Generation algorithm\n",
    "    print('\\n')"
   ]
  },
  {
   "cell_type": "markdown",
   "metadata": {},
   "source": [
    "# CVRP Instances"
   ]
  },
  {
   "cell_type": "code",
   "execution_count": 2,
   "metadata": {},
   "outputs": [],
   "source": [
    "########################     Instance generator and Environment     #########################\n",
    "# Creating instance generator object\n",
    "inst_gen = pIRPgym.instance_generator(look_ahead, stochastic_params,\n",
    "                              historical_data, backorders, env_config = env_config)\n",
    "\n",
    "instances = dict()\n",
    "instances = [i for i in os.listdir('/Users/juanbeta/My Drive/Research/Supply Chain Analytics/pIRPenv/pIRPgym/Instances/CVRP Instances/CVRP/Uchoa') if i[-3:]=='vrp']\n",
    "# instances = [i for i in os.listdir('C:/Users/jm.betancourt/Documents/Research/pIRPgym/pIRPgym/Instances/CVRP Instances/CVRP/Uchoa') if i[-3:]=='vrp']\n",
    "instances.sort()\n",
    "instances = instances[1:] + [instances[0]]\n",
    "\n",
    "### Environment \n",
    "# Creating environment object\n",
    "routing = True\n",
    "inventory = False    \n",
    "perishability = False\n",
    "env = pIRPgym.steroid_IRP(routing,inventory,perishability)\n",
    "env.reset(inst_gen)"
   ]
  },
  {
   "cell_type": "code",
   "execution_count": 3,
   "metadata": {},
   "outputs": [
    {
     "name": "stdout",
     "output_type": "stream",
     "text": [
      "*************************************  Routing Strategies on Classic Instances  *************************************\n",
      "--------|\tBKS \t|\t   NN \t \t|\t   RCL \t \t|\t   HGA \t \t|\t  HGS*\n",
      "Inst\t| #Veh \t Obj \t| t(s)\t #Veh \t gap \t| t(s) \t #Veh \tgap \t| t(s) \t #Veh \t gap \t| t(s) \t #Veh \t gap \t|\n",
      "----------------------------------------------------------------------------------------------------------------------\n",
      "n101-k25| 25 \t27591 \t| 0.00\t  26\t 52.02\t| 0.01\t  26.73\t 62.52\t| 14.00\t  26\t 25.93\t|\n",
      "n106-k14| 14 \t26362 \t| 0.00\t  14\t 9.61\t| 0.01\t  14.0\t 40.48\t| 20.60\t  14\t 7.04\t|\n",
      "n110-k13| 13 \t14971 \t| 0.00\t  13\t 28.86\t| 0.01\t  13.0\t 116.25\t| 16.10\t  13\t 19.06\t|\n",
      "n115-k10| 10 \t12747 \t| 0.00\t  10\t 51.64\t| 0.01\t  10.0\t 170.78\t| 16.40\t  10\t 35.93\t|\n",
      "n120-k6| 6 \t13332 \t| 0.00\t  6\t 19.18\t| 0.01\t  6.0\t 150.59\t| 16.80\t  6\t 14.76\t|\n",
      "n125-k30| 30 \t55539 \t| 0.00\t  32\t 23.07\t| 0.01\t  31.63\t 33.94\t| 16.80\t  32\t 16.38\t|\n",
      "n129-k18| 18 \t28940 \t| 0.00\t  18\t 24.24\t| 0.02\t  18.0\t 73.48\t| 23.10\t  18\t 16.77\t|\n",
      "n134-k13| 13 \t10916 \t| 0.00\t  13\t 51.39\t| 0.02\t  13.0\t 157.26\t| 16.10\t  13\t 32.02\t|\n",
      "n139-k10| 10 \t13590 \t| 0.00\t  10\t 23.95\t| 0.02\t  10.0\t 169.67\t| 12.00\t  10\t 16.82\t|\n",
      "n143-k7| 7 \t15700 \t| 0.00\t  7\t 43.52\t| 0.02\t  7.0\t 176.71\t| 10.80\t  7\t 33.48\t|\n",
      "n148-k46| 46 \t43448 \t| 0.00\t  47\t 30.42\t| 0.02\t  47.7\t 57.39\t|\r"
     ]
    },
    {
     "ename": "KeyboardInterrupt",
     "evalue": "",
     "output_type": "error",
     "traceback": [
      "\u001b[0;31m---------------------------------------------------------------------------\u001b[0m",
      "\u001b[0;31mKeyboardInterrupt\u001b[0m                         Traceback (most recent call last)",
      "\u001b[1;32m/Users/juanbeta/My Drive/Research/Supply Chain Analytics/pIRPenv/Experimenting/Juan/dCVRP_instances_eval.ipynb Cell 7\u001b[0m line \u001b[0;36m3\n\u001b[1;32m     <a href='vscode-notebook-cell:/Users/juanbeta/My%20Drive/Research/Supply%20Chain%20Analytics/pIRPenv/Experimenting/Juan/dCVRP_instances_eval.ipynb#W6sZmlsZQ%3D%3D?line=25'>26</a>\u001b[0m \u001b[39mif\u001b[39;00m verbose: string \u001b[39m=\u001b[39m verbose_module\u001b[39m.\u001b[39mrouting_instances\u001b[39m.\u001b[39mprint_routing_update(string,\n\u001b[1;32m     <a href='vscode-notebook-cell:/Users/juanbeta/My%20Drive/Research/Supply%20Chain%20Analytics/pIRPenv/Experimenting/Juan/dCVRP_instances_eval.ipynb#W6sZmlsZQ%3D%3D?line=26'>27</a>\u001b[0m                                                             RCL_obj,RCL_veh,RCL_time,show_gap,benchmark)\n\u001b[1;32m     <a href='vscode-notebook-cell:/Users/juanbeta/My%20Drive/Research/Supply%20Chain%20Analytics/pIRPenv/Experimenting/Juan/dCVRP_instances_eval.ipynb#W6sZmlsZQ%3D%3D?line=27'>28</a>\u001b[0m performance[\u001b[39m'\u001b[39m\u001b[39mRCL\u001b[39m\u001b[39m'\u001b[39m][\u001b[39mlen\u001b[39m(purchase)\u001b[39m/\u001b[39m\u001b[39m/\u001b[39m\u001b[39m100\u001b[39m][\u001b[39m'\u001b[39m\u001b[39mFO\u001b[39m\u001b[39m'\u001b[39m]\u001b[39m.\u001b[39mappend(RCL_obj);performance[\u001b[39m'\u001b[39m\u001b[39mRCL\u001b[39m\u001b[39m'\u001b[39m][\u001b[39mlen\u001b[39m(purchase)\u001b[39m/\u001b[39m\u001b[39m/\u001b[39m\u001b[39m100\u001b[39m][\u001b[39m'\u001b[39m\u001b[39mTime\u001b[39m\u001b[39m'\u001b[39m]\u001b[39m.\u001b[39mappend(RCL_time)\n\u001b[0;32m---> <a href='vscode-notebook-cell:/Users/juanbeta/My%20Drive/Research/Supply%20Chain%20Analytics/pIRPenv/Experimenting/Juan/dCVRP_instances_eval.ipynb#W6sZmlsZQ%3D%3D?line=29'>30</a>\u001b[0m GA_routes,GA_obj,GA_info,GA_time,_ \u001b[39m=\u001b[39m pIRPgym\u001b[39m.\u001b[39;49mRouting\u001b[39m.\u001b[39;49mHybridGenticAlgorithm(purchase,inst_gen,env\u001b[39m.\u001b[39;49mt,return_top\u001b[39m=\u001b[39;49m\u001b[39mFalse\u001b[39;49;00m,rd_seed\u001b[39m=\u001b[39;49m\u001b[39m0\u001b[39;49m,time_limit\u001b[39m=\u001b[39;49m\u001b[39m30\u001b[39;49m)    \u001b[39m# Genetic Algorithm\u001b[39;00m\n\u001b[1;32m     <a href='vscode-notebook-cell:/Users/juanbeta/My%20Drive/Research/Supply%20Chain%20Analytics/pIRPenv/Experimenting/Juan/dCVRP_instances_eval.ipynb#W6sZmlsZQ%3D%3D?line=30'>31</a>\u001b[0m \u001b[39mif\u001b[39;00m verbose: string \u001b[39m=\u001b[39m verbose_module\u001b[39m.\u001b[39mrouting_instances\u001b[39m.\u001b[39mprint_routing_update(string,\n\u001b[1;32m     <a href='vscode-notebook-cell:/Users/juanbeta/My%20Drive/Research/Supply%20Chain%20Analytics/pIRPenv/Experimenting/Juan/dCVRP_instances_eval.ipynb#W6sZmlsZQ%3D%3D?line=31'>32</a>\u001b[0m                                                             GA_obj,\u001b[39mlen\u001b[39m(GA_routes),GA_time,show_gap,benchmark,end\u001b[39m=\u001b[39m\u001b[39mTrue\u001b[39;00m)\n\u001b[1;32m     <a href='vscode-notebook-cell:/Users/juanbeta/My%20Drive/Research/Supply%20Chain%20Analytics/pIRPenv/Experimenting/Juan/dCVRP_instances_eval.ipynb#W6sZmlsZQ%3D%3D?line=32'>33</a>\u001b[0m performance[\u001b[39m'\u001b[39m\u001b[39mGA\u001b[39m\u001b[39m'\u001b[39m][\u001b[39mlen\u001b[39m(purchase)\u001b[39m/\u001b[39m\u001b[39m/\u001b[39m\u001b[39m100\u001b[39m][\u001b[39m'\u001b[39m\u001b[39mFO\u001b[39m\u001b[39m'\u001b[39m]\u001b[39m.\u001b[39mappend(GA_obj);performance[\u001b[39m'\u001b[39m\u001b[39mGA\u001b[39m\u001b[39m'\u001b[39m][\u001b[39mlen\u001b[39m(purchase)\u001b[39m/\u001b[39m\u001b[39m/\u001b[39m\u001b[39m100\u001b[39m][\u001b[39m'\u001b[39m\u001b[39mTime\u001b[39m\u001b[39m'\u001b[39m]\u001b[39m.\u001b[39mappend(GA_time)\n",
      "File \u001b[0;32m~/My Drive/Research/Supply Chain Analytics/pIRPenv/Experimenting/Juan/../.././pIRPgym/Blocks/Policies/Routing.py:161\u001b[0m, in \u001b[0;36mRouting.HybridGenticAlgorithm\u001b[0;34m(purchase, inst_gen, t, return_top, rd_seed, time_limit)\u001b[0m\n\u001b[1;32m    157\u001b[0m mutation_rate:\u001b[39mfloat\u001b[39m \u001b[39m=\u001b[39m \u001b[39m0.5\u001b[39m\n\u001b[1;32m    159\u001b[0m \u001b[39mif\u001b[39;00m verbose: \u001b[39mprint\u001b[39m(\u001b[39m'\u001b[39m\u001b[39mGenerating population\u001b[39m\u001b[39m'\u001b[39m)\n\u001b[1;32m    160\u001b[0m Population,FOs,Distances,Loads,incumbent,best_individual,alpha_performance \u001b[39m=\u001b[39m \\\n\u001b[0;32m--> 161\u001b[0m                 Routing\u001b[39m.\u001b[39;49mGA\u001b[39m.\u001b[39;49mgenerate_population(inst_gen,start,requirements,verbose, \n\u001b[1;32m    162\u001b[0m                                                                 Population_iter,training_time)\n\u001b[1;32m    164\u001b[0m \u001b[39m# Print progress\u001b[39;00m\n\u001b[1;32m    165\u001b[0m \u001b[39mif\u001b[39;00m verbose: \n",
      "File \u001b[0;32m~/My Drive/Research/Supply Chain Analytics/pIRPenv/Experimenting/Juan/../.././pIRPgym/Blocks/Policies/Routing.py:262\u001b[0m, in \u001b[0;36mRouting.GA.generate_population\u001b[0;34m(inst_gen, start, requirements, verbose, Population_iter, training_time)\u001b[0m\n\u001b[1;32m    260\u001b[0m training_ind:\u001b[39mint\u001b[39m \u001b[39m=\u001b[39m \u001b[39m0\u001b[39m\n\u001b[1;32m    261\u001b[0m \u001b[39mwhile\u001b[39;00m process_time() \u001b[39m-\u001b[39mstart\u001b[39m<\u001b[39m\u001b[39m=\u001b[39mtraining_time:\n\u001b[0;32m--> 262\u001b[0m     alpha_performance \u001b[39m=\u001b[39m Routing\u001b[39m.\u001b[39;49mGA\u001b[39m.\u001b[39;49mcalibrate_alpha(RCL_alpha_list,alpha_performance,requirements,inst_gen)\n\u001b[1;32m    263\u001b[0m     training_ind \u001b[39m+\u001b[39m\u001b[39m=\u001b[39m \u001b[39m1\u001b[39m\n\u001b[1;32m    265\u001b[0m \u001b[39m# Generating initial population\u001b[39;00m\n",
      "File \u001b[0;32m~/My Drive/Research/Supply Chain Analytics/pIRPenv/Experimenting/Juan/../.././pIRPgym/Blocks/Policies/Routing.py:295\u001b[0m, in \u001b[0;36mRouting.GA.calibrate_alpha\u001b[0;34m(RCL_alpha_list, alpha_performance, requirements, inst_gen)\u001b[0m\n\u001b[1;32m    293\u001b[0m tr_distance:\u001b[39mfloat\u001b[39m \u001b[39m=\u001b[39m \u001b[39m0\u001b[39m\n\u001b[1;32m    294\u001b[0m RCL_alpha:\u001b[39mfloat\u001b[39m \u001b[39m=\u001b[39m choice(RCL_alpha_list)\n\u001b[0;32m--> 295\u001b[0m routes, FO, (distances, loads), _ \u001b[39m=\u001b[39m Routing\u001b[39m.\u001b[39;49mRCL_Heuristic(requirements2,inst_gen,\u001b[39m0\u001b[39;49m,RCL_alpha)\n\u001b[1;32m    296\u001b[0m tr_distance \u001b[39m+\u001b[39m\u001b[39m=\u001b[39m FO\n\u001b[1;32m    297\u001b[0m alpha_performance[RCL_alpha] \u001b[39m+\u001b[39m\u001b[39m=\u001b[39m \u001b[39m1\u001b[39m\u001b[39m/\u001b[39mtr_distance\n",
      "File \u001b[0;32m~/My Drive/Research/Supply Chain Analytics/pIRPenv/Experimenting/Juan/../.././pIRPgym/Blocks/Policies/Routing.py:83\u001b[0m, in \u001b[0;36mRouting.RCL_Heuristic\u001b[0;34m(purchase, inst_gen, t, RCL_alpha, s)\u001b[0m\n\u001b[1;32m     80\u001b[0m loads \u001b[39m=\u001b[39m \u001b[39mlist\u001b[39m()\n\u001b[1;32m     82\u001b[0m \u001b[39mwhile\u001b[39;00m \u001b[39mlen\u001b[39m(pending_sup) \u001b[39m>\u001b[39m \u001b[39m0\u001b[39m:\n\u001b[0;32m---> 83\u001b[0m     route,distance,load,pending_sup \u001b[39m=\u001b[39m Routing\u001b[39m.\u001b[39;49mRCL_constructive\u001b[39m.\u001b[39;49mgenerate_RCL_route(RCL_alpha,pending_sup,requirements,inst_gen)\n\u001b[1;32m     85\u001b[0m     routes\u001b[39m.\u001b[39mappend(route)\n\u001b[1;32m     86\u001b[0m     FO \u001b[39m+\u001b[39m\u001b[39m=\u001b[39m distance\n",
      "File \u001b[0;32m~/My Drive/Research/Supply Chain Analytics/pIRPenv/Experimenting/Juan/../.././pIRPgym/Blocks/Policies/Routing.py:126\u001b[0m, in \u001b[0;36mRouting.RCL_constructive.generate_RCL_route\u001b[0;34m(RCL_alpha, pending_sup, requirements, inst_gen)\u001b[0m\n\u001b[1;32m    123\u001b[0m distance:\u001b[39mfloat\u001b[39m \u001b[39m=\u001b[39m \u001b[39m0\u001b[39m\n\u001b[1;32m    125\u001b[0m \u001b[39mwhile\u001b[39;00m load \u001b[39m<\u001b[39m inst_gen\u001b[39m.\u001b[39mQ:\n\u001b[0;32m--> 126\u001b[0m     target \u001b[39m=\u001b[39m Routing\u001b[39m.\u001b[39;49mRCL_constructive\u001b[39m.\u001b[39;49mgenerate_RCL_candidate(RCL_alpha,node,load,distance,pending_sup,requirements,inst_gen)\n\u001b[1;32m    127\u001b[0m     \u001b[39mif\u001b[39;00m target \u001b[39m==\u001b[39m \u001b[39mFalse\u001b[39;00m:\n\u001b[1;32m    128\u001b[0m         \u001b[39mbreak\u001b[39;00m\n",
      "File \u001b[0;32m~/My Drive/Research/Supply Chain Analytics/pIRPenv/Experimenting/Juan/../.././pIRPgym/Blocks/Policies/Routing.py:105\u001b[0m, in \u001b[0;36mRouting.RCL_constructive.generate_RCL_candidate\u001b[0;34m(RCL_alpha, node, load, distance, pending_sup, requirements, inst_gen)\u001b[0m\n\u001b[1;32m    103\u001b[0m     \u001b[39mif\u001b[39;00m distance \u001b[39m+\u001b[39m d \u001b[39m+\u001b[39m inst_gen\u001b[39m.\u001b[39mc[candidate,\u001b[39m0\u001b[39m] \u001b[39m<\u001b[39m\u001b[39m=\u001b[39m inst_gen\u001b[39m.\u001b[39md_max \u001b[39mand\u001b[39;00m load \u001b[39m+\u001b[39m requirements[candidate] \u001b[39m<\u001b[39m\u001b[39m=\u001b[39m inst_gen\u001b[39m.\u001b[39mQ:\n\u001b[1;32m    104\u001b[0m         feasible_candidates\u001b[39m.\u001b[39mappend(candidate)\n\u001b[0;32m--> 105\u001b[0m         max_crit \u001b[39m=\u001b[39m \u001b[39mmax\u001b[39;49m(d, max_crit)\n\u001b[1;32m    106\u001b[0m         min_crit \u001b[39m=\u001b[39m \u001b[39mmin\u001b[39m(d, min_crit)\n\u001b[1;32m    108\u001b[0m upper_bound:\u001b[39mfloat\u001b[39m \u001b[39m=\u001b[39m min_crit \u001b[39m+\u001b[39m RCL_alpha \u001b[39m*\u001b[39m (max_crit \u001b[39m-\u001b[39m min_crit)\n",
      "\u001b[0;31mKeyboardInterrupt\u001b[0m: "
     ]
    }
   ],
   "source": [
    "################################## Policy Evaluation ##################################\n",
    "''' Parameters '''\n",
    "verbose = True\n",
    "show_gap = True\n",
    "\n",
    "ranges = [i for i in range(1,11)]\n",
    "performance = {'nn':{i:{'FO':list(),'Time':list()} for i in ranges},'RCL':{i:{'FO':list(),'Time':list()} for i in ranges},'GA':{i:{'FO':list(),'Time':list()} for i in ranges}}\n",
    "\n",
    "\n",
    "if verbose: verbose_module.routing_instances.print_head(show_gap)\n",
    "\n",
    "for instance in instances:\n",
    "    # Upload dCVRP instance\n",
    "    purchase,benchmark = inst_gen.upload_CVRP_instance('Uchoa',instance)\n",
    "\n",
    "    if verbose: string = verbose_module.routing_instances.print_inst('Uchoa',instance,benchmark[0],benchmark[1])\n",
    "\n",
    "    nn_routes,nn_obj,nn_info,nn_time = pIRPgym.Routing.NearestNeighbor(purchase,inst_gen,env.t)                                         # Nearest Neighbor\n",
    "    if verbose: string = verbose_module.routing_instances.print_routing_update(string,\n",
    "                                                                nn_obj,len(nn_routes),nn_time,show_gap,benchmark)\n",
    "    performance['nn'][len(purchase)//100]['FO'].append(nn_obj);performance['nn'][len(purchase)//100]['Time'].append(nn_time)\n",
    "\n",
    "\n",
    "    RCL_obj,RCL_veh,RCL_time = pIRPgym.Routing.evaluate_stochastic_policy(pIRPgym.Routing.RCL_Heuristic,\n",
    "                                                                                        purchase,inst_gen,env,n=30,averages=True,dynamic_p=False)\n",
    "    if verbose: string = verbose_module.routing_instances.print_routing_update(string,\n",
    "                                                                RCL_obj,RCL_veh,RCL_time,show_gap,benchmark)\n",
    "    performance['RCL'][len(purchase)//100]['FO'].append(RCL_obj);performance['RCL'][len(purchase)//100]['Time'].append(RCL_time)\n",
    "\n",
    "    GA_routes,GA_obj,GA_info,GA_time,_ = pIRPgym.Routing.HybridGenticAlgorithm(purchase,inst_gen,env.t,return_top=False,rd_seed=0,time_limit=30)    # Genetic Algorithm\n",
    "    if verbose: string = verbose_module.routing_instances.print_routing_update(string,\n",
    "                                                                GA_obj,len(GA_routes),GA_time,show_gap,benchmark,end=True)\n",
    "    performance['GA'][len(purchase)//100]['FO'].append(GA_obj);performance['GA'][len(purchase)//100]['Time'].append(GA_time)\n",
    "    # HyGeSe_routes, HyGeSe_distance, HyGeSe_time  = pIRPgym.Routing.HyGeSe.HyGeSe_routing(purchase,inst_gen,env.t,time_limit=30)                                  # Hybrid Genetic Search (CVRP)\n",
    "    # if verbose: string = verbose_module.routing_instances.print_routing_update(string,HyGeSe_distance,len(HyGeSe_routes),HyGeSe_time,show_gap,benchmark,True)                                    # Column Generation algorithm\n",
    "    "
   ]
  },
  {
   "cell_type": "code",
   "execution_count": 4,
   "metadata": {},
   "outputs": [
    {
     "data": {
      "text/plain": [
       "{'nn': {1: {'FO': [41944,\n",
       "    28896,\n",
       "    19292,\n",
       "    19330,\n",
       "    15889,\n",
       "    68354,\n",
       "    35956,\n",
       "    16526,\n",
       "    16845,\n",
       "    22533,\n",
       "    56663],\n",
       "   'Time': [0.0029360000000000497,\n",
       "    0.001961999999998909,\n",
       "    0.002072000000005403,\n",
       "    0.002255000000005225,\n",
       "    0.0038070000000089976,\n",
       "    0.0040180000000020755,\n",
       "    0.0030920000000094205,\n",
       "    0.0034269999999878564,\n",
       "    0.0031800000000146156,\n",
       "    0.003765999999984615,\n",
       "    0.0035579999999981737]},\n",
       "  2: {'FO': [], 'Time': []},\n",
       "  3: {'FO': [], 'Time': []},\n",
       "  4: {'FO': [], 'Time': []},\n",
       "  5: {'FO': [], 'Time': []},\n",
       "  6: {'FO': [], 'Time': []},\n",
       "  7: {'FO': [], 'Time': []},\n",
       "  8: {'FO': [], 'Time': []},\n",
       "  9: {'FO': [], 'Time': []},\n",
       "  10: {'FO': [], 'Time': []}},\n",
       " 'RCL': {1: {'FO': [44840.7,\n",
       "    37033.5,\n",
       "    32375.4,\n",
       "    34516.566666666666,\n",
       "    33408.166666666664,\n",
       "    74388.0,\n",
       "    50204.23333333333,\n",
       "    28083.033333333333,\n",
       "    36647.8,\n",
       "    43443.8,\n",
       "    68382.66666666667],\n",
       "   'Time': [0.01014006666666667,\n",
       "    0.011693366666667041,\n",
       "    0.012584066666666161,\n",
       "    0.013475133333335994,\n",
       "    0.014346933333334278,\n",
       "    0.014690233333333916,\n",
       "    0.01533909999999897,\n",
       "    0.018568199999999518,\n",
       "    0.019132366666662886,\n",
       "    0.020319733333335914,\n",
       "    0.022210500000005594]},\n",
       "  2: {'FO': [], 'Time': []},\n",
       "  3: {'FO': [], 'Time': []},\n",
       "  4: {'FO': [], 'Time': []},\n",
       "  5: {'FO': [], 'Time': []},\n",
       "  6: {'FO': [], 'Time': []},\n",
       "  7: {'FO': [], 'Time': []},\n",
       "  8: {'FO': [], 'Time': []},\n",
       "  9: {'FO': [], 'Time': []},\n",
       "  10: {'FO': [], 'Time': []}},\n",
       " 'GA': {1: {'FO': [34746,\n",
       "    28219,\n",
       "    17824,\n",
       "    17327,\n",
       "    15300,\n",
       "    64635,\n",
       "    33794,\n",
       "    14411,\n",
       "    15876,\n",
       "    20956],\n",
       "   'Time': [13.953137000000002,\n",
       "    20.582743000000004,\n",
       "    16.063561,\n",
       "    16.427929000000006,\n",
       "    16.771854999999988,\n",
       "    16.815161999999987,\n",
       "    23.09588500000001,\n",
       "    16.088141000000007,\n",
       "    12.049070999999998,\n",
       "    10.833713999999986]},\n",
       "  2: {'FO': [], 'Time': []},\n",
       "  3: {'FO': [], 'Time': []},\n",
       "  4: {'FO': [], 'Time': []},\n",
       "  5: {'FO': [], 'Time': []},\n",
       "  6: {'FO': [], 'Time': []},\n",
       "  7: {'FO': [], 'Time': []},\n",
       "  8: {'FO': [], 'Time': []},\n",
       "  9: {'FO': [], 'Time': []},\n",
       "  10: {'FO': [], 'Time': []}}}"
      ]
     },
     "execution_count": 4,
     "metadata": {},
     "output_type": "execute_result"
    }
   ],
   "source": [
    "performance"
   ]
  },
  {
   "cell_type": "code",
   "execution_count": 5,
   "metadata": {},
   "outputs": [
    {
     "data": {
      "text/plain": [
       "False"
      ]
     },
     "execution_count": 5,
     "metadata": {},
     "output_type": "execute_result"
    }
   ],
   "source": [
    "'X-n1001-k43' in instances"
   ]
  },
  {
   "cell_type": "code",
   "execution_count": 7,
   "metadata": {},
   "outputs": [
    {
     "data": {
      "text/plain": [
       "True"
      ]
     },
     "execution_count": 7,
     "metadata": {},
     "output_type": "execute_result"
    }
   ],
   "source": [
    "'X-n1001-k43.vrp' in instances"
   ]
  },
  {
   "cell_type": "code",
   "execution_count": null,
   "metadata": {},
   "outputs": [],
   "source": []
  }
 ],
 "metadata": {
  "kernelspec": {
   "display_name": "Python 3",
   "language": "python",
   "name": "python3"
  },
  "language_info": {
   "codemirror_mode": {
    "name": "ipython",
    "version": 3
   },
   "file_extension": ".py",
   "mimetype": "text/x-python",
   "name": "python",
   "nbconvert_exporter": "python",
   "pygments_lexer": "ipython3",
   "version": "3.9.16"
  }
 },
 "nbformat": 4,
 "nbformat_minor": 2
}
