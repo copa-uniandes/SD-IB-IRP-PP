{
 "cells": [
  {
   "cell_type": "code",
   "execution_count": 1,
   "metadata": {},
   "outputs": [
    {
     "name": "stdout",
     "output_type": "stream",
     "text": [
      "Set parameter Username\n",
      "Academic license - for non-commercial use only - expires 2024-02-11\n"
     ]
    }
   ],
   "source": [
    "######################################     Modules     #######################################\n",
    "import sys\n",
    "from time import process_time\n",
    "import os\n",
    "import pickle\n",
    "\n",
    "import verbose_module as verb\n",
    "sys.path.append('../../.')\n",
    "import pIRPgym\n",
    "\n",
    "########################     Instance generator and Environment     #########################\n",
    "# Instance Generator\n",
    "### pIRP model's parameters\n",
    "# Stochasticity\n",
    "stochastic_params = ['d','q']\n",
    "look_ahead = ['d','q']\n",
    "\n",
    "\n",
    "# Historical data\n",
    "historical_data = ['*']\n",
    "\n",
    "\n",
    "# Other parameters\n",
    "backorders = 'backorders'\n",
    "\n",
    "env_config = {  'M':13,'K':15,'T':12,'F':13,'Q':2000,\n",
    "                'S':6,'LA_horizon':4,\n",
    "                'd_max':2000,'hist_window':60,\n",
    "                'back_o_cost':10000\n",
    "            }"
   ]
  },
  {
   "cell_type": "markdown",
   "metadata": {},
   "source": [
    "# dCVRP Instances"
   ]
  },
  {
   "cell_type": "code",
   "execution_count": 2,
   "metadata": {},
   "outputs": [],
   "source": [
    "########################     Instance generator and Environment     #########################\n",
    "# Creating instance generator object\n",
    "inst_gen = pIRPgym.instance_generator(look_ahead, stochastic_params,\n",
    "                              historical_data, backorders, env_config = env_config)\n",
    "\n",
    "instances = dict()\n",
    "instances['Li'] = [i for i in os.listdir('/Users/juanbeta/My Drive/Research/Supply Chain Analytics/pIRPenv/pIRPgym/Instances/CVRP Instances/dCVRP/Li') if i[-3:]=='vrp']\n",
    "instances['Golden'] = [i for i in os.listdir('/Users/juanbeta/My Drive/Research/Supply Chain Analytics/pIRPenv/pIRPgym/Instances/CVRP Instances/dCVRP/Golden') if i[-3:]=='vrp']\n",
    "instances['Li'].sort();instances['Golden'].sort()\n",
    "\n",
    "### Environment \n",
    "# Creating environment object\n",
    "routing = True\n",
    "inventory = False    \n",
    "perishability = False\n",
    "env = pIRPgym.steroid_IRP(routing,inventory,perishability)\n",
    "env.reset(inst_gen)"
   ]
  },
  {
   "cell_type": "code",
   "execution_count": 3,
   "metadata": {},
   "outputs": [
    {
     "name": "stdout",
     "output_type": "stream",
     "text": [
      "*************************************  Routing Strategies on Classic Instances  *************************************\n",
      "--------|\tBKS \t|\t   NN \t \t|\t   RCL \t \t|\t   HGA \t \t|\t  HGS*\n",
      "Inst\t| #Veh \t Obj \t| t(s)\t #Veh \t gap \t| t(s) \t #Veh \tgap \t| t(s) \t #Veh \t gap \t| t(s) \t #Veh \t gap \t|\n",
      "----------------------------------------------------------------------------------------------------------------------\n"
     ]
    }
   ],
   "source": [
    "################################## Policy Evaluation ##################################\n",
    "''' Parameters '''\n",
    "verbose = True\n",
    "show_gap = True\n",
    "\n",
    "if verbose: verb.routing_instances.print_head(show_gap)\n",
    "\n",
    "for ss,inst_list in instances.items():\n",
    "    for instance in inst_list:\n",
    "        # Upload dCVRP instance\n",
    "        purchase,benchmark = inst_gen.upload_CVRP_instance(ss, instance)\n",
    "\n",
    "        if verbose: string = verb.routing_instances.print_inst(ss,instance,benchmark[0],benchmark[1])\n",
    "\n",
    "        nn_routes,nn_obj,nn_info,nn_time = pIRPgym.Routing.NearestNeighbor(purchase,inst_gen,env.t)                                         # Nearest Neighbor\n",
    "        if verbose: string = verb.routing_instances.print_routing_update(string,\n",
    "                                                                    nn_obj,len(nn_routes),nn_time,show_gap,benchmark)\n",
    "            \n",
    "        RCL_obj,RCL_veh,RCL_time = pIRPgym.Routing.evaluate_stochastic_policy(pIRPgym.Routing.RCL_Heuristic,\n",
    "                                                                                           purchase,inst_gen,env,n=30,averages=True,dynamic_p=False)\n",
    "        if verbose: string = verb.routing_instances.print_routing_update(string,\n",
    "                                                                    RCL_obj,RCL_veh,RCL_time,show_gap,benchmark,end=True)\n",
    "        # GA_routes,GA_obj,GA_info,GA_time,_ = pIRPgym.Routing.HybridGenticAlgorithm(purchase,inst_gen,env.t,return_top=False,rd_seed=0,time_limit=30)    # Genetic Algorithm\n",
    "        # if verbose: string = verb.routing_instances.print_routing_update(string,\n",
    "        #                                                             GA_obj,len(GA_routes),GA_time,show_gap,benchmark)\n",
    "        # HyGeSe_routes, HyGeSe_distance, HyGeSe_time  = pIRPgym.Routing.HyGeSe.HyGeSe_routing(purchase,inst_gen,env.t,time_limit=30)                                  # Hybrid Genetic Search (CVRP)\n",
    "        # if verbose: string = verb.routing_instances.print_routing_update(string,HyGeSe_distance,len(HyGeSe_routes),HyGeSe_time,show_gap,benchmark,True)                                    # Column Generation algorithm\n",
    "    print('\\n')"
   ]
  },
  {
   "cell_type": "markdown",
   "metadata": {},
   "source": [
    "# CVRP Instances"
   ]
  },
  {
   "cell_type": "code",
   "execution_count": 2,
   "metadata": {},
   "outputs": [],
   "source": [
    "########################     Instance generator and Environment     #########################\n",
    "path = '/Users/juanbeta/My Drive/Research/Supply Chain Analytics/pIRPgym/'\n",
    "# path = 'C:/Users/jm.betancourt/Documents/Research/pIRPgym/'\n",
    "\n",
    "# Creating instance generator object\n",
    "inst_gen = pIRPgym.instance_generator(look_ahead, stochastic_params,\n",
    "                              historical_data, backorders, env_config = env_config)\n",
    "\n",
    "instances = dict()\n",
    "instances = [i for i in os.listdir(path+'pIRPgym/Instances/CVRP Instances/CVRP/Uchoa') if i[-3:]=='vrp']\n",
    "instances.sort()\n",
    "instances = instances[1:] + [instances[0]]\n",
    "\n",
    "### Environment \n",
    "# Creating environment object\n",
    "routing = True\n",
    "inventory = False    \n",
    "perishability = False\n",
    "env = pIRPgym.steroid_IRP(routing,inventory,perishability)\n",
    "env.reset(inst_gen)"
   ]
  },
  {
   "cell_type": "code",
   "execution_count": 3,
   "metadata": {},
   "outputs": [
    {
     "name": "stdout",
     "output_type": "stream",
     "text": [
      "*************************************  Routing Strategies on Classic Instances  *************************************\n",
      "--------|\tBKS \t|\t   NN \t \t|\t   RCL \t \t|\t   HGA \t \t|\t  HGS*\n",
      "Inst\t| #Veh \t Obj \t| t(s)\t #Veh \t gap \t| t(s) \t #Veh \tgap \t| t(s) \t #Veh \t gap \t| t(s) \t #Veh \t gap \t|\n",
      "----------------------------------------------------------------------------------------------------------------------\n",
      "n876-k59| 59 \t99299 \t| 0.14\t  59\t 25.38\t| 0.59\t  59.0\t 139.67\t| 139.0\t  59\t 18.62\t| 30.20\t  59\t 3.29\t|\n",
      "n895-k37| 37 \t53860 \t| 0.19\t  38\t 19.1\t| 0.85\t  38.0\t 336.91\t| 687.0\t  38\t 18.92\t| 30.10\t  38\t 5.02\t|\n",
      "n916-k207| 207 \t329179 \t| 0.20\t  217\t 6.29\t| 0.85\t  216.4\t 43.35\t| 714.0\t  216\t 5.48\t| 30.10\t  208\t 1.67\t|\n",
      "n936-k151| 151 \t132715 \t| 0.19\t  167\t 45.68\t| 0.86\t  171.5\t 137.93\t| 229.0\t  167\t 40.01\t| 30.10\t  163\t 3.55\t|\n",
      "n957-k87| 87 \t85465 \t| 0.17\t  87\t 8.03\t| 0.93\t  87.0\t 191.46\t| 871.0\t  87\t 8.78\t| 30.10\t  87\t 2.21\t|\n",
      "n979-k58| 58 \t118976 \t| 0.19\t  59\t 21.26\t| 0.88\t  58.0\t 104.08\t| 536.0\t  59\t 16.4\t| 30.20\t  58\t 4.56\t|\n",
      "n1001-k43| 43 \t72355 \t| 0.20\t  43\t 19.54\t| 0.98\t  43.0\t 268.44\t| 105.0\t  43\t 17.93\t| 30.20\t  43\t 6.08\t|\n"
     ]
    }
   ],
   "source": [
    "################################## Policy Evaluation ##################################\n",
    "''' Parameters '''\n",
    "verbose = True\n",
    "show_gap = True\n",
    "\n",
    "if verbose: verb.routing_instances.print_head(show_gap)\n",
    "\n",
    "for instance in instances[93:]:\n",
    "    # Upload dCVRP instance\n",
    "    purchase,benchmark = inst_gen.upload_CVRP_instance('Uchoa',instance)\n",
    "\n",
    "    if verbose: string = verb.routing_instances.print_inst('Uchoa',instance,benchmark[0],benchmark[1])\n",
    "\n",
    "    nn_routes,nn_obj,nn_info,nn_time = pIRPgym.Routing.NearestNeighbor(purchase,inst_gen,env.t)                                         # Nearest Neighbor\n",
    "    if verbose: string = verb.routing_instances.print_routing_update(string,\n",
    "                                                                nn_obj,len(nn_routes),nn_time,show_gap,benchmark)\n",
    "\n",
    "\n",
    "    RCL_obj,RCL_veh,RCL_time = pIRPgym.Routing.evaluate_stochastic_policy(pIRPgym.Routing.RCL_Heuristic,\n",
    "                                                                          purchase,inst_gen,env,n=30,averages=True,dynamic_p=False)\n",
    "    if verbose: string = verb.routing_instances.print_routing_update(string,\n",
    "                                                                RCL_obj,RCL_veh,RCL_time,show_gap,benchmark)\n",
    "\n",
    "    GA_routes,GA_obj,GA_info,GA_time,_ = pIRPgym.Routing.HybridGenticAlgorithm(purchase,\n",
    "                                                                               inst_gen,env.t,return_top=False,rd_seed=0,time_limit=30)    # Genetic Algorithm\n",
    "    if verbose: string = verb.routing_instances.print_routing_update(string,\n",
    "                                                                GA_obj,len(GA_routes),GA_time,show_gap,benchmark)\n",
    "\n",
    "    HGS_routes,HGS_obj,HGS_time  = pIRPgym.Routing.HyGeSe.HyGeSe_routing(purchase,inst_gen,env.t,time_limit=30)                                  # Hybrid Genetic Search (CVRP)\n",
    "    if verbose: string = verb.routing_instances.print_routing_update(string,\n",
    "                                                                    HGS_obj,len(HGS_routes),HGS_time,show_gap,benchmark,end=True)                                    # Column Generation algorithm\n",
    "\n",
    "    performance = { 'nn':{'Gap':(nn_obj-benchmark[0])/benchmark[0],'Time':nn_time},\n",
    "                    'RCL':{'Gap':(RCL_obj-benchmark[0])/benchmark[0],'Time':RCL_time},\n",
    "                    'GA':{'Gap':(GA_obj-benchmark[0])/benchmark[0],'Time':GA_time},\n",
    "                    'HGS':{'Gap':(HGS_obj-benchmark[0])/benchmark[0],'Time':HGS_time}}\n",
    "\n",
    "    with open(path+f'Experimenting/Juan/Classic Instances/CVRP Results/{instance[:-4]}.pkl', 'wb') as file:\n",
    "        # Use pickle.dump to serialize and save the dictionary to the file\n",
    "        pickle.dump(performance, file)\n",
    "    \n"
   ]
  },
  {
   "cell_type": "code",
   "execution_count": null,
   "metadata": {},
   "outputs": [],
   "source": [
    "ranges = [i for i in range(1,11)]\n",
    "performance = {'nn':{i:{'Gap':list(),'Time':list()} for i in ranges},\n",
    "               'RCL':{i:{'Gap':list(),'Time':list()} for i in ranges},\n",
    "               'GA':{i:{'Gap':list(),'Time':list()} for i in ranges},\n",
    "               'HGS':{i:{'Gap':list(),'Time':list()} for i in ranges}}\n",
    "\n",
    "strategies = list(performance.keys())\n",
    "\n",
    "for instance in instances:\n",
    "    with open(path+f'Experimenting/Juan/Classic Instances/CVRP Results/{instance[:-4]}.pkl', 'rb') as file:\n",
    "        # Use pickle.dump to serialize and save the dictionary to the file\n",
    "        results = pickle.load(file) \n",
    "\n",
    "        for strategy in strategies:\n",
    "            performance[strategy][len(purchase)//100]['Gap'].append(performance[strategy]['Gap'])\n",
    "            performance[strategy][len(purchase)//100]['Time'].append(performance[strategy]['Time'])"
   ]
  }
 ],
 "metadata": {
  "kernelspec": {
   "display_name": "Python 3",
   "language": "python",
   "name": "python3"
  },
  "language_info": {
   "codemirror_mode": {
    "name": "ipython",
    "version": 3
   },
   "file_extension": ".py",
   "mimetype": "text/x-python",
   "name": "python",
   "nbconvert_exporter": "python",
   "pygments_lexer": "ipython3",
   "version": "3.9.16"
  }
 },
 "nbformat": 4,
 "nbformat_minor": 2
}
