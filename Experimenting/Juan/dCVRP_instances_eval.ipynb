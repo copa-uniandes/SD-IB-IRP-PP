{
 "cells": [
  {
   "cell_type": "code",
   "execution_count": 1,
   "metadata": {},
   "outputs": [
    {
     "name": "stdout",
     "output_type": "stream",
     "text": [
      "Set parameter Username\n",
      "Academic license - for non-commercial use only - expires 2024-08-01\n"
     ]
    }
   ],
   "source": [
    "######################################     Modules     #######################################\n",
    "import sys\n",
    "from time import process_time\n",
    "import os\n",
    "\n",
    "import verbose_module\n",
    "sys.path.append('../../.')\n",
    "import pIRPgym\n",
    "\n",
    "########################     Instance generator and Environment     #########################\n",
    "# Instance Generator\n",
    "### pIRP model's parameters\n",
    "# Stochasticity\n",
    "stochastic_params = ['d','q']\n",
    "look_ahead = ['d','q']\n",
    "\n",
    "\n",
    "# Historical data\n",
    "historical_data = ['*']\n",
    "\n",
    "\n",
    "# Other parameters\n",
    "backorders = 'backorders'\n",
    "\n",
    "env_config = {  'M':13,'K':15,'T':12,'F':13,'Q':2000,\n",
    "                'S':6,'LA_horizon':4,\n",
    "                'd_max':2000,'hist_window':60,\n",
    "                'back_o_cost':10000\n",
    "            }"
   ]
  },
  {
   "cell_type": "markdown",
   "metadata": {},
   "source": [
    "# dCVRP Instances"
   ]
  },
  {
   "cell_type": "code",
   "execution_count": 2,
   "metadata": {},
   "outputs": [],
   "source": [
    "########################     Instance generator and Environment     #########################\n",
    "# Creating instance generator object\n",
    "inst_gen = pIRPgym.instance_generator(look_ahead, stochastic_params,\n",
    "                              historical_data, backorders, env_config = env_config)\n",
    "\n",
    "instances = dict()\n",
    "instances['Li'] = [i for i in os.listdir('/Users/juanbeta/My Drive/Research/Supply Chain Analytics/pIRPenv/pIRPgym/Instances/CVRP Instances/dCVRP/Li') if i[-3:]=='vrp']\n",
    "instances['Golden'] = [i for i in os.listdir('/Users/juanbeta/My Drive/Research/Supply Chain Analytics/pIRPenv/pIRPgym/Instances/CVRP Instances/dCVRP/Golden') if i[-3:]=='vrp']\n",
    "instances['Li'].sort();instances['Golden'].sort()\n",
    "\n",
    "### Environment \n",
    "# Creating environment object\n",
    "routing = True\n",
    "inventory = False    \n",
    "perishability = False\n",
    "env = pIRPgym.steroid_IRP(routing,inventory,perishability)\n",
    "env.reset(inst_gen)"
   ]
  },
  {
   "cell_type": "code",
   "execution_count": 3,
   "metadata": {},
   "outputs": [
    {
     "name": "stdout",
     "output_type": "stream",
     "text": [
      "*************************************  Routing Strategies on Classic Instances  *************************************\n",
      "--------|\tBKS \t|\t   NN \t \t|\t   RCL \t \t|\t   HGA \t \t|\t  HGS*\n",
      "Inst\t| #Veh \t Obj \t| t(s)\t #Veh \t gap \t| t(s) \t #Veh \tgap \t| t(s) \t #Veh \t gap \t| t(s) \t #Veh \t gap \t|\n",
      "----------------------------------------------------------------------------------------------------------------------\n"
     ]
    }
   ],
   "source": [
    "################################## Policy Evaluation ##################################\n",
    "''' Parameters '''\n",
    "verbose = True\n",
    "show_gap = True\n",
    "\n",
    "if verbose: verbose_module.routing_instances.print_head(show_gap)\n",
    "\n",
    "for ss,inst_list in instances.items():\n",
    "    for instance in inst_list:\n",
    "        # Upload dCVRP instance\n",
    "        purchase,benchmark = inst_gen.upload_CVRP_instance(ss, instance)\n",
    "\n",
    "        if verbose: string = verbose_module.routing_instances.print_inst(ss,instance,benchmark[0],benchmark[1])\n",
    "\n",
    "        nn_routes,nn_obj,nn_info,nn_time = pIRPgym.Routing.NearestNeighbor(purchase,inst_gen,env.t)                                         # Nearest Neighbor\n",
    "        if verbose: string = verbose_module.routing_instances.print_routing_update(string,\n",
    "                                                                    nn_obj,len(nn_routes),nn_time,show_gap,benchmark)\n",
    "            \n",
    "        RCL_obj,RCL_veh,RCL_time = pIRPgym.Routing.evaluate_stochastic_policy(pIRPgym.Routing.RCL_Heuristic,\n",
    "                                                                                           purchase,inst_gen,env,n=30,averages=True,dynamic_p=False)\n",
    "        if verbose: string = verbose_module.routing_instances.print_routing_update(string,\n",
    "                                                                    RCL_obj,RCL_veh,RCL_time,show_gap,benchmark,end=True)\n",
    "        # GA_routes,GA_obj,GA_info,GA_time,_ = pIRPgym.Routing.HybridGenticAlgorithm(purchase,inst_gen,env.t,return_top=False,rd_seed=0,time_limit=30)    # Genetic Algorithm\n",
    "        # if verbose: string = verbose_module.routing_instances.print_routing_update(string,\n",
    "        #                                                             GA_obj,len(GA_routes),GA_time,show_gap,benchmark)\n",
    "        # HyGeSe_routes, HyGeSe_distance, HyGeSe_time  = pIRPgym.Routing.HyGeSe.HyGeSe_routing(purchase,inst_gen,env.t,time_limit=30)                                  # Hybrid Genetic Search (CVRP)\n",
    "        # if verbose: string = verbose_module.routing_instances.print_routing_update(string,HyGeSe_distance,len(HyGeSe_routes),HyGeSe_time,show_gap,benchmark,True)                                    # Column Generation algorithm\n",
    "    print('\\n')"
   ]
  },
  {
   "cell_type": "markdown",
   "metadata": {},
   "source": [
    "# CVRP Instances"
   ]
  },
  {
   "cell_type": "code",
   "execution_count": 4,
   "metadata": {},
   "outputs": [],
   "source": [
    "########################     Instance generator and Environment     #########################\n",
    "# Creating instance generator object\n",
    "inst_gen = pIRPgym.instance_generator(look_ahead, stochastic_params,\n",
    "                              historical_data, backorders, env_config = env_config)\n",
    "\n",
    "instances = dict()\n",
    "# instances = [i for i in os.listdir('/Users/juanbeta/My Drive/Research/Supply Chain Analytics/pIRPenv/pIRPgym/Instances/CVRP Instances/CVRP/Uchoa') if i[-3:]=='vrp']\n",
    "instances = [i for i in os.listdir('C:/Users/jm.betancourt/Documents/Research/pIRPgym/pIRPgym/Instances/CVRP Instances/CVRP/Uchoa') if i[-3:]=='vrp']\n",
    "instances.sort()\n",
    "instances = instances[1:] + [instances[0]]\n",
    "\n",
    "### Environment \n",
    "# Creating environment object\n",
    "routing = True\n",
    "inventory = False    \n",
    "perishability = False\n",
    "env = pIRPgym.steroid_IRP(routing,inventory,perishability)\n",
    "env.reset(inst_gen)"
   ]
  },
  {
   "cell_type": "code",
   "execution_count": 5,
   "metadata": {},
   "outputs": [
    {
     "name": "stdout",
     "output_type": "stream",
     "text": [
      "*************************************  Routing Strategies on Classic Instances  *************************************\n",
      "--------|\tBKS \t|\t   NN \t \t|\t   RCL \t \t|\t   HGA \t \t|\t  HGS*\n",
      "Inst\t| #Veh \t Obj \t| t(s)\t #Veh \t gap \t| t(s) \t #Veh \tgap \t| t(s) \t #Veh \t gap \t| t(s) \t #Veh \t gap \t|\n",
      "----------------------------------------------------------------------------------------------------------------------\n",
      "n101-k25| 25 \t27591 \t| 0.02\t  26\t 52.02\t| 0.00\t  26.73\t 62.52\t| 9.83\t  26\t 32.22\t|\n",
      "n106-k14| 14 \t26362 \t| 0.00\t  14\t 9.61\t| 0.00\t  14.0\t 40.48\t| 9.16\t  14\t 7.12\t|\n",
      "n110-k13| 13 \t14971 \t| 0.00\t  13\t 28.86\t| 0.00\t  13.0\t 116.25\t| 9.11\t  13\t 16.0\t|\n",
      "n115-k10| 10 \t12747 \t| 0.00\t  10\t 51.64\t| 0.00\t  10.0\t 170.78\t| 9.53\t  10\t 31.97\t|\n",
      "n120-k6| 6 \t13332 \t| 0.00\t  6\t 19.18\t| 0.00\t  6.0\t 150.59\t| 9.72\t  6\t 12.7\t|\n",
      "n125-k30| 30 \t55539 \t| 0.00\t  32\t 23.07\t| 0.00\t  31.63\t 33.94\t| 10.00\t  31\t 15.02\t|\n",
      "n129-k18| 18 \t28940 \t| 0.00\t  18\t 24.24\t| 0.00\t  18.0\t 73.48\t| 11.70\t  18\t 17.08\t|\n",
      "n134-k13| 13 \t10916 \t| 0.00\t  13\t 51.39\t| 0.01\t  13.0\t 157.26\t| 10.80\t  13\t 34.86\t|\n",
      "n139-k10| 10 \t13590 \t| 0.00\t  10\t 23.95\t| 0.00\t  10.0\t 169.67\t| 9.31\t  10\t 15.03\t|\n",
      "n143-k7| 7 \t15700 \t| 0.00\t  7\t 43.52\t| 0.00\t  7.0\t 176.71\t| 12.60\t  7\t 36.85\t|\n",
      "n148-k46| 46 \t43448 \t| 0.00\t  47\t 30.42\t| 0.00\t  47.7\t 57.39\t| 9.28\t  46\t 23.22\t|\n",
      "n153-k22| 22 \t21220 \t| 0.00\t  25\t 42.13\t| 0.00\t  25.57\t 91.36\t|\r"
     ]
    },
    {
     "ename": "KeyboardInterrupt",
     "evalue": "",
     "output_type": "error",
     "traceback": [
      "\u001b[1;31m---------------------------------------------------------------------------\u001b[0m",
      "\u001b[1;31mKeyboardInterrupt\u001b[0m                         Traceback (most recent call last)",
      "\u001b[1;32mc:\\Users\\jm.betancourt\\Documents\\Research\\pIRPgym\\Experimenting\\Juan\\dCVRP_instances_eval.ipynb Cell 7\u001b[0m line \u001b[0;36m2\n\u001b[0;32m     <a href='vscode-notebook-cell:/c%3A/Users/jm.betancourt/Documents/Research/pIRPgym/Experimenting/Juan/dCVRP_instances_eval.ipynb#W6sZmlsZQ%3D%3D?line=17'>18</a>\u001b[0m RCL_obj,RCL_veh,RCL_time \u001b[39m=\u001b[39m pIRPgym\u001b[39m.\u001b[39mRouting\u001b[39m.\u001b[39mevaluate_stochastic_policy(pIRPgym\u001b[39m.\u001b[39mRouting\u001b[39m.\u001b[39mRCL_Heuristic,\n\u001b[0;32m     <a href='vscode-notebook-cell:/c%3A/Users/jm.betancourt/Documents/Research/pIRPgym/Experimenting/Juan/dCVRP_instances_eval.ipynb#W6sZmlsZQ%3D%3D?line=18'>19</a>\u001b[0m                                                                                     purchase,inst_gen,env,n\u001b[39m=\u001b[39m\u001b[39m30\u001b[39m,averages\u001b[39m=\u001b[39m\u001b[39mTrue\u001b[39;00m,dynamic_p\u001b[39m=\u001b[39m\u001b[39mFalse\u001b[39;00m)\n\u001b[0;32m     <a href='vscode-notebook-cell:/c%3A/Users/jm.betancourt/Documents/Research/pIRPgym/Experimenting/Juan/dCVRP_instances_eval.ipynb#W6sZmlsZQ%3D%3D?line=19'>20</a>\u001b[0m \u001b[39mif\u001b[39;00m verbose: string \u001b[39m=\u001b[39m verbose_module\u001b[39m.\u001b[39mrouting_instances\u001b[39m.\u001b[39mprint_routing_update(string,\n\u001b[0;32m     <a href='vscode-notebook-cell:/c%3A/Users/jm.betancourt/Documents/Research/pIRPgym/Experimenting/Juan/dCVRP_instances_eval.ipynb#W6sZmlsZQ%3D%3D?line=20'>21</a>\u001b[0m                                                             RCL_obj,RCL_veh,RCL_time,show_gap,benchmark)\n\u001b[1;32m---> <a href='vscode-notebook-cell:/c%3A/Users/jm.betancourt/Documents/Research/pIRPgym/Experimenting/Juan/dCVRP_instances_eval.ipynb#W6sZmlsZQ%3D%3D?line=21'>22</a>\u001b[0m GA_routes,GA_obj,GA_info,GA_time,_ \u001b[39m=\u001b[39m pIRPgym\u001b[39m.\u001b[39;49mRouting\u001b[39m.\u001b[39;49mHybridGenticAlgorithm(purchase,inst_gen,env\u001b[39m.\u001b[39;49mt,return_top\u001b[39m=\u001b[39;49m\u001b[39mFalse\u001b[39;49;00m,rd_seed\u001b[39m=\u001b[39;49m\u001b[39m0\u001b[39;49m,time_limit\u001b[39m=\u001b[39;49m\u001b[39m30\u001b[39;49m)    \u001b[39m# Genetic Algorithm\u001b[39;00m\n\u001b[0;32m     <a href='vscode-notebook-cell:/c%3A/Users/jm.betancourt/Documents/Research/pIRPgym/Experimenting/Juan/dCVRP_instances_eval.ipynb#W6sZmlsZQ%3D%3D?line=22'>23</a>\u001b[0m \u001b[39mif\u001b[39;00m verbose: string \u001b[39m=\u001b[39m verbose_module\u001b[39m.\u001b[39mrouting_instances\u001b[39m.\u001b[39mprint_routing_update(string,\n\u001b[0;32m     <a href='vscode-notebook-cell:/c%3A/Users/jm.betancourt/Documents/Research/pIRPgym/Experimenting/Juan/dCVRP_instances_eval.ipynb#W6sZmlsZQ%3D%3D?line=23'>24</a>\u001b[0m                                                             GA_obj,\u001b[39mlen\u001b[39m(GA_routes),GA_time,show_gap,benchmark,end\u001b[39m=\u001b[39m\u001b[39mTrue\u001b[39;00m)\n\u001b[0;32m     <a href='vscode-notebook-cell:/c%3A/Users/jm.betancourt/Documents/Research/pIRPgym/Experimenting/Juan/dCVRP_instances_eval.ipynb#W6sZmlsZQ%3D%3D?line=24'>25</a>\u001b[0m \u001b[39m# HyGeSe_routes, HyGeSe_distance, HyGeSe_time  = pIRPgym.Routing.HyGeSe.HyGeSe_routing(purchase,inst_gen,env.t,time_limit=30)                                  # Hybrid Genetic Search (CVRP)\u001b[39;00m\n\u001b[0;32m     <a href='vscode-notebook-cell:/c%3A/Users/jm.betancourt/Documents/Research/pIRPgym/Experimenting/Juan/dCVRP_instances_eval.ipynb#W6sZmlsZQ%3D%3D?line=25'>26</a>\u001b[0m \u001b[39m# if verbose: string = verbose_module.routing_instances.print_routing_update(string,HyGeSe_distance,len(HyGeSe_routes),HyGeSe_time,show_gap,benchmark,True)                                    # Column Generation algorithm\u001b[39;00m\n",
      "File \u001b[1;32mc:\\Users\\jm.betancourt\\Documents\\Research\\pIRPgym\\Experimenting\\Juan\\../../.\\pIRPgym\\Blocks\\Policies\\Routing.py:161\u001b[0m, in \u001b[0;36mRouting.HybridGenticAlgorithm\u001b[1;34m(purchase, inst_gen, t, return_top, rd_seed, time_limit)\u001b[0m\n\u001b[0;32m    157\u001b[0m mutation_rate:\u001b[39mfloat\u001b[39m \u001b[39m=\u001b[39m \u001b[39m0.5\u001b[39m\n\u001b[0;32m    159\u001b[0m \u001b[39mif\u001b[39;00m verbose: \u001b[39mprint\u001b[39m(\u001b[39m'\u001b[39m\u001b[39mGenerating population\u001b[39m\u001b[39m'\u001b[39m)\n\u001b[0;32m    160\u001b[0m Population,FOs,Distances,Loads,incumbent,best_individual,alpha_performance \u001b[39m=\u001b[39m \\\n\u001b[1;32m--> 161\u001b[0m                 Routing\u001b[39m.\u001b[39;49mGA\u001b[39m.\u001b[39;49mgenerate_population(inst_gen,start,requirements,verbose, \n\u001b[0;32m    162\u001b[0m                                                                 Population_iter,training_time)\n\u001b[0;32m    164\u001b[0m \u001b[39m# Print progress\u001b[39;00m\n\u001b[0;32m    165\u001b[0m \u001b[39mif\u001b[39;00m verbose: \n",
      "File \u001b[1;32mc:\\Users\\jm.betancourt\\Documents\\Research\\pIRPgym\\Experimenting\\Juan\\../../.\\pIRPgym\\Blocks\\Policies\\Routing.py:262\u001b[0m, in \u001b[0;36mRouting.GA.generate_population\u001b[1;34m(inst_gen, start, requirements, verbose, Population_iter, training_time)\u001b[0m\n\u001b[0;32m    260\u001b[0m training_ind:\u001b[39mint\u001b[39m \u001b[39m=\u001b[39m \u001b[39m0\u001b[39m\n\u001b[0;32m    261\u001b[0m \u001b[39mwhile\u001b[39;00m process_time() \u001b[39m-\u001b[39mstart\u001b[39m<\u001b[39m\u001b[39m=\u001b[39mtraining_time:\n\u001b[1;32m--> 262\u001b[0m     alpha_performance \u001b[39m=\u001b[39m Routing\u001b[39m.\u001b[39;49mGA\u001b[39m.\u001b[39;49mcalibrate_alpha(RCL_alpha_list,alpha_performance,requirements,inst_gen)\n\u001b[0;32m    263\u001b[0m     training_ind \u001b[39m+\u001b[39m\u001b[39m=\u001b[39m \u001b[39m1\u001b[39m\n\u001b[0;32m    265\u001b[0m \u001b[39m# Generating initial population\u001b[39;00m\n",
      "File \u001b[1;32mc:\\Users\\jm.betancourt\\Documents\\Research\\pIRPgym\\Experimenting\\Juan\\../../.\\pIRPgym\\Blocks\\Policies\\Routing.py:295\u001b[0m, in \u001b[0;36mRouting.GA.calibrate_alpha\u001b[1;34m(RCL_alpha_list, alpha_performance, requirements, inst_gen)\u001b[0m\n\u001b[0;32m    293\u001b[0m tr_distance:\u001b[39mfloat\u001b[39m \u001b[39m=\u001b[39m \u001b[39m0\u001b[39m\n\u001b[0;32m    294\u001b[0m RCL_alpha:\u001b[39mfloat\u001b[39m \u001b[39m=\u001b[39m choice(RCL_alpha_list)\n\u001b[1;32m--> 295\u001b[0m routes, FO, (distances, loads), _ \u001b[39m=\u001b[39m Routing\u001b[39m.\u001b[39;49mRCL_Heuristic(requirements2,inst_gen,\u001b[39m0\u001b[39;49m,RCL_alpha)\n\u001b[0;32m    296\u001b[0m tr_distance \u001b[39m+\u001b[39m\u001b[39m=\u001b[39m FO\n\u001b[0;32m    297\u001b[0m alpha_performance[RCL_alpha] \u001b[39m+\u001b[39m\u001b[39m=\u001b[39m \u001b[39m1\u001b[39m\u001b[39m/\u001b[39mtr_distance\n",
      "File \u001b[1;32mc:\\Users\\jm.betancourt\\Documents\\Research\\pIRPgym\\Experimenting\\Juan\\../../.\\pIRPgym\\Blocks\\Policies\\Routing.py:83\u001b[0m, in \u001b[0;36mRouting.RCL_Heuristic\u001b[1;34m(purchase, inst_gen, t, RCL_alpha, s)\u001b[0m\n\u001b[0;32m     80\u001b[0m loads \u001b[39m=\u001b[39m \u001b[39mlist\u001b[39m()\n\u001b[0;32m     82\u001b[0m \u001b[39mwhile\u001b[39;00m \u001b[39mlen\u001b[39m(pending_sup) \u001b[39m>\u001b[39m \u001b[39m0\u001b[39m:\n\u001b[1;32m---> 83\u001b[0m     route,distance,load,pending_sup \u001b[39m=\u001b[39m Routing\u001b[39m.\u001b[39;49mRCL_constructive\u001b[39m.\u001b[39;49mgenerate_RCL_route(RCL_alpha,pending_sup,requirements,inst_gen)\n\u001b[0;32m     85\u001b[0m     routes\u001b[39m.\u001b[39mappend(route)\n\u001b[0;32m     86\u001b[0m     FO \u001b[39m+\u001b[39m\u001b[39m=\u001b[39m distance\n",
      "File \u001b[1;32mc:\\Users\\jm.betancourt\\Documents\\Research\\pIRPgym\\Experimenting\\Juan\\../../.\\pIRPgym\\Blocks\\Policies\\Routing.py:126\u001b[0m, in \u001b[0;36mRouting.RCL_constructive.generate_RCL_route\u001b[1;34m(RCL_alpha, pending_sup, requirements, inst_gen)\u001b[0m\n\u001b[0;32m    123\u001b[0m distance:\u001b[39mfloat\u001b[39m \u001b[39m=\u001b[39m \u001b[39m0\u001b[39m\n\u001b[0;32m    125\u001b[0m \u001b[39mwhile\u001b[39;00m load \u001b[39m<\u001b[39m inst_gen\u001b[39m.\u001b[39mQ:\n\u001b[1;32m--> 126\u001b[0m     target \u001b[39m=\u001b[39m Routing\u001b[39m.\u001b[39;49mRCL_constructive\u001b[39m.\u001b[39;49mgenerate_RCL_candidate(RCL_alpha,node,load,distance,pending_sup,requirements,inst_gen)\n\u001b[0;32m    127\u001b[0m     \u001b[39mif\u001b[39;00m target \u001b[39m==\u001b[39m \u001b[39mFalse\u001b[39;00m:\n\u001b[0;32m    128\u001b[0m         \u001b[39mbreak\u001b[39;00m\n",
      "File \u001b[1;32mc:\\Users\\jm.betancourt\\Documents\\Research\\pIRPgym\\Experimenting\\Juan\\../../.\\pIRPgym\\Blocks\\Policies\\Routing.py:104\u001b[0m, in \u001b[0;36mRouting.RCL_constructive.generate_RCL_candidate\u001b[1;34m(RCL_alpha, node, load, distance, pending_sup, requirements, inst_gen)\u001b[0m\n\u001b[0;32m    101\u001b[0m d \u001b[39m=\u001b[39m inst_gen\u001b[39m.\u001b[39mc[node,candidate] \n\u001b[0;32m    103\u001b[0m \u001b[39mif\u001b[39;00m distance \u001b[39m+\u001b[39m d \u001b[39m+\u001b[39m inst_gen\u001b[39m.\u001b[39mc[candidate,\u001b[39m0\u001b[39m] \u001b[39m<\u001b[39m\u001b[39m=\u001b[39m inst_gen\u001b[39m.\u001b[39md_max \u001b[39mand\u001b[39;00m load \u001b[39m+\u001b[39m requirements[candidate] \u001b[39m<\u001b[39m\u001b[39m=\u001b[39m inst_gen\u001b[39m.\u001b[39mQ:\n\u001b[1;32m--> 104\u001b[0m     feasible_candidates\u001b[39m.\u001b[39;49mappend(candidate)\n\u001b[0;32m    105\u001b[0m     max_crit \u001b[39m=\u001b[39m \u001b[39mmax\u001b[39m(d, max_crit)\n\u001b[0;32m    106\u001b[0m     min_crit \u001b[39m=\u001b[39m \u001b[39mmin\u001b[39m(d, min_crit)\n",
      "\u001b[1;31mKeyboardInterrupt\u001b[0m: "
     ]
    }
   ],
   "source": [
    "################################## Policy Evaluation ##################################\n",
    "''' Parameters '''\n",
    "verbose = True\n",
    "show_gap = True\n",
    "\n",
    "if verbose: verbose_module.routing_instances.print_head(show_gap)\n",
    "\n",
    "for instance in instances:\n",
    "    # Upload dCVRP instance\n",
    "    purchase,benchmark = inst_gen.upload_CVRP_instance('Uchoa',instance)\n",
    "\n",
    "    if verbose: string = verbose_module.routing_instances.print_inst('Uchoa',instance,benchmark[0],benchmark[1])\n",
    "\n",
    "    nn_routes,nn_obj,nn_info,nn_time = pIRPgym.Routing.NearestNeighbor(purchase,inst_gen,env.t)                                         # Nearest Neighbor\n",
    "    if verbose: string = verbose_module.routing_instances.print_routing_update(string,\n",
    "                                                                nn_obj,len(nn_routes),nn_time,show_gap,benchmark)\n",
    "        \n",
    "    RCL_obj,RCL_veh,RCL_time = pIRPgym.Routing.evaluate_stochastic_policy(pIRPgym.Routing.RCL_Heuristic,\n",
    "                                                                                        purchase,inst_gen,env,n=30,averages=True,dynamic_p=False)\n",
    "    if verbose: string = verbose_module.routing_instances.print_routing_update(string,\n",
    "                                                                RCL_obj,RCL_veh,RCL_time,show_gap,benchmark)\n",
    "    GA_routes,GA_obj,GA_info,GA_time,_ = pIRPgym.Routing.HybridGenticAlgorithm(purchase,inst_gen,env.t,return_top=False,rd_seed=0,time_limit=30)    # Genetic Algorithm\n",
    "    if verbose: string = verbose_module.routing_instances.print_routing_update(string,\n",
    "                                                                GA_obj,len(GA_routes),GA_time,show_gap,benchmark,end=True)\n",
    "    # HyGeSe_routes, HyGeSe_distance, HyGeSe_time  = pIRPgym.Routing.HyGeSe.HyGeSe_routing(purchase,inst_gen,env.t,time_limit=30)                                  # Hybrid Genetic Search (CVRP)\n",
    "    # if verbose: string = verbose_module.routing_instances.print_routing_update(string,HyGeSe_distance,len(HyGeSe_routes),HyGeSe_time,show_gap,benchmark,True)                                    # Column Generation algorithm"
   ]
  },
  {
   "cell_type": "code",
   "execution_count": 5,
   "metadata": {},
   "outputs": [
    {
     "data": {
      "text/plain": [
       "False"
      ]
     },
     "execution_count": 5,
     "metadata": {},
     "output_type": "execute_result"
    }
   ],
   "source": [
    "'X-n1001-k43' in instances"
   ]
  },
  {
   "cell_type": "code",
   "execution_count": 7,
   "metadata": {},
   "outputs": [
    {
     "data": {
      "text/plain": [
       "True"
      ]
     },
     "execution_count": 7,
     "metadata": {},
     "output_type": "execute_result"
    }
   ],
   "source": [
    "'X-n1001-k43.vrp' in instances"
   ]
  },
  {
   "cell_type": "code",
   "execution_count": null,
   "metadata": {},
   "outputs": [],
   "source": []
  }
 ],
 "metadata": {
  "kernelspec": {
   "display_name": "Python 3",
   "language": "python",
   "name": "python3"
  },
  "language_info": {
   "codemirror_mode": {
    "name": "ipython",
    "version": 3
   },
   "file_extension": ".py",
   "mimetype": "text/x-python",
   "name": "python",
   "nbconvert_exporter": "python",
   "pygments_lexer": "ipython3",
   "version": "3.9.16"
  }
 },
 "nbformat": 4,
 "nbformat_minor": 2
}
