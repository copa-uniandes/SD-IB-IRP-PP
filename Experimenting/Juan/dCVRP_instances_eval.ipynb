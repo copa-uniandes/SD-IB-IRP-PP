{
 "cells": [
  {
   "cell_type": "code",
   "execution_count": 1,
   "metadata": {},
   "outputs": [
    {
     "name": "stdout",
     "output_type": "stream",
     "text": [
      "Set parameter Username\n",
      "Academic license - for non-commercial use only - expires 2024-02-11\n"
     ]
    }
   ],
   "source": [
    "######################################     Modules     #######################################\n",
    "import sys\n",
    "from time import process_time\n",
    "import os\n",
    "\n",
    "import verbose_module as verb\n",
    "sys.path.append('../../.')\n",
    "import pIRPgym\n",
    "\n",
    "########################     Instance generator and Environment     #########################\n",
    "# Instance Generator\n",
    "### pIRP model's parameters\n",
    "# Stochasticity\n",
    "stochastic_params = ['d','q']\n",
    "look_ahead = ['d','q']\n",
    "\n",
    "\n",
    "# Historical data\n",
    "historical_data = ['*']\n",
    "\n",
    "\n",
    "# Other parameters\n",
    "backorders = 'backorders'\n",
    "\n",
    "env_config = {  'M':13,'K':15,'T':12,'F':13,'Q':2000,\n",
    "                'S':6,'LA_horizon':4,\n",
    "                'd_max':2000,'hist_window':60,\n",
    "                'back_o_cost':10000\n",
    "            }"
   ]
  },
  {
   "cell_type": "markdown",
   "metadata": {},
   "source": [
    "# dCVRP Instances"
   ]
  },
  {
   "cell_type": "code",
   "execution_count": 2,
   "metadata": {},
   "outputs": [],
   "source": [
    "########################     Instance generator and Environment     #########################\n",
    "# Creating instance generator object\n",
    "inst_gen = pIRPgym.instance_generator(look_ahead, stochastic_params,\n",
    "                              historical_data, backorders, env_config = env_config)\n",
    "\n",
    "instances = dict()\n",
    "instances['Li'] = [i for i in os.listdir('/Users/juanbeta/My Drive/Research/Supply Chain Analytics/pIRPenv/pIRPgym/Instances/CVRP Instances/dCVRP/Li') if i[-3:]=='vrp']\n",
    "instances['Golden'] = [i for i in os.listdir('/Users/juanbeta/My Drive/Research/Supply Chain Analytics/pIRPenv/pIRPgym/Instances/CVRP Instances/dCVRP/Golden') if i[-3:]=='vrp']\n",
    "instances['Li'].sort();instances['Golden'].sort()\n",
    "\n",
    "### Environment \n",
    "# Creating environment object\n",
    "routing = True\n",
    "inventory = False    \n",
    "perishability = False\n",
    "env = pIRPgym.steroid_IRP(routing,inventory,perishability)\n",
    "env.reset(inst_gen)"
   ]
  },
  {
   "cell_type": "code",
   "execution_count": 3,
   "metadata": {},
   "outputs": [
    {
     "name": "stdout",
     "output_type": "stream",
     "text": [
      "*************************************  Routing Strategies on Classic Instances  *************************************\n",
      "--------|\tBKS \t|\t   NN \t \t|\t   RCL \t \t|\t   HGA \t \t|\t  HGS*\n",
      "Inst\t| #Veh \t Obj \t| t(s)\t #Veh \t gap \t| t(s) \t #Veh \tgap \t| t(s) \t #Veh \t gap \t| t(s) \t #Veh \t gap \t|\n",
      "----------------------------------------------------------------------------------------------------------------------\n"
     ]
    }
   ],
   "source": [
    "################################## Policy Evaluation ##################################\n",
    "''' Parameters '''\n",
    "verbose = True\n",
    "show_gap = True\n",
    "\n",
    "if verbose: verb.routing_instances.print_head(show_gap)\n",
    "\n",
    "for ss,inst_list in instances.items():\n",
    "    for instance in inst_list:\n",
    "        # Upload dCVRP instance\n",
    "        purchase,benchmark = inst_gen.upload_CVRP_instance(ss, instance)\n",
    "\n",
    "        if verbose: string = verb.routing_instances.print_inst(ss,instance,benchmark[0],benchmark[1])\n",
    "\n",
    "        nn_routes,nn_obj,nn_info,nn_time = pIRPgym.Routing.NearestNeighbor(purchase,inst_gen,env.t)                                         # Nearest Neighbor\n",
    "        if verbose: string = verb.routing_instances.print_routing_update(string,\n",
    "                                                                    nn_obj,len(nn_routes),nn_time,show_gap,benchmark)\n",
    "            \n",
    "        RCL_obj,RCL_veh,RCL_time = pIRPgym.Routing.evaluate_stochastic_policy(pIRPgym.Routing.RCL_Heuristic,\n",
    "                                                                                           purchase,inst_gen,env,n=30,averages=True,dynamic_p=False)\n",
    "        if verbose: string = verb.routing_instances.print_routing_update(string,\n",
    "                                                                    RCL_obj,RCL_veh,RCL_time,show_gap,benchmark,end=True)\n",
    "        # GA_routes,GA_obj,GA_info,GA_time,_ = pIRPgym.Routing.HybridGenticAlgorithm(purchase,inst_gen,env.t,return_top=False,rd_seed=0,time_limit=30)    # Genetic Algorithm\n",
    "        # if verbose: string = verb.routing_instances.print_routing_update(string,\n",
    "        #                                                             GA_obj,len(GA_routes),GA_time,show_gap,benchmark)\n",
    "        # HyGeSe_routes, HyGeSe_distance, HyGeSe_time  = pIRPgym.Routing.HyGeSe.HyGeSe_routing(purchase,inst_gen,env.t,time_limit=30)                                  # Hybrid Genetic Search (CVRP)\n",
    "        # if verbose: string = verb.routing_instances.print_routing_update(string,HyGeSe_distance,len(HyGeSe_routes),HyGeSe_time,show_gap,benchmark,True)                                    # Column Generation algorithm\n",
    "    print('\\n')"
   ]
  },
  {
   "cell_type": "markdown",
   "metadata": {},
   "source": [
    "# CVRP Instances"
   ]
  },
  {
   "cell_type": "code",
   "execution_count": 3,
   "metadata": {},
   "outputs": [],
   "source": [
    "########################     Instance generator and Environment     #########################\n",
    "# Creating instance generator object\n",
    "inst_gen = pIRPgym.instance_generator(look_ahead, stochastic_params,\n",
    "                              historical_data, backorders, env_config = env_config)\n",
    "\n",
    "instances = dict()\n",
    "instances = [i for i in os.listdir('/Users/juanbeta/My Drive/Research/Supply Chain Analytics/pIRPenv/pIRPgym/Instances/CVRP Instances/CVRP/Uchoa') if i[-3:]=='vrp']\n",
    "# instances = [i for i in os.listdir('C:/Users/jm.betancourt/Documents/Research/pIRPgym/pIRPgym/Instances/CVRP Instances/CVRP/Uchoa') if i[-3:]=='vrp']\n",
    "instances.sort()\n",
    "instances = instances[1:] + [instances[0]]\n",
    "\n",
    "### Environment \n",
    "# Creating environment object\n",
    "routing = True\n",
    "inventory = False    \n",
    "perishability = False\n",
    "env = pIRPgym.steroid_IRP(routing,inventory,perishability)\n",
    "env.reset(inst_gen)"
   ]
  },
  {
   "cell_type": "code",
   "execution_count": 4,
   "metadata": {},
   "outputs": [
    {
     "name": "stdout",
     "output_type": "stream",
     "text": [
      "*************************************  Routing Strategies on Classic Instances  *************************************\n"
     ]
    },
    {
     "name": "stdout",
     "output_type": "stream",
     "text": [
      "--------|\tBKS \t|\t   NN \t \t|\t   RCL \t \t|\t   HGA \t \t|\t  HGS*\n",
      "Inst\t| #Veh \t Obj \t| t(s)\t #Veh \t gap \t| t(s) \t #Veh \tgap \t| t(s) \t #Veh \t gap \t| t(s) \t #Veh \t gap \t|\n",
      "----------------------------------------------------------------------------------------------------------------------\n",
      "n101-k25| 25 \t27591 \t| 0.00\t  26\t 52.02\t| 0.01\t  26.7\t 62.52\t| 12.10\t  26\t 30.9\t| 100.0\t  26\t 0.0\t|\n",
      "n106-k14| 14 \t26362 \t| 0.00\t  14\t 9.61\t| 0.01\t  14.0\t 40.48\t| 16.80\t  14\t 6.38\t| 100.0\t  14\t 0.12\t|\n",
      "n110-k13| 13 \t14971 \t| 0.00\t  13\t 28.86\t| 0.01\t  13.0\t 116.25\t| 14.90\t  13\t 19.69\t| 100.0\t  13\t 0.0\t|\n",
      "n115-k10| 10 \t12747 \t| 0.00\t  10\t 51.64\t| 0.01\t  10.0\t 170.78\t| 10.70\t  10\t 35.87\t|\r"
     ]
    }
   ],
   "source": [
    "################################## Policy Evaluation ##################################\n",
    "''' Parameters '''\n",
    "verbose = True\n",
    "show_gap = True\n",
    "\n",
    "ranges = [i for i in range(1,11)]\n",
    "performance = {'nn':{i:{'Gap':list(),'Time':list()} for i in ranges},\n",
    "               'RCL':{i:{'Gap':list(),'Time':list()} for i in ranges},\n",
    "               'GA':{i:{'Gap':list(),'Time':list()} for i in ranges},\n",
    "               'HGS':{i:{'Gap':list(),'Time':list()} for i in ranges}}\n",
    "\n",
    "\n",
    "if verbose: verb.routing_instances.print_head(show_gap)\n",
    "\n",
    "for instance in instances:\n",
    "    # Upload dCVRP instance\n",
    "    purchase,benchmark = inst_gen.upload_CVRP_instance('Uchoa',instance)\n",
    "\n",
    "    if verbose: string = verb.routing_instances.print_inst('Uchoa',instance,benchmark[0],benchmark[1])\n",
    "\n",
    "    nn_routes,nn_obj,nn_info,nn_time = pIRPgym.Routing.NearestNeighbor(purchase,inst_gen,env.t)                                         # Nearest Neighbor\n",
    "    if verbose: string = verb.routing_instances.print_routing_update(string,\n",
    "                                                                nn_obj,len(nn_routes),nn_time,show_gap,benchmark)\n",
    "    performance['nn'][len(purchase)//100]['Gap'].append((nn_obj-benchmark[0])/benchmark[0])\n",
    "    performance['nn'][len(purchase)//100]['Time'].append(nn_time)\n",
    "\n",
    "\n",
    "    RCL_obj,RCL_veh,RCL_time = pIRPgym.Routing.evaluate_stochastic_policy(pIRPgym.Routing.RCL_Heuristic,\n",
    "                                                                          purchase,inst_gen,env,n=30,averages=True,dynamic_p=False)\n",
    "    if verbose: string = verb.routing_instances.print_routing_update(string,\n",
    "                                                                RCL_obj,RCL_veh,RCL_time,show_gap,benchmark)\n",
    "    performance['RCL'][len(purchase)//100]['Gap'].append((RCL_obj-benchmark[0])/benchmark[0])\n",
    "    performance['RCL'][len(purchase)//100]['Time'].append(RCL_time)\n",
    "\n",
    "    GA_routes,GA_obj,GA_info,GA_time,_ = pIRPgym.Routing.HybridGenticAlgorithm(purchase,\n",
    "                                                                               inst_gen,env.t,return_top=False,rd_seed=0,time_limit=30)    # Genetic Algorithm\n",
    "    if verbose: string = verb.routing_instances.print_routing_update(string,\n",
    "                                                                GA_obj,len(GA_routes),GA_time,show_gap,benchmark)\n",
    "    performance['GA'][len(purchase)//100]['Gap'].append((GA_obj-benchmark[0])/benchmark[0])\n",
    "    performance['GA'][len(purchase)//100]['Time'].append(GA_time)\n",
    "\n",
    "    HGS_routes,HGS_distance,HGS_time  = pIRPgym.Routing.HyGeSe.HyGeSe_routing(purchase,inst_gen,env.t,time_limit=30)                                  # Hybrid Genetic Search (CVRP)\n",
    "    if verbose: string = verb.routing_instances.print_routing_update(string,\n",
    "                                                                               HGS_distance,len(HGS_routes),HGS_time,show_gap,benchmark,end=True)                                    # Column Generation algorithm\n",
    "    performance['HGS'][len(purchase)//100]['Gap'].append((HGS_distance-benchmark[0])/benchmark[0])\n",
    "    performance['HGS'][len(purchase)//100]['Time'].append(HGS_time)\n",
    "    "
   ]
  },
  {
   "cell_type": "code",
   "execution_count": null,
   "metadata": {},
   "outputs": [],
   "source": []
  }
 ],
 "metadata": {
  "kernelspec": {
   "display_name": "Python 3",
   "language": "python",
   "name": "python3"
  },
  "language_info": {
   "codemirror_mode": {
    "name": "ipython",
    "version": 3
   },
   "file_extension": ".py",
   "mimetype": "text/x-python",
   "name": "python",
   "nbconvert_exporter": "python",
   "pygments_lexer": "ipython3",
   "version": "3.9.16"
  }
 },
 "nbformat": 4,
 "nbformat_minor": 2
}
