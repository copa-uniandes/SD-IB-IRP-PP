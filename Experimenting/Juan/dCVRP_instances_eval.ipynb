{
 "cells": [
  {
   "cell_type": "code",
   "execution_count": null,
   "metadata": {},
   "outputs": [],
   "source": [
    "######################################     Modules     #######################################\n",
    "import sys\n",
    "from time import process_time\n",
    "import os\n",
    "import pickle\n",
    "\n",
    "import verbose_module as verb\n",
    "sys.path.append('../../.')\n",
    "import pIRPgym\n",
    "\n",
    "########################     Instance generator and Environment     #########################\n",
    "# Instance Generator\n",
    "### pIRP model's parameters\n",
    "# Stochasticity\n",
    "stochastic_params = ['d','q']\n",
    "look_ahead = ['d','q']\n",
    "\n",
    "\n",
    "# Historical data\n",
    "historical_data = ['*']\n",
    "\n",
    "\n",
    "# Other parameters\n",
    "backorders = 'backorders'\n",
    "\n",
    "env_config = {  'M':13,'K':15,'T':12,'F':13,'Q':2000,\n",
    "                'S':6,'LA_horizon':4,\n",
    "                'd_max':2000,'hist_window':60,\n",
    "                'back_o_cost':10000\n",
    "            }"
   ]
  },
  {
   "cell_type": "markdown",
   "metadata": {},
   "source": [
    "# dCVRP Instances"
   ]
  },
  {
   "cell_type": "code",
   "execution_count": 2,
   "metadata": {},
   "outputs": [],
   "source": [
    "########################     Instance generator and Environment     #########################\n",
    "# Creating instance generator object\n",
    "inst_gen = pIRPgym.instance_generator(look_ahead, stochastic_params,\n",
    "                              historical_data, backorders, env_config = env_config)\n",
    "\n",
    "instances = dict()\n",
    "instances['Li'] = [i for i in os.listdir('/Users/juanbeta/My Drive/Research/Supply Chain Analytics/pIRPenv/pIRPgym/Instances/CVRP Instances/dCVRP/Li') if i[-3:]=='vrp']\n",
    "instances['Golden'] = [i for i in os.listdir('/Users/juanbeta/My Drive/Research/Supply Chain Analytics/pIRPenv/pIRPgym/Instances/CVRP Instances/dCVRP/Golden') if i[-3:]=='vrp']\n",
    "instances['Li'].sort();instances['Golden'].sort()\n",
    "\n",
    "### Environment \n",
    "# Creating environment object\n",
    "routing = True\n",
    "inventory = False    \n",
    "perishability = False\n",
    "env = pIRPgym.steroid_IRP(routing,inventory,perishability)\n",
    "env.reset(inst_gen)"
   ]
  },
  {
   "cell_type": "code",
   "execution_count": 3,
   "metadata": {},
   "outputs": [
    {
     "name": "stdout",
     "output_type": "stream",
     "text": [
      "*************************************  Routing Strategies on Classic Instances  *************************************\n",
      "--------|\tBKS \t|\t   NN \t \t|\t   RCL \t \t|\t   HGA \t \t|\t  HGS*\n",
      "Inst\t| #Veh \t Obj \t| t(s)\t #Veh \t gap \t| t(s) \t #Veh \tgap \t| t(s) \t #Veh \t gap \t| t(s) \t #Veh \t gap \t|\n",
      "----------------------------------------------------------------------------------------------------------------------\n"
     ]
    }
   ],
   "source": [
    "################################## Policy Evaluation ##################################\n",
    "''' Parameters '''\n",
    "verbose = True\n",
    "show_gap = True\n",
    "\n",
    "if verbose: verb.routing_instances.print_head(show_gap)\n",
    "\n",
    "for ss,inst_list in instances.items():\n",
    "    for instance in inst_list:\n",
    "        # Upload dCVRP instance\n",
    "        purchase,benchmark = inst_gen.upload_CVRP_instance(ss, instance)\n",
    "\n",
    "        if verbose: string = verb.routing_instances.print_inst(ss,instance,benchmark[0],benchmark[1])\n",
    "\n",
    "        nn_routes,nn_obj,nn_info,nn_time = pIRPgym.Routing.NearestNeighbor(purchase,inst_gen,env.t)                                         # Nearest Neighbor\n",
    "        if verbose: string = verb.routing_instances.print_routing_update(string,\n",
    "                                                                    nn_obj,len(nn_routes),nn_time,show_gap,benchmark)\n",
    "            \n",
    "        RCL_obj,RCL_veh,RCL_time = pIRPgym.Routing.evaluate_stochastic_policy(pIRPgym.Routing.RCL_Heuristic,\n",
    "                                                                                           purchase,inst_gen,env,n=30,averages=True,dynamic_p=False)\n",
    "        if verbose: string = verb.routing_instances.print_routing_update(string,\n",
    "                                                                    RCL_obj,RCL_veh,RCL_time,show_gap,benchmark,end=True)\n",
    "        # GA_routes,GA_obj,GA_info,GA_time,_ = pIRPgym.Routing.HybridGenticAlgorithm(purchase,inst_gen,env.t,return_top=False,rd_seed=0,time_limit=30)    # Genetic Algorithm\n",
    "        # if verbose: string = verb.routing_instances.print_routing_update(string,\n",
    "        #                                                             GA_obj,len(GA_routes),GA_time,show_gap,benchmark)\n",
    "        # HyGeSe_routes, HyGeSe_distance, HyGeSe_time  = pIRPgym.Routing.HyGeSe.HyGeSe_routing(purchase,inst_gen,env.t,time_limit=30)                                  # Hybrid Genetic Search (CVRP)\n",
    "        # if verbose: string = verb.routing_instances.print_routing_update(string,HyGeSe_distance,len(HyGeSe_routes),HyGeSe_time,show_gap,benchmark,True)                                    # Column Generation algorithm\n",
    "    print('\\n')"
   ]
  },
  {
   "cell_type": "markdown",
   "metadata": {},
   "source": [
    "# CVRP Instances"
   ]
  },
  {
   "cell_type": "code",
   "execution_count": 2,
   "metadata": {},
   "outputs": [],
   "source": [
    "########################     Instance generator and Environment     #########################\n",
    "path = '/Users/juanbeta/My Drive/Research/Supply Chain Analytics/pIRPgym/'\n",
    "# path = 'C:/Users/jm.betancourt/Documents/Research/pIRPgym/'\n",
    "\n",
    "# Creating instance generator object\n",
    "inst_gen = pIRPgym.instance_generator(look_ahead, stochastic_params,\n",
    "                              historical_data, backorders, env_config = env_config)\n",
    "\n",
    "instances = dict()\n",
    "instances = [i for i in os.listdir(path+'pIRPgym/Instances/CVRP Instances/CVRP/Uchoa') if i[-3:]=='vrp']\n",
    "instances.sort()\n",
    "instances = instances[1:] + [instances[0]]\n",
    "\n",
    "### Environment \n",
    "# Creating environment object\n",
    "routing = True\n",
    "inventory = False    \n",
    "perishability = False\n",
    "env = pIRPgym.steroid_IRP(routing,inventory,perishability)\n",
    "env.reset(inst_gen)"
   ]
  },
  {
   "cell_type": "code",
   "execution_count": 3,
   "metadata": {},
   "outputs": [
    {
     "name": "stdout",
     "output_type": "stream",
     "text": [
      "*************************************  Routing Strategies on Classic Instances  *************************************\n",
      "--------|\tBKS \t|\t   NN \t \t|\t   RCL \t \t|\t   HGA \t \t|\t  HGS*\n",
      "Inst\t| #Veh \t Obj \t| t(s)\t #Veh \t gap \t| t(s) \t #Veh \tgap \t| t(s) \t #Veh \t gap \t| t(s) \t #Veh \t gap \t|\n",
      "----------------------------------------------------------------------------------------------------------------------\n",
      "n420-k130| 130 \t107798 \t| 0.03\t  133\t 28.21\t| 0.12\t  134.4\t 54.95\t|\r"
     ]
    },
    {
     "ename": "",
     "evalue": "",
     "output_type": "error",
     "traceback": [
      "\u001b[1;31mThe Kernel crashed while executing code in the the current cell or a previous cell. Please review the code in the cell(s) to identify a possible cause of the failure. Click <a href='https://aka.ms/vscodeJupyterKernelCrash'>here</a> for more info. View Jupyter <a href='command:jupyter.viewOutput'>log</a> for further details."
     ]
    }
   ],
   "source": [
    "################################## Policy Evaluation ##################################\n",
    "''' Parameters '''\n",
    "verbose = True\n",
    "show_gap = True\n",
    "\n",
    "# ranges = [i for i in range(1,11)]\n",
    "# performance = {'nn':{i:{'Gap':list(),'Time':list()} for i in ranges},\n",
    "#                'RCL':{i:{'Gap':list(),'Time':list()} for i in ranges},\n",
    "#                'GA':{i:{'Gap':list(),'Time':list()} for i in ranges},\n",
    "#                'HGS':{i:{'Gap':list(),'Time':list()} for i in ranges}}\n",
    "\n",
    "\n",
    "if verbose: verb.routing_instances.print_head(show_gap)\n",
    "\n",
    "for instance in instances[60:]:\n",
    "    # Upload dCVRP instance\n",
    "    purchase,benchmark = inst_gen.upload_CVRP_instance('Uchoa',instance)\n",
    "\n",
    "    if verbose: string = verb.routing_instances.print_inst('Uchoa',instance,benchmark[0],benchmark[1])\n",
    "\n",
    "    nn_routes,nn_obj,nn_info,nn_time = pIRPgym.Routing.NearestNeighbor(purchase,inst_gen,env.t)                                         # Nearest Neighbor\n",
    "    if verbose: string = verb.routing_instances.print_routing_update(string,\n",
    "                                                                nn_obj,len(nn_routes),nn_time,show_gap,benchmark)\n",
    "    # performance['nn'][len(purchase)//100]['Gap'].append((nn_obj-benchmark[0])/benchmark[0])\n",
    "    # performance['nn'][len(purchase)//100]['Time'].append(nn_time)\n",
    "\n",
    "\n",
    "    RCL_obj,RCL_veh,RCL_time = pIRPgym.Routing.evaluate_stochastic_policy(pIRPgym.Routing.RCL_Heuristic,\n",
    "                                                                          purchase,inst_gen,env,n=30,averages=True,dynamic_p=False)\n",
    "    if verbose: string = verb.routing_instances.print_routing_update(string,\n",
    "                                                                RCL_obj,RCL_veh,RCL_time,show_gap,benchmark)\n",
    "    # performance['RCL'][len(purchase)//100]['Gap'].append((RCL_obj-benchmark[0])/benchmark[0])\n",
    "    # performance['RCL'][len(purchase)//100]['Time'].append(RCL_time)\n",
    "\n",
    "    GA_routes,GA_obj,GA_info,GA_time,_ = pIRPgym.Routing.HybridGenticAlgorithm(purchase,\n",
    "                                                                               inst_gen,env.t,return_top=False,rd_seed=0,time_limit=30)    # Genetic Algorithm\n",
    "    if verbose: string = verb.routing_instances.print_routing_update(string,\n",
    "                                                                GA_obj,len(GA_routes),GA_time,show_gap,benchmark)\n",
    "    # performance['GA'][len(purchase)//100]['Gap'].append((GA_obj-benchmark[0])/benchmark[0])\n",
    "    # performance['GA'][len(purchase)//100]['Time'].append(GA_time)\n",
    "\n",
    "    HGS_routes,HGS_obj,HGS_time  = pIRPgym.Routing.HyGeSe.HyGeSe_routing(purchase,inst_gen,env.t,time_limit=30)                                  # Hybrid Genetic Search (CVRP)\n",
    "    if verbose: string = verb.routing_instances.print_routing_update(string,\n",
    "                                                                    HGS_obj,len(HGS_routes),HGS_time,show_gap,benchmark,end=True)                                    # Column Generation algorithm\n",
    "    # performance['HGS'][len(purchase)//100]['Gap'].append((HGS_distance-benchmark[0])/benchmark[0])\n",
    "    # performance['HGS'][len(purchase)//100]['Time'].append(HGS_time)\n",
    "\n",
    "    performance = { 'nn':{'Gap':(nn_obj-benchmark[0])/benchmark[0],'Time':nn_time},\n",
    "                    'RCL':{'Gap':(RCL_obj-benchmark[0])/benchmark[0],'Time':RCL_time},\n",
    "                    'GA':{'Gap':(GA_obj-benchmark[0])/benchmark[0],'Time':GA_time},\n",
    "                    'HGS':{'Gap':(HGS_obj-benchmark[0])/benchmark[0],'Time':HGS_time}}\n",
    "    \n",
    "    # Open the file in binary write mode\n",
    "    # a_file = open(path+f'Experimenting/Juan/Classic Instances/CVRP Results/{instance[:-4]}.pkl', 'wb')\n",
    "    # pickle.dump(performance,a_file)\n",
    "    # a_file.close()\n",
    "\n",
    "\n",
    "    with open(path+f'Experimenting/Juan/Classic Instances/CVRP Results/{instance[:-4]}.pkl', 'wb') as file:\n",
    "        # Use pickle.dump to serialize and save the dictionary to the file\n",
    "        pickle.dump(performance, file)\n",
    "    \n"
   ]
  },
  {
   "cell_type": "code",
   "execution_count": null,
   "metadata": {},
   "outputs": [],
   "source": [
    "ranges = [i for i in range(1,11)]\n",
    "performance = {'nn':{i:{'Gap':list(),'Time':list()} for i in ranges},\n",
    "               'RCL':{i:{'Gap':list(),'Time':list()} for i in ranges},\n",
    "               'GA':{i:{'Gap':list(),'Time':list()} for i in ranges},\n",
    "               'HGS':{i:{'Gap':list(),'Time':list()} for i in ranges}}\n",
    "\n",
    "strategies = list(performance.keys())\n",
    "\n",
    "for instance in instances:\n",
    "    with open(path+f'Experimenting/Juan/Classic Instances/CVRP Results/{instance[:-4]}.pkl', 'rb') as file:\n",
    "        # Use pickle.dump to serialize and save the dictionary to the file\n",
    "        results = pickle.load(file) \n",
    "\n",
    "        for strategy in strategies:\n",
    "            performance[strategy][len(purchase)//100]['Gap'].append(performance[strategy]['Gap'])\n",
    "            performance[strategy][len(purchase)//100]['Time'].append(performance[strategy]['Time'])"
   ]
  }
 ],
 "metadata": {
  "kernelspec": {
   "display_name": "Python 3",
   "language": "python",
   "name": "python3"
  },
  "language_info": {
   "codemirror_mode": {
    "name": "ipython",
    "version": 3
   },
   "file_extension": ".py",
   "mimetype": "text/x-python",
   "name": "python",
   "nbconvert_exporter": "python",
   "pygments_lexer": "ipython3",
   "version": "3.9.16"
  }
 },
 "nbformat": 4,
 "nbformat_minor": 2
}
