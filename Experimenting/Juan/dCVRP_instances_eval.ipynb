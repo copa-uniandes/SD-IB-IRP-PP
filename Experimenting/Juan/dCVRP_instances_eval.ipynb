{
 "cells": [
  {
   "cell_type": "code",
   "execution_count": null,
   "metadata": {},
   "outputs": [],
   "source": [
    "# Modules\n",
    "import sys\n",
    "from time import process_time\n",
    "import os\n",
    "\n",
    "import verbose_module\n",
    "sys.path.append('../../.')\n",
    "import pIRPgym"
   ]
  },
  {
   "cell_type": "code",
   "execution_count": null,
   "metadata": {},
   "outputs": [],
   "source": [
    "########################################## Instance generator ###########################################\n",
    "# Instance Generator\n",
    "### pIRP model's parameters\n",
    "# Stochasticity\n",
    "stochastic_params = ['d','q']\n",
    "look_ahead = ['d','q']\n",
    "\n",
    "\n",
    "# Historical data\n",
    "historical_data = ['*']\n",
    "\n",
    "\n",
    "# Other parameters\n",
    "backorders = 'backorders'\n",
    "\n",
    "env_config = {  'M':13,'K':15,'T':12,'F':13,'Q':2000,\n",
    "                'S':6,'LA_horizon':4,\n",
    "                'd_max':2000,'hist_window':60,\n",
    "                'back_o_cost':10000\n",
    "            }\n",
    "\n",
    "# Creating instance generator object\n",
    "inst_gen = pIRPgym.instance_generator(look_ahead, stochastic_params,\n",
    "                              historical_data, backorders, env_config = env_config)\n",
    "\n",
    "\n",
    "######################################### Environment ##########################################\n",
    "# Environment\n",
    "# Creating environment object\n",
    "routing = True\n",
    "inventory = False    \n",
    "perishability = False\n",
    "env = pIRPgym.steroid_IRP(routing,inventory,perishability)\n",
    "env.reset(inst_gen)\n",
    "\n",
    "''' Parameters '''\n",
    "verbose = True\n",
    "show_gap = True\n",
    "instances = dict()\n",
    "instances['Li'] = [i for i in os.listdir('/Users/juanbeta/My Drive/Research/Supply Chain Analytics/pIRPenv/pIRPgym/Instances/CVRP Instances/dCVRP/Li') if i[-3:]=='vrp']\n",
    "instances['Golden'] = [i for i in os.listdir('/Users/juanbeta/My Drive/Research/Supply Chain Analytics/pIRPenv/pIRPgym/Instances/CVRP Instances/dCVRP/Golden') if i[-3:]=='vrp']\n",
    "instances['Li'].sort();instances['Golden'].sort()"
   ]
  }
 ],
 "metadata": {
  "language_info": {
   "name": "python"
  }
 },
 "nbformat": 4,
 "nbformat_minor": 2
}
