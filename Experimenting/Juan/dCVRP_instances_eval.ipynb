{
 "cells": [
  {
   "cell_type": "code",
   "execution_count": 1,
   "metadata": {},
   "outputs": [
    {
     "name": "stdout",
     "output_type": "stream",
     "text": [
      "Set parameter Username\n",
      "Academic license - for non-commercial use only - expires 2024-02-11\n"
     ]
    }
   ],
   "source": [
    "######################################     Modules     #######################################\n",
    "import sys\n",
    "from time import process_time\n",
    "import os\n",
    "import pickle\n",
    "\n",
    "import verbose_module as verb\n",
    "sys.path.append('../../.')\n",
    "import pIRPgym\n",
    "\n",
    "########################     Instance generator and Environment     #########################\n",
    "# Instance Generator\n",
    "### pIRP model's parameters\n",
    "# Stochasticity\n",
    "stochastic_params = ['d','q']\n",
    "look_ahead = ['d','q']\n",
    "\n",
    "\n",
    "# Historical data\n",
    "historical_data = ['*']\n",
    "\n",
    "\n",
    "# Other parameters\n",
    "backorders = 'backorders'\n",
    "\n",
    "env_config = {  'M':13,'K':15,'T':12,'F':13,'Q':2000,\n",
    "                'S':6,'LA_horizon':4,\n",
    "                'd_max':2000,'hist_window':60,\n",
    "                'back_o_cost':10000\n",
    "            }"
   ]
  },
  {
   "cell_type": "markdown",
   "metadata": {},
   "source": [
    "# dCVRP Instances"
   ]
  },
  {
   "cell_type": "code",
   "execution_count": 2,
   "metadata": {},
   "outputs": [],
   "source": [
    "########################     Instance generator and Environment     #########################\n",
    "# Creating instance generator object\n",
    "inst_gen = pIRPgym.instance_generator(look_ahead, stochastic_params,\n",
    "                              historical_data, backorders, env_config = env_config)\n",
    "\n",
    "instances = dict()\n",
    "instances['Li'] = [i for i in os.listdir('/Users/juanbeta/My Drive/Research/Supply Chain Analytics/pIRPenv/pIRPgym/Instances/CVRP Instances/dCVRP/Li') if i[-3:]=='vrp']\n",
    "instances['Golden'] = [i for i in os.listdir('/Users/juanbeta/My Drive/Research/Supply Chain Analytics/pIRPenv/pIRPgym/Instances/CVRP Instances/dCVRP/Golden') if i[-3:]=='vrp']\n",
    "instances['Li'].sort();instances['Golden'].sort()\n",
    "\n",
    "### Environment \n",
    "# Creating environment object\n",
    "routing = True\n",
    "inventory = False    \n",
    "perishability = False\n",
    "env = pIRPgym.steroid_IRP(routing,inventory,perishability)\n",
    "env.reset(inst_gen)"
   ]
  },
  {
   "cell_type": "code",
   "execution_count": 3,
   "metadata": {},
   "outputs": [
    {
     "name": "stdout",
     "output_type": "stream",
     "text": [
      "*************************************  Routing Strategies on Classic Instances  *************************************\n",
      "--------|\tBKS \t|\t   NN \t \t|\t   RCL \t \t|\t   HGA \t \t|\t  HGS*\n",
      "Inst\t| #Veh \t Obj \t| t(s)\t #Veh \t gap \t| t(s) \t #Veh \tgap \t| t(s) \t #Veh \t gap \t| t(s) \t #Veh \t gap \t|\n",
      "----------------------------------------------------------------------------------------------------------------------\n"
     ]
    }
   ],
   "source": [
    "################################## Policy Evaluation ##################################\n",
    "''' Parameters '''\n",
    "verbose = True\n",
    "show_gap = True\n",
    "\n",
    "if verbose: verb.routing_instances.print_head(show_gap)\n",
    "\n",
    "for ss,inst_list in instances.items():\n",
    "    for instance in inst_list:\n",
    "        # Upload dCVRP instance\n",
    "        purchase,benchmark = inst_gen.upload_CVRP_instance(ss, instance)\n",
    "\n",
    "        if verbose: string = verb.routing_instances.print_inst(ss,instance,benchmark[0],benchmark[1])\n",
    "\n",
    "        nn_routes,nn_obj,nn_info,nn_time = pIRPgym.Routing.NearestNeighbor(purchase,inst_gen,env.t)                                         # Nearest Neighbor\n",
    "        if verbose: string = verb.routing_instances.print_routing_update(string,\n",
    "                                                                    nn_obj,len(nn_routes),nn_time,show_gap,benchmark)\n",
    "            \n",
    "        RCL_obj,RCL_veh,RCL_time = pIRPgym.Routing.evaluate_stochastic_policy(pIRPgym.Routing.RCL_Heuristic,\n",
    "                                                                                           purchase,inst_gen,env,n=30,averages=True,dynamic_p=False)\n",
    "        if verbose: string = verb.routing_instances.print_routing_update(string,\n",
    "                                                                    RCL_obj,RCL_veh,RCL_time,show_gap,benchmark,end=True)\n",
    "        # GA_routes,GA_obj,GA_info,GA_time,_ = pIRPgym.Routing.HybridGenticAlgorithm(purchase,inst_gen,env.t,return_top=False,rd_seed=0,time_limit=30)    # Genetic Algorithm\n",
    "        # if verbose: string = verb.routing_instances.print_routing_update(string,\n",
    "        #                                                             GA_obj,len(GA_routes),GA_time,show_gap,benchmark)\n",
    "        # HyGeSe_routes, HyGeSe_distance, HyGeSe_time  = pIRPgym.Routing.HyGeSe.HyGeSe_routing(purchase,inst_gen,env.t,time_limit=30)                                  # Hybrid Genetic Search (CVRP)\n",
    "        # if verbose: string = verb.routing_instances.print_routing_update(string,HyGeSe_distance,len(HyGeSe_routes),HyGeSe_time,show_gap,benchmark,True)                                    # Column Generation algorithm\n",
    "    print('\\n')"
   ]
  },
  {
   "cell_type": "markdown",
   "metadata": {},
   "source": [
    "# CVRP Instances"
   ]
  },
  {
   "cell_type": "code",
   "execution_count": 3,
   "metadata": {},
   "outputs": [],
   "source": [
    "########################     Instance generator and Environment     #########################\n",
    "path = '/Users/juanbeta/My Drive/Research/Supply Chain Analytics/pIRPgym/'\n",
    "# path = 'C:/Users/jm.betancourt/Documents/Research/pIRPgym/'\n",
    "\n",
    "# Creating instance generator object\n",
    "inst_gen = pIRPgym.instance_generator(look_ahead, stochastic_params,\n",
    "                              historical_data, backorders, env_config = env_config)\n",
    "\n",
    "instances = dict()\n",
    "instances = [i for i in os.listdir(path+'pIRPgym/Instances/CVRP Instances/CVRP/Uchoa') if i[-3:]=='vrp']\n",
    "instances.sort()\n",
    "instances = instances[1:] + [instances[0]]\n",
    "\n",
    "### Environment \n",
    "# Creating environment object\n",
    "routing = True\n",
    "inventory = False    \n",
    "perishability = False\n",
    "env = pIRPgym.steroid_IRP(routing,inventory,perishability)\n",
    "env.reset(inst_gen)"
   ]
  },
  {
   "cell_type": "code",
   "execution_count": 4,
   "metadata": {},
   "outputs": [
    {
     "name": "stdout",
     "output_type": "stream",
     "text": [
      "*************************************  Routing Strategies on Classic Instances  *************************************\n",
      "--------|\tBKS \t|\t   NN \t \t|\t   RCL \t \t|\t   HGA \t \t|\t  HGS*\n",
      "Inst\t| #Veh \t Obj \t| t(s)\t #Veh \t gap \t| t(s) \t #Veh \tgap \t| t(s) \t #Veh \t gap \t| t(s) \t #Veh \t gap \t|\n",
      "----------------------------------------------------------------------------------------------------------------------\n",
      "n101-k25| 25 \t27591 \t| 0.00\t  26\t 52.02\t| 0.01\t  26.7\t 62.52\t| 11.10\t  26\t 31.41\t| 30.00\t  26\t 0.0\t|\n",
      "n106-k14| 14 \t26362 \t| 0.00\t  14\t 9.61\t| 0.01\t  14.0\t 40.48\t| 10.20\t  14\t 7.12\t|\r"
     ]
    },
    {
     "ename": "KeyboardInterrupt",
     "evalue": "",
     "output_type": "error",
     "traceback": [
      "\u001b[0;31m---------------------------------------------------------------------------\u001b[0m",
      "\u001b[0;31mKeyboardInterrupt\u001b[0m                         Traceback (most recent call last)",
      "\u001b[1;32m/Users/juanbeta/My Drive/Research/Supply Chain Analytics/pIRPgym/Experimenting/Juan/dCVRP_instances_eval.ipynb Cell 7\u001b[0m line \u001b[0;36m4\n\u001b[1;32m     <a href='vscode-notebook-cell:/Users/juanbeta/My%20Drive/Research/Supply%20Chain%20Analytics/pIRPgym/Experimenting/Juan/dCVRP_instances_eval.ipynb#W6sZmlsZQ%3D%3D?line=36'>37</a>\u001b[0m \u001b[39mif\u001b[39;00m verbose: string \u001b[39m=\u001b[39m verb\u001b[39m.\u001b[39mrouting_instances\u001b[39m.\u001b[39mprint_routing_update(string,\n\u001b[1;32m     <a href='vscode-notebook-cell:/Users/juanbeta/My%20Drive/Research/Supply%20Chain%20Analytics/pIRPgym/Experimenting/Juan/dCVRP_instances_eval.ipynb#W6sZmlsZQ%3D%3D?line=37'>38</a>\u001b[0m                                                             GA_obj,\u001b[39mlen\u001b[39m(GA_routes),GA_time,show_gap,benchmark)\n\u001b[1;32m     <a href='vscode-notebook-cell:/Users/juanbeta/My%20Drive/Research/Supply%20Chain%20Analytics/pIRPgym/Experimenting/Juan/dCVRP_instances_eval.ipynb#W6sZmlsZQ%3D%3D?line=38'>39</a>\u001b[0m \u001b[39m# performance['GA'][len(purchase)//100]['Gap'].append((GA_obj-benchmark[0])/benchmark[0])\u001b[39;00m\n\u001b[1;32m     <a href='vscode-notebook-cell:/Users/juanbeta/My%20Drive/Research/Supply%20Chain%20Analytics/pIRPgym/Experimenting/Juan/dCVRP_instances_eval.ipynb#W6sZmlsZQ%3D%3D?line=39'>40</a>\u001b[0m \u001b[39m# performance['GA'][len(purchase)//100]['Time'].append(GA_time)\u001b[39;00m\n\u001b[0;32m---> <a href='vscode-notebook-cell:/Users/juanbeta/My%20Drive/Research/Supply%20Chain%20Analytics/pIRPgym/Experimenting/Juan/dCVRP_instances_eval.ipynb#W6sZmlsZQ%3D%3D?line=41'>42</a>\u001b[0m HGS_routes,HGS_obj,HGS_time  \u001b[39m=\u001b[39m pIRPgym\u001b[39m.\u001b[39;49mRouting\u001b[39m.\u001b[39;49mHyGeSe\u001b[39m.\u001b[39;49mHyGeSe_routing(purchase,inst_gen,env\u001b[39m.\u001b[39;49mt,time_limit\u001b[39m=\u001b[39;49m\u001b[39m30\u001b[39;49m)                                  \u001b[39m# Hybrid Genetic Search (CVRP)\u001b[39;00m\n\u001b[1;32m     <a href='vscode-notebook-cell:/Users/juanbeta/My%20Drive/Research/Supply%20Chain%20Analytics/pIRPgym/Experimenting/Juan/dCVRP_instances_eval.ipynb#W6sZmlsZQ%3D%3D?line=42'>43</a>\u001b[0m \u001b[39mif\u001b[39;00m verbose: string \u001b[39m=\u001b[39m verb\u001b[39m.\u001b[39mrouting_instances\u001b[39m.\u001b[39mprint_routing_update(string,\n\u001b[1;32m     <a href='vscode-notebook-cell:/Users/juanbeta/My%20Drive/Research/Supply%20Chain%20Analytics/pIRPgym/Experimenting/Juan/dCVRP_instances_eval.ipynb#W6sZmlsZQ%3D%3D?line=43'>44</a>\u001b[0m                                                                 HGS_obj,\u001b[39mlen\u001b[39m(HGS_routes),HGS_time,show_gap,benchmark,end\u001b[39m=\u001b[39m\u001b[39mTrue\u001b[39;00m)                                    \u001b[39m# Column Generation algorithm\u001b[39;00m\n\u001b[1;32m     <a href='vscode-notebook-cell:/Users/juanbeta/My%20Drive/Research/Supply%20Chain%20Analytics/pIRPgym/Experimenting/Juan/dCVRP_instances_eval.ipynb#W6sZmlsZQ%3D%3D?line=44'>45</a>\u001b[0m \u001b[39m# performance['HGS'][len(purchase)//100]['Gap'].append((HGS_distance-benchmark[0])/benchmark[0])\u001b[39;00m\n\u001b[1;32m     <a href='vscode-notebook-cell:/Users/juanbeta/My%20Drive/Research/Supply%20Chain%20Analytics/pIRPgym/Experimenting/Juan/dCVRP_instances_eval.ipynb#W6sZmlsZQ%3D%3D?line=45'>46</a>\u001b[0m \u001b[39m# performance['HGS'][len(purchase)//100]['Time'].append(HGS_time)\u001b[39;00m\n",
      "File \u001b[0;32m~/My Drive/Research/Supply Chain Analytics/pIRPgym/Experimenting/Juan/../.././pIRPgym/Blocks/Policies/Routing.py:379\u001b[0m, in \u001b[0;36mRouting.HyGeSe.HyGeSe_routing\u001b[0;34m(purchase, inst_gen, t, time_limit)\u001b[0m\n\u001b[1;32m    376\u001b[0m data \u001b[39m=\u001b[39m Routing\u001b[39m.\u001b[39mHyGeSe\u001b[39m.\u001b[39mgenerate_HyGeSe_data(inst_gen, requirements)\n\u001b[1;32m    378\u001b[0m \u001b[39m# Save the original stdout\u001b[39;00m\n\u001b[0;32m--> 379\u001b[0m result \u001b[39m=\u001b[39m hgs_solver\u001b[39m.\u001b[39;49msolve_cvrp(data)\n\u001b[1;32m    380\u001b[0m time \u001b[39m=\u001b[39m result\u001b[39m.\u001b[39mtime\n\u001b[1;32m    382\u001b[0m routes \u001b[39m=\u001b[39m Routing\u001b[39m.\u001b[39mHyGeSe\u001b[39m.\u001b[39mtranslate_routes(inst_gen,requirements,result\u001b[39m.\u001b[39mroutes)\n",
      "File \u001b[0;32m~/micromamba/envs/SCAEnv/lib/python3.9/site-packages/hygese/hygese.py:219\u001b[0m, in \u001b[0;36mSolver.solve_cvrp\u001b[0;34m(self, data, rounding)\u001b[0m\n\u001b[1;32m    217\u001b[0m     \u001b[39massert\u001b[39;00m dist_mtx\u001b[39m.\u001b[39mshape[\u001b[39m0\u001b[39m] \u001b[39m==\u001b[39m dist_mtx\u001b[39m.\u001b[39mshape[\u001b[39m1\u001b[39m]\n\u001b[1;32m    218\u001b[0m     \u001b[39massert\u001b[39;00m (dist_mtx \u001b[39m>\u001b[39m\u001b[39m=\u001b[39m \u001b[39m0.0\u001b[39m)\u001b[39m.\u001b[39mall()\n\u001b[0;32m--> 219\u001b[0m     \u001b[39mreturn\u001b[39;00m \u001b[39mself\u001b[39;49m\u001b[39m.\u001b[39;49m_solve_cvrp_dist_mtx(\n\u001b[1;32m    220\u001b[0m         x_coords,\n\u001b[1;32m    221\u001b[0m         y_coords,\n\u001b[1;32m    222\u001b[0m         dist_mtx,\n\u001b[1;32m    223\u001b[0m         service_times,\n\u001b[1;32m    224\u001b[0m         demand,\n\u001b[1;32m    225\u001b[0m         vehicle_capacity,\n\u001b[1;32m    226\u001b[0m         duration_limit,\n\u001b[1;32m    227\u001b[0m         is_duration_constraint,\n\u001b[1;32m    228\u001b[0m         maximum_number_of_vehicles,\n\u001b[1;32m    229\u001b[0m         \u001b[39mself\u001b[39;49m\u001b[39m.\u001b[39;49malgorithm_parameters,\n\u001b[1;32m    230\u001b[0m         \u001b[39mself\u001b[39;49m\u001b[39m.\u001b[39;49mverbose,\n\u001b[1;32m    231\u001b[0m     )\n\u001b[1;32m    232\u001b[0m \u001b[39melse\u001b[39;00m:\n\u001b[1;32m    233\u001b[0m     \u001b[39mreturn\u001b[39;00m \u001b[39mself\u001b[39m\u001b[39m.\u001b[39m_solve_cvrp(\n\u001b[1;32m    234\u001b[0m         x_coords,\n\u001b[1;32m    235\u001b[0m         y_coords,\n\u001b[0;32m   (...)\u001b[0m\n\u001b[1;32m    244\u001b[0m         \u001b[39mself\u001b[39m\u001b[39m.\u001b[39mverbose,\n\u001b[1;32m    245\u001b[0m     )\n",
      "File \u001b[0;32m~/micromamba/envs/SCAEnv/lib/python3.9/site-packages/hygese/hygese.py:335\u001b[0m, in \u001b[0;36mSolver._solve_cvrp_dist_mtx\u001b[0;34m(self, x_coords, y_coords, dist_mtx, service_times, demand, vehicle_capacity, duration_limit, is_duration_constraint, maximum_number_of_vehicles, algorithm_parameters, verbose)\u001b[0m\n\u001b[1;32m    329\u001b[0m ap_ct \u001b[39m=\u001b[39m algorithm_parameters\u001b[39m.\u001b[39mctypes\n\u001b[1;32m    331\u001b[0m \u001b[39m# struct Solution *solve_cvrp_dist_mtx(\u001b[39;00m\n\u001b[1;32m    332\u001b[0m \u001b[39m# \tint n, double* x, double* y, double *dist_mtx, double *serv_time, double *dem,\u001b[39;00m\n\u001b[1;32m    333\u001b[0m \u001b[39m# \tdouble vehicleCapacity, double durationLimit, char isDurationConstraint,\u001b[39;00m\n\u001b[1;32m    334\u001b[0m \u001b[39m# \tint max_nbVeh, const struct AlgorithmParameters *ap, char verbose);\u001b[39;00m\n\u001b[0;32m--> 335\u001b[0m sol_p \u001b[39m=\u001b[39m \u001b[39mself\u001b[39;49m\u001b[39m.\u001b[39;49m_c_api_solve_cvrp_dist_mtx(\n\u001b[1;32m    336\u001b[0m     n_nodes,\n\u001b[1;32m    337\u001b[0m     cast(x_ct, c_double_p),\n\u001b[1;32m    338\u001b[0m     cast(y_ct, c_double_p),\n\u001b[1;32m    339\u001b[0m     cast(m_ct, c_double_p),\n\u001b[1;32m    340\u001b[0m     cast(s_ct, c_double_p),\n\u001b[1;32m    341\u001b[0m     cast(d_ct, c_double_p),\n\u001b[1;32m    342\u001b[0m     vehicle_capacity,\n\u001b[1;32m    343\u001b[0m     duration_limit,\n\u001b[1;32m    344\u001b[0m     is_duration_constraint,\n\u001b[1;32m    345\u001b[0m     maximum_number_of_vehicles,\n\u001b[1;32m    346\u001b[0m     byref(ap_ct),\n\u001b[1;32m    347\u001b[0m     verbose,\n\u001b[1;32m    348\u001b[0m )\n\u001b[1;32m    350\u001b[0m result \u001b[39m=\u001b[39m RoutingSolution(sol_p)\n\u001b[1;32m    351\u001b[0m \u001b[39mself\u001b[39m\u001b[39m.\u001b[39m_c_api_delete_sol(sol_p)\n",
      "\u001b[0;31mKeyboardInterrupt\u001b[0m: "
     ]
    }
   ],
   "source": [
    "################################## Policy Evaluation ##################################\n",
    "''' Parameters '''\n",
    "verbose = True\n",
    "show_gap = True\n",
    "\n",
    "# ranges = [i for i in range(1,11)]\n",
    "# performance = {'nn':{i:{'Gap':list(),'Time':list()} for i in ranges},\n",
    "#                'RCL':{i:{'Gap':list(),'Time':list()} for i in ranges},\n",
    "#                'GA':{i:{'Gap':list(),'Time':list()} for i in ranges},\n",
    "#                'HGS':{i:{'Gap':list(),'Time':list()} for i in ranges}}\n",
    "\n",
    "\n",
    "if verbose: verb.routing_instances.print_head(show_gap)\n",
    "\n",
    "for instance in instances:\n",
    "    # Upload dCVRP instance\n",
    "    purchase,benchmark = inst_gen.upload_CVRP_instance('Uchoa',instance)\n",
    "\n",
    "    if verbose: string = verb.routing_instances.print_inst('Uchoa',instance,benchmark[0],benchmark[1])\n",
    "\n",
    "    nn_routes,nn_obj,nn_info,nn_time = pIRPgym.Routing.NearestNeighbor(purchase,inst_gen,env.t)                                         # Nearest Neighbor\n",
    "    if verbose: string = verb.routing_instances.print_routing_update(string,\n",
    "                                                                nn_obj,len(nn_routes),nn_time,show_gap,benchmark)\n",
    "    # performance['nn'][len(purchase)//100]['Gap'].append((nn_obj-benchmark[0])/benchmark[0])\n",
    "    # performance['nn'][len(purchase)//100]['Time'].append(nn_time)\n",
    "\n",
    "\n",
    "    RCL_obj,RCL_veh,RCL_time = pIRPgym.Routing.evaluate_stochastic_policy(pIRPgym.Routing.RCL_Heuristic,\n",
    "                                                                          purchase,inst_gen,env,n=30,averages=True,dynamic_p=False)\n",
    "    if verbose: string = verb.routing_instances.print_routing_update(string,\n",
    "                                                                RCL_obj,RCL_veh,RCL_time,show_gap,benchmark)\n",
    "    # performance['RCL'][len(purchase)//100]['Gap'].append((RCL_obj-benchmark[0])/benchmark[0])\n",
    "    # performance['RCL'][len(purchase)//100]['Time'].append(RCL_time)\n",
    "\n",
    "    GA_routes,GA_obj,GA_info,GA_time,_ = pIRPgym.Routing.HybridGenticAlgorithm(purchase,\n",
    "                                                                               inst_gen,env.t,return_top=False,rd_seed=0,time_limit=30)    # Genetic Algorithm\n",
    "    if verbose: string = verb.routing_instances.print_routing_update(string,\n",
    "                                                                GA_obj,len(GA_routes),GA_time,show_gap,benchmark)\n",
    "    # performance['GA'][len(purchase)//100]['Gap'].append((GA_obj-benchmark[0])/benchmark[0])\n",
    "    # performance['GA'][len(purchase)//100]['Time'].append(GA_time)\n",
    "\n",
    "    HGS_routes,HGS_obj,HGS_time  = pIRPgym.Routing.HyGeSe.HyGeSe_routing(purchase,inst_gen,env.t,time_limit=30)                                  # Hybrid Genetic Search (CVRP)\n",
    "    if verbose: string = verb.routing_instances.print_routing_update(string,\n",
    "                                                                    HGS_obj,len(HGS_routes),HGS_time,show_gap,benchmark,end=True)                                    # Column Generation algorithm\n",
    "    # performance['HGS'][len(purchase)//100]['Gap'].append((HGS_distance-benchmark[0])/benchmark[0])\n",
    "    # performance['HGS'][len(purchase)//100]['Time'].append(HGS_time)\n",
    "\n",
    "    performance = { 'nn':{'Gap':(nn_obj-benchmark[0])/benchmark[0],'Time':nn_time},\n",
    "                    'RCL':{'Gap':(RCL_obj-benchmark[0])/benchmark[0],'Time':RCL_time},\n",
    "                    'GA':{'Gap':(GA_obj-benchmark[0])/benchmark[0],'Time':GA_time},\n",
    "                    'HGS':{'Gap':(HGS_obj-benchmark[0])/benchmark[0],'Time':HGS_time}}\n",
    "    \n",
    "    # Open the file in binary write mode\n",
    "    # a_file = open(path+f'Experimenting/Juan/Classic Instances/CVRP Results/{instance[:-4]}.pkl', 'wb')\n",
    "    # pickle.dump(performance,a_file)\n",
    "    # a_file.close()\n",
    "\n",
    "\n",
    "    with open(path+f'Experimenting/Juan/Classic Instances/CVRP Results/{instance[:-4]}.pkl', 'wb') as file:\n",
    "        # Use pickle.dump to serialize and save the dictionary to the file\n",
    "        pickle.dump(performance, file)\n",
    "    \n"
   ]
  },
  {
   "cell_type": "code",
   "execution_count": null,
   "metadata": {},
   "outputs": [],
   "source": []
  }
 ],
 "metadata": {
  "kernelspec": {
   "display_name": "Python 3",
   "language": "python",
   "name": "python3"
  },
  "language_info": {
   "codemirror_mode": {
    "name": "ipython",
    "version": 3
   },
   "file_extension": ".py",
   "mimetype": "text/x-python",
   "name": "python",
   "nbconvert_exporter": "python",
   "pygments_lexer": "ipython3",
   "version": "3.9.16"
  }
 },
 "nbformat": 4,
 "nbformat_minor": 2
}
