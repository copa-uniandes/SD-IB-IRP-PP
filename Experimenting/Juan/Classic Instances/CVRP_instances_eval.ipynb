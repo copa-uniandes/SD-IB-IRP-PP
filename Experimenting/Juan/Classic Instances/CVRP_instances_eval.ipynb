{
 "cells": [
  {
   "cell_type": "code",
   "execution_count": 1,
   "metadata": {},
   "outputs": [
    {
     "name": "stdout",
     "output_type": "stream",
     "text": [
      "Set parameter Username\n",
      "Academic license - for non-commercial use only - expires 2024-02-11\n"
     ]
    }
   ],
   "source": [
    "######################################     Modules     #######################################\n",
    "import sys\n",
    "from time import process_time\n",
    "import os\n",
    "import pickle\n",
    "\n",
    "sys.path.append('../.')\n",
    "import verbose_module as verb\n",
    "sys.path.append('../../../.')\n",
    "import pIRPgym\n",
    "\n",
    "\n",
    "computer_name = input(\"Running experiment on mac? [Y/n]\")\n",
    "if computer_name == '': \n",
    "    path = '/Users/juanbeta/My Drive/Research/Supply Chain Analytics/pIRPgym/'\n",
    "    experiments_path = '/Users/juanbeta/My Drive/Research/Supply Chain Analytics/Experiments/Classic Instances/'\n",
    "else: \n",
    "    path = 'C:/Users/jm.betancourt/Documents/Research/pIRPgym/'\n",
    "    experiments_path = 'G:/Mi unidad/Research/Supply Chain Analytics/Experiments/Classic Instances/'\n",
    "\n",
    "\n",
    "instances = dict()\n",
    "instances['Li'] = [i for i in os.listdir(path+'/pIRPgym/Instances/CVRP Instances/dCVRP/Li') if i[-3:]=='vrp']\n",
    "instances['Golden'] = [i for i in os.listdir(path+'/pIRPgym/Instances/CVRP Instances/dCVRP/Golden') if i[-3:]=='vrp']\n",
    "instances['Uchoa'] = [i for i in os.listdir(path+'pIRPgym/Instances/CVRP Instances/CVRP/Uchoa') if i[-3:]=='vrp']\n",
    "instances['Li'].sort();instances['Golden'].sort()\n",
    "instances['Uchoa'].sort();instances['Uchoa'] = instances['Uchoa'][1:] + [instances['Uchoa'][0]]\n",
    "\n",
    "Policies = ['NN','RCL']\n",
    "\n",
    "verbose = True"
   ]
  },
  {
   "cell_type": "markdown",
   "metadata": {},
   "source": [
    "# dCVRP Instances"
   ]
  },
  {
   "cell_type": "code",
   "execution_count": 3,
   "metadata": {},
   "outputs": [
    {
     "name": "stdout",
     "output_type": "stream",
     "text": [
      "****************************************  Li set Instances  ****************************************\n",
      "--------|-----------------------|\t  NN \t \t|\t  \t  \tRCL \t \t \t|\n",
      "Inst\t|   M \t  Veh\t Obj\t| t(s)\t #Veh \t gap \t| t(s)\t #Veh \t gap \t stdev\t min\t max\t|\n",
      "----------------------------------------------------------------------------------------------------------\n",
      "Li 22 \t|  600\t  15 \t14499 \t| 0.00\t  22\t 31.72\t| 4.58\t  24.4\t 48.9\t 11.11\t  37.68\t 74.5\t|\n",
      "Li 23 \t|  640\t  10 \t18801 \t| 0.00\t  14\t 41.85\t| 4.61\t  14.9\t 58.92\t 38.57\t  29.42\t 151.15\t|\n",
      "Li 24 \t|  720\t  10 \t21389 \t| 0.02\t  13\t 30.59\t| 4.64\t  15.5\t 58.16\t 43.92\t  30.48\t 173.73\t|\n",
      "Li 25 \t|  760\t  19 \t16666 \t| 0.00\t  28\t 31.56\t| 4.63\t  31.3\t 49.53\t 19.75\t  36.01\t 114.97\t|\n",
      "Li 26 \t|  800\t  10 \t23978 \t| 0.03\t  14\t 27.61\t| 4.65\t  16.7\t 62.13\t 40.56\t  26.91\t 180.31\t|\n",
      "Li 27 \t|  840\t  20 \t17320 \t| 0.05\t  29\t 26.82\t| 4.66\t  33.0\t 51.39\t 22.04\t  33.83\t 117.09\t|\n",
      "Li 28 \t|  880\t  10 \t26566 \t| 0.00\t  14\t 29.18\t| 4.69\t  16.9\t 65.72\t 53.32\t  26.64\t 202.66\t|\n",
      "Li 29 \t|  960\t  10 \t29154 \t| 0.00\t  14\t 32.12\t| 4.70\t  17.3\t 67.6\t 53.77\t  31.16\t 214.74\t|\n",
      "Li 30 \t|  1040\t  10 \t31743 \t| 0.02\t  14\t 30.07\t| 4.81\t  16.8\t 57.4\t 45.02\t  32.18\t 219.83\t|\n",
      "Li 31 \t|  1120\t  10 \t34331 \t| 0.02\t  13\t 24.0\t| 4.85\t  17.8\t 70.34\t 64.59\t  31.46\t 234.93\t|\n",
      "Li 32 \t|  1200\t  11 \t37159 \t| 0.00\t  12\t 9.44\t| 4.93\t  16.5\t 49.45\t 42.91\t  28.74\t 249.54\t|\n",
      "\n",
      "\n",
      "****************************************  Golden set Instances  ****************************************\n",
      "--------|-----------------------|\t  NN \t \t|\t  \t  \tRCL \t \t \t|\n",
      "Inst\t|   M \t  Veh\t Obj\t| t(s)\t #Veh \t gap \t| t(s)\t #Veh \t gap \t stdev\t min\t max\t|\n",
      "----------------------------------------------------------------------------------------------------------\n",
      "Go 2 \t|  320\t  10 \t8405 \t| 0.00\t  15\t 33.93\t| 4.53\t  15.8\t 46.77\t 17.79\t  28.83\t 91.59\t|\n",
      "Go 3 \t|  400\t  9 \t10998 \t| 0.02\t  15\t 39.93\t| 4.54\t  15.6\t 52.59\t 21.57\t  30.17\t 107.06\t|\n",
      "Go 4 \t|  480\t  10 \t13589 \t| 0.00\t  13\t 31.83\t| 4.55\t  14.4\t 48.77\t 24.97\t  26.76\t 124.92\t|\n",
      "Go 5 \t|  200\t  5 \t6461 \t| 0.00\t  6\t 49.44\t| 4.52\t  5.9\t 37.56\t 7.82\t  25.49\t 56.69\t|\n",
      "Go 6 \t|  280\t  7 \t8400 \t| 0.00\t  8\t 22.97\t| 4.52\t  9.1\t 42.87\t 13.66\t  27.29\t 91.33\t|\n",
      "Go 7 \t|  360\t  8 \t10103 \t| 0.00\t  11\t 23.5\t| 4.54\t  12.7\t 42.88\t 17.49\t  27.87\t 98.01\t|\n",
      "Go 8 \t|  440\t  10 \t11635 \t| 0.02\t  15\t 34.25\t| 4.56\t  16.6\t 51.48\t 22.97\t  31.58\t 107.38\t|\n",
      "\n",
      "\n"
     ]
    }
   ],
   "source": [
    "# Creating instance generator object\n",
    "inst_gen = pIRPgym.instance_generator(False,False,False,False)\n",
    "\n",
    "for inst_set in ['Li','Golden']:\n",
    "    if verbose: verb.routing_instances.print_head(Policies,inst_set,show_gap=True)\n",
    "    \n",
    "    for instance in instances[inst_set][1:]:\n",
    "        purchase,benchmark = inst_gen.upload_CVRP_instance(inst_set,instance)\n",
    "        if verbose: string = verb.routing_instances.print_inst(inst_set,instance,inst_gen.M,benchmark[1],benchmark[0])\n",
    "        \n",
    "        for policy in Policies:\n",
    "            end=False\n",
    "            if policy==Policies[-1]: end=True\n",
    "            # print(f'{inst_set}/{policy}/{instance[:-4]}.pkl')\n",
    "            with open(experiments_path+f'{inst_set}/{policy}/{instance[:-4]}.pkl', 'rb') as file:\n",
    "                # Use pickle.dump to serialize and save the dictionary to the file\n",
    "                performance = pickle.load(file)\n",
    "            \n",
    "            if policy=='NN':\n",
    "                if verbose: string = verb.routing_instances.print_routing_update(string,performance[1],len(performance[0]),\n",
    "                                                                                 performance[3],True,benchmark,end=end)\n",
    "            elif policy=='RCL':\n",
    "                if verbose: string = verb.routing_instances.print_routing_update(string,performance[0],performance[1],\n",
    "                                                                                 performance[2],True,benchmark,intervals=performance[3],end=end)\n",
    "    \n",
    "    print('\\n')"
   ]
  },
  {
   "cell_type": "code",
   "execution_count": 3,
   "metadata": {},
   "outputs": [
    {
     "name": "stdout",
     "output_type": "stream",
     "text": [
      "*************************************  Routing Strategies on Classic Instances  *************************************\n",
      "--------|\tBKS \t|\t   NN \t \t|\t   RCL \t \t|\t   HGA \t \t|\t  HGS*\n",
      "Inst\t| #Veh \t Obj \t| t(s)\t #Veh \t gap \t| t(s) \t #Veh \tgap \t| t(s) \t #Veh \t gap \t| t(s) \t #Veh \t gap \t|\n",
      "----------------------------------------------------------------------------------------------------------------------\n"
     ]
    }
   ],
   "source": [
    "# Creating instance generator object\n",
    "inst_gen = pIRPgym.instance_generator(False,False,False,False)\n",
    "inst_set='Uchoa'\n",
    "\n",
    "if verbose: verb.routing_instances.print_head(Policies,inst_set,show_gap=True)\n",
    "\n",
    "for instance in instances[inst_set][1:]:\n",
    "    purchase,benchmark = inst_gen.upload_CVRP_instance(inst_set,instance)\n",
    "    if verbose: string = verb.routing_instances.print_inst(inst_set,instance,inst_gen.M,benchmark[1],benchmark[0])\n",
    "    \n",
    "    for policy in Policies:\n",
    "        end=False\n",
    "        if policy==Policies[-1]: end=True\n",
    "        # print(f'{inst_set}/{policy}/{instance[:-4]}.pkl')\n",
    "        with open(experiments_path+f'{inst_set}/{policy}/{instance[:-4]}.pkl', 'rb') as file:\n",
    "            # Use pickle.dump to serialize and save the dictionary to the file\n",
    "            performance = pickle.load(file)\n",
    "        \n",
    "        if policy=='NN':\n",
    "            if verbose: string = verb.routing_instances.print_routing_update(string,performance[1],len(performance[0]),\n",
    "                                                                                performance[3],True,benchmark,end=end)\n",
    "        elif policy=='RCL':\n",
    "            if verbose: string = verb.routing_instances.print_routing_update(string,performance[0],performance[1],\n",
    "                                                                                performance[2],True,benchmark,intervals=performance[3],end=end)"
   ]
  },
  {
   "cell_type": "code",
   "execution_count": null,
   "metadata": {},
   "outputs": [],
   "source": []
  },
  {
   "cell_type": "markdown",
   "metadata": {},
   "source": [
    "# CVRP Instances"
   ]
  },
  {
   "cell_type": "code",
   "execution_count": 2,
   "metadata": {},
   "outputs": [],
   "source": [
    "########################     Instance generator and Environment     #########################\n",
    "path = '/Users/juanbeta/My Drive/Research/Supply Chain Analytics/pIRPgym/'\n",
    "# path = 'C:/Users/jm.betancourt/Documents/Research/pIRPgym/'\n",
    "\n",
    "# Creating instance generator object\n",
    "inst_gen = pIRPgym.instance_generator(look_ahead, stochastic_params,\n",
    "                              historical_data, backorders, env_config = env_config)\n",
    "\n",
    "instances = dict()\n",
    "instances = [i for i in os.listdir(path+'pIRPgym/Instances/CVRP Instances/CVRP/Uchoa') if i[-3:]=='vrp']\n",
    "instances.sort()\n",
    "instances = instances[1:] + [instances[0]]\n",
    "\n",
    "### Environment \n",
    "# Creating environment object\n",
    "routing = True\n",
    "inventory = False    \n",
    "perishability = False\n",
    "env = pIRPgym.steroid_IRP(routing,inventory,perishability)\n",
    "env.reset(inst_gen)"
   ]
  },
  {
   "cell_type": "code",
   "execution_count": 3,
   "metadata": {},
   "outputs": [
    {
     "name": "stdout",
     "output_type": "stream",
     "text": [
      "*************************************  Routing Strategies on Classic Instances  *************************************\n",
      "--------|\tBKS \t|\t   NN \t \t|\t   RCL \t \t|\t   HGA \t \t|\t  HGS*\n",
      "Inst\t| #Veh \t Obj \t| t(s)\t #Veh \t gap \t| t(s) \t #Veh \tgap \t| t(s) \t #Veh \t gap \t| t(s) \t #Veh \t gap \t|\n",
      "----------------------------------------------------------------------------------------------------------------------\n",
      "n876-k59| 59 \t99299 \t| 0.14\t  59\t 25.38\t| 0.59\t  59.0\t 139.67\t| 139.0\t  59\t 18.62\t| 30.20\t  59\t 3.29\t|\n",
      "n895-k37| 37 \t53860 \t| 0.19\t  38\t 19.1\t| 0.85\t  38.0\t 336.91\t| 687.0\t  38\t 18.92\t| 30.10\t  38\t 5.02\t|\n",
      "n916-k207| 207 \t329179 \t| 0.20\t  217\t 6.29\t| 0.85\t  216.4\t 43.35\t| 714.0\t  216\t 5.48\t| 30.10\t  208\t 1.67\t|\n",
      "n936-k151| 151 \t132715 \t| 0.19\t  167\t 45.68\t| 0.86\t  171.5\t 137.93\t| 229.0\t  167\t 40.01\t| 30.10\t  163\t 3.55\t|\n",
      "n957-k87| 87 \t85465 \t| 0.17\t  87\t 8.03\t| 0.93\t  87.0\t 191.46\t| 871.0\t  87\t 8.78\t| 30.10\t  87\t 2.21\t|\n",
      "n979-k58| 58 \t118976 \t| 0.19\t  59\t 21.26\t| 0.88\t  58.0\t 104.08\t| 536.0\t  59\t 16.4\t| 30.20\t  58\t 4.56\t|\n",
      "n1001-k43| 43 \t72355 \t| 0.20\t  43\t 19.54\t| 0.98\t  43.0\t 268.44\t| 105.0\t  43\t 17.93\t| 30.20\t  43\t 6.08\t|\n"
     ]
    }
   ],
   "source": [
    "################################## Policy Evaluation ##################################\n",
    "''' Parameters '''\n",
    "verbose = True\n",
    "show_gap = True\n",
    "\n",
    "if verbose: verb.routing_instances.print_head(show_gap)\n",
    "\n",
    "for instance in instances[93:]:\n",
    "    # Upload dCVRP instance\n",
    "    purchase,benchmark = inst_gen.upload_CVRP_instance('Uchoa',instance)\n",
    "\n",
    "    if verbose: string = verb.routing_instances.print_inst('Uchoa',instance,benchmark[0],benchmark[1])\n",
    "\n",
    "    nn_routes,nn_obj,nn_info,nn_time = pIRPgym.Routing.NearestNeighbor(purchase,inst_gen,env.t)                                         # Nearest Neighbor\n",
    "    if verbose: string = verb.routing_instances.print_routing_update(string,\n",
    "                                                                nn_obj,len(nn_routes),nn_time,show_gap,benchmark)\n",
    "\n",
    "\n",
    "    RCL_obj,RCL_veh,RCL_time = pIRPgym.Routing.evaluate_stochastic_policy(pIRPgym.Routing.RCL_Heuristic,\n",
    "                                                                          purchase,inst_gen,env,n=30,averages=True,dynamic_p=False)\n",
    "    if verbose: string = verb.routing_instances.print_routing_update(string,\n",
    "                                                                RCL_obj,RCL_veh,RCL_time,show_gap,benchmark)\n",
    "\n",
    "    GA_routes,GA_obj,GA_info,GA_time,_ = pIRPgym.Routing.HybridGenticAlgorithm(purchase,\n",
    "                                                                               inst_gen,env.t,return_top=False,rd_seed=0,time_limit=30)    # Genetic Algorithm\n",
    "    if verbose: string = verb.routing_instances.print_routing_update(string,\n",
    "                                                                GA_obj,len(GA_routes),GA_time,show_gap,benchmark)\n",
    "\n",
    "    HGS_routes,HGS_obj,HGS_time  = pIRPgym.Routing.HyGeSe.HyGeSe_routing(purchase,inst_gen,env.t,time_limit=30)                                  # Hybrid Genetic Search (CVRP)\n",
    "    if verbose: string = verb.routing_instances.print_routing_update(string,\n",
    "                                                                    HGS_obj,len(HGS_routes),HGS_time,show_gap,benchmark,end=True)                                    # Column Generation algorithm\n",
    "\n",
    "    performance = { 'nn':{'Gap':(nn_obj-benchmark[0])/benchmark[0],'Time':nn_time},\n",
    "                    'RCL':{'Gap':(RCL_obj-benchmark[0])/benchmark[0],'Time':RCL_time},\n",
    "                    'GA':{'Gap':(GA_obj-benchmark[0])/benchmark[0],'Time':GA_time},\n",
    "                    'HGS':{'Gap':(HGS_obj-benchmark[0])/benchmark[0],'Time':HGS_time}}\n",
    "\n",
    "    with open(path+f'Experimenting/Juan/Classic Instances/CVRP Results/{instance[:-4]}.pkl', 'wb') as file:\n",
    "        # Use pickle.dump to serialize and save the dictionary to the file\n",
    "        pickle.dump(performance, file)\n",
    "    \n"
   ]
  },
  {
   "cell_type": "code",
   "execution_count": 3,
   "metadata": {},
   "outputs": [
    {
     "ename": "NameError",
     "evalue": "name 'purchase' is not defined",
     "output_type": "error",
     "traceback": [
      "\u001b[0;31m---------------------------------------------------------------------------\u001b[0m",
      "\u001b[0;31mNameError\u001b[0m                                 Traceback (most recent call last)",
      "\u001b[1;32m/Users/juanbeta/My Drive/Research/Supply Chain Analytics/pIRPgym/Experimenting/Juan/dCVRP_instances_eval.ipynb Cell 8\u001b[0m line \u001b[0;36m1\n\u001b[1;32m     <a href='vscode-notebook-cell:/Users/juanbeta/My%20Drive/Research/Supply%20Chain%20Analytics/pIRPgym/Experimenting/Juan/dCVRP_instances_eval.ipynb#X10sZmlsZQ%3D%3D?line=11'>12</a>\u001b[0m results \u001b[39m=\u001b[39m pickle\u001b[39m.\u001b[39mload(file) \n\u001b[1;32m     <a href='vscode-notebook-cell:/Users/juanbeta/My%20Drive/Research/Supply%20Chain%20Analytics/pIRPgym/Experimenting/Juan/dCVRP_instances_eval.ipynb#X10sZmlsZQ%3D%3D?line=13'>14</a>\u001b[0m \u001b[39mfor\u001b[39;00m strategy \u001b[39min\u001b[39;00m strategies:\n\u001b[0;32m---> <a href='vscode-notebook-cell:/Users/juanbeta/My%20Drive/Research/Supply%20Chain%20Analytics/pIRPgym/Experimenting/Juan/dCVRP_instances_eval.ipynb#X10sZmlsZQ%3D%3D?line=14'>15</a>\u001b[0m     performance[strategy][\u001b[39mlen\u001b[39m(purchase)\u001b[39m/\u001b[39m\u001b[39m/\u001b[39m\u001b[39m100\u001b[39m][\u001b[39m'\u001b[39m\u001b[39mGap\u001b[39m\u001b[39m'\u001b[39m]\u001b[39m.\u001b[39mappend(performance[strategy][\u001b[39m'\u001b[39m\u001b[39mGap\u001b[39m\u001b[39m'\u001b[39m])\n\u001b[1;32m     <a href='vscode-notebook-cell:/Users/juanbeta/My%20Drive/Research/Supply%20Chain%20Analytics/pIRPgym/Experimenting/Juan/dCVRP_instances_eval.ipynb#X10sZmlsZQ%3D%3D?line=15'>16</a>\u001b[0m     performance[strategy][\u001b[39mlen\u001b[39m(purchase)\u001b[39m/\u001b[39m\u001b[39m/\u001b[39m\u001b[39m100\u001b[39m][\u001b[39m'\u001b[39m\u001b[39mTime\u001b[39m\u001b[39m'\u001b[39m]\u001b[39m.\u001b[39mappend(performance[strategy][\u001b[39m'\u001b[39m\u001b[39mTime\u001b[39m\u001b[39m'\u001b[39m])\n",
      "\u001b[0;31mNameError\u001b[0m: name 'purchase' is not defined"
     ]
    }
   ],
   "source": [
    "ranges = [i for i in range(1,11)]\n",
    "performance = {'nn':{i:{'Gap':list(),'Time':list()} for i in ranges},\n",
    "               'RCL':{i:{'Gap':list(),'Time':list()} for i in ranges},\n",
    "               'GA':{i:{'Gap':list(),'Time':list()} for i in ranges},\n",
    "               'HGS':{i:{'Gap':list(),'Time':list()} for i in ranges}}\n",
    "\n",
    "strategies = list(performance.keys())\n",
    "\n",
    "for instance in instances:\n",
    "    with open(path+f'Experimenting/Juan/Classic Instances/CVRP Results/{instance[:-4]}.pkl', 'rb') as file:\n",
    "        # Use pickle.dump to serialize and save the dictionary to the file\n",
    "        results = pickle.load(file) \n",
    "\n",
    "        for strategy in strategies:\n",
    "            performance[strategy][len(purchase)//100]['Gap'].append(performance[strategy]['Gap'])\n",
    "            performance[strategy][len(purchase)//100]['Time'].append(performance[strategy]['Time'])"
   ]
  }
 ],
 "metadata": {
  "kernelspec": {
   "display_name": "Python 3",
   "language": "python",
   "name": "python3"
  },
  "language_info": {
   "codemirror_mode": {
    "name": "ipython",
    "version": 3
   },
   "file_extension": ".py",
   "mimetype": "text/x-python",
   "name": "python",
   "nbconvert_exporter": "python",
   "pygments_lexer": "ipython3",
   "version": "3.9.16"
  }
 },
 "nbformat": 4,
 "nbformat_minor": 2
}
