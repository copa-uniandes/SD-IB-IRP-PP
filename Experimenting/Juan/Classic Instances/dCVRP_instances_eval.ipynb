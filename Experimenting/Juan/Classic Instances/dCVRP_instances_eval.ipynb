{
 "cells": [
  {
   "cell_type": "code",
   "execution_count": 1,
   "metadata": {},
   "outputs": [
    {
     "name": "stdout",
     "output_type": "stream",
     "text": [
      "Set parameter Username\n",
      "Academic license - for non-commercial use only - expires 2024-02-11\n"
     ]
    }
   ],
   "source": [
    "######################################     Modules     #######################################\n",
    "import sys\n",
    "from time import process_time\n",
    "import os\n",
    "\n",
    "import verbose_module\n",
    "sys.path.append('../../.')\n",
    "import pIRPgym"
   ]
  },
  {
   "cell_type": "code",
   "execution_count": 2,
   "metadata": {},
   "outputs": [],
   "source": [
    "########################     Instance generator and Environment     #########################\n",
    "# Instance Generator\n",
    "### pIRP model's parameters\n",
    "# Stochasticity\n",
    "stochastic_params = ['d','q']\n",
    "look_ahead = ['d','q']\n",
    "\n",
    "\n",
    "# Historical data\n",
    "historical_data = ['*']\n",
    "\n",
    "\n",
    "# Other parameters\n",
    "backorders = 'backorders'\n",
    "\n",
    "env_config = {  'M':13,'K':15,'T':12,'F':13,'Q':2000,\n",
    "                'S':6,'LA_horizon':4,\n",
    "                'd_max':2000,'hist_window':60,\n",
    "                'back_o_cost':10000\n",
    "            }\n",
    "\n",
    "# Creating instance generator object\n",
    "inst_gen = pIRPgym.instance_generator(look_ahead, stochastic_params,\n",
    "                              historical_data, backorders, env_config = env_config)\n",
    "\n",
    "instances = dict()\n",
    "instances['Li'] = [i for i in os.listdir('/Users/juanbeta/My Drive/Research/Supply Chain Analytics/pIRPenv/pIRPgym/Instances/CVRP Instances/dCVRP/Li') if i[-3:]=='vrp']\n",
    "instances['Golden'] = [i for i in os.listdir('/Users/juanbeta/My Drive/Research/Supply Chain Analytics/pIRPenv/pIRPgym/Instances/CVRP Instances/dCVRP/Golden') if i[-3:]=='vrp']\n",
    "instances['Li'].sort();instances['Golden'].sort()\n",
    "\n",
    "### Environment \n",
    "# Creating environment object\n",
    "routing = True\n",
    "inventory = False    \n",
    "perishability = False\n",
    "env = pIRPgym.steroid_IRP(routing,inventory,perishability)\n",
    "env.reset(inst_gen)"
   ]
  },
  {
   "cell_type": "code",
   "execution_count": 3,
   "metadata": {},
   "outputs": [
    {
     "name": "stdout",
     "output_type": "stream",
     "text": [
      "*************************************  Routing Strategies on Classic Instances  *************************************\n",
      "--------|\tBKS \t|\t   NN \t \t|\t   RCL \t \t|\t   HGA \t \t|\t  HGS*\n",
      "Inst\t| #Veh \t Obj \t| t(s)\t #Veh \t gap \t| t(s) \t #Veh \tgap \t| t(s) \t #Veh \t gap \t| t(s) \t #Veh \t gap \t|\n",
      "----------------------------------------------------------------------------------------------------------------------\n",
      "Li 21 \t| 10 \t16213 \t| 0.05 \t  13\t 28.0 \t| 0.28 \t  13.83\t 32.6 \t|\n",
      "Li 22 \t| 15 \t14499 \t| 0.07 \t  22\t 31.72 \t| 0.29 \t  23.6\t 39.79 \t|\n",
      "Li 23 \t| 10 \t18801 \t| 0.08 \t  14\t 41.85 \t| 0.35 \t  13.1\t 32.02 \t|\n",
      "Li 24 \t| 10 \t21389 \t| 0.1 \t  13\t 30.59 \t| 0.45 \t  13.5\t 32.21 \t|\n",
      "Li 25 \t| 19 \t16666 \t| 0.11 \t  28\t 31.56 \t| 0.46 \t  30.17\t 39.76 \t|\n",
      "Li 26 \t| 10 \t23978 \t| 0.14 \t  14\t 27.61 \t| 0.55 \t  13.9\t 29.14 \t|\n",
      "Li 27 \t| 20 \t17320 \t| 0.14 \t  29\t 26.82 \t| 0.58 \t  30.93\t 35.86 \t|\n",
      "Li 28 \t| 10 \t26566 \t| 0.14 \t  14\t 29.18 \t| 0.65 \t  13.57\t 27.59 \t|\n",
      "Li 29 \t| 10 \t29154 \t| 0.17 \t  14\t 32.12 \t| 0.81 \t  13.47\t 25.17 \t|\n",
      "Li 30 \t| 10 \t31743 \t| 0.24 \t  14\t 30.07 \t| 0.98 \t  13.7\t 24.44 \t|\n",
      "Li 31 \t| 10 \t34331 \t| 0.25 \t  13\t 24.0 \t| 1.11 \t  13.77\t 26.51 \t|\n",
      "Li 32 \t| 11 \t37159 \t| 0.28 \t  12\t 9.44 \t| 1.21 \t  14.3\t 27.78 \t|\n",
      "\n",
      "\n",
      "Go 1 \t| 9 \t5623 \t| 0.01 \t  14\t 32.18 \t| 0.05 \t  13.97\t 34.29 \t|\n",
      "Go 2 \t| 10 \t8405 \t| 0.02 \t  15\t 33.93 \t| 0.08 \t  15.3\t 37.95 \t|\n",
      "Go 3 \t| 9 \t10998 \t| 0.03 \t  15\t 39.93 \t| 0.13 \t  14.2\t 35.08 \t|\n",
      "Go 4 \t| 10 \t13589 \t| 0.04 \t  13\t 31.83 \t| 0.19 \t  13.03\t 27.94 \t|\n",
      "Go 5 \t| 5 \t6461 \t| 0.01 \t  6\t 49.44 \t| 0.03 \t  5.9\t 32.72 \t|\n",
      "Go 6 \t| 7 \t8400 \t| 0.01 \t  8\t 22.97 \t| 0.07 \t  8.27\t 24.78 \t|\n",
      "Go 7 \t| 8 \t10103 \t| 0.02 \t  11\t 23.5 \t| 0.11 \t  11.83\t 29.62 \t|\n",
      "Go 8 \t| 10 \t11635 \t| 0.03 \t  15\t 34.25 \t| 0.16 \t  15.73\t 38.1 \t|\n",
      "\n",
      "\n"
     ]
    }
   ],
   "source": [
    "################################## Policy Evaluation ##################################\n",
    "''' Parameters '''\n",
    "verbose = True\n",
    "show_gap = True\n",
    "\n",
    "if verbose: verbose_module.routing_instances.print_head(show_gap)\n",
    "\n",
    "for ss,inst_list in instances.items():\n",
    "    for instance in inst_list:\n",
    "        # Upload dCVRP instance\n",
    "        purchase,benchmark = inst_gen.upload_CVRP_instance(ss, instance)\n",
    "\n",
    "        if verbose: string = verbose_module.routing_instances.print_inst(ss,instance,benchmark[0],benchmark[1])\n",
    "\n",
    "        nn_routes,nn_obj,nn_info,nn_time = pIRPgym.Routing.NearestNeighbor(purchase,inst_gen,env.t)                                         # Nearest Neighbor\n",
    "        if verbose: string = verbose_module.routing_instances.print_routing_update(string,\n",
    "                                                                    nn_obj,len(nn_routes),nn_time,show_gap,benchmark)\n",
    "            \n",
    "        RCL_obj,RCL_veh,RCL_time = pIRPgym.Routing.evaluate_stochastic_policy(pIRPgym.Routing.RCL_Heuristic,\n",
    "                                                                                           purchase,inst_gen,env,n=30,return_average=True)\n",
    "        if verbose: string = verbose_module.routing_instances.print_routing_update(string,\n",
    "                                                                    RCL_obj,RCL_veh,RCL_time,show_gap,benchmark,end=True)\n",
    "        # RCL_routes,RCL_obj,RCL_info,RCL_time  = pIRPgym.Routing.RCL_Heuristic(purchase,inst_gen,env.t,RCL_alpha=0.001)                                 # RCL based constructive\n",
    "        # if verbose: string = verbose_module.routing_instances.print_routing_update(string,\n",
    "        #                                                             RCL_obj,len(RCL_routes),RCL_time,show_gap,benchmark)\n",
    "        # GA_routes,GA_obj,GA_info,GA_time,_ = pIRPgym.Routing.HybridGenticAlgorithm(purchase,inst_gen,env.t,return_top=False,rd_seed=0,time_limit=30)    # Genetic Algorithm\n",
    "        # if verbose: string = verbose_module.routing_instances.print_routing_update(string,\n",
    "        #                                                             GA_obj,len(GA_routes),GA_time,show_gap,benchmark)\n",
    "        # HyGeSe_routes, HyGeSe_distance, HyGeSe_time  = pIRPgym.Routing.HyGeSe.HyGeSe_routing(purchase,inst_gen,env.t,time_limit=30)                                  # Hybrid Genetic Search (CVRP)\n",
    "        # if verbose: string = verbose_module.routing_instances.print_routing_update(string,HyGeSe_distance,len(HyGeSe_routes),HyGeSe_time,show_gap,benchmark,True)                                    # Column Generation algorithm\n",
    "    print('\\n')"
   ]
  }
 ],
 "metadata": {
  "kernelspec": {
   "display_name": "Python 3",
   "language": "python",
   "name": "python3"
  },
  "language_info": {
   "codemirror_mode": {
    "name": "ipython",
    "version": 3
   },
   "file_extension": ".py",
   "mimetype": "text/x-python",
   "name": "python",
   "nbconvert_exporter": "python",
   "pygments_lexer": "ipython3",
   "version": "3.9.16"
  }
 },
 "nbformat": 4,
 "nbformat_minor": 2
}
