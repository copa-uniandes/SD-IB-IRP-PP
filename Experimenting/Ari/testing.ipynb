{
 "cells": [
  {
   "cell_type": "code",
   "execution_count": 5,
   "metadata": {},
   "outputs": [],
   "source": [
    "from random import seed, randint\n",
    "import ast; import sys; from time import process_time\n",
    "import numpy as np\n",
    "\n",
    "sys.path.append('../../.')\n",
    "import pIRPgym\n",
    "\n",
    "########################     Instance generator and Environment     #########################\n",
    "### pIRP model's parameters\n",
    "# Stochasticity\n",
    "stochastic_params = ['d','q']; look_ahead = ['d','q']\n",
    "\n",
    "# Historical data\n",
    "historical_data = ['*']\n",
    "\n",
    "# Other parameters\n",
    "backorders = 'backorders'\n",
    "\n",
    "# Random Instance\n",
    "q_params = {'dist': 'c_uniform', 'r_f_params': [6,20]}          # Supply\n",
    "p_params = {'dist': 'd_uniform', 'r_f_params': [20,61]}         # Purchase costs at suppliers'\n",
    "\n",
    "d_params = {'dist': 'log-normal', 'r_f_params': [3,1]}          # Demand\n",
    "\n",
    "h_params = {'dist': 'd_uniform', 'r_f_params': [20,61]}         # Holding costs\n",
    "\n",
    "### Environment \n",
    "# Creating environment object\n",
    "inventory = True; routing = True; perishability = \"ages\"\n",
    "env = pIRPgym.steroid_IRP(routing, inventory, perishability)"
   ]
  },
  {
   "cell_type": "code",
   "execution_count": 6,
   "metadata": {},
   "outputs": [
    {
     "name": "stdout",
     "output_type": "stream",
     "text": [
      "[1, 2, 3, 4, 5, 6, 7]\n",
      "File\n",
      "Done\n",
      "Done\n",
      "Done\n",
      "Done\n",
      "Done\n"
     ]
    }
   ],
   "source": [
    "################################## Policy Evaluation ##################################\n",
    "env_config = {'M':7,'K':10,'T':5,'F':7,'Q':1500,\n",
    "              'S':6,'LA_horizon':4,\n",
    "             'd_max':2000,'hist_window':60,\n",
    "             'back_o_cost':5000}\n",
    "\n",
    "stoch_rd_seed = 10; det_rd_seed = 20 # Random seeds\n",
    "\n",
    "# Creating instance generator object\n",
    "inst_gen = pIRPgym.instance_generator(look_ahead, stochastic_params, historical_data, backorders, env_config = env_config)\n",
    "inst_gen.generate_basic_random_instance(det_rd_seed,stoch_rd_seed,q_params=q_params, p_params=p_params,d_params=d_params,h_params=h_params)\n",
    "\n",
    "# Resetting the environment\n",
    "state = env.reset(inst_gen,return_state=True)\n",
    "start = process_time()\n",
    "\n",
    "# Reseting the environment\n",
    "state = env.reset(inst_gen,return_state=True); done = False\n",
    "while not done:\n",
    "\n",
    "    ''' Objectives Pay-off Matrix and Normalization '''\n",
    "    \n",
    "\n",
    "    ''' Purchase'''\n",
    "    [purchase,demand_compliance], la_dec = pIRPgym.Inventory.Stochastic_Rolling_Horizon(state,env,inst_gen)\n",
    "    \n",
    "    ''' Routing '''\n",
    "    GA_routes,GA_obj,GA_info,GA_time,_ = pIRPgym.Routing.HybridGenticAlgorithm(purchase,inst_gen,env.t,return_top=False,rd_seed=0,time_limit=30)\n",
    "\n",
    "    ''' Complete Action '''        \n",
    "    action = {'routing':GA_routes,'purchase':purchase,'demand_compliance':demand_compliance}\n",
    "\n",
    "    state, reward, done, real_action, _,  = env.step(action,inst_gen)"
   ]
  },
  {
   "cell_type": "code",
   "execution_count": 7,
   "metadata": {},
   "outputs": [
    {
     "data": {
      "text/plain": [
       "[[0, 1, 6, 7, 5, 0], [0, 4, 2, 3, 0]]"
      ]
     },
     "execution_count": 7,
     "metadata": {},
     "output_type": "execute_result"
    }
   ],
   "source": [
    "GA_routes"
   ]
  },
  {
   "cell_type": "code",
   "execution_count": null,
   "metadata": {},
   "outputs": [],
   "source": [
    "range(4,4)\n",
    "\n",
    "range(4,6-1-1)"
   ]
  },
  {
   "cell_type": "code",
   "execution_count": 8,
   "metadata": {},
   "outputs": [
    {
     "data": {
      "text/plain": [
       "{1: 2, 3: 4, 5: 6}"
      ]
     },
     "execution_count": 8,
     "metadata": {},
     "output_type": "execute_result"
    }
   ],
   "source": [
    "a = {1:2, 3:4}\n",
    "b = {5:6}\n",
    "\n",
    "a.update(b); a"
   ]
  }
 ],
 "metadata": {
  "kernelspec": {
   "display_name": "Python 3",
   "language": "python",
   "name": "python3"
  },
  "language_info": {
   "codemirror_mode": {
    "name": "ipython",
    "version": 3
   },
   "file_extension": ".py",
   "mimetype": "text/x-python",
   "name": "python",
   "nbconvert_exporter": "python",
   "pygments_lexer": "ipython3",
   "version": "3.10.13"
  }
 },
 "nbformat": 4,
 "nbformat_minor": 2
}
