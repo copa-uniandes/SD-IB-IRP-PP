{
 "cells": [
  {
   "cell_type": "code",
   "execution_count": 1,
   "metadata": {},
   "outputs": [],
   "source": [
    "import verbose_module; import sys; import os\n",
    "import matplotlib.pyplot as plt\n",
    "import seaborn as sns; import pandas as pd\n",
    "import numpy as np\n",
    "\n",
    "from scipy.stats import ttest_rel\n",
    "from pickle import load\n",
    "from matplotlib.patches import Circle\n",
    "from webcolors import name_to_rgb\n",
    "\n",
    "import warnings\n",
    "warnings.simplefilter(action='ignore', category=FutureWarning)\n",
    "warnings.simplefilter(action='ignore', category=RuntimeWarning)\n",
    "\n",
    "sys.path.append('../../.')\n",
    "import pIRPgym\n",
    "\n",
    "other_path = True"
   ]
  },
  {
   "cell_type": "code",
   "execution_count": 3,
   "metadata": {},
   "outputs": [],
   "source": [
    "weights = [[1,0,0,0,0], [0,1,0,0,0], [0,0,1,0,0], [0,0,0,1,0], [0,0,0,0,1]]\n",
    "thetas = [0.95, 0.9, 0.8]\n",
    "gammas = [1, 0.99]\n",
    "min_qs = [0.1]\n",
    "\n",
    "for w in weights:\n",
    "    for theta in thetas:\n",
    "        for gamma in gammas:\n",
    "            for min_q in min_qs:\n",
    "                for it in range(24):\n",
    "\n",
    "                    inst_gen = verbose_module.import_results.import_instance_parameters(w, it, True, theta, gamma, min_q)\n",
    "                    rewards = verbose_module.import_results.import_rewards(w, it, True, theta, gamma, min_q)\n",
    "                    perished = verbose_module.import_results.import_perished(w, it, True, theta, gamma, min_q)\n",
    "\n",
    "                    for t in inst_gen.Horizon:\n",
    "                        \n",
    "                        for e in inst_gen.E:\n",
    "                            for k in inst_gen.Products:\n",
    "\n",
    "                                rewards[t+1][e][k] += inst_gen.waste_LCA[e][k]*perished[t+1][k]\n",
    "                    \n",
    "                    verbose_module.export_results.export_rewards(w, it, rewards, True, theta, gamma, min_q)\n"
   ]
  }
 ],
 "metadata": {
  "kernelspec": {
   "display_name": "vscode",
   "language": "python",
   "name": "python3"
  },
  "language_info": {
   "codemirror_mode": {
    "name": "ipython",
    "version": 3
   },
   "file_extension": ".py",
   "mimetype": "text/x-python",
   "name": "python",
   "nbconvert_exporter": "python",
   "pygments_lexer": "ipython3",
   "version": "3.10.10"
  }
 },
 "nbformat": 4,
 "nbformat_minor": 2
}
