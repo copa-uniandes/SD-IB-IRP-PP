{
 "cells": [
  {
   "cell_type": "code",
   "execution_count": 1,
   "metadata": {},
   "outputs": [],
   "source": [
    "from SD_IB_IRP_PPenv import steroid_IRP\n",
    "from Policies import policies"
   ]
  },
  {
   "cell_type": "markdown",
   "metadata": {},
   "source": [
    "# Policy Evaluation\n",
    "\n",
    "This Notebook has a complete Policy Evaluation function for the Stochastic-Dynamic Inventory-Routing-Problem with Perishable Products. First, the main parameters of the problem and the environment must be set. All the main customizable parameters are below."
   ]
  },
  {
   "cell_type": "code",
   "execution_count": 2,
   "metadata": {},
   "outputs": [],
   "source": [
    "#################################   Environment's parameters   #################################\n",
    "# SD-IB-IRP-PP model's parameters\n",
    "horizon_type = 'episodic'\n",
    "backorders = False\n",
    "stochastic_parameters = False\n",
    "\n",
    "# Feature's parameters\n",
    "look_ahead = ['*']\n",
    "historical_data = ['*']\n",
    "\n",
    "# Action's parameters\n",
    "validate_action = False\n",
    "warnings = True\n",
    "\n",
    "# Other parameters\n",
    "rd_seed = 0\n",
    "num_episodes = 1000\n",
    "env_config = {  'M': 4, \n",
    "                'K': 4, \n",
    "                'T': 5, \n",
    "                'F': 10, \n",
    "                \n",
    "                'min_sprice': 1,\n",
    "                'max_sprice': 500, \n",
    "                'min_hprice': 1,\n",
    "                'max_hprice': 500,\n",
    "\n",
    "                'back_o_cost':20,\n",
    "                \n",
    "                'S': 5, \n",
    "                'LA_horizon': 4, \n",
    "                'lambda1': 0.5\n",
    "            }\n",
    "#################################   Environment's parameters   #################################"
   ]
  },
  {
   "cell_type": "markdown",
   "metadata": {},
   "source": [
    "Next, the policy evaluation is defined. This function only takes one parameter, the number of episodes that will be runned of the environment. All the policies to be evaluated must be in the 'Policies.py' file. Any policy used must be able to receive the state, the additional information in _ and the environment as a parameters. Also, the policy function must return an action in the format defined in the Toying.ipynb."
   ]
  },
  {
   "cell_type": "code",
   "execution_count": 7,
   "metadata": {},
   "outputs": [],
   "source": [
    "'''\n",
    "\n",
    "'''\n",
    "def Policy_evaluation(num_episodes = 1000):\n",
    "    \n",
    "    rewards = {}\n",
    "    states = {}\n",
    "    actions = {}\n",
    "    env = steroid_IRP(  horizon_type = horizon_type, look_ahead = look_ahead, historical_data = historical_data,\n",
    "                        backorders = backorders, stochastic_parameters = stochastic_parameters, rd_seed = rd_seed,\n",
    "                        env_config = env_config)\n",
    "\n",
    "    policy = policies()\n",
    "\n",
    "    for episode in range(2):\n",
    "\n",
    "        state, _ = env.reset(return_state = True)\n",
    "        print(env.d)\n",
    "        done = False\n",
    "\n",
    "        while not done:\n",
    "            \n",
    "            states[episode,env.t] = state\n",
    "            action = policy.det_rolling_horizon(state, _, env)\n",
    "            print(state)\n",
    "            print(action)\n",
    "            state, reward, done, _ = env.step(action, validate_action = validate_action, warnings = warnings)\n",
    "\n",
    "            actions[episode,env.t] = action\n",
    "            rewards[episode,env.t] = reward\n",
    "\n",
    "    return rewards, states, actions"
   ]
  },
  {
   "cell_type": "code",
   "execution_count": 8,
   "metadata": {},
   "outputs": [
    {
     "name": "stdout",
     "output_type": "stream",
     "text": [
      "{0: 16.5, 1: 23.5, 2: 12.0, 3: 0.0}\n",
      "{(0, 1): 0, (0, 2): 0, (0, 3): 0, (0, 4): 0, (1, 1): 0, (1, 2): 0, (1, 3): 0, (1, 4): 0, (2, 1): 0, (3, 1): 0, (3, 2): 0, (3, 3): 0}\n",
      "[[], {(1, 0): 0.0, (1, 1): 0.0, (1, 2): -0.0, (1, 3): 0, (2, 0): 0.0, (2, 1): 0.0, (2, 2): 0, (2, 3): 0, (3, 0): 0.0, (3, 1): 0.0, (3, 2): 0, (3, 3): 0}, {(0, 0): 0.0, (0, 1): 0.0, (0, 2): 0.0, (0, 3): 0.0, (0, 4): 0.0, (1, 0): 0.0, (1, 1): 0.0, (1, 2): 0.0, (1, 3): 0.0, (1, 4): 0.0, (2, 0): 0.0, (2, 1): 0.0, (3, 0): 0.0, (3, 1): 0.0, (3, 2): 0.0, (3, 3): 0.0}]\n",
      "\u001b[33mWarning! Demand of product 0 was not fulfilled\u001b[0m\n",
      "\u001b[33mWarning! Demand of product 1 was not fulfilled\u001b[0m\n",
      "\u001b[33mWarning! Demand of product 2 was not fulfilled\u001b[0m\n",
      "{(0, 1): 0.0, (0, 2): 0.0, (0, 3): 0.0, (0, 4): 0.0, (1, 1): 0.0, (1, 2): 0.0, (1, 3): 0.0, (1, 4): 0.0, (2, 1): 0.0, (3, 1): 0.0, (3, 2): 0.0, (3, 3): 0.0}\n",
      "[[], {(1, 0): 0.0, (1, 1): 0, (1, 2): 0, (1, 3): 0, (2, 0): 0.0, (2, 1): 0, (2, 2): 0.0, (2, 3): 0, (3, 0): 0.0, (3, 1): 0, (3, 2): 0.0, (3, 3): 0}, {(0, 0): 0.0, (0, 1): 0.0, (0, 2): 0.0, (0, 3): 0.0, (0, 4): 0.0, (1, 0): 0.0, (1, 1): 0.0, (1, 2): 0.0, (1, 3): 0.0, (1, 4): 0.0, (2, 0): 0.0, (2, 1): 0.0, (3, 0): 0.0, (3, 1): 0.0, (3, 2): 0.0, (3, 3): 0.0}]\n",
      "\u001b[33mWarning! Demand of product 0 was not fulfilled\u001b[0m\n",
      "\u001b[33mWarning! Demand of product 2 was not fulfilled\u001b[0m\n",
      "{(0, 1): 0.0, (0, 2): 0.0, (0, 3): 0.0, (0, 4): 0.0, (1, 1): 0.0, (1, 2): 0.0, (1, 3): 0.0, (1, 4): 0.0, (2, 1): 0.0, (3, 1): 0.0, (3, 2): 0.0, (3, 3): 0.0}\n",
      "[[], {(1, 0): 0.0, (1, 1): -0.0, (1, 2): 0.0, (1, 3): 0, (2, 0): 0.0, (2, 1): 0, (2, 2): 0.0, (2, 3): 0, (3, 0): 0.0, (3, 1): 0, (3, 2): 0.0, (3, 3): -0.0}, {(0, 0): 0.0, (0, 1): 0.0, (0, 2): 0.0, (0, 3): 0.0, (0, 4): 0.0, (1, 0): 0.0, (1, 1): 0.0, (1, 2): 0.0, (1, 3): 0.0, (1, 4): 0.0, (2, 0): 0.0, (2, 1): 0.0, (3, 0): 0.0, (3, 1): 0.0, (3, 2): 0.0, (3, 3): 0.0}]\n",
      "\u001b[33mWarning! Demand of product 0 was not fulfilled\u001b[0m\n",
      "\u001b[33mWarning! Demand of product 1 was not fulfilled\u001b[0m\n",
      "\u001b[33mWarning! Demand of product 2 was not fulfilled\u001b[0m\n",
      "\u001b[33mWarning! Demand of product 3 was not fulfilled\u001b[0m\n",
      "{(0, 1): 0.0, (0, 2): 0.0, (0, 3): 0.0, (0, 4): 0.0, (1, 1): 0.0, (1, 2): 0.0, (1, 3): 0.0, (1, 4): 0.0, (2, 1): 0.0, (3, 1): 0.0, (3, 2): 0.0, (3, 3): 0.0}\n",
      "[[], {(1, 0): 0, (1, 1): 0, (1, 2): 0.0, (1, 3): 0, (2, 0): 0, (2, 1): 0, (2, 2): 0, (2, 3): -0.0, (3, 0): 0, (3, 1): 0, (3, 2): 0.0, (3, 3): 0}, {(0, 0): 0.0, (0, 1): 0.0, (0, 2): 0.0, (0, 3): 0.0, (0, 4): 0.0, (1, 0): 0.0, (1, 1): 0.0, (1, 2): 0.0, (1, 3): 0.0, (1, 4): 0.0, (2, 0): 0.0, (2, 1): 0.0, (3, 0): 0.0, (3, 1): 0.0, (3, 2): 0.0, (3, 3): 0.0}]\n",
      "\u001b[33mWarning! Demand of product 2 was not fulfilled\u001b[0m\n",
      "\u001b[33mWarning! Demand of product 3 was not fulfilled\u001b[0m\n",
      "{(0, 1): 0.0, (0, 2): 0.0, (0, 3): 0.0, (0, 4): 0.0, (1, 1): 0.0, (1, 2): 0.0, (1, 3): 0.0, (1, 4): 0.0, (2, 1): 0.0, (3, 1): 0.0, (3, 2): 0.0, (3, 3): 0.0}\n",
      "[[], {(1, 0): 0, (1, 1): 0, (1, 2): 0.0, (1, 3): 0, (2, 0): 0, (2, 1): -0.0, (2, 2): 0.0, (2, 3): 0, (3, 0): -0.0, (3, 1): 0, (3, 2): 0.0, (3, 3): 0}, {(0, 0): 0.0, (0, 1): 0.0, (0, 2): 0.0, (0, 3): 0.0, (0, 4): 0.0, (1, 0): 0.0, (1, 1): 0.0, (1, 2): 0.0, (1, 3): 0.0, (1, 4): 0.0, (2, 0): 0.0, (2, 1): 0.0, (3, 0): 0.0, (3, 1): 0.0, (3, 2): 0.0, (3, 3): 0.0}]\n",
      "\u001b[33mWarning! Demand of product 0 was not fulfilled\u001b[0m\n",
      "\u001b[33mWarning! Demand of product 1 was not fulfilled\u001b[0m\n",
      "\u001b[33mWarning! Demand of product 2 was not fulfilled\u001b[0m\n",
      "{0: 15.5, 1: 4.0, 2: 16.0, 3: 13.5}\n",
      "{(0, 1): 0, (0, 2): 0, (0, 3): 0, (0, 4): 0, (1, 1): 0, (1, 2): 0, (1, 3): 0, (1, 4): 0, (1, 5): 0, (2, 1): 0, (2, 2): 0, (2, 3): 0, (3, 1): 0, (3, 2): 0}\n",
      "[[], {(1, 0): 0.0, (1, 1): 0.0, (1, 2): 0.0, (1, 3): 0.0, (2, 0): 0.0, (2, 1): 0.0, (2, 2): 0.0, (2, 3): 0.0, (3, 0): 0.0, (3, 1): 0.0, (3, 2): 0.0, (3, 3): 0}, {(0, 0): 0.0, (0, 1): 0.0, (0, 2): 0.0, (0, 3): 0.0, (0, 4): 0.0, (1, 0): 0.0, (1, 1): 0.0, (1, 2): 0.0, (1, 3): 0.0, (1, 4): 0.0, (1, 5): 0.0, (2, 0): 0.0, (2, 1): 0.0, (2, 2): 0.0, (2, 3): 0.0, (3, 0): 0.0, (3, 1): 0.0, (3, 2): 0.0}]\n",
      "\u001b[33mWarning! Demand of product 0 was not fulfilled\u001b[0m\n",
      "\u001b[33mWarning! Demand of product 1 was not fulfilled\u001b[0m\n",
      "\u001b[33mWarning! Demand of product 2 was not fulfilled\u001b[0m\n",
      "\u001b[33mWarning! Demand of product 3 was not fulfilled\u001b[0m\n",
      "{(0, 1): 0.0, (0, 2): 0.0, (0, 3): 0.0, (0, 4): 0.0, (1, 1): 0.0, (1, 2): 0.0, (1, 3): 0.0, (1, 4): 0.0, (1, 5): 0.0, (2, 1): 0.0, (2, 2): 0.0, (2, 3): 0.0, (3, 1): 0.0, (3, 2): 0.0}\n",
      "[[], {(1, 0): 0.0, (1, 1): 0, (1, 2): 0, (1, 3): 0.0, (2, 0): 0, (2, 1): 0, (2, 2): 0, (2, 3): 0.0, (3, 0): 0.0, (3, 1): 0, (3, 2): 0, (3, 3): 0.0}, {(0, 0): 0.0, (0, 1): 0.0, (0, 2): 0.0, (0, 3): 0.0, (0, 4): 0.0, (1, 0): 0.0, (1, 1): 0.0, (1, 2): 0.0, (1, 3): 0.0, (1, 4): 0.0, (1, 5): 0.0, (2, 0): 0.0, (2, 1): 0.0, (2, 2): 0.0, (2, 3): 0.0, (3, 0): 0.0, (3, 1): 0.0, (3, 2): 0.0}]\n",
      "\u001b[33mWarning! Demand of product 0 was not fulfilled\u001b[0m\n",
      "\u001b[33mWarning! Demand of product 3 was not fulfilled\u001b[0m\n",
      "{(0, 1): 0.0, (0, 2): 0.0, (0, 3): 0.0, (0, 4): 0.0, (1, 1): 0.0, (1, 2): 0.0, (1, 3): 0.0, (1, 4): 0.0, (1, 5): 0.0, (2, 1): 0.0, (2, 2): 0.0, (2, 3): 0.0, (3, 1): 0.0, (3, 2): 0.0}\n",
      "[[], {(1, 0): 0, (1, 1): 0, (1, 2): 0.0, (1, 3): 0.0, (2, 0): 0.0, (2, 1): 0, (2, 2): 0.0, (2, 3): 0.0, (3, 0): 0.0, (3, 1): 0, (3, 2): 0, (3, 3): 0.0}, {(0, 0): 0.0, (0, 1): 0.0, (0, 2): 0.0, (0, 3): 0.0, (0, 4): 0.0, (1, 0): 0.0, (1, 1): 0.0, (1, 2): 0.0, (1, 3): 0.0, (1, 4): 0.0, (1, 5): 0.0, (2, 0): 0.0, (2, 1): 0.0, (2, 2): 0.0, (2, 3): 0.0, (3, 0): 0.0, (3, 1): 0.0, (3, 2): 0.0}]\n",
      "\u001b[33mWarning! Demand of product 0 was not fulfilled\u001b[0m\n",
      "\u001b[33mWarning! Demand of product 2 was not fulfilled\u001b[0m\n",
      "\u001b[33mWarning! Demand of product 3 was not fulfilled\u001b[0m\n",
      "{(0, 1): 0.0, (0, 2): 0.0, (0, 3): 0.0, (0, 4): 0.0, (1, 1): 0.0, (1, 2): 0.0, (1, 3): 0.0, (1, 4): 0.0, (1, 5): 0.0, (2, 1): 0.0, (2, 2): 0.0, (2, 3): 0.0, (3, 1): 0.0, (3, 2): 0.0}\n",
      "[[], {(1, 0): 0, (1, 1): 0.0, (1, 2): 0, (1, 3): 0.0, (2, 0): 0.0, (2, 1): 0.0, (2, 2): 0, (2, 3): 0.0, (3, 0): 0.0, (3, 1): 0, (3, 2): 0, (3, 3): 0.0}, {(0, 0): 0.0, (0, 1): 0.0, (0, 2): 0.0, (0, 3): 0.0, (0, 4): 0.0, (1, 0): 0.0, (1, 1): 0.0, (1, 2): 0.0, (1, 3): 0.0, (1, 4): 0.0, (1, 5): 0.0, (2, 0): 0.0, (2, 1): 0.0, (2, 2): 0.0, (2, 3): 0.0, (3, 0): 0.0, (3, 1): 0.0, (3, 2): 0.0}]\n",
      "\u001b[33mWarning! Demand of product 0 was not fulfilled\u001b[0m\n",
      "\u001b[33mWarning! Demand of product 1 was not fulfilled\u001b[0m\n",
      "\u001b[33mWarning! Demand of product 3 was not fulfilled\u001b[0m\n",
      "{(0, 1): 0.0, (0, 2): 0.0, (0, 3): 0.0, (0, 4): 0.0, (1, 1): 0.0, (1, 2): 0.0, (1, 3): 0.0, (1, 4): 0.0, (1, 5): 0.0, (2, 1): 0.0, (2, 2): 0.0, (2, 3): 0.0, (3, 1): 0.0, (3, 2): 0.0}\n",
      "[[], {(1, 0): 0, (1, 1): 0.0, (1, 2): 0.0, (1, 3): 0.0, (2, 0): 0, (2, 1): 0.0, (2, 2): 0.0, (2, 3): 0.0, (3, 0): 0, (3, 1): 0.0, (3, 2): 0, (3, 3): 0}, {(0, 0): 0.0, (0, 1): 0.0, (0, 2): 0.0, (0, 3): 0.0, (0, 4): 0.0, (1, 0): 0.0, (1, 1): 0.0, (1, 2): 0.0, (1, 3): 0.0, (1, 4): 0.0, (1, 5): 0.0, (2, 0): 0.0, (2, 1): 0.0, (2, 2): 0.0, (2, 3): 0.0, (3, 0): 0.0, (3, 1): 0.0, (3, 2): 0.0}]\n",
      "\u001b[33mWarning! Demand of product 1 was not fulfilled\u001b[0m\n",
      "\u001b[33mWarning! Demand of product 2 was not fulfilled\u001b[0m\n",
      "\u001b[33mWarning! Demand of product 3 was not fulfilled\u001b[0m\n"
     ]
    }
   ],
   "source": [
    "rewards, states, actions = Policy_evaluation(num_episodes = num_episodes)"
   ]
  },
  {
   "cell_type": "code",
   "execution_count": null,
   "metadata": {},
   "outputs": [],
   "source": []
  }
 ],
 "metadata": {
  "kernelspec": {
   "display_name": "Python 3.10.4 64-bit",
   "language": "python",
   "name": "python3"
  },
  "language_info": {
   "codemirror_mode": {
    "name": "ipython",
    "version": 3
   },
   "file_extension": ".py",
   "mimetype": "text/x-python",
   "name": "python",
   "nbconvert_exporter": "python",
   "pygments_lexer": "ipython3",
   "version": "3.10.4"
  },
  "orig_nbformat": 4,
  "vscode": {
   "interpreter": {
    "hash": "aee8b7b246df8f9039afb4144a1f6fd8d2ca17a180786b69acc140d282b71a49"
   }
  }
 },
 "nbformat": 4,
 "nbformat_minor": 2
}
