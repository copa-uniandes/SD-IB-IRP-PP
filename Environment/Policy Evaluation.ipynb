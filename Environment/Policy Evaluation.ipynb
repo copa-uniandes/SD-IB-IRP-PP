{
 "cells": [
  {
   "cell_type": "code",
   "execution_count": null,
   "metadata": {},
   "outputs": [],
   "source": [
    "from SD_IB_IRP_PPenv import steroid_IRP"
   ]
  },
  {
   "cell_type": "markdown",
   "metadata": {},
   "source": [
    "# Policy Evaluation\n",
    "\n",
    "This Notebook has a complete Policy Evaluation function for the Stochastic-Dynamic Inventory-Routing-Problem with Perishable Products. The main function of the Notebook is described as follows."
   ]
  },
  {
   "cell_type": "code",
   "execution_count": null,
   "metadata": {},
   "outputs": [],
   "source": [
    "#################################   Environment's parameters   #################################\n",
    "# SD-IB-IRP-PP model's parameters\n",
    "horizon_type = 'episodic'\n",
    "backorders = False\n",
    "stochastic_parameters = False\n",
    "\n",
    "# Feature's parameters\n",
    "look_ahead = ['*']\n",
    "historical_data = ['*']\n",
    "\n",
    "# Action's parameters\n",
    "validate_action = True\n",
    "warnings = True\n",
    "\n",
    "# Other parameters\n",
    "rd_seed = 0\n",
    "env_config = {  'M': 10, \n",
    "                'K': 10, \n",
    "                'T': 14, \n",
    "                'F': 10, \n",
    "                \n",
    "                'min_sprice': 1,\n",
    "                'max_sprice': 500, \n",
    "                'min_hprice': 1,\n",
    "                'max_hprice': 500,\n",
    "                \n",
    "                'S': 5, \n",
    "                'LA_horizon': 4, \n",
    "                'lambda1': 0.5\n",
    "            }\n",
    "#################################   Environment's parameters   #################################"
   ]
  },
  {
   "cell_type": "code",
   "execution_count": 4,
   "metadata": {},
   "outputs": [
    {
     "ename": "SyntaxError",
     "evalue": "invalid syntax (1346044467.py, line 1)",
     "output_type": "error",
     "traceback": [
      "\u001b[0;36m  Input \u001b[0;32mIn [4]\u001b[0;36m\u001b[0m\n\u001b[0;31m    def Policy_evaluation(policy function, num_episodes = 1000):\u001b[0m\n\u001b[0m                                 ^\u001b[0m\n\u001b[0;31mSyntaxError\u001b[0m\u001b[0;31m:\u001b[0m invalid syntax\n"
     ]
    }
   ],
   "source": [
    "'''\n",
    "\n",
    "'''\n",
    "def Policy_evaluation(policy_function, num_episodes = 1000):\n",
    "    \n",
    "    rewards = {}\n",
    "    states = {}\n",
    "    actons = {}\n",
    "    env = steroid_IRP(  horizon_type = horizon_type, look_ahead = look_ahead, historical_data = historical_data, \n",
    "                        backorders = backorders, stochastic_parameters = stochastic_parameters, rd_seed = rd_seed,\n",
    "                        env_config = env_config)\n",
    "\n",
    "    for episode in range(num_episodes):\n",
    "\n",
    "        state, _ = env.reset(return_state = True)\n",
    "        done = False\n",
    "\n",
    "        while not done:\n",
    "            \n",
    "            states[episode,env.t] = state\n",
    "\n",
    "            action = policy_function(state, _, env)\n",
    "            state, reward, done, _ = env.step(action, validate_action = validate_action, warnings = warnings)\n",
    "\n",
    "            action[episode, env.t] = action\n",
    "            rewards[episode,env.t] = reward\n",
    "\n",
    "    return rewards, states"
   ]
  }
 ],
 "metadata": {
  "kernelspec": {
   "display_name": "Python 3.10.4 64-bit",
   "language": "python",
   "name": "python3"
  },
  "language_info": {
   "codemirror_mode": {
    "name": "ipython",
    "version": 3
   },
   "file_extension": ".py",
   "mimetype": "text/x-python",
   "name": "python",
   "nbconvert_exporter": "python",
   "pygments_lexer": "ipython3",
   "version": "3.10.4"
  },
  "orig_nbformat": 4,
  "vscode": {
   "interpreter": {
    "hash": "aee8b7b246df8f9039afb4144a1f6fd8d2ca17a180786b69acc140d282b71a49"
   }
  }
 },
 "nbformat": 4,
 "nbformat_minor": 2
}
