{
 "cells": [
  {
   "cell_type": "code",
   "execution_count": 1,
   "metadata": {},
   "outputs": [],
   "source": [
    "from SD_IB_IRP_PPenv import steroid_IRP\n",
    "from Policies import policies"
   ]
  },
  {
   "cell_type": "markdown",
   "metadata": {},
   "source": [
    "# Policy Evaluation\n",
    "\n",
    "This Notebook has a complete Policy Evaluation function for the Stochastic-Dynamic Inventory-Routing-Problem with Perishable Products. The main function of the Notebook is described as follows."
   ]
  },
  {
   "cell_type": "code",
   "execution_count": 2,
   "metadata": {},
   "outputs": [],
   "source": [
    "#################################   Environment's parameters   #################################\n",
    "# SD-IB-IRP-PP model's parameters\n",
    "horizon_type = 'episodic'\n",
    "backorders = False\n",
    "stochastic_parameters = False\n",
    "\n",
    "# Feature's parameters\n",
    "look_ahead = ['*']\n",
    "historical_data = ['*']\n",
    "\n",
    "# Action's parameters\n",
    "validate_action = False\n",
    "warnings = True\n",
    "\n",
    "# Other parameters\n",
    "rd_seed = 0\n",
    "num_episodes = 1000\n",
    "env_config = {  'M': 10, \n",
    "                'K': 10, \n",
    "                'T': 14, \n",
    "                'F': 10, \n",
    "                \n",
    "                'min_sprice': 1,\n",
    "                'max_sprice': 500, \n",
    "                'min_hprice': 1,\n",
    "                'max_hprice': 500,\n",
    "\n",
    "                'back_o_cost':20,\n",
    "                \n",
    "                'S': 5, \n",
    "                'LA_horizon': 4, \n",
    "                'lambda1': 0.5\n",
    "            }\n",
    "#################################   Environment's parameters   #################################"
   ]
  },
  {
   "cell_type": "code",
   "execution_count": 3,
   "metadata": {},
   "outputs": [],
   "source": [
    "'''\n",
    "\n",
    "'''\n",
    "def Policy_evaluation(policy_function, num_episodes = 1000):\n",
    "    \n",
    "    rewards = {}\n",
    "    states = {}\n",
    "    actions = {}\n",
    "    env = steroid_IRP(  horizon_type = horizon_type, look_ahead = look_ahead, historical_data = historical_data, \n",
    "                        backorders = backorders, stochastic_parameters = stochastic_parameters, rd_seed = rd_seed,\n",
    "                        env_config = env_config)\n",
    "    policy = policies()\n",
    "\n",
    "    for episode in range(num_episodes):\n",
    "\n",
    "        state, _ = env.reset(return_state = True)\n",
    "        done = False\n",
    "\n",
    "        while not done:\n",
    "            \n",
    "            states[episode,env.t] = state\n",
    "\n",
    "            action = policy.det_rolling_horizon(state, _, env)\n",
    "            state, reward, done, _ = env.step(action, validate_action = validate_action, warnings = warnings)\n",
    "\n",
    "            actions[episode,env.t] = action\n",
    "            rewards[episode,env.t] = reward\n",
    "\n",
    "    return rewards, states, actions"
   ]
  },
  {
   "cell_type": "code",
   "execution_count": 4,
   "metadata": {},
   "outputs": [
    {
     "name": "stdout",
     "output_type": "stream",
     "text": [
      "Set parameter Username\n",
      "Academic license - for non-commercial use only - expires 2023-02-19\n",
      "\u001b[33mWarning! Demand of product 1 was not fullfiled\u001b[0m\n",
      "\u001b[33mWarning! Demand of product 2 was not fullfiled\u001b[0m\n",
      "\u001b[33mWarning! Demand of product 4 was not fullfiled\u001b[0m\n",
      "\u001b[33mWarning! Demand of product 5 was not fullfiled\u001b[0m\n",
      "\u001b[33mWarning! Demand of product 6 was not fullfiled\u001b[0m\n",
      "\u001b[33mWarning! Demand of product 7 was not fullfiled\u001b[0m\n",
      "\u001b[33mWarning! Demand of product 8 was not fullfiled\u001b[0m\n",
      "\u001b[33mWarning! Demand of product 9 was not fullfiled\u001b[0m\n"
     ]
    },
    {
     "name": "stderr",
     "output_type": "stream",
     "text": [
      "/Users/juanbeta/My Drive/Investigación/SCA/SD-IB-IRP-PP/Environment/SD_IB_IRP_PPenv.py:42: DeprecationWarning: invalid escape sequence '\\i'\n",
      "  '''\n"
     ]
    },
    {
     "ename": "TypeError",
     "evalue": "object of type 'int' has no len()",
     "output_type": "error",
     "traceback": [
      "\u001b[0;31m---------------------------------------------------------------------------\u001b[0m",
      "\u001b[0;31mTypeError\u001b[0m                                 Traceback (most recent call last)",
      "\u001b[1;32m/Users/juanbeta/My Drive/Investigación/SCA/SD-IB-IRP-PP/Environment/Policy Evaluation.ipynb Cell 5\u001b[0m in \u001b[0;36m<cell line: 1>\u001b[0;34m()\u001b[0m\n\u001b[0;32m----> <a href='vscode-notebook-cell:/Users/juanbeta/My%20Drive/Investigaci%C3%B3n/SCA/SD-IB-IRP-PP/Environment/Policy%20Evaluation.ipynb#ch0000005?line=0'>1</a>\u001b[0m rewards, states, actions \u001b[39m=\u001b[39m Policy_evaluation(policies\u001b[39m.\u001b[39;49mdet_rolling_horizon, num_episodes \u001b[39m=\u001b[39;49m num_episodes)\n",
      "\u001b[1;32m/Users/juanbeta/My Drive/Investigación/SCA/SD-IB-IRP-PP/Environment/Policy Evaluation.ipynb Cell 5\u001b[0m in \u001b[0;36mPolicy_evaluation\u001b[0;34m(policy_function, num_episodes)\u001b[0m\n\u001b[1;32m     <a href='vscode-notebook-cell:/Users/juanbeta/My%20Drive/Investigaci%C3%B3n/SCA/SD-IB-IRP-PP/Environment/Policy%20Evaluation.ipynb#ch0000005?line=20'>21</a>\u001b[0m states[episode,env\u001b[39m.\u001b[39mt] \u001b[39m=\u001b[39m state\n\u001b[1;32m     <a href='vscode-notebook-cell:/Users/juanbeta/My%20Drive/Investigaci%C3%B3n/SCA/SD-IB-IRP-PP/Environment/Policy%20Evaluation.ipynb#ch0000005?line=22'>23</a>\u001b[0m action \u001b[39m=\u001b[39m policy\u001b[39m.\u001b[39mdet_rolling_horizon(state, _, env)\n\u001b[0;32m---> <a href='vscode-notebook-cell:/Users/juanbeta/My%20Drive/Investigaci%C3%B3n/SCA/SD-IB-IRP-PP/Environment/Policy%20Evaluation.ipynb#ch0000005?line=23'>24</a>\u001b[0m state, reward, done, _ \u001b[39m=\u001b[39m env\u001b[39m.\u001b[39;49mstep(action, validate_action \u001b[39m=\u001b[39;49m validate_action, warnings \u001b[39m=\u001b[39;49m warnings)\n\u001b[1;32m     <a href='vscode-notebook-cell:/Users/juanbeta/My%20Drive/Investigaci%C3%B3n/SCA/SD-IB-IRP-PP/Environment/Policy%20Evaluation.ipynb#ch0000005?line=25'>26</a>\u001b[0m actions[episode,env\u001b[39m.\u001b[39mt] \u001b[39m=\u001b[39m action\n\u001b[1;32m     <a href='vscode-notebook-cell:/Users/juanbeta/My%20Drive/Investigaci%C3%B3n/SCA/SD-IB-IRP-PP/Environment/Policy%20Evaluation.ipynb#ch0000005?line=26'>27</a>\u001b[0m rewards[episode,env\u001b[39m.\u001b[39mt] \u001b[39m=\u001b[39m reward\n",
      "File \u001b[0;32m~/My Drive/Investigación/SCA/SD-IB-IRP-PP/Environment/SD_IB_IRP_PPenv.py:281\u001b[0m, in \u001b[0;36msteroid_IRP.step\u001b[0;34m(self, action, validate_action, warnings)\u001b[0m\n\u001b[1;32m    278\u001b[0m s_tprime, reward, back_orders \u001b[39m=\u001b[39m \u001b[39mself\u001b[39m\u001b[39m.\u001b[39mtransition_function(real_action, W, warnings)\n\u001b[1;32m    280\u001b[0m \u001b[39m# Reward\u001b[39;00m\n\u001b[0;32m--> 281\u001b[0m transport_cost, purchase_cost, holding_cost, backorders_cost \u001b[39m=\u001b[39m \u001b[39mself\u001b[39;49m\u001b[39m.\u001b[39;49mcompute_costs(real_action, s_tprime)\n\u001b[1;32m    282\u001b[0m reward \u001b[39m+\u001b[39m\u001b[39m=\u001b[39m transport_cost \u001b[39m+\u001b[39m purchase_cost \u001b[39m+\u001b[39m holding_cost \u001b[39m+\u001b[39m backorders_cost\n\u001b[1;32m    284\u001b[0m \u001b[39m# Time step update and termination check\u001b[39;00m\n",
      "File \u001b[0;32m~/My Drive/Investigación/SCA/SD-IB-IRP-PP/Environment/SD_IB_IRP_PPenv.py:406\u001b[0m, in \u001b[0;36msteroid_IRP.compute_costs\u001b[0;34m(self, action, s_tprime)\u001b[0m\n\u001b[1;32m    404\u001b[0m transport_cost \u001b[39m=\u001b[39m \u001b[39m0\u001b[39m\n\u001b[1;32m    405\u001b[0m \u001b[39mfor\u001b[39;00m route \u001b[39min\u001b[39;00m routes:\n\u001b[0;32m--> 406\u001b[0m     transport_cost \u001b[39m+\u001b[39m\u001b[39m=\u001b[39m \u001b[39msum\u001b[39m(\u001b[39mself\u001b[39m\u001b[39m.\u001b[39mc[route[i], route[i \u001b[39m+\u001b[39m \u001b[39m1\u001b[39m]] \u001b[39mfor\u001b[39;00m i \u001b[39min\u001b[39;00m \u001b[39mrange\u001b[39m(\u001b[39mlen\u001b[39;49m(route) \u001b[39m-\u001b[39m \u001b[39m1\u001b[39m))\n\u001b[1;32m    408\u001b[0m purchase_cost \u001b[39m=\u001b[39m \u001b[39msum\u001b[39m(purchase[i,k] \u001b[39m*\u001b[39m \u001b[39mself\u001b[39m\u001b[39m.\u001b[39mp[i,k]   \u001b[39mfor\u001b[39;00m i \u001b[39min\u001b[39;00m \u001b[39mself\u001b[39m\u001b[39m.\u001b[39mSuppliers \u001b[39mfor\u001b[39;00m k \u001b[39min\u001b[39;00m \u001b[39mself\u001b[39m\u001b[39m.\u001b[39mProducts)\n\u001b[1;32m    410\u001b[0m \u001b[39m# TODO!!!!!\u001b[39;00m\n",
      "\u001b[0;31mTypeError\u001b[0m: object of type 'int' has no len()"
     ]
    }
   ],
   "source": [
    "rewards, states, actions = Policy_evaluation(policies.det_rolling_horizon, num_episodes = num_episodes)"
   ]
  }
 ],
 "metadata": {
  "kernelspec": {
   "display_name": "Python 3.10.4 64-bit",
   "language": "python",
   "name": "python3"
  },
  "language_info": {
   "codemirror_mode": {
    "name": "ipython",
    "version": 3
   },
   "file_extension": ".py",
   "mimetype": "text/x-python",
   "name": "python",
   "nbconvert_exporter": "python",
   "pygments_lexer": "ipython3",
   "version": "3.10.4"
  },
  "orig_nbformat": 4,
  "vscode": {
   "interpreter": {
    "hash": "aee8b7b246df8f9039afb4144a1f6fd8d2ca17a180786b69acc140d282b71a49"
   }
  }
 },
 "nbformat": 4,
 "nbformat_minor": 2
}
