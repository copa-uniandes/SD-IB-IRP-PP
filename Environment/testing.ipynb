{
 "cells": [
  {
   "cell_type": "code",
   "execution_count": 1,
   "metadata": {},
   "outputs": [],
   "source": [
    "def print_availabilities(env):\n",
    "    string = 'M \\ K \\t'\n",
    "    for k in env.Products:\n",
    "        string += f'{k} \\t'\n",
    "    print(string)\n",
    "    for i in env.Suppliers:\n",
    "        new_string = f'{i} \\t'\n",
    "        for k in env.Products:\n",
    "            if env.W_t['q'][i,k] == 0:\n",
    "                new_string += f'{env.W_t[\"q\"][i,k]} \\t'\n",
    "            else:\n",
    "                new_string += f'{env.W_t[\"q\"][i,k]} \\t'\n",
    "        print(new_string)"
   ]
  },
  {
   "cell_type": "code",
   "execution_count": 2,
   "metadata": {},
   "outputs": [],
   "source": [
    "from SD_IB_IRP_PPenv import steroid_IRP\n",
    "\n",
    "### Parameters\n",
    "rd_seed = 0\n",
    "look_ahead = ['q','d']\n",
    "S = 4\n",
    "LA_horizon = 3\n",
    "historical_data = ['*']\n",
    "hist_window = 50\n",
    "backorders =  'backorders'\n",
    "stochastic_parameters = ['q','d']\n",
    "env_config = {  'M': 4, \n",
    "                'K': 4, \n",
    "                'T': 6, \n",
    "                'F': 1, \n",
    "                \n",
    "                'S': S, \n",
    "                'LA_horizon': LA_horizon, \n",
    "            }         \n",
    "\n",
    "\n",
    "env = steroid_IRP( look_ahead = look_ahead, \n",
    "                   historical_data = historical_data, \n",
    "                   backorders = backorders,\n",
    "                   stochastic_parameters = stochastic_parameters, \n",
    "                   env_config = env_config)"
   ]
  },
  {
   "cell_type": "code",
   "execution_count": 3,
   "metadata": {},
   "outputs": [
    {
     "name": "stdout",
     "output_type": "stream",
     "text": [
      "{(0, 1): 0, (0, 2): 0, (0, 3): 0, (0, 4): 0, (0, 5): 0, (1, 1): 0, (2, 1): 0, (2, 2): 0, (2, 3): 0, (2, 4): 0, (3, 1): 0, (3, 2): 0, (3, 3): 0, (3, 4): 0}\n"
     ]
    }
   ],
   "source": [
    "q_params = {'distribution': 'c_uniform', 'min': 6, 'max': 20}\n",
    "d_params = {'distribution': 'log-normal', 'mean': 2, 'stdev': 0.5}\n",
    "\n",
    "p_params = {'distribution': 'd_uniform', 'min': 20, 'max': 60}\n",
    "h_params = {'distribution': 'd_uniform', 'min': 20, 'max': 60}\n",
    "\n",
    "state, sample_paths = env.reset(return_state = True, rd_seed = rd_seed, \n",
    "          q_params = q_params, \n",
    "          p_params = p_params,\n",
    "          d_params = d_params,\n",
    "          h_params = h_params)\n",
    "\n",
    "\n",
    "print(state)"
   ]
  },
  {
   "cell_type": "code",
   "execution_count": 4,
   "metadata": {},
   "outputs": [
    {
     "name": "stdout",
     "output_type": "stream",
     "text": [
      "AVAILABILITES DAY 0\n",
      "M \\ K \t0 \t1 \t2 \t3 \t\n",
      "1 \t6.51 \t11.7 \t0 \t18.29 \t\n",
      "2 \t0 \t12.05 \t0 \t0 \t\n",
      "3 \t0 \t9.98 \t0 \t0 \t\n",
      "4 \t0 \t19.09 \t16.81 \t0 \t\n"
     ]
    }
   ],
   "source": [
    "print('AVAILABILITES DAY 0')\n",
    "print_availabilities(env)"
   ]
  },
  {
   "cell_type": "code",
   "execution_count": 5,
   "metadata": {},
   "outputs": [
    {
     "name": "stdout",
     "output_type": "stream",
     "text": [
      "DEMAND DAY 0\n",
      "Dem 0: 10.67\n",
      "Dem 1: 4.95\n",
      "Dem 2: 7.98\n",
      "Dem 3: 13.73\n"
     ]
    }
   ],
   "source": [
    "print('DEMAND DAY 0')\n",
    "for k in env.Products:\n",
    "    print(f'Dem {k}: {env.W_t[\"d\"][k]}')"
   ]
  },
  {
   "cell_type": "code",
   "execution_count": 6,
   "metadata": {},
   "outputs": [],
   "source": [
    "routes = [[0,1,2,3,4,0]]\n",
    "\n",
    "purchase = {(i,k):0 for i in env.Suppliers for k in env.Products}\n",
    "purchase[1,0] = 6.5                         # 6.5  units of K0\n",
    "purchase[1,1] = 6;   purchase[2,1] = 2      # 8    units of K1\n",
    "purchase[4,2] = 16.8                        # 16.8 units of K2\n",
    "purchase[1,3] = 10                          # 10   units of K3\n",
    "\n",
    "\n",
    "demand_compliance = {(k,o): 0 for k in env.Products for o in range(env.O_k[k] + 1)}\n",
    "demand_compliance[0,0] = 6.5\n",
    "demand_compliance[1,0] = 4.95\n",
    "demand_compliance[2,0] = 7.99\n",
    "demand_compliance[3,0] = 10\n",
    "\n",
    "action = [routes, purchase, demand_compliance]\n"
   ]
  },
  {
   "cell_type": "code",
   "execution_count": 7,
   "metadata": {},
   "outputs": [
    {
     "name": "stdout",
     "output_type": "stream",
     "text": [
      "\u001b[33mWarning! Demand of product 0 was not fulfilled\u001b[0m\n",
      "\u001b[33mWarning! Demand of product 3 was not fulfilled\u001b[0m\n"
     ]
    }
   ],
   "source": [
    "state, reward, done, real_action, _ = env.step(action)"
   ]
  },
  {
   "cell_type": "code",
   "execution_count": 8,
   "metadata": {},
   "outputs": [
    {
     "data": {
      "text/plain": [
       "{0: 4.17, 3: 3.73}"
      ]
     },
     "execution_count": 8,
     "metadata": {},
     "output_type": "execute_result"
    }
   ],
   "source": [
    "_['backorders']"
   ]
  }
 ],
 "metadata": {
  "kernelspec": {
   "display_name": "Python 3.10.4 64-bit",
   "language": "python",
   "name": "python3"
  },
  "language_info": {
   "codemirror_mode": {
    "name": "ipython",
    "version": 3
   },
   "file_extension": ".py",
   "mimetype": "text/x-python",
   "name": "python",
   "nbconvert_exporter": "python",
   "pygments_lexer": "ipython3",
   "version": "3.10.4"
  },
  "orig_nbformat": 4,
  "vscode": {
   "interpreter": {
    "hash": "aee8b7b246df8f9039afb4144a1f6fd8d2ca17a180786b69acc140d282b71a49"
   }
  }
 },
 "nbformat": 4,
 "nbformat_minor": 2
}
