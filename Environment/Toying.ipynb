{
 "cells": [
  {
   "cell_type": "code",
   "execution_count": 1,
   "metadata": {},
   "outputs": [],
   "source": [
    "from SD_IB_IRP_PPenv import steroid_IRP\n",
    "from random import choice, randint\n",
    "from termcolor import colored\n",
    "\n",
    "rd_seed = 0\n",
    "\n",
    "### Auxiliary functions for the demo\n",
    "def print_valid(statement):  \n",
    "    if statement:  return 'Passed', 'green'\n",
    "    else: return 'Failed', 'red'\n",
    "\n",
    "def gen_generic_dic(env):\n",
    "    ret_dic = {(k,o): 0 for k in env.Suppliers for o in env.Ages[k]}\n",
    "    return ret_dic\n",
    "\n",
    "def print_state(env):\n",
    "    state = 'State: \\n'\n",
    "    \n",
    "    for k in env.Products:\n",
    "        state += f'Product {k}: '\n",
    "        for o in env.Ages[k]:   state += f'age {o}: {env.state[k,o]}; '\n",
    "        if env.others['back_orders'] == 'back-logs':    state += f'BL: {env.state[k,\"B\"]}\\n'\n",
    "        else:   state += '\\n'\n",
    "\n",
    "    return state "
   ]
  },
  {
   "cell_type": "markdown",
   "metadata": {},
   "source": [
    "# Stochastic-Dynamic Inventory-Routing-Problem with Perishable Products environment\n",
    "by: Juan Betancourt"
   ]
  },
  {
   "cell_type": "markdown",
   "metadata": {},
   "source": [
    "## Powelleskian model\n",
    "\n",
    "### State ($S_t$)\n",
    "-   $R_t$ **Physical State**:\n",
    "\n",
    "        state: Current inventory (dict) - Inventory of k \\in K of age o \\in O_k\n",
    "\n",
    "-   $I_t$ **Other deterministic info**:\n",
    "\n",
    "        p: Prices (dict) - Price of k \\in K at i \\in M\n",
    "    \n",
    "        q: Available quantities (dict) - Available quantities of k \\in K at i \\in M\n",
    "    \n",
    "        h: Holding cost (dict) - Holding cost of k \\in K\n",
    "    \n",
    "        historic_data (dict) - Historic log of information (optional)\n",
    "    \n",
    "-   $B_t$ **Belief State**:\n",
    "    \n",
    "        sample_paths: Sample paths\n",
    "\n",
    "\n",
    "### Actions ($X_t$)\n",
    "The action can be seen as a three level-decision. These are the three layers:\n",
    "\n",
    "1. Routes to visit selected suppliers\n",
    "\n",
    "2. Quantity to purchase on each supplier\n",
    "\n",
    "3. Demand complience plan, dispatch decision\n",
    "\n",
    "Accordingly, the action will be a list composed as follows:\n",
    "\n",
    "$$ X = [\\text{routes, purchase, demand complience}] $$\n",
    "\n",
    "        - routes (list): list of list with the nodes visited on a route (including departure and arriving to the depot)\n",
    "\n",
    "        - purchase (dict): Units to purchase of k \\in K at i \\in M\n",
    "\n",
    "        - demand_complience (dict): Units to use of k in K of age o \\in O_k\n"
   ]
  },
  {
   "cell_type": "markdown",
   "metadata": {},
   "source": [
    "## INITIALIZATION\n",
    "\n",
    "### Time Horizon: Two time horizon types (horizon_type = 'episodic')\n",
    "\n",
    "1. 'episodic': Every episode (simulation) has a finite number of steps\n",
    "    \n",
    "    Related parameters:\n",
    "        \n",
    "        - T: Decision periods (time-steps)\n",
    "    \n",
    "        \n",
    "2. 'continuous': Neverending episodes\n",
    "    \n",
    "    Related parameters: \n",
    "        \n",
    "        - gamma: Discount factor\n",
    "\n",
    "(For internal environment's processes: 1 for episodic, 0 for continouos)"
   ]
  },
  {
   "cell_type": "code",
   "execution_count": 2,
   "metadata": {},
   "outputs": [],
   "source": [
    "horizon_type = 'episodic'\n",
    "\n",
    "T = 4"
   ]
  },
  {
   "cell_type": "markdown",
   "metadata": {},
   "source": [
    "### Look-ahead approximation: Generation of sample paths (look_ahead = ['d']):\n",
    "\n",
    "1. List of parameters to be forcasted on the look-ahead approximation ['d', 'p', ...]\n",
    "\n",
    "2. List with '*' to generate forecasts for all parameters\n",
    "\n",
    "3. False for no sample path generation\n",
    "\n",
    "Related parameters:\n",
    "\n",
    "    - S: Number of sample paths\n",
    "    \n",
    "    - LA_horizon: Number of look-ahead periods"
   ]
  },
  {
   "cell_type": "code",
   "execution_count": 3,
   "metadata": {},
   "outputs": [],
   "source": [
    "look_ahead = ['*']\n",
    "\n",
    "S = 2\n",
    "LA_horizon = 3"
   ]
  },
  {
   "cell_type": "markdown",
   "metadata": {},
   "source": [
    "### Historic data: Generation or usage of historic data (historic_data = ['d'])   \n",
    "\n",
    "1. ['d', 'p', ...]: List with the parameters the historic info will be generated for\n",
    "\n",
    "2.  ['*']: Historic info generated for all parameters\n",
    "\n",
    "3. !!! NOT DEVELOPED path: File path to be processed by upload_historic_data() \n",
    "\n",
    "4.  False: No historic data will be used\n",
    "\n",
    "Related parameter:\n",
    "    \n",
    "    - hist_window: Initial log size (time periods)"
   ]
  },
  {
   "cell_type": "code",
   "execution_count": 4,
   "metadata": {},
   "outputs": [],
   "source": [
    "historic_data = ['*']\n",
    "\n",
    "hist_window = 10"
   ]
  },
  {
   "cell_type": "markdown",
   "metadata": {},
   "source": [
    "### Back-orders: Catch unsatisfied demand (back_orders = False):\n",
    "\n",
    "1. 'back-orders': Demand can be not fully satisfied. Non-complied orders will be automatically fullfilled with an extra-cost\n",
    "\n",
    "2. 'back-logs': Demand can be not fully satisfied. Non-complied orders will be registered and kept track of\n",
    "\n",
    "3. False: All demand must be fullfilled\n",
    "\n",
    "Related parameter:\n",
    "\n",
    "    - back_o_cost = 20\n",
    "    - back_l_cost = 20"
   ]
  },
  {
   "cell_type": "code",
   "execution_count": 5,
   "metadata": {},
   "outputs": [],
   "source": [
    "back_orders = 'back-orders'\n",
    "\n",
    "back_l_cost = 20"
   ]
  },
  {
   "cell_type": "markdown",
   "metadata": {},
   "source": [
    "### Other customizable parameters\n",
    "\n",
    "    -   M = 10: Number of suppliers\n",
    "\n",
    "    -   K = 10: Number of Products\n",
    "\n",
    "    -   F = 2:  Number of vehicles on the fleete\n",
    "\n",
    "    -   T = 6:  Number of decision periods\n",
    "\n",
    "    -   wh_cap = 1e9: Warehouse capacity\n",
    "\n",
    "    -   min/max_sprice: Max and min selling prices (per m and k)\n",
    "\n",
    "    -   min/max_hprice: Max and min holding cost (per k)\n",
    "\n",
    "    -   penalization_cost: Penalization costs for RL (invalid actions, etc.)\n",
    "\n",
    "    -   S = 4:  Number of sample paths \n",
    "\n",
    "    -   LA_horizon = 5: Number of look-ahead periods\n",
    "\n",
    "    -   lambda1 = 0.5: Controls demand, assures feasibility"
   ]
  },
  {
   "cell_type": "code",
   "execution_count": 6,
   "metadata": {},
   "outputs": [],
   "source": [
    "env_config = {  'M': 3, \n",
    "                'K': 3, \n",
    "                'T': T, \n",
    "                'F': 2, \n",
    "                \n",
    "                'min_sprice': 1, \n",
    "                'max_sprice': 500, \n",
    "                'min_hprice': 1, \n",
    "                'max_hprice': 500, \n",
    "                'back_l_cost': 20,\n",
    "                \n",
    "                'S': S, \n",
    "                'LA_horizon': LA_horizon, \n",
    "                'lambda1': 0.5\n",
    "            }\n",
    "            "
   ]
  },
  {
   "cell_type": "markdown",
   "metadata": {},
   "source": [
    "# Creating an environment\n",
    "\n",
    "The environment receives all the previous parameters plus a random seed as the parameters and a customizable parameter env_config with the specified characteristics\n",
    "    \n",
    "    -   rd_seed: Seed for random number generation\n",
    "\n",
    "    -   env_config: Receives a dictionary with custom environment parameters"
   ]
  },
  {
   "cell_type": "code",
   "execution_count": 7,
   "metadata": {},
   "outputs": [
    {
     "data": {
      "text/plain": [
       "'Stochastic-Dynamic Inventory-Routing-Problem with Perishable Products instance. V = 3; K = 3; F = 2'"
      ]
     },
     "execution_count": 7,
     "metadata": {},
     "output_type": "execute_result"
    }
   ],
   "source": [
    "env = steroid_IRP(  horizon_type = horizon_type, \n",
    "                    look_ahead = look_ahead, \n",
    "                    historic_data = historic_data, \n",
    "                    back_orders = back_orders,\n",
    "                    rd_seed = rd_seed, \n",
    "                    env_config = env_config)\n",
    "repr(env)"
   ]
  },
  {
   "cell_type": "markdown",
   "metadata": {},
   "source": [
    "# Reseting the environment\n",
    "\n",
    "Once the environment is created, or everytime it will be run again from the start, it must be reset. For this, the class has the step method which receives a boolean under the parameter:\n",
    "\n",
    "    -   return_state: Indicates if reset() must return the initial state"
   ]
  },
  {
   "cell_type": "code",
   "execution_count": 8,
   "metadata": {},
   "outputs": [],
   "source": [
    "return_state = False\n",
    "env.reset(return_state = return_state)"
   ]
  },
  {
   "cell_type": "markdown",
   "metadata": {},
   "source": [
    "# Retrieving information from the environment\n",
    "\n",
    "Once the environmnet has been reset, all the initial values can be accesed"
   ]
  },
  {
   "cell_type": "markdown",
   "metadata": {},
   "source": [
    "    - Inventory[k,o]"
   ]
  },
  {
   "cell_type": "code",
   "execution_count": 9,
   "metadata": {},
   "outputs": [
    {
     "name": "stdout",
     "output_type": "stream",
     "text": [
      "State: \n",
      "Product 0: age 1: 0; age 2: 0; age 3: 0; age 4: 0; \n",
      "Product 1: age 1: 0; age 2: 0; age 3: 0; age 4: 0; \n",
      "Product 2: age 1: 0; \n",
      " \n",
      "\n",
      "The inventory of product 0 and age 2 is 0\n"
     ]
    }
   ],
   "source": [
    "print(f'{print_state(env)} \\n')\n",
    "\n",
    "product = choice(env.Products); age = randint(1, env.O_k[product])\n",
    "#print(env.O_k[product])\n",
    "print(f'The inventory of product {product} and age {age} is {env.state[product,age]}')"
   ]
  },
  {
   "cell_type": "markdown",
   "metadata": {},
   "source": [
    "    -   Available quantiites [i,k]\n",
    "    \n",
    "    -   Prices [i,k]\n",
    "    \n",
    "    -   Holding cost [k]\n",
    "    \n",
    "    -   Demand [k]"
   ]
  },
  {
   "cell_type": "code",
   "execution_count": 10,
   "metadata": {},
   "outputs": [
    {
     "name": "stdout",
     "output_type": "stream",
     "text": [
      "Supplier 1 offers 11 of product 1\n",
      "Supplier 1 offers product 1 at $264\n",
      "Holding cost for product 0 is $295\n",
      "Demand for product 0 is 10.0\n"
     ]
    }
   ],
   "source": [
    "#print(env.q, '\\n')\n",
    "supplier = choice(env.Suppliers); product = choice(env.Products)\n",
    "print(f'Supplier {supplier} offers {env.q[supplier, product]} of product {product}')\n",
    "\n",
    "#print(env.p, '\\n')\n",
    "print(f'Supplier {supplier} offers product {product} at ${env.p[supplier, product]}')\n",
    "\n",
    "#print(env.h, '\\n')\n",
    "product = choice(env.Products)\n",
    "print(f'Holding cost for product {product} is ${env.h[product]}')\n",
    "\n",
    "#print(env.h, '\\n')\n",
    "product = choice(env.Products)\n",
    "print(f'Demand for product {product} is {env.d[product]}')"
   ]
  },
  {
   "cell_type": "markdown",
   "metadata": {},
   "source": [
    "Historic data\n",
    "\n",
    "    -   Available quantiites\n",
    "    \n",
    "    -   Prices\n",
    "    \n",
    "    -   Holding cost \n",
    "    \n",
    "    -   Demand"
   ]
  },
  {
   "cell_type": "code",
   "execution_count": 11,
   "metadata": {},
   "outputs": [
    {
     "name": "stdout",
     "output_type": "stream",
     "text": [
      "The historic a.q. for supplier 1 on product 1 are [0, 0, 8, 8, 6, 14, 0, 13, 0, 13, 0, 0, 6, 2, 8, 2, 12, 0, 8, 0, 0, 0, 7, 1, 5, 6, 12, 0, 11, 15, 3, 0, 0, 15, 3, 11, 0, 10, 0, 0] \n",
      "\n",
      "The historic demand of produdct 1 is [0.0, 0.0, 18.0, 18.0, 6.0, 14.0, 0.0, 20.5, 0.0, 19.0, 1.0, 0.0, 18.0, 2.0, 13.0, 9.0, 19.0, 0.0, 15.0, 4.0, 0.0, 0.0, 8.0, 1.0, 10.5, 10.0, 14.5, 4.0, 11.0, 20.5, 3.5, 0.0, 0.0, 15.0, 14.5, 13.0, 0.0, 10.0, 10.0, 3.0]\n"
     ]
    }
   ],
   "source": [
    "supplier = choice(env.Suppliers); product = choice(env.Products)\n",
    "\n",
    "historic_quantities = env.historic_data['q'][supplier, product]\n",
    "print(f'The historic a.q. for supplier {supplier} on product {product} are {historic_quantities} \\n')\n",
    "\n",
    "historic_demand = env.historic_data['d'][product]\n",
    "print(f'The historic demand of produdct {product} is {historic_demand}')"
   ]
  },
  {
   "cell_type": "markdown",
   "metadata": {},
   "source": [
    "Sample paths\n",
    "\n",
    "    -   Available quantiites\n",
    "    \n",
    "    -   Prices\n",
    "    \n",
    "    -   Holding cost \n",
    "    \n",
    "    -   Demand"
   ]
  },
  {
   "cell_type": "code",
   "execution_count": 12,
   "metadata": {},
   "outputs": [
    {
     "name": "stdout",
     "output_type": "stream",
     "text": [
      "On sample path 1 the forcasted available quantity of product 0 on supplier 1 for day 1 is 0\n",
      "On sample path 1 the forcasted demand of product 0 for day 1 is 0.0\n"
     ]
    }
   ],
   "source": [
    "sample = choice(env.Samples)\n",
    "proy_day = randint(1, env.LA_horizon - 1)\n",
    "supplier = choice(env.Suppliers); product = choice(env.Products)\n",
    "\n",
    "proy_quant = env.sample_paths[('q',sample)][(supplier, product, proy_day)]\n",
    "print(f'On sample path {sample} the forcasted available quantity of product {product} on supplier {supplier} for day {proy_day} is {proy_quant}')\n",
    "\n",
    "proy_demand = env.sample_paths[('d',sample)][product, proy_day]\n",
    "print(f'On sample path {sample} the forcasted demand of product {product} for day {proy_day} is {proy_demand}')"
   ]
  },
  {
   "cell_type": "markdown",
   "metadata": {},
   "source": [
    "# Safe check\n",
    "\n",
    "    - First day of forecast is the realized random value"
   ]
  },
  {
   "cell_type": "code",
   "execution_count": 13,
   "metadata": {},
   "outputs": [
    {
     "name": "stdout",
     "output_type": "stream",
     "text": [
      "Test q: \u001b[32mPassed\u001b[0m\n",
      "Test p: \u001b[32mPassed\u001b[0m\n",
      "Test h: \u001b[32mPassed\u001b[0m\n",
      "Test h: \u001b[32mPassed\u001b[0m\n"
     ]
    }
   ],
   "source": [
    "sample = choice(env.Samples)\n",
    "proy_day = 0\n",
    "supplier = choice(env.Suppliers); product = choice(env.Products)\n",
    "\n",
    "test_q, col_q = print_valid(env.sample_paths[\"q\",sample][supplier,product,proy_day] == env.q[supplier,product])\n",
    "print('Test q:', colored(test_q, col_q))\n",
    "test_p, col_p = print_valid(env.sample_paths[\"p\",sample][supplier,product,proy_day] == env.p[supplier,product])\n",
    "print('Test p:', colored(test_p, col_p))\n",
    "test_h, col_h = print_valid(env.sample_paths[\"h\",sample][product,proy_day] == env.h[product])\n",
    "print('Test h:', colored(test_h, col_h))\n",
    "test_d, col_d = print_valid(env.sample_paths[\"d\",sample][product,proy_day] == env.d[product])\n",
    "print('Test h:', colored(test_d, col_d))"
   ]
  },
  {
   "cell_type": "markdown",
   "metadata": {},
   "source": [
    "# Step\n",
    "\n",
    "Information from the intial state is retrieved. "
   ]
  },
  {
   "cell_type": "code",
   "execution_count": 14,
   "metadata": {},
   "outputs": [
    {
     "name": "stdout",
     "output_type": "stream",
     "text": [
      "######################################## Time step 0 ########################################\n",
      "   (prod,edad)\n",
      "s_0: {(0, 1): 0, (0, 2): 0, (0, 3): 0, (0, 4): 0, (1, 1): 0, (1, 2): 0, (1, 3): 0, (1, 4): 0, (2, 1): 0}\n",
      "d_0: {0: 10.0, 1: 16.0, 2: 0.0}\n",
      "q_0: {(1, 0): 8, (1, 1): 11, (1, 2): 0, (2, 0): 4, (2, 1): 10, (2, 2): 0}\n"
     ]
    }
   ],
   "source": [
    "print(f'######################################## Time step {env.t} ########################################')\n",
    "print('   (prod,edad)')\n",
    "print(f's_{env.t}: {env.state}')\n",
    "print(f'd_{env.t}: {env.d}')\n",
    "print(f'q_{env.t}: {env.q}')\n",
    "\n",
    "# x = env.historic_data['q'][1,0]\n",
    "# print(f'Historic of a.q is: {x}')\n",
    "# print(f'A.q is {env.q[1,0]}') \n"
   ]
  },
  {
   "cell_type": "markdown",
   "metadata": {},
   "source": [
    "An arbitrary feasible action is generated and its cost is computed "
   ]
  },
  {
   "cell_type": "code",
   "execution_count": 15,
   "metadata": {},
   "outputs": [
    {
     "name": "stdout",
     "output_type": "stream",
     "text": [
      "The total cost of the action is: 8945\n"
     ]
    }
   ],
   "source": [
    "# Visiting all the suppliers\n",
    "routes = [[0,1,2,0]]\n",
    "\n",
    "# Purchase exact quantity for \n",
    "purchase = {(1,0): 7, (2,0): 4,     # product 0: 11 units\n",
    "            (1,1): 8, (2,1): 10,    # product 1: 18 units\n",
    "            (1,2): 0, (2,2): 0}     # product 2:  0 units\n",
    "\n",
    "# Demand complience\n",
    "demand_complience = {(0,0): 10, (0,1): 0, (0,2): 0, (0,3): 0, (0,4): 0,\n",
    "                     (1,0): 16, (1,1): 0, (1,2): 0, (1,3): 0, (1,4): 0,\n",
    "                     (2,0): 0,  (2,1): 0}\n",
    "\n",
    "back_logs_complience = {(0,0): 0, (0,1): 0, (0,2): 0, (0,3): 0, (0,4): 0,\n",
    "                        (1,0): 0, (1,1): 0, (1,2): 0, (1,3): 0, (1,4): 0,\n",
    "                        (2,0): 0,  (2,1): 0}\n",
    "\n",
    "X = [routes, purchase, demand_complience, back_logs_complience]\n",
    "\n",
    "transport_cost = env.c[routes[0][0], routes[0][1]] + env.c[routes[0][1], routes[0][2]] + env.c[routes[0][2], routes[0][3]]\n",
    "purchase_cost = 0\n",
    "for i in env.Suppliers:\n",
    "    for k in env.Products:\n",
    "        purchase_cost += purchase[i,k] * env.p[i,k]\n",
    "holding_cost = env.h[1] * 2 + env.h[0] * 1\n",
    "total_cost = transport_cost + purchase_cost + holding_cost \n",
    "print(f'The total cost of the action is: {total_cost}')"
   ]
  },
  {
   "cell_type": "markdown",
   "metadata": {},
   "source": [
    "With a **valid** action, the step method can be called. This method returns:\n",
    "    \n",
    "    -   state: New state\n",
    "    -   reward: The total cost of the action (transport, purchase and holding)\n",
    "    -   done: Indicates if the episode has finished\n",
    "    -   _: Extra information "
   ]
  },
  {
   "cell_type": "code",
   "execution_count": 16,
   "metadata": {},
   "outputs": [
    {
     "name": "stdout",
     "output_type": "stream",
     "text": [
      "Back-orders: 0.0\n",
      "The computated cost of the action is 8945.0\n",
      "Episode finished: False \n",
      "\n",
      "######################################## Time step 1 ########################################\n",
      "s_1: {(0, 1): 1, (0, 2): 0, (0, 3): 0, (0, 4): 0, (1, 1): 2, (1, 2): 0, (1, 3): 0, (1, 4): 0, (2, 1): 0}\n",
      "d_1: {0: 13.0, 1: 20.5, 2: 4.0}\n",
      "q_1: {(1, 0): 8, (1, 1): 11, (1, 2): 0, (2, 0): 9, (2, 1): 15, (2, 2): 4}\n"
     ]
    }
   ],
   "source": [
    "state, reward, done, _ = env.step(action = X, validate_action = True)\n",
    "\n",
    "print(f'The computated cost of the action is {reward}')\n",
    "print(f'Episode finished: {done} \\n')\n",
    "\n",
    "print(f'######################################## Time step {env.t} ########################################')\n",
    "print(f's_{env.t}: {env.state}')\n",
    "print(f'd_{env.t}: {env.d}')\n",
    "print(f'q_{env.t}: {env.q}')\n",
    "\n",
    "# x = env.historic_data['q'][1,0]\n",
    "# print(f'Historic of a.q is: {x}')\n",
    "# print(f'A.q is {env.q[1,0]}')"
   ]
  },
  {
   "cell_type": "code",
   "execution_count": 17,
   "metadata": {},
   "outputs": [
    {
     "name": "stdout",
     "output_type": "stream",
     "text": [
      "The total cost of the action is: 21861.5\n"
     ]
    }
   ],
   "source": [
    "# Visiting all the suppliers\n",
    "routes = [[0,1,2,0]]\n",
    "\n",
    "# Purchase exact quantity for \n",
    "purchase = {(1,0): 8,  (2,0): 9,    # product 0: 17 units\n",
    "            (1,1): 11, (2,1): 15,   # product 1: 26 units\n",
    "            (1,2): 0,  (2,2): 4}    # product 2: 4 units\n",
    "\n",
    "# Demand complience\n",
    "demand_complience = {(0,0): 13, (0,1): 0, (0,2): 0, (0,3): 0, (0,4): 0,\n",
    "                     (1,0): 19.5, (1,1): 1, (1,2): 0, (1,3): 0,  (1,4): 0,\n",
    "                     (2,0): 4, (2,1): 0}\n",
    "\n",
    "X = [routes, purchase, demand_complience]\n",
    "\n",
    "transport_cost = env.c[routes[0][0], routes[0][1]] + env.c[routes[0][1], routes[0][2]] + env.c[routes[0][2], routes[0][3]]\n",
    "purchase_cost = 0\n",
    "for i in env.Suppliers:\n",
    "    for k in env.Products:\n",
    "        purchase_cost += purchase[i,k] * env.p[i,k]\n",
    "holding_cost = 5 * env.h[0] + 7.5 * env.h[1]\n",
    "total_cost = transport_cost + purchase_cost + holding_cost \n",
    "print(f'The total cost of the action is: {total_cost}')"
   ]
  },
  {
   "cell_type": "code",
   "execution_count": 18,
   "metadata": {},
   "outputs": [
    {
     "name": "stdout",
     "output_type": "stream",
     "text": [
      "Back-orders: 0.0\n",
      "The computated cost of the action is 21861.5\n",
      "Episode finished: False \n",
      "\n",
      "######################################## Time step 2 ########################################\n",
      "s_2: {(0, 1): 4, (0, 2): 1, (0, 3): 0, (0, 4): 0, (1, 1): 6.5, (1, 2): 1, (1, 3): 0, (1, 4): 0, (2, 1): 0}\n",
      "d_2: {0: 0.0, 1: 0.0, 2: 1.0}\n",
      "q_2: {(1, 0): 0, (1, 1): 0, (1, 2): 0, (2, 0): 0, (2, 1): 0, (2, 2): 1}\n"
     ]
    }
   ],
   "source": [
    "state, reward, done, _  = env.step(action = X, validate_action = True)\n",
    "print(f'The computated cost of the action is {reward}')\n",
    "print(f'Episode finished: {done} \\n')\n",
    "\n",
    "print(f'######################################## Time step {env.t} ########################################')\n",
    "print(f's_{env.t}: {env.state}')\n",
    "print(f'd_{env.t}: {env.d}')\n",
    "print(f'q_{env.t}: {env.q}')\n",
    "\n",
    "# x = env.historic_data['q'][1,0]\n",
    "# print(f'Historic of a.q is: {x}')\n",
    "# print(f'A.q is {env.q[1,0]}')"
   ]
  },
  {
   "cell_type": "markdown",
   "metadata": {},
   "source": [
    "Let's try some invalid actions on the environment\n"
   ]
  }
 ],
 "metadata": {
  "kernelspec": {
   "display_name": "Python 3.10.4 64-bit",
   "language": "python",
   "name": "python3"
  },
  "language_info": {
   "codemirror_mode": {
    "name": "ipython",
    "version": 3
   },
   "file_extension": ".py",
   "mimetype": "text/x-python",
   "name": "python",
   "nbconvert_exporter": "python",
   "pygments_lexer": "ipython3",
   "version": "3.10.4"
  },
  "orig_nbformat": 4,
  "vscode": {
   "interpreter": {
    "hash": "aee8b7b246df8f9039afb4144a1f6fd8d2ca17a180786b69acc140d282b71a49"
   }
  }
 },
 "nbformat": 4,
 "nbformat_minor": 2
}
