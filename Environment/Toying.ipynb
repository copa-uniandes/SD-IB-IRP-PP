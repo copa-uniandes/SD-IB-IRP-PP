{
 "cells": [
  {
   "cell_type": "code",
   "execution_count": 1,
   "metadata": {},
   "outputs": [],
   "source": [
    "from SD_IB_IRP_PPenv import steroid_IRP\n",
    "from random import choice, randint\n",
    "from termcolor import colored\n",
    "\n",
    "### Auxiliary functions for the demo Notebook ###\n",
    "def print_valid(statement):  \n",
    "    if statement:  return 'Passed', 'green'\n",
    "    else: return 'Failed', 'red'\n",
    "\n",
    "def gen_generic_dic(env):\n",
    "    ret_dic = {(k,o): 0 for k in env.Suppliers for o in env.Ages[k]}\n",
    "    return ret_dic"
   ]
  },
  {
   "cell_type": "markdown",
   "metadata": {},
   "source": [
    "# Stochastic-Dynamic Inventory-Routing-Problem with Perishable Products Environment\n",
    "by: Juan Betancourt"
   ]
  },
  {
   "cell_type": "markdown",
   "metadata": {},
   "source": [
    "## Powelleskian model\n",
    "\n",
    "### State ($S_t$)\n",
    "-   **Physical State** ($R_t$):\n",
    "\n",
    "        state:  Current available inventory: (dict)  Inventory of product k \\in K of age o \\in O_k. Since the state is the inventory before the decision is taken, there is no age 0 inventory.\n",
    "                \n",
    "        When back-logs are activated, will appear under age 'B'   \n",
    "                                           \n",
    "\n",
    "-   **Other deterministic info** ($Z_t$):\n",
    "\n",
    "        p: Prices: (dict) Price of product k \\in K at supplier i \\in M\n",
    "    \n",
    "        q: Available quantities: (dict) Available quantity of product k \\in K at supplier i \\in M\n",
    "    \n",
    "        h: Holding cost: (dict) Holding cost of product k \\in K\n",
    "    \n",
    "        historic_data: (dict) Historic log of information (optional)\n",
    "    \n",
    "-   **Belief State** ($B_t$):\n",
    "    \n",
    "        sample_paths: Simulated sample paths (optional)\n",
    "\n",
    "\n",
    "### Actions ($X_t$)\n",
    "The action can be seen as a three level-decision. These are the three layers:\n",
    "\n",
    "1. Routes to visit the selected suppliers\n",
    "\n",
    "2. Quantities to purchase on each supplier\n",
    "\n",
    "3. Demand compliance plan, dispatch decision\n",
    "\n",
    "4. (Optional) Back-logs compliance\n",
    "\n",
    "Accordingly, the action will be a list composed as follows:\n",
    "\n",
    "$$ X = [\\text{routes, purchase, demand compliance, back logs compliance}] $$\n",
    "\n",
    "        routes: (list) list of lists, each with the nodes visited on the route (including departure and arriving to the depot)\n",
    "\n",
    "        purchase: (dict) Units to purchase of product k \\in K at supplier i \\in M\n",
    "\n",
    "        demand_compliance: (dict) Units of product k in K of age o \\in O_k used to satisfy the demand\n",
    "\n",
    "        back_logs_compliance: (dict) Units of product k in K of age o \\in O_k used to satisfy the back-logs\n",
    "\n",
    "### Exogenous information ($W_t$)\n",
    "\n",
    "### Transition Function ($S_M^X$)\n",
    "\n",
    "### Cost Function ($C_t$)"
   ]
  },
  {
   "cell_type": "markdown",
   "metadata": {},
   "source": [
    "## INITIALIZATION\n",
    "\n",
    "### Time Horizon: Two time horizon types (horizon_type = 'episodic')\n",
    "\n",
    "1. 'episodic': Every episode (simulation) has a finite number of time steps\n",
    "    \n",
    "    Related parameters:\n",
    "        \n",
    "        - T: Decision periods (time-steps)\n",
    "    \n",
    "        \n",
    "2. !!!NOT DEVELOPED!!! 'continuous': Never-ending episodes\n",
    "    \n",
    "    Related parameters: \n",
    "        \n",
    "        - gamma: Discount factor"
   ]
  },
  {
   "cell_type": "code",
   "execution_count": 2,
   "metadata": {},
   "outputs": [],
   "source": [
    "horizon_type = 'episodic'\n",
    "\n",
    "T = 4"
   ]
  },
  {
   "cell_type": "markdown",
   "metadata": {},
   "source": [
    "### Look-ahead approximation: Generation of sample paths (look_ahead = ['d']):\n",
    "\n",
    "1. List of parameters to be forecasted on the look-ahead approximation ['d', 'p', ...]\n",
    "\n",
    "2. List with '*' to generate forecasts for all parameters\n",
    "\n",
    "3. False for no sample path generation\n",
    "\n",
    "Related parameters:\n",
    "\n",
    "    - S: Number of sample paths\n",
    "    \n",
    "    - LA_horizon: Number of look-ahead periods, includes the current decision period."
   ]
  },
  {
   "cell_type": "code",
   "execution_count": 3,
   "metadata": {},
   "outputs": [],
   "source": [
    "look_ahead = ['*']\n",
    "\n",
    "S = 2\n",
    "LA_horizon = 3"
   ]
  },
  {
   "cell_type": "markdown",
   "metadata": {},
   "source": [
    "### Historic data: Generation or usage of historic data (historic_data = ['d'])   \n",
    "\n",
    "1. ['d', 'p', ...]: List with the parameters the historic info will be generated for\n",
    "\n",
    "2.  ['*']: Historic info generated for all parameters\n",
    "\n",
    "3. !!!NOT DEVELOPED!!! path: File path to be processed by upload_historic_data() \n",
    "\n",
    "4.  False: No historic data will be used\n",
    "\n",
    "Related parameter:\n",
    "    \n",
    "    - hist_window: Initial log size (time periods)"
   ]
  },
  {
   "cell_type": "code",
   "execution_count": 4,
   "metadata": {},
   "outputs": [],
   "source": [
    "historic_data = ['*']\n",
    "\n",
    "hist_window = 10"
   ]
  },
  {
   "cell_type": "markdown",
   "metadata": {},
   "source": [
    "### Back-orders: Catch unsatisfied demand (back_orders = False):\n",
    "\n",
    "1. 'back-orders': Demand may be not fully satisfied. Non-complied orders will be automatically fullfilled with an extra-cost\n",
    "\n",
    "2. 'back-logs': Demand may be not fully satisfied. Non-complied orders will be registered and kept track of on age 'B'\n",
    "\n",
    "3. False: All demand must be fullfilled\n",
    "\n",
    "Related parameters:\n",
    "\n",
    "    - back_o_cost = 20\n",
    "    - back_l_cost = 20"
   ]
  },
  {
   "cell_type": "code",
   "execution_count": 5,
   "metadata": {},
   "outputs": [],
   "source": [
    "back_orders =  False"
   ]
  },
  {
   "cell_type": "markdown",
   "metadata": {},
   "source": [
    "### Additional environment parameters\n",
    "\n",
    "    -   M = 10: Number of suppliers\n",
    "\n",
    "    -   K = 10: Number of Products\n",
    "\n",
    "    -   F = 2:  Number of vehicles on the fleet\n",
    "\n",
    "    -   T = 6:  Number of decision periods\n",
    "\n",
    "    -   wh_cap = 1e9: Warehouse capacity\n",
    "\n",
    "    -   min/max_sprice: Max and min selling prices (per m and k)\n",
    "\n",
    "    -   min/max_hprice: Max and min holding cost (per k)\n",
    "\n",
    "    -   penalization_cost: Penalization costs for RL (invalid actions, etc.)\n",
    "\n",
    "    -   S = 4:  Number of sample paths \n",
    "\n",
    "    -   LA_horizon = 5: Number of look-ahead periods\n",
    "\n",
    "    -   lambda1 = 0.5: Controls demand, assures feasibility"
   ]
  },
  {
   "cell_type": "code",
   "execution_count": 6,
   "metadata": {},
   "outputs": [],
   "source": [
    "env_config = {  'M': 3, \n",
    "                'K': 3, \n",
    "                'T': T, \n",
    "                'F': 2, \n",
    "                \n",
    "                'min_sprice': 1, \n",
    "                'max_sprice': 500, \n",
    "                'min_hprice': 1, \n",
    "                'max_hprice': 500,\n",
    "                \n",
    "                'S': S, \n",
    "                'LA_horizon': LA_horizon, \n",
    "                'lambda1': 0.5\n",
    "            }\n",
    "            "
   ]
  },
  {
   "cell_type": "markdown",
   "metadata": {},
   "source": [
    "# Creating an environment\n",
    "\n",
    "The environment receives all the main parameters plus a random seed as rd_seed, and a dictionary env_config with the other customizable parameters\n",
    "    \n",
    "    -   rd_seed: Seed for random number generation\n",
    "\n",
    "    -   env_config: Dictionary with custom environment parameters"
   ]
  },
  {
   "cell_type": "code",
   "execution_count": 7,
   "metadata": {},
   "outputs": [
    {
     "data": {
      "text/plain": [
       "'Stochastic-Dynamic Inventory-Routing-Problem with Perishable Products instance. V = 3; K = 3; F = 2'"
      ]
     },
     "execution_count": 7,
     "metadata": {},
     "output_type": "execute_result"
    }
   ],
   "source": [
    "rd_seed = 0\n",
    "env = steroid_IRP( horizon_type = horizon_type, \n",
    "                   look_ahead = look_ahead, \n",
    "                   historic_data = historic_data, \n",
    "                   back_orders = back_orders,\n",
    "                   rd_seed = rd_seed, \n",
    "                   env_config = env_config)\n",
    "repr(env)"
   ]
  },
  {
   "cell_type": "markdown",
   "metadata": {},
   "source": [
    "# Reseting the environment\n",
    "\n",
    "Once the environment is created, or everytime it will be run again from the start, it must be reset. For this, the class has the reset method which receives the following boolean parameter:\n",
    "\n",
    "    -   return_state: Indicates if reset() returns the initial state"
   ]
  },
  {
   "cell_type": "code",
   "execution_count": 8,
   "metadata": {},
   "outputs": [],
   "source": [
    "return_state = True\n",
    "state, _ = env.reset(return_state = return_state)"
   ]
  },
  {
   "cell_type": "markdown",
   "metadata": {},
   "source": [
    "# Retrieving information from the environment\n",
    "\n",
    "Once the environmnet has been reset, all the initial values can be accessed."
   ]
  },
  {
   "cell_type": "markdown",
   "metadata": {},
   "source": [
    "    - Inventory[k,o]"
   ]
  },
  {
   "cell_type": "code",
   "execution_count": 9,
   "metadata": {},
   "outputs": [
    {
     "name": "stdout",
     "output_type": "stream",
     "text": [
      "State: {(0, 1): 0, (0, 2): 0, (0, 3): 0, (0, 4): 0, (1, 1): 0, (1, 2): 0, (1, 3): 0, (1, 4): 0, (2, 1): 0} \n",
      "\n"
     ]
    }
   ],
   "source": [
    "print(f'State: {state} \\n')\n",
    "\n",
    "#product = choice(env.Products); age = randint(1, env.O_k[product])\n",
    "#print(env.O_k[product])\n",
    "#print(f'The inventory of product {product} and age {age} is {env.state[product,age]}')"
   ]
  },
  {
   "cell_type": "markdown",
   "metadata": {},
   "source": [
    "The environment has a built-in method that helps visualize the state as a dataframe. "
   ]
  },
  {
   "cell_type": "code",
   "execution_count": 10,
   "metadata": {},
   "outputs": [
    {
     "data": {
      "text/html": [
       "<div>\n",
       "<style scoped>\n",
       "    .dataframe tbody tr th:only-of-type {\n",
       "        vertical-align: middle;\n",
       "    }\n",
       "\n",
       "    .dataframe tbody tr th {\n",
       "        vertical-align: top;\n",
       "    }\n",
       "\n",
       "    .dataframe thead th {\n",
       "        text-align: right;\n",
       "    }\n",
       "</style>\n",
       "<table border=\"1\" class=\"dataframe\">\n",
       "  <thead>\n",
       "    <tr style=\"text-align: right;\">\n",
       "      <th>Ages</th>\n",
       "      <th>1</th>\n",
       "      <th>2</th>\n",
       "      <th>3</th>\n",
       "      <th>4</th>\n",
       "    </tr>\n",
       "    <tr>\n",
       "      <th>Products</th>\n",
       "      <th></th>\n",
       "      <th></th>\n",
       "      <th></th>\n",
       "      <th></th>\n",
       "    </tr>\n",
       "  </thead>\n",
       "  <tbody>\n",
       "    <tr>\n",
       "      <th>0</th>\n",
       "      <td>0</td>\n",
       "      <td>0.0</td>\n",
       "      <td>0.0</td>\n",
       "      <td>0.0</td>\n",
       "    </tr>\n",
       "    <tr>\n",
       "      <th>1</th>\n",
       "      <td>0</td>\n",
       "      <td>0.0</td>\n",
       "      <td>0.0</td>\n",
       "      <td>0.0</td>\n",
       "    </tr>\n",
       "    <tr>\n",
       "      <th>2</th>\n",
       "      <td>0</td>\n",
       "      <td>NaN</td>\n",
       "      <td>NaN</td>\n",
       "      <td>NaN</td>\n",
       "    </tr>\n",
       "  </tbody>\n",
       "</table>\n",
       "</div>"
      ],
      "text/plain": [
       "Ages      1    2    3    4\n",
       "Products                  \n",
       "0         0  0.0  0.0  0.0\n",
       "1         0  0.0  0.0  0.0\n",
       "2         0  NaN  NaN  NaN"
      ]
     },
     "execution_count": 10,
     "metadata": {},
     "output_type": "execute_result"
    }
   ],
   "source": [
    "env.print_inventory()"
   ]
  },
  {
   "cell_type": "markdown",
   "metadata": {},
   "source": [
    "    -   Available quantities [i,k]\n",
    "    \n",
    "    -   Prices [i,k]\n",
    "    \n",
    "    -   Holding cost [k]\n",
    "    \n",
    "    -   Demand [k]"
   ]
  },
  {
   "cell_type": "code",
   "execution_count": 11,
   "metadata": {},
   "outputs": [
    {
     "name": "stdout",
     "output_type": "stream",
     "text": [
      "Supplier 1 offers 8 of product 0\n",
      "Supplier 1 offers product 0 at $480\n",
      "Holding cost for product 0 is $295\n",
      "Demand for product 1 is 16.0\n"
     ]
    }
   ],
   "source": [
    "#print(env.q, '\\n')\n",
    "supplier = choice(env.Suppliers); product = choice(env.Products)\n",
    "print(f'Supplier {supplier} offers {env.q[supplier, product]} of product {product}')\n",
    "\n",
    "#print(env.p, '\\n')\n",
    "print(f'Supplier {supplier} offers product {product} at ${env.p[supplier, product]}')\n",
    "\n",
    "#print(env.h, '\\n')\n",
    "product = choice(env.Products)\n",
    "print(f'Holding cost for product {product} is ${env.h[product]}')\n",
    "\n",
    "#print(env.h, '\\n')\n",
    "product = choice(env.Products)\n",
    "print(f'Demand for product {product} is {env.d[product]}')"
   ]
  },
  {
   "cell_type": "markdown",
   "metadata": {},
   "source": [
    "Historic data\n",
    "\n",
    "    -   Available quantiites\n",
    "    \n",
    "    -   Prices\n",
    "    \n",
    "    -   Holding cost \n",
    "    \n",
    "    -   Demand"
   ]
  },
  {
   "cell_type": "code",
   "execution_count": 12,
   "metadata": {},
   "outputs": [
    {
     "name": "stdout",
     "output_type": "stream",
     "text": [
      "The historic a.q. for supplier 1 on product 0 are [0, 0, 15, 1, 5, 3, 14, 0, 9, 12, 2, 0, 5, 0, 7, 0, 14, 0, 6, 0, 5, 0, 0, 7, 2, 0, 0, 0, 0, 0, 2, 0, 0, 0, 9, 0, 0, 0, 15, 0] \n",
      "\n",
      "The historic demand of produdct 0 is [0.0, 0.0, 20.0, 12.5, 13.5, 3.0, 16.0, 0.0, 12.5, 12.0, 2.0, 0.0, 5.0, 0.0, 8.0, 6.0, 16.0, 0.0, 6.0, 0.0, 7.5, 0.0, 0.0, 13.5, 14.0, 0.0, 3.0, 0.0, 0.0, 0.0, 8.0, 4.0, 6.0, 0.0, 9.0, 0.0, 0.0, 0.0, 16.0, 2.0]\n"
     ]
    }
   ],
   "source": [
    "supplier = choice(env.Suppliers); product = choice(env.Products)\n",
    "\n",
    "historic_quantities = env.historic_data['q'][supplier, product]\n",
    "print(f'The historic a.q. for supplier {supplier} on product {product} are {historic_quantities} \\n')\n",
    "\n",
    "historic_demand = env.historic_data['d'][product]\n",
    "print(f'The historic demand of produdct {product} is {historic_demand}')"
   ]
  },
  {
   "cell_type": "markdown",
   "metadata": {},
   "source": [
    "Sample paths\n",
    "\n",
    "    -   Available quantiites\n",
    "    \n",
    "    -   Prices\n",
    "    \n",
    "    -   Holding cost \n",
    "    \n",
    "    -   Demand"
   ]
  },
  {
   "cell_type": "code",
   "execution_count": 13,
   "metadata": {},
   "outputs": [
    {
     "name": "stdout",
     "output_type": "stream",
     "text": [
      "On sample path 0 the forcasted available quantity of product 0 on supplier 2 for day 2 is 11\n",
      "On sample path 0 the forcasted demand of product 0 for day 2 is 11.0\n"
     ]
    }
   ],
   "source": [
    "sample = choice(env.Samples)\n",
    "proy_day = randint(1, env.LA_horizon - 1)\n",
    "supplier = choice(env.Suppliers); product = choice(env.Products)\n",
    "\n",
    "proy_quant = env.sample_paths[('q',sample)][(supplier, product, proy_day)]\n",
    "print(f'On sample path {sample} the forcasted available quantity of product {product} on supplier {supplier} for day {proy_day} is {proy_quant}')\n",
    "\n",
    "proy_demand = env.sample_paths[('d',sample)][product, proy_day]\n",
    "print(f'On sample path {sample} the forcasted demand of product {product} for day {proy_day} is {proy_demand}')"
   ]
  },
  {
   "cell_type": "markdown",
   "metadata": {},
   "source": [
    "# Sanity check\n",
    "\n",
    "    - First day of forecast is the realized random value"
   ]
  },
  {
   "cell_type": "code",
   "execution_count": 14,
   "metadata": {},
   "outputs": [
    {
     "name": "stdout",
     "output_type": "stream",
     "text": [
      "Test q: \u001b[32mPassed\u001b[0m\n",
      "Test p: \u001b[32mPassed\u001b[0m\n",
      "Test h: \u001b[32mPassed\u001b[0m\n",
      "Test h: \u001b[32mPassed\u001b[0m\n"
     ]
    }
   ],
   "source": [
    "sample = choice(env.Samples)\n",
    "proy_day = 0\n",
    "supplier = choice(env.Suppliers); product = choice(env.Products)\n",
    "\n",
    "test_q, col_q = print_valid(env.sample_paths[\"q\",sample][supplier,product,proy_day] == env.q[supplier,product])\n",
    "print('Test q:', colored(test_q, col_q))\n",
    "test_p, col_p = print_valid(env.sample_paths[\"p\",sample][supplier,product,proy_day] == env.p[supplier,product])\n",
    "print('Test p:', colored(test_p, col_p))\n",
    "test_h, col_h = print_valid(env.sample_paths[\"h\",sample][product,proy_day] == env.h[product])\n",
    "print('Test h:', colored(test_h, col_h))\n",
    "test_d, col_d = print_valid(env.sample_paths[\"d\",sample][product,proy_day] == env.d[product])\n",
    "print('Test h:', colored(test_d, col_d))"
   ]
  },
  {
   "cell_type": "markdown",
   "metadata": {},
   "source": [
    "# Interacting with the environment \n",
    "\n",
    "The environment is designed to be fully dynamic and responsive to the user. To do this, the user will interact through the step() method. This method receives an action and makes the corresponding transitions on the environment (i.e., update the inventory, prices, quantities, compute the action's cost, etc.). Here, a full episode is shown step by step, emphasising on relevant aspects and trasitions to help the user understand the environment's logic.\n",
    "\n",
    "First, the initial state, demand and available quantities are retrieved and analized. The actions provided to de environment must be feasible in all dimensions of the problem (routing, purchasing and demand compliance). "
   ]
  },
  {
   "cell_type": "code",
   "execution_count": 15,
   "metadata": {},
   "outputs": [
    {
     "name": "stdout",
     "output_type": "stream",
     "text": [
      "######################################## Time step 0 ########################################\n",
      "State s_0:\n",
      "Ages      1    2    3    4\n",
      "Products                  \n",
      "0         0  0.0  0.0  0.0\n",
      "1         0  0.0  0.0  0.0\n",
      "2         0  NaN  NaN  NaN \n",
      " \n",
      "Demand d_0: {0: 10.0, 1: 16.0, 2: 0.0}\n",
      "Available quantities q_0: {(1, 0): 8, (1, 1): 11, (1, 2): 0, (2, 0): 4, (2, 1): 10, (2, 2): 0}\n"
     ]
    }
   ],
   "source": [
    "print(f'######################################## Time step {env.t} ########################################')\n",
    "print(f'State s_{env.t}:')\n",
    "print(env.print_inventory(), '\\n ')\n",
    "print(f'Demand d_{env.t}: {env.d}')\n",
    "print(f'Available quantities q_{env.t}: {env.q}')\n",
    "\n",
    "# x = env.historic_data['q'][1,0]\n",
    "# print(f'Historic of a.q is: {x}')\n",
    "# print(f'A.q is {env.q[1,0]}') "
   ]
  },
  {
   "cell_type": "markdown",
   "metadata": {},
   "source": [
    "A single route will visit all the suppliers. To test the inventory transitions and the cost of the actions, all available items will be purchased (assuming enough vehicle capcacity). The demand will be fully satisfied with the purchased products (age 0)."
   ]
  },
  {
   "cell_type": "code",
   "execution_count": 16,
   "metadata": {},
   "outputs": [],
   "source": [
    "# Visiting all the suppliers in a single route\n",
    "routes = [[0,1,2,0]]\n",
    "\n",
    "# Purchase all available quantities\n",
    "purchase = {(1,0): 8, (2,0): 4,     # product 0: 12 units\n",
    "            (1,1): 11, (2,1): 10,   # product 1: 21 units\n",
    "            (1,2): 0, (2,2): 0}     # product 2:  0 units\n",
    "\n",
    "# Demand compliance\n",
    "demand_compliance = {(0,0): 10, (0,1): 0, (0,2): 0, (0,3): 0, (0,4): 0,\n",
    "                     (1,0): 16, (1,1): 0, (1,2): 0, (1,3): 0, (1,4): 0,\n",
    "                     (2,0): 0,  (2,1): 0}\n",
    "\n",
    "action = [routes, purchase, demand_compliance]\n",
    "\n"
   ]
  },
  {
   "cell_type": "markdown",
   "metadata": {},
   "source": [
    "The action's cost is computed manually as the sum of the routing, purchasing and holding costs. "
   ]
  },
  {
   "cell_type": "code",
   "execution_count": 17,
   "metadata": {},
   "outputs": [
    {
     "name": "stdout",
     "output_type": "stream",
     "text": [
      "The total cost of the action is: 10803\n"
     ]
    }
   ],
   "source": [
    "transport_cost = env.c[routes[0][0], routes[0][1]] + env.c[routes[0][1], routes[0][2]] + env.c[routes[0][2], routes[0][3]]\n",
    "purchase_cost = 0\n",
    "for i in env.Suppliers:\n",
    "    for k in env.Products:\n",
    "        purchase_cost += purchase[i,k] * env.p[i,k]\n",
    "holding_cost = env.h[1] * 5 + env.h[0] * 2\n",
    "total_cost = transport_cost + purchase_cost + holding_cost \n",
    "print(f'The total cost of the action is: {total_cost}')"
   ]
  },
  {
   "cell_type": "markdown",
   "metadata": {},
   "source": [
    "With this **valid** action, the step method can be called. The input parameters 'validate_action' and 'warnings' will determine if an action is valid and raise warnings if an undersirable conduct occurs, respectively. This method returns:\n",
    "    \n",
    "    -   state: New state, inventory levels before the next decision\n",
    "    -   reward: The total cost of the action (transport, purchase and holding)\n",
    "    -   done: Indicates if the episode has finished\n",
    "    -   _: Extra information: (Dict) Parameters, historics and sample paths\n",
    "\n",
    "The reward computed by the environment is correct. The inventory for the products 1 and 2 matches the demand and purchase ($12-10=2$ and $21-16=5$, respectively). The demand and other parameters are updated for the next decision step. "
   ]
  },
  {
   "cell_type": "code",
   "execution_count": 18,
   "metadata": {},
   "outputs": [
    {
     "name": "stdout",
     "output_type": "stream",
     "text": [
      "The computated cost of the action is 10803\n",
      "Episode finished: False \n",
      "\n",
      "######################################## Time step 1 ########################################\n",
      "s_1:\n",
      "Ages      1    2    3    4\n",
      "Products                  \n",
      "0         2  0.0  0.0  0.0\n",
      "1         5  0.0  0.0  0.0\n",
      "2         0  NaN  NaN  NaN\n",
      "\n",
      "Demand: d_1: {0: 13.0, 1: 20.5, 2: 4.0}\n",
      "Available quantities: q_1: {(1, 0): 8, (1, 1): 11, (1, 2): 0, (2, 0): 9, (2, 1): 15, (2, 2): 4}\n"
     ]
    }
   ],
   "source": [
    "state, reward, done, _ = env.step(action = action, validate_action = True)\n",
    "\n",
    "print(f'The computated cost of the action is {reward}')\n",
    "print(f'Episode finished: {done} \\n')\n",
    "\n",
    "print(f'################################### Time step {env.t} ###################################')\n",
    "print(f's_{env.t}:')\n",
    "print(f'{env.print_inventory()}\\n')\n",
    "print(f'Demand: d_{env.t}: {env.d}')\n",
    "print(f'Available quantities: q_{env.t}: {env.q}')"
   ]
  },
  {
   "cell_type": "markdown",
   "metadata": {},
   "source": [
    "Again, the same route and purchasing strategy are used. This step, one of the items stored of product 1 (of age 1) will be used. "
   ]
  },
  {
   "cell_type": "code",
   "execution_count": 19,
   "metadata": {},
   "outputs": [],
   "source": [
    "# Visiting all the suppliers\n",
    "routes = [[0,1,2,0]]\n",
    "\n",
    "# Purchase exact quantity for \n",
    "purchase = {(1,0): 8,  (2,0): 9,    # product 0: 17 units\n",
    "            (1,1): 11, (2,1): 15,   # product 1: 26 units\n",
    "            (1,2): 0,  (2,2): 4}    # product 2: 4 units\n",
    "\n",
    "# Demand complience\n",
    "demand_complience = {(0,0): 13, (0,1): 0, (0,2): 0, (0,3): 0, (0,4): 0,\n",
    "                     (1,0): 19.5, (1,1): 1, (1,2): 0, (1,3): 0,  (1,4): 0,\n",
    "                     (2,0): 4, (2,1): 0}\n",
    "\n",
    "action = [routes, purchase, demand_complience]"
   ]
  },
  {
   "cell_type": "markdown",
   "metadata": {},
   "source": [
    "Product 0 has ($17-13=4$) of age 1 and 2 of age 2. Product 1 has 6.5 items ($26-19,5$) of age 1 and 4 ($5-1=4$) of age 2. "
   ]
  },
  {
   "cell_type": "code",
   "execution_count": 20,
   "metadata": {},
   "outputs": [
    {
     "name": "stdout",
     "output_type": "stream",
     "text": [
      "The computated cost of the action is 23248.5\n",
      "Episode finished: False \n",
      "\n",
      "######################################## Time step 2 ########################################\n",
      "s_2:\n",
      "Ages        1    2    3    4\n",
      "Products                    \n",
      "0         4.0  2.0  0.0  0.0\n",
      "1         6.5  4.0  0.0  0.0\n",
      "2         0.0  NaN  NaN  NaN\n",
      "\n",
      "Demand: d_2: {0: 0.0, 1: 0.0, 2: 1.0}\n",
      "Available quantities: q_2: {(1, 0): 0, (1, 1): 0, (1, 2): 0, (2, 0): 0, (2, 1): 0, (2, 2): 1}\n"
     ]
    }
   ],
   "source": [
    "state, reward, done, _  = env.step(action = action, validate_action = True)\n",
    "print(f'The computated cost of the action is {reward}')\n",
    "print(f'Episode finished: {done} \\n')\n",
    "\n",
    "print(f'################################### Time step {env.t} ###################################')\n",
    "print(f's_{env.t}:')\n",
    "print(f'{env.print_inventory()}\\n')\n",
    "print(f'Demand: d_{env.t}: {env.d}')\n",
    "print(f'Available quantities: q_{env.t}: {env.q}')"
   ]
  },
  {
   "cell_type": "markdown",
   "metadata": {},
   "source": [
    "The same action strategy is used. No inventory remains from the purchase. "
   ]
  },
  {
   "cell_type": "code",
   "execution_count": 21,
   "metadata": {},
   "outputs": [],
   "source": [
    "# Visiting all the suppliers\n",
    "routes = [[0,1,2,0]]\n",
    "\n",
    "# Purchase exact quantity for \n",
    "purchase = {(1,0): 0, (2,0): 0,    # product 0: 0 units\n",
    "            (1,1): 0, (2,1): 0,    # product 1: 0 units\n",
    "            (1,2): 0, (2,2): 1}    # product 2: 1 units\n",
    "\n",
    "# Demand compliance\n",
    "demand_compliance = {(0,0): 0, (0,1): 0, (0,2): 0, (0,3): 0, (0,4): 0,\n",
    "                     (1,0): 0, (1,1): 0, (1,2): 0, (1,3): 0, (1,4): 0,\n",
    "                     (2,0): 1, (2,1): 0}\n",
    "\n",
    "X = [routes, purchase, demand_compliance]"
   ]
  },
  {
   "cell_type": "code",
   "execution_count": 22,
   "metadata": {},
   "outputs": [
    {
     "name": "stdout",
     "output_type": "stream",
     "text": [
      "The computated cost of the action is 3460.0\n",
      "Episode finished: False \n",
      "\n",
      "######################################## Time step 3 ########################################\n",
      "s_3:\n",
      "Ages      1    2    3    4\n",
      "Products                  \n",
      "0         0  4.0  2.0  0.0\n",
      "1         0  6.5  4.0  0.0\n",
      "2         0  NaN  NaN  NaN\n",
      "\n",
      "Demand: d_3: {0: 0.0, 1: 14.0, 2: 6.0}\n",
      "Available quantities: q_3: {(1, 0): 0, (1, 1): 14, (1, 2): 0, (2, 0): 0, (2, 1): 0, (2, 2): 6}\n"
     ]
    }
   ],
   "source": [
    "state, reward, done, _  = env.step(action = X, validate_action = True)\n",
    "print(f'The computated cost of the action is {reward}')\n",
    "print(f'Episode finished: {done} \\n')\n",
    "\n",
    "print(f'################################### Time step {env.t} ###################################')\n",
    "print(f's_{env.t}:')\n",
    "print(f'{env.print_inventory()}\\n')\n",
    "print(f'Demand: d_{env.t}: {env.d}')\n",
    "print(f'Available quantities: q_{env.t}: {env.q}')"
   ]
  },
  {
   "cell_type": "code",
   "execution_count": 23,
   "metadata": {},
   "outputs": [],
   "source": [
    "# Visiting all the suppliers\n",
    "routes = [[0,1,2,0]]\n",
    "\n",
    "# Purchase exact quantity for \n",
    "purchase = {(1,0): 0,  (2,0): 0,   # product 0:  0 units\n",
    "            (1,1): 14, (2,1): 0,   # product 1: 14 units\n",
    "            (1,2): 0,  (2,2): 6}   # product 2:  6 units\n",
    "\n",
    "# Demand compliance\n",
    "demand_compliance = {(0,0): 0, (0,1): 0, (0,2): 0, (0,3): 0, (0,4): 0,\n",
    "                     (1,0): 14, (1,1): 0, (1,2): 0, (1,3): 0, (1,4): 0,\n",
    "                     (2,0): 6, (2,1): 0}\n",
    "\n",
    "X = [routes, purchase, demand_compliance]"
   ]
  },
  {
   "cell_type": "markdown",
   "metadata": {},
   "source": [
    "Since the epiosde has ended ($t = 4$), the state doesn't update. "
   ]
  },
  {
   "cell_type": "code",
   "execution_count": 24,
   "metadata": {},
   "outputs": [
    {
     "name": "stdout",
     "output_type": "stream",
     "text": [
      "The computated cost of the action is 6782.5\n",
      "Episode finished: True \n",
      "\n",
      "######################################## Time step 4 ########################################\n",
      "s_4:\n",
      "Ages      1    2    3    4\n",
      "Products                  \n",
      "0         0  4.0  2.0  0.0\n",
      "1         0  6.5  4.0  0.0\n",
      "2         0  NaN  NaN  NaN\n",
      "\n",
      "Demand: d_4: {0: 0.0, 1: 14.0, 2: 6.0}\n",
      "Available quantities: q_4: {(1, 0): 0, (1, 1): 14, (1, 2): 0, (2, 0): 0, (2, 1): 0, (2, 2): 6}\n"
     ]
    }
   ],
   "source": [
    "state, reward, done, _  = env.step(action = X, validate_action = True)\n",
    "print(f'The computated cost of the action is {reward}')\n",
    "print(f'Episode finished: {done} \\n')\n",
    "\n",
    "print(f'################################### Time step {env.t} ###################################')\n",
    "print(f's_{env.t}:')\n",
    "print(f'{env.print_inventory()}\\n')\n",
    "print(f'Demand: d_{env.t}: {env.d}')\n",
    "print(f'Available quantities: q_{env.t}: {env.q}')"
   ]
  }
 ],
 "metadata": {
  "kernelspec": {
   "display_name": "Python 3.10.4 64-bit",
   "language": "python",
   "name": "python3"
  },
  "language_info": {
   "codemirror_mode": {
    "name": "ipython",
    "version": 3
   },
   "file_extension": ".py",
   "mimetype": "text/x-python",
   "name": "python",
   "nbconvert_exporter": "python",
   "pygments_lexer": "ipython3",
   "version": "3.10.4"
  },
  "orig_nbformat": 4,
  "vscode": {
   "interpreter": {
    "hash": "aee8b7b246df8f9039afb4144a1f6fd8d2ca17a180786b69acc140d282b71a49"
   }
  }
 },
 "nbformat": 4,
 "nbformat_minor": 2
}
