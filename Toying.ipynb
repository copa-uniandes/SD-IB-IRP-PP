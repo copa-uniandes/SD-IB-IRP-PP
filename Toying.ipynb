{
 "cells": [
  {
   "cell_type": "code",
   "execution_count": 1,
   "metadata": {},
   "outputs": [],
   "source": [
    "import pIRPgym"
   ]
  },
  {
   "attachments": {},
   "cell_type": "markdown",
   "metadata": {},
   "source": [
    "# Stochastic-Dynamic Inventory-Routing-Problem with Perishable Products Environment\n",
    "\n",
    "by: Juan Betancourt\n",
    "\n",
    "<div style=\"text-align: justify\"> \n",
    "This Jupyter Notebook is dedicated to offering an in-depth, step-by-step guide to create and employ an environment for the SD-IB-IRP-PP. The document's content can be summarized as follows:\n",
    "</div> \n",
    "\n",
    "1. Powelleskian Model\n",
    "\n",
    "2. Instance Generator\n",
    "\n",
    "3. Environment\n",
    "\n",
    "4. Policies\n",
    "\n",
    "5. Step Iteration\n",
    "\n",
    "6. Episode Simulation"
   ]
  },
  {
   "attachments": {},
   "cell_type": "markdown",
   "metadata": {},
   "source": [
    "## 1. Powelleskian Model\n",
    "\n",
    "### State ($S_t$)\n",
    "-   **Physical State** ($R_t$):\n",
    "\n",
    "        state:  Current available inventory: (dict)  Inventory of product k \\in K of age o \\in O_k. Since the state is the inventory before the decision is taken, there is no age 0 inventory.\n",
    "                \n",
    "        When backlogs are activated, will appear under age 'B'   \n",
    "                                           \n",
    "\n",
    "-   **Other deterministic info** ($Z_t$):\n",
    "\n",
    "        p: Prices: (dict) Price of product k \\in K at supplier i \\in M\n",
    "    \n",
    "        q: Available quantities: (dict) Available quantity of product k \\in K at supplier i \\in M\n",
    "    \n",
    "        h: Holding cost: (dict) Holding cost of product k \\in K\n",
    "    \n",
    "        historical_data: (dict) Historical log of information (optional)\n",
    "    \n",
    "-   **Belief State** ($B_t$):\n",
    "    \n",
    "        sample_paths: Simulated sample paths (optional)\n",
    "\n",
    "\n",
    "### Actions ($X_t$)\n",
    "The action can be seen as a three level-decision. These are the three layers:\n",
    "\n",
    "1. Routes to visit the selected suppliers\n",
    "\n",
    "2. Quantities to purchase from each supplier\n",
    "\n",
    "3. Demand compliance plan, dispatch decision\n",
    "\n",
    "4. (Optional) Backlogs compliance\n",
    "\n",
    "Accordingly, the action will be a list composed as follows:\n",
    "\n",
    "$$ X = [\\text{routes, purchase, demand compliance, backlogs compliance}] $$\n",
    "\n",
    "        routes: (list) list of lists, each with the nodes visited on the route (including departure and arriving to the depot)\n",
    "\n",
    "        purchase: (dict) Units to purchase of product k \\in K at supplier i \\in M\n",
    "\n",
    "        demand_compliance: (dict) Units of product k in K of age o \\in O_k used to satisfy the demand\n",
    "\n",
    "        backlogs_compliance: (dict) Units of product k in K of age o \\in O_k used to satisfy the backlogs\n",
    "\n",
    "### Exogenous information ($W_t$)\n",
    "\n",
    "\n",
    "### Transition Function ($S_M^X$)\n",
    "\n",
    "### Cost Function ($C_t$)"
   ]
  },
  {
   "attachments": {},
   "cell_type": "markdown",
   "metadata": {},
   "source": [
    "## 2. Instance generator\n",
    "\n",
    "<div style=\"text-align: justify\"> \n",
    "Prior to generating an environment, an instance generator object must be created. This instance generator will contain all of the parameters, deterministic and stochastic, of the problem. This object receives two types of parameters: structural and instantial. \n",
    "</div> \n",
    "\n",
    "### Instantial parameters\n",
    "\n",
    "- Time Horizon: Number of decision periods (time steps) per simulation\n",
    "    \n",
    "        T = 7\n",
    "\n",
    "- Suppliers: Number of suppliers\n",
    "\n",
    "        M = 10\n",
    "\n",
    "- Products: Number of products\n",
    "\n",
    "        K = 5\n",
    "\n",
    "- Fleet: Number of vehicles\n",
    "\n",
    "        F = 4\n",
    "\n",
    "- Capacity: Vehicles' capacity\n",
    "\n",
    "        Q = 40\n",
    "\n",
    "- Maximum distance per route\n",
    "\n",
    "        d_max = 500"
   ]
  },
  {
   "cell_type": "code",
   "execution_count": 2,
   "metadata": {},
   "outputs": [],
   "source": [
    "T = 8\n",
    "M = 15\n",
    "K = 15\n",
    "F = 15\n",
    "\n",
    "Q = 750\n",
    "d_max = 2500"
   ]
  },
  {
   "attachments": {},
   "cell_type": "markdown",
   "metadata": {},
   "source": [
    "### Structural parameters\n",
    "\n",
    "These parameters define the type of instance that will be generated and the configuration to each one of the possibilites. \n",
    "\n",
    "- Look-ahead approximation: Generation of sample paths (<kbd>look_ahead = ['d','q']</kbd>):\n",
    "\n",
    "    1. List of parameters to be forecasted on the look-ahead approximation ['d', 'p', ...]\n",
    "\n",
    "    2. List with '*' to generate forecasts for all parameters\n",
    "\n",
    "    3. False for no sample path generation\n",
    "\n",
    "    Related parameters:\n",
    "\n",
    "        - S: Number of sample paths\n",
    "        \n",
    "        - LA_horizon: Number of look-ahead periods, includes the current decision period."
   ]
  },
  {
   "cell_type": "code",
   "execution_count": 3,
   "metadata": {},
   "outputs": [],
   "source": [
    "look_ahead = ['d','q']\n",
    "\n",
    "S = 8\n",
    "LA_horizon = 4"
   ]
  },
  {
   "attachments": {},
   "cell_type": "markdown",
   "metadata": {},
   "source": [
    "- Stocastic parameters: Considering stochastic parameters, meaning the forecast for today are not the same realized values (<kbd>stochastic_params = ['d','q']</kbd>):\n",
    "\n",
    "    1. List with parameters to be stochastic ['d', 'p', ...]\n",
    "\n",
    "    2. List with '*' to consider all parameters as stochastic\n",
    "\n",
    "    3. False for deterministic parameters"
   ]
  },
  {
   "cell_type": "code",
   "execution_count": 4,
   "metadata": {},
   "outputs": [],
   "source": [
    "stochastic_params = ['d','q']"
   ]
  },
  {
   "attachments": {},
   "cell_type": "markdown",
   "metadata": {},
   "source": [
    "- Historical data: Generation or usage of historical data (<kbd>historical_data = ['*']</kbd>)   \n",
    "\n",
    "    1. List with the parameters the historical info will be generated for ['d', 'p', ...]\n",
    "\n",
    "    2.  List with '*' to generate historical for all parameters\n",
    "\n",
    "    3.  False to don't generate historical data. However, a historical log will be generated for realized observations during the episode\n",
    "\n",
    "    Related parameter:\n",
    "        \n",
    "        - hist_window: Initial log size (time periods)"
   ]
  },
  {
   "cell_type": "code",
   "execution_count": 5,
   "metadata": {},
   "outputs": [],
   "source": [
    "historical_data = ['*']\n",
    "\n",
    "hist_window = 10"
   ]
  },
  {
   "attachments": {},
   "cell_type": "markdown",
   "metadata": {},
   "source": [
    "-  Backorders: Catch unsatisfied demand (<kbd>backorders = False</kbd>):\n",
    "\n",
    "    1. 'backorders': Demand may be not fully satisfied. Non-complied orders will be automatically fullfilled with an extra-cost\n",
    "\n",
    "    2. 'backlogs': Demand may be not fully satisfied. Non-complied orders will be registered and kept track of on age 'B'\n",
    "\n",
    "    3. False: All demand must be fullfilled\n",
    "\n",
    "    Related parameters:\n",
    "\n",
    "        - back_o_cost = 600\n",
    "        - back_l_cost = 600"
   ]
  },
  {
   "cell_type": "code",
   "execution_count": 6,
   "metadata": {},
   "outputs": [],
   "source": [
    "backorders =  'backorders'\n",
    "back_o_cost = 600"
   ]
  },
  {
   "attachments": {},
   "cell_type": "markdown",
   "metadata": {},
   "source": [
    "Having defined all these parameters, they are packed on a dictionary and the instance generator object is created."
   ]
  },
  {
   "cell_type": "code",
   "execution_count": 7,
   "metadata": {},
   "outputs": [],
   "source": [
    "env_config = {  'M': M,                         # Structural parameters\n",
    "                'K': K, \n",
    "                'T': T, \n",
    "                'F': F, \n",
    "                \n",
    "                'Q': Q,\n",
    "                'd_max': d_max,\n",
    "\n",
    "                'S': S,                         # Look-ahead\n",
    "                'LA_horizon': LA_horizon, \n",
    "                \n",
    "                'hist_window': hist_window      # Historical data\n",
    "            }\n",
    "\n",
    "inst_gen = pIRPgym.instance_generator(look_ahead, stochastic_params, historical_data, backorders, env_config = env_config)"
   ]
  },
  {
   "attachments": {},
   "cell_type": "markdown",
   "metadata": {},
   "source": [
    "<div style=\"text-align: justify\"> \n",
    "Depending on the interest of the user, various types of instances can be generated. For this demonstration a basic random instance is generated. The distributions and parameters for each of the instance's parameters are defined, the random seed is set and the instance is generated.\n",
    "</div> "
   ]
  },
  {
   "cell_type": "code",
   "execution_count": 8,
   "metadata": {},
   "outputs": [],
   "source": [
    "q_params = {'dist': 'c_uniform', 'r_f_params': [6,20]}          # Offer\n",
    "p_params = {'dist': 'd_uniform', 'r_f_params': [20,61]}\n",
    "\n",
    "d_params = {'dist': 'log-normal', 'r_f_params': [2,0.5]}        # Demand\n",
    "\n",
    "h_params = {'dist': 'd_uniform', 'r_f_params': [20,61]}         # Holding costs\n",
    "\n",
    "disc = (\"strong\",\"conc\")\n",
    "\n",
    "stoch_rd_seed = 0                                               # Random seeds\n",
    "det_rd_seed = 1\n",
    "\n",
    "inst_gen.generate_basic_random_instance(det_rd_seed,stoch_rd_seed,q_params = q_params,\n",
    "                                        p_params = p_params,d_params = d_params,\n",
    "                                        h_params = h_params,discount = disc)"
   ]
  },
  {
   "attachments": {},
   "cell_type": "markdown",
   "metadata": {},
   "source": [
    "<div style=\"text-align: justify\"> \n",
    "Once the instance is generated, all parameters can be accessed through the object. Some parameters are presented below:\n",
    "\n",
    "- Historic values: <kbd>hist_</kbd> and the letter of the parameter (<kbd>hist_d</kbd>,<kbd> hist_q</kbd>, <kbd>hist_</kbd>...)\n",
    "\n",
    "        hist_q[t][i,k] /forall i in Suppliers for k in Products\n",
    "        hist_p[t][i,k] /forall i in Suppliers for k in Products\n",
    "        hist_d[t][k] /forall k in Products\n",
    "        hist_h[t][k] /forall k in Products\n",
    "\n",
    "- Realized parameters: <kbd>W_</kbd> and the letter of the parameter (<kbd>W_d</kbd>, <kbd>W_q</kbd>, <kbd>W_</kbd>...)\n",
    "        \n",
    "        W_q[t][i,k] /forall i in Suppliers for k in Products\n",
    "        W_p[t][i,k] /forall i in Suppliers for k in Products\n",
    "        W_d[t][k] /forall k in Products\n",
    "        W_h[t][k] /forall k in Products\n",
    "\n",
    "- Sample paths: <kbd>s_paths_</kbd> and the letter of the parameter (<kbd>s_paths_d</kbd>, <kbd>s_paths_q</kbd>, <kbd>s_paths_</kbd>...). An important consideration to have is that the day index always starts in 0. Meaning the sample paths of day 0 are \n",
    "the samples of the current period t.\n",
    "\n",
    "        s_paths_q[t][day,sample][i,k] /forall i in Suppliers for k in Products; /forall day for sample in Samples\n",
    "        s_paths_p[t][day,sample][i,k] /forall i in Suppliers for k in Products; /forall day for sample in Samples\n",
    "        s_paths_d[t][day,sample][k] /forall k in Products; /forall day for sample in Samples\n",
    "        s_paths_h[t][day,sample][k] /forall k in Products; /forall day for sample in Samples  \n",
    "        \n",
    "\n",
    "\n",
    "\n",
    "</div> "
   ]
  },
  {
   "cell_type": "code",
   "execution_count": 9,
   "metadata": {},
   "outputs": [
    {
     "name": "stdout",
     "output_type": "stream",
     "text": [
      "The historic available quantities are [14.44, 17.33, 27.44, 11.55, 0, 21.66, 21.66, 0, 0, 23.1]\n",
      "The realized available qunatities are 11\n",
      "The forecasted available quantities are 23.103781474871663\n"
     ]
    }
   ],
   "source": [
    "t = 0   # First day\n",
    "i = 1   # First supplier\n",
    "k = 0   # First product\n",
    "\n",
    "print(f'The historic available quantities are {[round(i,2) for i in inst_gen.hist_q[t][i,k]]}')\n",
    "print(f'The realized available qunatities are {inst_gen.W_q[t][i,k]}')\n",
    "\n",
    "s = 0   # First sample\n",
    "day = 0 # First day of the sample paths (current period t)\n",
    "print(f'The forecasted available quantities are {inst_gen.s_paths_q[t][day,s][i,k]}')"
   ]
  },
  {
   "attachments": {},
   "cell_type": "markdown",
   "metadata": {},
   "source": [
    "# 3. Environment\n",
    "\n",
    "<div style=\"text-align: justify\"> \n",
    "After the instance is generated, the enviroment is created. The object steroid_IRP receives three parameters: \n",
    "</div> \n",
    "\n",
    "        routing: bool\n",
    "        inventory: bool\n",
    "        perishability: str\n",
    "\n",
    "<div style=\"text-align: justify\"> \n",
    "The first two parameters indicate whether the problem will contemplate routing and inventory management components, respectively. The third parameter, only availabe if inventory management is used, indicates the model of perishability. \n",
    "</div> "
   ]
  },
  {
   "cell_type": "code",
   "execution_count": 10,
   "metadata": {},
   "outputs": [],
   "source": [
    "routing = True\n",
    "inventory = True\n",
    "perishability = 'ages'\n",
    "\n",
    "env = pIRPgym.steroid_IRP(routing,inventory,perishability)"
   ]
  },
  {
   "attachments": {},
   "cell_type": "markdown",
   "metadata": {},
   "source": [
    "<div style=\"text-align: justify\"> \n",
    "To start the environment, it must be reset. The environment's method <kbd>print_state</kbd> receives the <kbd>instance_generator</kbd> object and prints the inventory, the demand and the available quantities. \n",
    "</div>"
   ]
  },
  {
   "cell_type": "code",
   "execution_count": 11,
   "metadata": {},
   "outputs": [
    {
     "name": "stdout",
     "output_type": "stream",
     "text": [
      "################################### STEP 0 ###################################\n",
      "INVENTORY\n",
      "K \\ O \t 1 \t2 \t3 \t4 \t5 \t6 \t7 \t8 \t\n",
      "k0 \t 0 \t0 \t0 \t0 \t0 \t0 \t\n",
      "k1 \t 0 \t0 \t0 \t0 \t0 \t0 \t0 \t0 \t\n",
      "k2 \t 0 \t0 \t0 \t0 \t0 \t0 \t\n",
      "k3 \t 0 \t0 \t0 \t0 \t\n",
      "k4 \t 0 \t0 \t0 \t0 \t\n",
      "k5 \t 0 \t0 \t0 \t0 \t0 \t0 \t0 \t\n",
      "k6 \t 0 \t0 \t0 \t0 \t0 \t0 \t0 \t0 \t\n",
      "k7 \t 0 \t0 \t0 \t0 \t\n",
      "k8 \t 0 \t0 \t0 \t0 \t0 \t\n",
      "k9 \t 0 \t0 \t0 \t0 \t0 \t0 \t0 \t\n",
      "k10 \t 0 \t0 \t0 \t0 \t0 \t0 \t0 \t\n",
      "k11 \t 0 \t0 \t0 \t0 \t\n",
      "k12 \t 0 \t0 \t0 \t0 \t0 \t\n",
      "k13 \t 0 \t0 \t0 \t\n",
      "k14 \t 0 \t0 \t0 \t0 \t0 \t\n",
      "\n",
      "\n",
      "DEMAND\n",
      "K\t0\t1\t2\t3\t4\t5\t6\t7\t8\t9\t10\t11\t12\t13\t14\n",
      "d\t17.85\t9.03\t12.05\t22.66\t18.8\t4.53\t11.88\t6.85\t7.02\t9.07\t7.94\t15.29\t10.81\t7.85\t9.23\n",
      "\n",
      "\n",
      "AVAILABLE QUANTITIES\n",
      "M\\K \t0 \t1 \t2 \t3 \t4 \t5 \t6 \t7 \t8 \t9 \t10 \t11 \t12 \t13 \t14 \t\n",
      "1\t11\t17\t0\t18\t0\t0\t14\t15\t17\t11\t6\t0\t6\t0\t7\t\n",
      "2\t18\t13\t19\t18\t0\t0\t0\t0\t0\t12\t15\t8\t0\t10\t11\t\n",
      "3\t0\t8\t0\t0\t0\t0\t10\t0\t0\t17\t0\t18\t0\t16\t18\t\n",
      "4\t19\t8\t0\t0\t0\t0\t10\t0\t0\t13\t0\t13\t15\t0\t0\t\n",
      "5\t0\t7\t0\t0\t13\t0\t6\t12\t0\t0\t19\t0\t15\t15\t13\t\n",
      "6\t19\t0\t12\t15\t7\t0\t0\t6\t0\t0\t18\t0\t7\t14\t14\t\n",
      "7\t0\t19\t0\t0\t0\t9\t0\t16\t15\t14\t13\t0\t9\t0\t12\t\n",
      "8\t11\t7\t0\t0\t0\t15\t0\t0\t0\t9\t0\t10\t14\t0\t0\t\n",
      "9\t0\t7\t0\t0\t0\t0\t17\t18\t0\t16\t10\t6\t19\t9\t15\t\n",
      "10\t0\t8\t0\t0\t0\t0\t0\t6\t10\t0\t15\t0\t0\t8\t13\t\n",
      "11\t13\t16\t0\t15\t0\t0\t14\t0\t12\t15\t0\t0\t9\t13\t0\t\n",
      "12\t13\t19\t0\t10\t0\t0\t17\t11\t15\t9\t12\t14\t6\t8\t0\t\n",
      "13\t16\t0\t13\t0\t13\t0\t0\t0\t15\t0\t0\t13\t9\t18\t16\t\n",
      "14\t6\t0\t0\t0\t14\t0\t13\t13\t7\t0\t7\t19\t0\t9\t0\t\n",
      "15\t6\t0\t0\t0\t0\t14\t19\t0\t0\t19\t12\t0\t10\t11\t12\t\n",
      "\n",
      "\n"
     ]
    }
   ],
   "source": [
    "state = env.reset(inst_gen,return_state = True)\n",
    "env.print_state(inst_gen)"
   ]
  },
  {
   "attachments": {},
   "cell_type": "markdown",
   "metadata": {},
   "source": [
    "# 4. Policies\n",
    "\n",
    "<div style=\"text-align: justify\"> \n",
    "Finally, the class policy_generator has three main sub-classes: Purchasing, Inventory and Routing. Each one of these contains methods with different strategies for the different decisions that must be made. For example, the class Purchasing has the method <kbd>det_purchase_all</kbd> that buys all available quantities (considering deterministic information), the class Inventory has the method <kbd>det_FIFO</kbd> that complies the demand with older product (considering deterministic information), and the class Routing has the method <kbd>NearestNeighbor</kbd> that uses a nearest neighbor heuristic to route the suppliers. Each one of the policies receives different parameters but most of them take the <kbd>instance_generator</kbd>, the <kbd>state</kbd> and the <kbd>environment</kbd>.\n",
    "</div> "
   ]
  },
  {
   "cell_type": "code",
   "execution_count": 12,
   "metadata": {},
   "outputs": [],
   "source": [
    "purchase = pIRPgym.Purchasing.det_purchase_all(inst_gen, env)\n",
    "demand_compliance = pIRPgym.Inventory.det_FIFO(purchase,inst_gen,env)\n",
    "routing,cost,_,_ = pIRPgym.Routing.NearestNeighbor(purchase,inst_gen,t)"
   ]
  },
  {
   "attachments": {},
   "cell_type": "markdown",
   "metadata": {},
   "source": [
    "# 5. Step iteration\n",
    "\n",
    "<div style=\"text-align: justify\"> \n",
    "With all of these components, the environment can be used as a simulation tool. The action generated is given to the envoriment through the <kbd>step</kbd> method. This method receives the action as a list and the instance generator object. It returns the <kbd>state</kbd>, the <kbd>reward</kbd>, a boolean <kbd>done</kbd> indicating the episode has finalized, the <kbd>real_action</kbd> (if <kbd>stochastic_parameters</kbd> is activated) and some additional information.\n",
    "</div> "
   ]
  },
  {
   "cell_type": "code",
   "execution_count": 13,
   "metadata": {},
   "outputs": [
    {
     "name": "stdout",
     "output_type": "stream",
     "text": [
      "################################### STEP 1 ###################################\n",
      "INVENTORY\n",
      "K \\ O \t 1 \t2 \t3 \t4 \t5 \t6 \t7 \t8 \t\n",
      "k0 \t 114.15 \t0 \t0 \t0 \t0 \t0 \t\n",
      "k1 \t 119.97 \t0 \t0 \t0 \t0 \t0 \t0 \t0 \t\n",
      "k2 \t 31.95 \t0 \t0 \t0 \t0 \t0 \t\n",
      "k3 \t 53.34 \t0 \t0 \t0 \t\n",
      "k4 \t 28.2 \t0 \t0 \t0 \t\n",
      "k5 \t 33.47 \t0 \t0 \t0 \t0 \t0 \t0 \t\n",
      "k6 \t 108.12 \t0 \t0 \t0 \t0 \t0 \t0 \t0 \t\n",
      "k7 \t 90.15 \t0 \t0 \t0 \t\n",
      "k8 \t 83.98 \t0 \t0 \t0 \t0 \t\n",
      "k9 \t 125.93 \t0 \t0 \t0 \t0 \t0 \t0 \t\n",
      "k10 \t 119.06 \t0 \t0 \t0 \t0 \t0 \t0 \t\n",
      "k11 \t 85.71 \t0 \t0 \t0 \t\n",
      "k12 \t 108.19 \t0 \t0 \t0 \t0 \t\n",
      "k13 \t 123.15 \t0 \t0 \t\n",
      "k14 \t 121.77 \t0 \t0 \t0 \t0 \t\n",
      "\n",
      "\n",
      "DEMAND\n",
      "K\t0\t1\t2\t3\t4\t5\t6\t7\t8\t9\t10\t11\t12\t13\t14\n",
      "d\t8.73\t15.6\t6.67\t8.64\t4.82\t2.06\t10.25\t11.38\t5.1\t22.99\t3.57\t7.56\t6.73\t15.9\t15.4\n",
      "\n",
      "\n",
      "AVAILABLE QUANTITIES\n",
      "M\\K \t0 \t1 \t2 \t3 \t4 \t5 \t6 \t7 \t8 \t9 \t10 \t11 \t12 \t13 \t14 \t\n",
      "1\t0\t8\t18\t0\t0\t0\t0\t17\t0\t0\t11\t17\t0\t0\t13\t\n",
      "2\t0\t0\t19\t14\t17\t18\t17\t10\t10\t0\t13\t0\t0\t0\t0\t\n",
      "3\t13\t0\t19\t0\t10\t15\t6\t18\t8\t0\t6\t0\t19\t16\t0\t\n",
      "4\t0\t0\t0\t0\t13\t18\t0\t0\t7\t0\t13\t15\t14\t0\t16\t\n",
      "5\t0\t0\t18\t0\t0\t0\t0\t0\t10\t0\t6\t0\t18\t0\t0\t\n",
      "6\t0\t7\t18\t0\t15\t14\t0\t8\t9\t7\t8\t0\t18\t0\t18\t\n",
      "7\t0\t13\t0\t8\t16\t12\t6\t0\t15\t8\t12\t0\t12\t8\t0\t\n",
      "8\t0\t0\t0\t13\t13\t6\t0\t12\t11\t7\t16\t0\t10\t12\t0\t\n",
      "9\t0\t0\t0\t0\t0\t6\t12\t11\t19\t0\t7\t0\t0\t0\t0\t\n",
      "10\t8\t7\t11\t0\t10\t16\t6\t13\t0\t0\t19\t14\t15\t0\t0\t\n",
      "11\t0\t11\t13\t0\t0\t6\t0\t15\t9\t0\t15\t0\t0\t0\t0\t\n",
      "12\t0\t7\t0\t0\t19\t10\t10\t17\t12\t19\t0\t0\t0\t0\t0\t\n",
      "13\t14\t17\t14\t0\t0\t0\t0\t17\t15\t0\t8\t0\t0\t0\t0\t\n",
      "14\t0\t0\t0\t13\t11\t11\t10\t11\t14\t0\t11\t0\t14\t0\t0\t\n",
      "15\t0\t0\t0\t19\t17\t7\t7\t19\t14\t19\t13\t0\t0\t0\t6\t\n",
      "\n",
      "\n"
     ]
    }
   ],
   "source": [
    "action = {'routing':routing,'purchase':purchase,'demand_compliance':demand_compliance}\n",
    "state, reward, done, real_action, _ = env.step(action, inst_gen)\n",
    "env.print_state(inst_gen)"
   ]
  },
  {
   "attachments": {},
   "cell_type": "markdown",
   "metadata": {},
   "source": [
    "# 6. Complete iteration\n",
    "\n",
    "<div style=\"text-align: justify\"> \n",
    "In this way, a complete episode can be simulated using all the components described before. In this case, we evaluate the performance of a set of routing policies. As key performance metrics, the total cost, the lost sales (units) and the perished product (units) is saved throught the episode.\n",
    "</div> "
   ]
  },
  {
   "cell_type": "code",
   "execution_count": 14,
   "metadata": {},
   "outputs": [
    {
     "name": "stdout",
     "output_type": "stream",
     "text": [
      "time step 0\n",
      "Set parameter Username\n",
      "Academic license - for non-commercial use only - expires 2024-02-11\n"
     ]
    },
    {
     "name": "stdout",
     "output_type": "stream",
     "text": [
      "time step 1\n",
      "time step 2\n",
      "time step 3\n",
      "time step 4\n",
      "time step 5\n",
      "time step 6\n",
      "time step 7\n",
      "Simulation finished\n",
      "-------------------------\n",
      "Total cost: $3152408.2308480847\n",
      "Lost sales: 0\n",
      "Perished units: 2814.24\n"
     ]
    }
   ],
   "source": [
    "total_cost = 0\n",
    "lost_sales = 0\n",
    "perished_product = 0\n",
    "\n",
    "res = {'CG':{'Obj':[]},'NN':{'Obj':[]},'RCL':{'Obj':[]},'GA':{'Obj':[]}}\n",
    "\n",
    "env.reset(inst_gen)\n",
    "done = False\n",
    "\n",
    "while not done:\n",
    "    print(f'time step {env.t}')\n",
    "    ''' Purchasing and Inventory policies'''\n",
    "    purchase = pIRPgym.Purchasing.det_purchase_all(inst_gen, env)\n",
    "    demand_compliance = pIRPgym.Inventory.det_FIFO(purchase,inst_gen,env)\n",
    "\n",
    "    ''' Routing policies'''\n",
    "    CG_routes,CG_obj,CG_info,CG_time = pIRPgym.Routing.ColumnGeneration(purchase,inst_gen,env.t,time_limit=20,verbose=False)\n",
    "\n",
    "    nn_routes,nn_obj,nn_info,nn_time = pIRPgym.Routing.NearestNeighbor(purchase,inst_gen,env.t)\n",
    "\n",
    "    RCL_obj,RCL_veh,RCL_time,RCL_stats = pIRPgym.Routing.evaluate_stochastic_policy(pIRPgym.Routing.RCL_Heuristic,\n",
    "                                                                                           purchase,inst_gen,env,n=10,\n",
    "                                                                                           return_average=True,dynamic_p=False,\n",
    "                                                                                           RCL_alphas=[0.2],adaptative=True,\n",
    "                                                                                           time_limit=2)\n",
    "\n",
    "    GA_routes,GA_obj,(GA_distances,GA_loads),GA_time,_ = pIRPgym.Routing.GenticAlgorithm(purchase,inst_gen,env.t,\n",
    "                                                                                               return_top=False,rd_seed=env.t,\n",
    "                                                                                               time_limit=15)    # Genetic Algorithm\n",
    "\n",
    "    res['CG']['Obj'].append(CG_obj)\n",
    "    res['NN']['Obj'].append(nn_obj)\n",
    "    res['RCL']['Obj'].append(RCL_obj)\n",
    "    res['GA']['Obj'].append(GA_obj)\n",
    "\n",
    "    action = {'routing':CG_routes,'purchase':purchase,'demand_compliance':demand_compliance}\n",
    "    \n",
    "    state,reward,done,real_action, _ = env.step(action, inst_gen)\n",
    "\n",
    "    total_cost += sum(reward.values())\n",
    "    lost_sales += sum(_['backorders'].values())\n",
    "    perished_product += sum(_['perished'].values())\n",
    "\n",
    "print(f'Simulation finished')\n",
    "print('-------------------------')\n",
    "print(f'Total cost: ${total_cost}')\n",
    "print(f'Lost sales: {lost_sales}')\n",
    "print(f'Perished units: {perished_product}')"
   ]
  },
  {
   "cell_type": "code",
   "execution_count": 15,
   "metadata": {},
   "outputs": [
    {
     "data": {
      "image/png": "[encoded data removed]",
      "text/plain": [
       "<Figure size 1000x600 with 1 Axes>"
      ]
     },
     "metadata": {},
     "output_type": "display_data"
    }
   ],
   "source": [
    "pIRPgym.Visualizations.RoutingV.plot_indicator_evolution(res,'Obj')"
   ]
  },
  {
   "cell_type": "code",
   "execution_count": null,
   "metadata": {},
   "outputs": [],
   "source": []
  }
 ],
 "metadata": {
  "kernelspec": {
   "display_name": "Python 3.10.4 64-bit",
   "language": "python",
   "name": "python3"
  },
  "language_info": {
   "codemirror_mode": {
    "name": "ipython",
    "version": 3
   },
   "file_extension": ".py",
   "mimetype": "text/x-python",
   "name": "python",
   "nbconvert_exporter": "python",
   "pygments_lexer": "ipython3",
   "version": "3.9.16"
  },
  "orig_nbformat": 4,
  "vscode": {
   "interpreter": {
    "hash": "aee8b7b246df8f9039afb4144a1f6fd8d2ca17a180786b69acc140d282b71a49"
   }
  }
 },
 "nbformat": 4,
 "nbformat_minor": 2
}
