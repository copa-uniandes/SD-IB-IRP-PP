{
 "cells": [
  {
   "cell_type": "code",
   "execution_count": 1,
   "metadata": {},
   "outputs": [],
   "source": [
    "from SD_IB_IRP_PPenv import steroid_IRP\n",
    "from InstanceGenerator import instance_generator\n",
    "from Policies import policy_generator"
   ]
  },
  {
   "attachments": {},
   "cell_type": "markdown",
   "metadata": {},
   "source": [
    "# Stochastic-Dynamic Inventory-Routing-Problem with Perishable Products Environment\n",
    "\n",
    "by: Juan Betancourt\n",
    "\n",
    "<div style=\"text-align: justify\"> \n",
    "This Jupyter Notebook is dedicated to offering an in-depth, step-by-step guide to create and employ an environment for the SD-IB-IRP-PP. The document's content can be summarized as follows:\n",
    "</div> \n",
    "\n",
    "1. Powelleskian Model\n",
    "\n",
    "2. Instance Generator\n",
    "\n",
    "3. Environment\n",
    "\n",
    "4. Policies\n",
    "\n",
    "5. Step Iteration\n",
    "\n",
    "6. Episode Simulation"
   ]
  },
  {
   "attachments": {},
   "cell_type": "markdown",
   "metadata": {},
   "source": [
    "## 1. Powelleskian Model\n",
    "\n",
    "### State ($S_t$)\n",
    "-   **Physical State** ($R_t$):\n",
    "\n",
    "        state:  Current available inventory: (dict)  Inventory of product k \\in K of age o \\in O_k. Since the state is the inventory before the decision is taken, there is no age 0 inventory.\n",
    "                \n",
    "        When backlogs are activated, will appear under age 'B'   \n",
    "                                           \n",
    "\n",
    "-   **Other deterministic info** ($Z_t$):\n",
    "\n",
    "        p: Prices: (dict) Price of product k \\in K at supplier i \\in M\n",
    "    \n",
    "        q: Available quantities: (dict) Available quantity of product k \\in K at supplier i \\in M\n",
    "    \n",
    "        h: Holding cost: (dict) Holding cost of product k \\in K\n",
    "    \n",
    "        historical_data: (dict) Historical log of information (optional)\n",
    "    \n",
    "-   **Belief State** ($B_t$):\n",
    "    \n",
    "        sample_paths: Simulated sample paths (optional)\n",
    "\n",
    "\n",
    "### Actions ($X_t$)\n",
    "The action can be seen as a three level-decision. These are the three layers:\n",
    "\n",
    "1. Routes to visit the selected suppliers\n",
    "\n",
    "2. Quantities to purchase from each supplier\n",
    "\n",
    "3. Demand compliance plan, dispatch decision\n",
    "\n",
    "4. (Optional) Backlogs compliance\n",
    "\n",
    "Accordingly, the action will be a list composed as follows:\n",
    "\n",
    "$$ X = [\\text{routes, purchase, demand compliance, backlogs compliance}] $$\n",
    "\n",
    "        routes: (list) list of lists, each with the nodes visited on the route (including departure and arriving to the depot)\n",
    "\n",
    "        purchase: (dict) Units to purchase of product k \\in K at supplier i \\in M\n",
    "\n",
    "        demand_compliance: (dict) Units of product k in K of age o \\in O_k used to satisfy the demand\n",
    "\n",
    "        backlogs_compliance: (dict) Units of product k in K of age o \\in O_k used to satisfy the backlogs\n",
    "\n",
    "### Exogenous information ($W_t$)\n",
    "\n",
    "\n",
    "### Transition Function ($S_M^X$)\n",
    "\n",
    "### Cost Function ($C_t$)"
   ]
  },
  {
   "attachments": {},
   "cell_type": "markdown",
   "metadata": {},
   "source": [
    "## 2. Instance generator\n",
    "\n",
    "<div style=\"text-align: justify\"> \n",
    "Prior to generating an environment, an instance generator object must be created. This instance generator will contain all of the parameters, deterministic and stochastic, of the problem. This object receives two types of parameters: structural and instantial. \n",
    "</div> \n",
    "\n",
    "### Instantial parameters\n",
    "\n",
    "- Time Horizon: Number of decision periods (time steps) per simulation\n",
    "    \n",
    "        T = 7\n",
    "\n",
    "- Suppliers: Number of suppliers\n",
    "\n",
    "        M = 10\n",
    "\n",
    "- Products: Number of products\n",
    "\n",
    "        K = 5\n",
    "\n",
    "- Fleet: Number of vehicles\n",
    "\n",
    "        F = 4\n",
    "\n",
    "- Capacity: Vehicles' capacity\n",
    "\n",
    "        Q = 40\n",
    "\n",
    "- Maximum distance per route\n",
    "\n",
    "        d_max = 500"
   ]
  },
  {
   "cell_type": "code",
   "execution_count": 2,
   "metadata": {},
   "outputs": [],
   "source": [
    "T = 5\n",
    "M = 5\n",
    "K = 3\n",
    "F = 10\n",
    "\n",
    "Q = 1e4\n",
    "d_max = 1e4 "
   ]
  },
  {
   "attachments": {},
   "cell_type": "markdown",
   "metadata": {},
   "source": [
    "### Structural parameters\n",
    "\n",
    "These parameters define the type of instance that will be generated and the configuration to each one of the possibilites. \n",
    "\n",
    "- Look-ahead approximation: Generation of sample paths (<kbd>look_ahead = ['d','q']</kbd>):\n",
    "\n",
    "    1. List of parameters to be forecasted on the look-ahead approximation ['d', 'p', ...]\n",
    "\n",
    "    2. List with '*' to generate forecasts for all parameters\n",
    "\n",
    "    3. False for no sample path generation\n",
    "\n",
    "    Related parameters:\n",
    "\n",
    "        - S: Number of sample paths\n",
    "        \n",
    "        - LA_horizon: Number of look-ahead periods, includes the current decision period."
   ]
  },
  {
   "cell_type": "code",
   "execution_count": 3,
   "metadata": {},
   "outputs": [],
   "source": [
    "look_ahead = ['d','q']\n",
    "\n",
    "S = 8\n",
    "LA_horizon = 4"
   ]
  },
  {
   "attachments": {},
   "cell_type": "markdown",
   "metadata": {},
   "source": [
    "- Stocastic parameters: Considering stochastic parameters, meaning the forecast for today are not the same realized values (<kbd>stochastic_params = ['d','q']</kbd>):\n",
    "\n",
    "    1. List with parameters to be stochastic ['d', 'p', ...]\n",
    "\n",
    "    2. List with '*' to consider all parameters as stochastic\n",
    "\n",
    "    3. False for deterministic parameters"
   ]
  },
  {
   "cell_type": "code",
   "execution_count": 4,
   "metadata": {},
   "outputs": [],
   "source": [
    "stochastic_params = ['d','q']"
   ]
  },
  {
   "attachments": {},
   "cell_type": "markdown",
   "metadata": {},
   "source": [
    "- Historical data: Generation or usage of historical data (<kbd>historical_data = ['*']</kbd>)   \n",
    "\n",
    "    1. List with the parameters the historical info will be generated for ['d', 'p', ...]\n",
    "\n",
    "    2.  List with '*' to generate historical for all parameters\n",
    "\n",
    "    3.  False to don't generate historical data. However, a historical log will be generated for realized observations during the episode\n",
    "\n",
    "    Related parameter:\n",
    "        \n",
    "        - hist_window: Initial log size (time periods)"
   ]
  },
  {
   "cell_type": "code",
   "execution_count": 5,
   "metadata": {},
   "outputs": [],
   "source": [
    "historical_data = ['*']\n",
    "\n",
    "hist_window = 10"
   ]
  },
  {
   "attachments": {},
   "cell_type": "markdown",
   "metadata": {},
   "source": [
    "-  Backorders: Catch unsatisfied demand (<kbd>backorders = False</kbd>):\n",
    "\n",
    "    1. 'backorders': Demand may be not fully satisfied. Non-complied orders will be automatically fullfilled with an extra-cost\n",
    "\n",
    "    2. 'backlogs': Demand may be not fully satisfied. Non-complied orders will be registered and kept track of on age 'B'\n",
    "\n",
    "    3. False: All demand must be fullfilled\n",
    "\n",
    "    Related parameters:\n",
    "\n",
    "        - back_o_cost = 600\n",
    "        - back_l_cost = 600"
   ]
  },
  {
   "cell_type": "code",
   "execution_count": 6,
   "metadata": {},
   "outputs": [],
   "source": [
    "backorders =  'backorders'\n",
    "back_o_cost = 600"
   ]
  },
  {
   "attachments": {},
   "cell_type": "markdown",
   "metadata": {},
   "source": [
    "Having defined all these parameters, they are packed on a dictionary and the instance generator object is created."
   ]
  },
  {
   "cell_type": "code",
   "execution_count": 7,
   "metadata": {},
   "outputs": [],
   "source": [
    "env_config = {  'M': M,                         # Structural parameters\n",
    "                'K': K, \n",
    "                'T': T, \n",
    "                'F': F, \n",
    "                \n",
    "                'Q': Q,\n",
    "                'd_max': d_max,\n",
    "\n",
    "                'S': S,                         # Look-ahead\n",
    "                'LA_horizon': LA_horizon, \n",
    "                \n",
    "                'hist_window': hist_window      # Historical data\n",
    "            }\n",
    "\n",
    "inst_gen = instance_generator(look_ahead, stochastic_params, historical_data, backorders, env_config = env_config)"
   ]
  },
  {
   "attachments": {},
   "cell_type": "markdown",
   "metadata": {},
   "source": [
    "<div style=\"text-align: justify\"> \n",
    "Depending on the interest of the user, various types of instances can be generated. For this demonstration a basic random instance is generated. The distributions and parameters for each of the instance's parameters are defined, the random seed is set and the instance is generated.\n",
    "</div> "
   ]
  },
  {
   "cell_type": "code",
   "execution_count": 8,
   "metadata": {},
   "outputs": [],
   "source": [
    "q_params = {'dist': 'c_uniform', 'r_f_params': [6,20]}          # Offer\n",
    "p_params = {'dist': 'd_uniform', 'r_f_params': [20,61]}\n",
    "\n",
    "d_params = {'dist': 'log-normal', 'r_f_params': [2,0.5]}        # Demand\n",
    "\n",
    "h_params = {'dist': 'd_uniform', 'r_f_params': [20,61]}         # Holding costs\n",
    "\n",
    "stoch_rd_seed = 0                                               # Random seeds\n",
    "det_rd_seed = 1\n",
    "\n",
    "inst_gen.generate_basic_random_instance(det_rd_seed, stoch_rd_seed, q_params = q_params, p_params = p_params, d_params = d_params, h_params = h_params)"
   ]
  },
  {
   "attachments": {},
   "cell_type": "markdown",
   "metadata": {},
   "source": [
    "<div style=\"text-align: justify\"> \n",
    "Once the instance is generated, all parameters can be accessed through the object. Some parameters are presented below:\n",
    "\n",
    "- Historic values: <kbd>hist_</kbd> and the letter of the parameter (<kbd>hist_d</kbd>,<kbd> hist_q</kbd>, <kbd>hist_</kbd>...)\n",
    "\n",
    "        hist_q[t][i,k] /forall i in Suppliers for k in Products\n",
    "        hist_p[t][i,k] /forall i in Suppliers for k in Products\n",
    "        hist_d[t][k] /forall k in Products\n",
    "        hist_h[t][k] /forall k in Products\n",
    "\n",
    "- Realized parameters: <kbd>W_</kbd> and the letter of the parameter (<kbd>W_d</kbd>, <kbd>W_q</kbd>, <kbd>W_</kbd>...)\n",
    "        \n",
    "        W_q[t][i,k] /forall i in Suppliers for k in Products\n",
    "        W_p[t][i,k] /forall i in Suppliers for k in Products\n",
    "        W_d[t][k] /forall k in Products\n",
    "        W_h[t][k] /forall k in Products\n",
    "\n",
    "- Sample paths: <kbd>s_paths_</kbd> and the letter of the parameter (<kbd>s_paths_d</kbd>, <kbd>s_paths_q</kbd>, <kbd>s_paths_</kbd>...). An important consideration to have is that the day index always starts in 0. Meaning the sample paths of day 0 are \n",
    "the samples of the current period t.\n",
    "\n",
    "        s_paths_q[t][day,sample][i,k] /forall i in Suppliers for k in Products; /forall day for sample in Samples\n",
    "        s_paths_p[t][day,sample][i,k] /forall i in Suppliers for k in Products; /forall day for sample in Samples\n",
    "        s_paths_d[t][day,sample][k] /forall k in Products; /forall day for sample in Samples\n",
    "        s_paths_h[t][day,sample][k] /forall k in Products; /forall day for sample in Samples  \n",
    "        \n",
    "\n",
    "\n",
    "\n",
    "</div> "
   ]
  },
  {
   "cell_type": "code",
   "execution_count": 9,
   "metadata": {},
   "outputs": [
    {
     "name": "stdout",
     "output_type": "stream",
     "text": [
      "The historic available quantities are [0, 0, 0, 9, 19, 0, 0, 12, 0, 0]\n",
      "The realized available qunatitiies are 17\n",
      "The forecasted available quantities are 12\n"
     ]
    }
   ],
   "source": [
    "t = 0   # First day\n",
    "i = 1   # First supplier\n",
    "k = 0   # First product\n",
    "\n",
    "print(f'The historic available quantities are {inst_gen.hist_q[t][i,k]}')\n",
    "print(f'The realized available qunatities are {inst_gen.W_q[t][i,k]}')\n",
    "\n",
    "s = 0   # First sample\n",
    "day = 0 # First day of the sample paths (current period t)\n",
    "print(f'The forecasted available quantities are {inst_gen.s_paths_q[t][day,s][i,k]}')"
   ]
  },
  {
   "attachments": {},
   "cell_type": "markdown",
   "metadata": {},
   "source": [
    "# 3. Environment\n",
    "\n",
    "<div style=\"text-align: justify\"> \n",
    "After the instance is generated, the enviroment is created. The object steroid_IRP receives three parameters: \n",
    "</div> \n",
    "\n",
    "        routing: bool\n",
    "        inventory: bool\n",
    "        perishability: str\n",
    "\n",
    "<div style=\"text-align: justify\"> \n",
    "The first two parameters indicate whether the problem will contemplate routing and inventory management components, respectively. The third parameter, only availabe if inventory management is used, indicates the model of perishability. \n",
    "</div> "
   ]
  },
  {
   "cell_type": "code",
   "execution_count": 10,
   "metadata": {},
   "outputs": [],
   "source": [
    "routing = True\n",
    "inventory = True\n",
    "perishability = 'ages'\n",
    "\n",
    "env = steroid_IRP(routing, inventory, perishability)"
   ]
  },
  {
   "attachments": {},
   "cell_type": "markdown",
   "metadata": {},
   "source": [
    "<div style=\"text-align: justify\"> \n",
    "To start the environment, it must be reset. The environment's method <kbd>print_state</kbd> receives the <kbd>instance_generator</kbd> object and prints the inventory, the demand and the available quantities. \n",
    "</div>"
   ]
  },
  {
   "cell_type": "code",
   "execution_count": 11,
   "metadata": {},
   "outputs": [
    {
     "name": "stdout",
     "output_type": "stream",
     "text": [
      "################################### STEP 0 ###################################\n",
      "INVENTORY\n",
      "K \\ O \t 1 \t2 \t3 \t4 \t5 \t\n",
      "k0 \t 0 \t0 \t0 \t0 \t\n",
      "k1 \t 0 \t0 \t0 \t0 \t0 \t\n",
      "k2 \t 0 \t0 \t0 \t0 \t0 \t\n",
      "\n",
      "\n",
      "DEMAND\n",
      "K\t0\t1\t2\n",
      "d\t10.72\t19.85\t3.97\n",
      "\n",
      "\n",
      "AVAILABLE QUANTITIES\n",
      "M\\K \t0 \t1 \t2 \t\n",
      "1\t17\t0\t0\t\n",
      "2\t14\t6\t0\t\n",
      "3\t18\t18\t11\t\n",
      "4\t8\t0\t6\t\n",
      "5\t13\t13\t12\t\n",
      "\n",
      "\n"
     ]
    }
   ],
   "source": [
    "state = env.reset(inst_gen, return_state = True)\n",
    "env.print_state(inst_gen)"
   ]
  },
  {
   "attachments": {},
   "cell_type": "markdown",
   "metadata": {},
   "source": [
    "# 4. Policies\n",
    "\n",
    "<div style=\"text-align: justify\"> \n",
    "Finally, the class policy_generator has three main sub-classes: Purchasing, Inventory and Routing. Each one of these contains methods with different strategies for the different decisions that must be made. For example, the class Purchasing has the method <kbd>det_purchase_all</kbd> that buys all available quantities (considering deterministic information), the class Inventory has the method <kbd>det_FIFO</kbd> that complies the demand with older product (considering deterministic information), and the class Routing has the method <kbd>nearest_neighbor</kbd> that uses a nearest neighbor heuristic to route the suppliers. Each one of the policies receives different parameters but most of them take the <kbd>instance_generator</kbd>, the <kbd>state</kbd> and the <kbd>environment</kbd>.\n",
    "</div> "
   ]
  },
  {
   "cell_type": "code",
   "execution_count": 12,
   "metadata": {},
   "outputs": [],
   "source": [
    "purchase = policy_generator.Purchasing.det_purchase_all(inst_gen, env)\n",
    "demand_compliance = policy_generator.Inventory.det_FIFO(state, purchase, env, inst_gen)\n",
    "routing, cost = policy_generator.Routing.nearest_neighbor(purchase, inst_gen)"
   ]
  },
  {
   "attachments": {},
   "cell_type": "markdown",
   "metadata": {},
   "source": [
    "# 5. Step iteration\n",
    "\n",
    "<div style=\"text-align: justify\"> \n",
    "With all of these components, the environment can be used as a simulation tool. The action generated is given to the envoriment through the <kbd>step</kbd> method. This method receives the action as a list and the instance generator object. It returns the <kbd>state</kbd>, the <kbd>reward</kbd>, a boolean <kbd>done</kbd> indicating the episode has finalized, the <kbd>real_action</kbd> (if <kbd>stochastic_parameters</kbd> is activated) and some additional information.\n",
    "</div> "
   ]
  },
  {
   "cell_type": "code",
   "execution_count": 16,
   "metadata": {},
   "outputs": [
    {
     "name": "stdout",
     "output_type": "stream",
     "text": [
      "################################### STEP 2 ###################################\n",
      "INVENTORY\n",
      "K \\ O \t 1 \t2 \t3 \t4 \t5 \t\n",
      "k0 \t 46.6 \t59.28 \t0 \t0 \t\n",
      "k1 \t 24.06 \t17.15 \t0 \t0 \t0 \t\n",
      "k2 \t 0 \t25.03 \t0 \t0 \t0 \t\n",
      "\n",
      "\n",
      "DEMAND\n",
      "K\t0\t1\t2\n",
      "d\t4.66\t4.43\t12.96\n",
      "\n",
      "\n",
      "AVAILABLE QUANTITIES\n",
      "M\\K \t0 \t1 \t2 \t\n",
      "1\t10\t0\t11\t\n",
      "2\t8\t18\t17\t\n",
      "3\t0\t19\t0\t\n",
      "4\t14\t14\t0\t\n",
      "5\t7\t18\t0\t\n",
      "\n",
      "\n"
     ]
    }
   ],
   "source": [
    "action = [routing, purchase, demand_compliance]\n",
    "state, reward, done, real_action, _ = env.step(action, inst_gen)\n",
    "env.print_state(inst_gen)"
   ]
  },
  {
   "attachments": {},
   "cell_type": "markdown",
   "metadata": {},
   "source": [
    "# 6. Complete iteration\n",
    "\n",
    "<div style=\"text-align: justify\"> \n",
    "In this way, a complete episode can be simulated using all the components described before. As key performance metrics, the total cost, the lost sales (units) and the perished product (units) is saved throught the episode.\n",
    "</div> "
   ]
  },
  {
   "cell_type": "code",
   "execution_count": 25,
   "metadata": {},
   "outputs": [
    {
     "name": "stdout",
     "output_type": "stream",
     "text": [
      "Simulation finished\n",
      "-------------------------\n",
      "Total cost: $96250.25\n",
      "Lost sales: 0\n",
      "Perished units: 36.12\n"
     ]
    }
   ],
   "source": [
    "done = False\n",
    "total_cost = 0\n",
    "lost_sales = 0\n",
    "perished_product = 0\n",
    "\n",
    "env.reset(inst_gen)\n",
    "\n",
    "while not done:\n",
    "    purchase = policy_generator.Purchasing.det_purchase_all(inst_gen, env)\n",
    "    demand_compliance = policy_generator.Inventory.det_FIFO(state, purchase, env, inst_gen)\n",
    "    routing, cost = policy_generator.Routing.nearest_neighbor(purchase, inst_gen)\n",
    "\n",
    "    action = [routing, purchase, demand_compliance]\n",
    "    state, reward, done, real_action, _ = env.step(action, inst_gen)\n",
    "\n",
    "    total_cost += sum(reward)\n",
    "    lost_sales += sum(_['backorders'].values())\n",
    "    perished_product += sum(_['perished'].values())\n",
    "\n",
    "print(f'Simulation finished')\n",
    "print('-------------------------')\n",
    "print(f'Total cost: ${total_cost}')\n",
    "print(f'Lost sales: {lost_sales}')\n",
    "print(f'Perished units: {perished_product}')\n"
   ]
  }
 ],
 "metadata": {
  "kernelspec": {
   "display_name": "Python 3.10.4 64-bit",
   "language": "python",
   "name": "python3"
  },
  "language_info": {
   "codemirror_mode": {
    "name": "ipython",
    "version": 3
   },
   "file_extension": ".py",
   "mimetype": "text/x-python",
   "name": "python",
   "nbconvert_exporter": "python",
   "pygments_lexer": "ipython3",
   "version": "3.10.4"
  },
  "orig_nbformat": 4,
  "vscode": {
   "interpreter": {
    "hash": "aee8b7b246df8f9039afb4144a1f6fd8d2ca17a180786b69acc140d282b71a49"
   }
  }
 },
 "nbformat": 4,
 "nbformat_minor": 2
}
